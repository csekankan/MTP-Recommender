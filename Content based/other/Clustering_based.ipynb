{
  "cells": [
    {
      "cell_type": "markdown",
      "source": [
        "## Setup"
      ],
      "metadata": {
        "id": "osvGpMQkDSbR"
      },
      "id": "osvGpMQkDSbR"
    },
    {
      "cell_type": "code",
      "source": [
        "!pip install --upgrade --no-cache-dir gdown"
      ],
      "metadata": {
        "colab": {
          "base_uri": "https://localhost:8080/"
        },
        "id": "C1r8Sraf7rPj",
        "outputId": "14620695-23fc-4da3-a79a-cf7bb3d5a61d"
      },
      "execution_count": 1,
      "outputs": [
        {
          "output_type": "stream",
          "name": "stdout",
          "text": [
            "Looking in indexes: https://pypi.org/simple, https://us-python.pkg.dev/colab-wheels/public/simple/\n",
            "Requirement already satisfied: gdown in /usr/local/lib/python3.8/dist-packages (4.4.0)\n",
            "Collecting gdown\n",
            "  Downloading gdown-4.6.0-py3-none-any.whl (14 kB)\n",
            "Requirement already satisfied: filelock in /usr/local/lib/python3.8/dist-packages (from gdown) (3.9.0)\n",
            "Requirement already satisfied: six in /usr/local/lib/python3.8/dist-packages (from gdown) (1.15.0)\n",
            "Requirement already satisfied: tqdm in /usr/local/lib/python3.8/dist-packages (from gdown) (4.64.1)\n",
            "Requirement already satisfied: beautifulsoup4 in /usr/local/lib/python3.8/dist-packages (from gdown) (4.6.3)\n",
            "Requirement already satisfied: requests[socks] in /usr/local/lib/python3.8/dist-packages (from gdown) (2.25.1)\n",
            "Requirement already satisfied: certifi>=2017.4.17 in /usr/local/lib/python3.8/dist-packages (from requests[socks]->gdown) (2022.12.7)\n",
            "Requirement already satisfied: urllib3<1.27,>=1.21.1 in /usr/local/lib/python3.8/dist-packages (from requests[socks]->gdown) (1.24.3)\n",
            "Requirement already satisfied: idna<3,>=2.5 in /usr/local/lib/python3.8/dist-packages (from requests[socks]->gdown) (2.10)\n",
            "Requirement already satisfied: chardet<5,>=3.0.2 in /usr/local/lib/python3.8/dist-packages (from requests[socks]->gdown) (4.0.0)\n",
            "Requirement already satisfied: PySocks!=1.5.7,>=1.5.6 in /usr/local/lib/python3.8/dist-packages (from requests[socks]->gdown) (1.7.1)\n",
            "Installing collected packages: gdown\n",
            "  Attempting uninstall: gdown\n",
            "    Found existing installation: gdown 4.4.0\n",
            "    Uninstalling gdown-4.4.0:\n",
            "      Successfully uninstalled gdown-4.4.0\n",
            "Successfully installed gdown-4.6.0\n"
          ]
        }
      ],
      "id": "C1r8Sraf7rPj"
    },
    {
      "cell_type": "code",
      "source": [
        "!pip install autoelbow\n"
      ],
      "metadata": {
        "colab": {
          "base_uri": "https://localhost:8080/"
        },
        "id": "LAglG06WJHWQ",
        "outputId": "707ced72-37ca-4559-c031-4c60f996c80c"
      },
      "id": "LAglG06WJHWQ",
      "execution_count": 40,
      "outputs": [
        {
          "output_type": "stream",
          "name": "stdout",
          "text": [
            "Looking in indexes: https://pypi.org/simple, https://us-python.pkg.dev/colab-wheels/public/simple/\n",
            "Collecting autoelbow\n",
            "  Downloading autoelbow-0.0.3-py3-none-any.whl (3.0 kB)\n",
            "Installing collected packages: autoelbow\n",
            "Successfully installed autoelbow-0.0.3\n"
          ]
        }
      ]
    },
    {
      "cell_type": "code",
      "execution_count": 12,
      "id": "88033b72",
      "metadata": {
        "id": "88033b72"
      },
      "outputs": [],
      "source": [
        "from datetime import datetime\n",
        "import os\n",
        "import matplotlib\n",
        "import pandas as pd\n",
        "import numpy as np\n",
        "import matplotlib.pyplot as plt\n",
        "import seaborn as sns\n",
        "sns.set_style('whitegrid')\n",
        "\n",
        "from scipy import sparse\n",
        "from scipy.sparse import csc_matrix\n",
        "from sklearn.decomposition import TruncatedSVD\n"
      ]
    },
    {
      "cell_type": "markdown",
      "id": "c0e48a3e",
      "metadata": {
        "id": "c0e48a3e"
      },
      "source": [
        "## Load Dataset\n"
      ]
    },
    {
      "cell_type": "code",
      "source": [
        "!gdown --id 146P1MLIAX8sGzgCkZU2D1DSSDEdTaqmY"
      ],
      "metadata": {
        "id": "JN6L-XVUpDB3",
        "colab": {
          "base_uri": "https://localhost:8080/"
        },
        "outputId": "6c047d9d-9af6-4b8a-eebf-d86549ec5b4e"
      },
      "execution_count": 1,
      "outputs": [
        {
          "output_type": "stream",
          "name": "stdout",
          "text": [
            "/usr/local/lib/python3.8/dist-packages/gdown/cli.py:121: FutureWarning: Option `--id` was deprecated in version 4.3.1 and will be removed in 5.0. You don't need to pass it anymore to use a file ID.\n",
            "  warnings.warn(\n",
            "Downloading...\n",
            "From: https://drive.google.com/uc?id=146P1MLIAX8sGzgCkZU2D1DSSDEdTaqmY\n",
            "To: /content/spotify.zip\n",
            "100% 16.2M/16.2M [00:00<00:00, 80.5MB/s]\n"
          ]
        }
      ],
      "id": "JN6L-XVUpDB3"
    },
    {
      "cell_type": "code",
      "source": [
        "!unzip -o \"spotify.zip\"  -d  \"/content\""
      ],
      "metadata": {
        "id": "TtZEDi2_JS0Z",
        "colab": {
          "base_uri": "https://localhost:8080/"
        },
        "outputId": "67848b45-2290-4bcd-f408-0b9e27272739"
      },
      "execution_count": 3,
      "outputs": [
        {
          "output_type": "stream",
          "name": "stdout",
          "text": [
            "Archive:  spotify.zip\n",
            "  inflating: /content/SpotifyFeatures.csv  \n"
          ]
        }
      ],
      "id": "TtZEDi2_JS0Z"
    },
    {
      "cell_type": "code",
      "execution_count": 13,
      "id": "4187d1c0",
      "metadata": {
        "id": "4187d1c0"
      },
      "outputs": [],
      "source": [
        "item_df = pd.read_csv(\"SpotifyFeatures.csv\")\n"
      ]
    },
    {
      "cell_type": "markdown",
      "id": "1df8f86d",
      "metadata": {
        "id": "1df8f86d"
      },
      "source": [
        "## All item features "
      ]
    },
    {
      "cell_type": "code",
      "execution_count": 14,
      "id": "58268ff7",
      "metadata": {
        "id": "58268ff7",
        "outputId": "37b37c1f-8a14-44d6-9e37-b0b8105f8e4d",
        "colab": {
          "base_uri": "https://localhost:8080/",
          "height": 179
        }
      },
      "outputs": [
        {
          "output_type": "execute_result",
          "data": {
            "text/plain": [
              "   genre     artist_name                   track_name                track_id  \\\n",
              "0  Movie  Henri Salvador  C'est beau de faire un Show  0BRjO6ga9RKCKjfDqeFgWV   \n",
              "\n",
              "   popularity  acousticness  danceability  duration_ms  energy  \\\n",
              "0           0         0.611         0.389        99373    0.91   \n",
              "\n",
              "   instrumentalness key  liveness  loudness   mode  speechiness    tempo  \\\n",
              "0               0.0  C#     0.346    -1.828  Major       0.0525  166.969   \n",
              "\n",
              "  time_signature  valence  \n",
              "0            4/4    0.814  "
            ],
            "text/html": [
              "\n",
              "  <div id=\"df-fbc12754-bcdb-421a-a19d-e44a3c96fe93\">\n",
              "    <div class=\"colab-df-container\">\n",
              "      <div>\n",
              "<style scoped>\n",
              "    .dataframe tbody tr th:only-of-type {\n",
              "        vertical-align: middle;\n",
              "    }\n",
              "\n",
              "    .dataframe tbody tr th {\n",
              "        vertical-align: top;\n",
              "    }\n",
              "\n",
              "    .dataframe thead th {\n",
              "        text-align: right;\n",
              "    }\n",
              "</style>\n",
              "<table border=\"1\" class=\"dataframe\">\n",
              "  <thead>\n",
              "    <tr style=\"text-align: right;\">\n",
              "      <th></th>\n",
              "      <th>genre</th>\n",
              "      <th>artist_name</th>\n",
              "      <th>track_name</th>\n",
              "      <th>track_id</th>\n",
              "      <th>popularity</th>\n",
              "      <th>acousticness</th>\n",
              "      <th>danceability</th>\n",
              "      <th>duration_ms</th>\n",
              "      <th>energy</th>\n",
              "      <th>instrumentalness</th>\n",
              "      <th>key</th>\n",
              "      <th>liveness</th>\n",
              "      <th>loudness</th>\n",
              "      <th>mode</th>\n",
              "      <th>speechiness</th>\n",
              "      <th>tempo</th>\n",
              "      <th>time_signature</th>\n",
              "      <th>valence</th>\n",
              "    </tr>\n",
              "  </thead>\n",
              "  <tbody>\n",
              "    <tr>\n",
              "      <th>0</th>\n",
              "      <td>Movie</td>\n",
              "      <td>Henri Salvador</td>\n",
              "      <td>C'est beau de faire un Show</td>\n",
              "      <td>0BRjO6ga9RKCKjfDqeFgWV</td>\n",
              "      <td>0</td>\n",
              "      <td>0.611</td>\n",
              "      <td>0.389</td>\n",
              "      <td>99373</td>\n",
              "      <td>0.91</td>\n",
              "      <td>0.0</td>\n",
              "      <td>C#</td>\n",
              "      <td>0.346</td>\n",
              "      <td>-1.828</td>\n",
              "      <td>Major</td>\n",
              "      <td>0.0525</td>\n",
              "      <td>166.969</td>\n",
              "      <td>4/4</td>\n",
              "      <td>0.814</td>\n",
              "    </tr>\n",
              "  </tbody>\n",
              "</table>\n",
              "</div>\n",
              "      <button class=\"colab-df-convert\" onclick=\"convertToInteractive('df-fbc12754-bcdb-421a-a19d-e44a3c96fe93')\"\n",
              "              title=\"Convert this dataframe to an interactive table.\"\n",
              "              style=\"display:none;\">\n",
              "        \n",
              "  <svg xmlns=\"http://www.w3.org/2000/svg\" height=\"24px\"viewBox=\"0 0 24 24\"\n",
              "       width=\"24px\">\n",
              "    <path d=\"M0 0h24v24H0V0z\" fill=\"none\"/>\n",
              "    <path d=\"M18.56 5.44l.94 2.06.94-2.06 2.06-.94-2.06-.94-.94-2.06-.94 2.06-2.06.94zm-11 1L8.5 8.5l.94-2.06 2.06-.94-2.06-.94L8.5 2.5l-.94 2.06-2.06.94zm10 10l.94 2.06.94-2.06 2.06-.94-2.06-.94-.94-2.06-.94 2.06-2.06.94z\"/><path d=\"M17.41 7.96l-1.37-1.37c-.4-.4-.92-.59-1.43-.59-.52 0-1.04.2-1.43.59L10.3 9.45l-7.72 7.72c-.78.78-.78 2.05 0 2.83L4 21.41c.39.39.9.59 1.41.59.51 0 1.02-.2 1.41-.59l7.78-7.78 2.81-2.81c.8-.78.8-2.07 0-2.86zM5.41 20L4 18.59l7.72-7.72 1.47 1.35L5.41 20z\"/>\n",
              "  </svg>\n",
              "      </button>\n",
              "      \n",
              "  <style>\n",
              "    .colab-df-container {\n",
              "      display:flex;\n",
              "      flex-wrap:wrap;\n",
              "      gap: 12px;\n",
              "    }\n",
              "\n",
              "    .colab-df-convert {\n",
              "      background-color: #E8F0FE;\n",
              "      border: none;\n",
              "      border-radius: 50%;\n",
              "      cursor: pointer;\n",
              "      display: none;\n",
              "      fill: #1967D2;\n",
              "      height: 32px;\n",
              "      padding: 0 0 0 0;\n",
              "      width: 32px;\n",
              "    }\n",
              "\n",
              "    .colab-df-convert:hover {\n",
              "      background-color: #E2EBFA;\n",
              "      box-shadow: 0px 1px 2px rgba(60, 64, 67, 0.3), 0px 1px 3px 1px rgba(60, 64, 67, 0.15);\n",
              "      fill: #174EA6;\n",
              "    }\n",
              "\n",
              "    [theme=dark] .colab-df-convert {\n",
              "      background-color: #3B4455;\n",
              "      fill: #D2E3FC;\n",
              "    }\n",
              "\n",
              "    [theme=dark] .colab-df-convert:hover {\n",
              "      background-color: #434B5C;\n",
              "      box-shadow: 0px 1px 3px 1px rgba(0, 0, 0, 0.15);\n",
              "      filter: drop-shadow(0px 1px 2px rgba(0, 0, 0, 0.3));\n",
              "      fill: #FFFFFF;\n",
              "    }\n",
              "  </style>\n",
              "\n",
              "      <script>\n",
              "        const buttonEl =\n",
              "          document.querySelector('#df-fbc12754-bcdb-421a-a19d-e44a3c96fe93 button.colab-df-convert');\n",
              "        buttonEl.style.display =\n",
              "          google.colab.kernel.accessAllowed ? 'block' : 'none';\n",
              "\n",
              "        async function convertToInteractive(key) {\n",
              "          const element = document.querySelector('#df-fbc12754-bcdb-421a-a19d-e44a3c96fe93');\n",
              "          const dataTable =\n",
              "            await google.colab.kernel.invokeFunction('convertToInteractive',\n",
              "                                                     [key], {});\n",
              "          if (!dataTable) return;\n",
              "\n",
              "          const docLinkHtml = 'Like what you see? Visit the ' +\n",
              "            '<a target=\"_blank\" href=https://colab.research.google.com/notebooks/data_table.ipynb>data table notebook</a>'\n",
              "            + ' to learn more about interactive tables.';\n",
              "          element.innerHTML = '';\n",
              "          dataTable['output_type'] = 'display_data';\n",
              "          await google.colab.output.renderOutput(dataTable, element);\n",
              "          const docLink = document.createElement('div');\n",
              "          docLink.innerHTML = docLinkHtml;\n",
              "          element.appendChild(docLink);\n",
              "        }\n",
              "      </script>\n",
              "    </div>\n",
              "  </div>\n",
              "  "
            ]
          },
          "metadata": {},
          "execution_count": 14
        }
      ],
      "source": [
        "item_df.head(1)"
      ]
    },
    {
      "cell_type": "code",
      "execution_count": 15,
      "id": "2eb88494",
      "metadata": {
        "id": "2eb88494"
      },
      "outputs": [],
      "source": [
        "\n",
        "numerical_names = ['popularity','acousticness', 'danceability', 'energy', 'instrumentalness',\n",
        "       'liveness', 'loudness', 'speechiness', 'tempo', 'valence','duration_ms']\n",
        "\n",
        "catagorical=['genre','artist_name']\n",
        "itemid='track_name'"
      ]
    },
    {
      "cell_type": "code",
      "source": [
        "allcols=[itemid]\n",
        "for i in catagorical:\n",
        "  allcols.append(i)\n",
        "for i in numerical_names:\n",
        "  allcols.append(i)"
      ],
      "metadata": {
        "id": "muIQB1gtFLOs"
      },
      "id": "muIQB1gtFLOs",
      "execution_count": 34,
      "outputs": []
    },
    {
      "cell_type": "code",
      "source": [
        "df=item_df[allcols]"
      ],
      "metadata": {
        "id": "8ojJX5XBFU_2"
      },
      "id": "8ojJX5XBFU_2",
      "execution_count": 17,
      "outputs": []
    },
    {
      "cell_type": "code",
      "source": [
        "for i in catagorical:\n",
        "  ids = list(set(list(df[i].unique())))\n",
        "  dict_items = {}\n",
        "  index = 0\n",
        "  for ids in sorted(ids):\n",
        "    dict_items[ids] = index\n",
        "    index += 1\n",
        "  df[i] = df[i].map(dict_items)\n"
      ],
      "metadata": {
        "colab": {
          "base_uri": "https://localhost:8080/"
        },
        "id": "QQp0HOqWL0g4",
        "outputId": "04e2bf38-69a1-489f-ba8b-1497879a2802"
      },
      "id": "QQp0HOqWL0g4",
      "execution_count": 18,
      "outputs": [
        {
          "output_type": "stream",
          "name": "stderr",
          "text": [
            "<ipython-input-18-c8806102d7c4>:8: SettingWithCopyWarning: \n",
            "A value is trying to be set on a copy of a slice from a DataFrame.\n",
            "Try using .loc[row_indexer,col_indexer] = value instead\n",
            "\n",
            "See the caveats in the documentation: https://pandas.pydata.org/pandas-docs/stable/user_guide/indexing.html#returning-a-view-versus-a-copy\n",
            "  df[i] = df[i].map(dict_items)\n"
          ]
        }
      ]
    },
    {
      "cell_type": "markdown",
      "id": "b573a623",
      "metadata": {
        "id": "b573a623"
      },
      "source": [
        "### Analysing all columns with continuous values"
      ]
    },
    {
      "cell_type": "markdown",
      "id": "b4b6aca7",
      "metadata": {
        "id": "b4b6aca7"
      },
      "source": [
        "#### Corelation with different columns "
      ]
    },
    {
      "cell_type": "code",
      "source": [
        "def visualise(col):\n",
        "  X, y = df[numerical_names], df[ col]\n",
        "\n",
        "  # Create a list of the feature names\n",
        "  features = np.array(numerical_names)\n",
        "\n",
        "  # Instantiate the visualizer\n",
        "  visualizer = FeatureCorrelation(labels=features)\n",
        "\n",
        "  plt.rcParams['figure.figsize']=(5,5)\n",
        "  visualizer.fit(X, y)     # Fit the data to the visualizer\n",
        "  visualizer.title=\"Features Correlation with \"+str(col)\n",
        "  visualizer.show()\n",
        "  "
      ],
      "metadata": {
        "id": "_ZU2wbKnEMtw"
      },
      "id": "_ZU2wbKnEMtw",
      "execution_count": 22,
      "outputs": []
    },
    {
      "cell_type": "code",
      "execution_count": 23,
      "id": "79a41f88",
      "metadata": {
        "id": "79a41f88",
        "outputId": "4b1dd7ae-a552-4635-ccb5-ab1d5a538b0f",
        "colab": {
          "base_uri": "https://localhost:8080/",
          "height": 1000
        }
      },
      "outputs": [
        {
          "output_type": "display_data",
          "data": {
            "text/plain": [
              "<Figure size 360x360 with 1 Axes>"
            ],
            "image/png": "[encoded data removed]"
          },
          "metadata": {}
        },
        {
          "output_type": "display_data",
          "data": {
            "text/plain": [
              "<Figure size 360x360 with 1 Axes>"
            ],
            "image/png": "[encoded data removed]"
          },
          "metadata": {}
        },
        {
          "output_type": "display_data",
          "data": {
            "text/plain": [
              "<Figure size 360x360 with 1 Axes>"
            ],
            "image/png": "[encoded data removed]"
          },
          "metadata": {}
        },
        {
          "output_type": "display_data",
          "data": {
            "text/plain": [
              "<Figure size 360x360 with 1 Axes>"
            ],
            "image/png": "[encoded data removed]"
          },
          "metadata": {}
        },
        {
          "output_type": "display_data",
          "data": {
            "text/plain": [
              "<Figure size 360x360 with 1 Axes>"
            ],
            "image/png": "[encoded data removed]"
          },
          "metadata": {}
        },
        {
          "output_type": "display_data",
          "data": {
            "text/plain": [
              "<Figure size 360x360 with 1 Axes>"
            ],
            "image/png": "[encoded data removed]"
          },
          "metadata": {}
        },
        {
          "output_type": "display_data",
          "data": {
            "text/plain": [
              "<Figure size 360x360 with 1 Axes>"
            ],
            "image/png": "[encoded data removed]"
          },
          "metadata": {}
        },
        {
          "output_type": "display_data",
          "data": {
            "text/plain": [
              "<Figure size 360x360 with 1 Axes>"
            ],
            "image/png": "[encoded data removed]"
          },
          "metadata": {}
        },
        {
          "output_type": "display_data",
          "data": {
            "text/plain": [
              "<Figure size 360x360 with 1 Axes>"
            ],
            "image/png": "[encoded data removed]"
          },
          "metadata": {}
        },
        {
          "output_type": "display_data",
          "data": {
            "text/plain": [
              "<Figure size 360x360 with 1 Axes>"
            ],
            "image/png": "[encoded data removed]"
          },
          "metadata": {}
        },
        {
          "output_type": "display_data",
          "data": {
            "text/plain": [
              "<Figure size 360x360 with 1 Axes>"
            ],
            "image/png": "[encoded data removed]"
          },
          "metadata": {}
        }
      ],
      "source": [
        "from yellowbrick.target import FeatureCorrelation\n",
        "for i in numerical_names:\n",
        "  visualise(i)\n",
        "\n",
        "\n"
      ]
    },
    {
      "cell_type": "markdown",
      "id": "4a0b4bbd",
      "metadata": {
        "id": "4a0b4bbd"
      },
      "source": [
        "## Find similar items based on numerical features"
      ]
    },
    {
      "cell_type": "code",
      "execution_count": 24,
      "id": "81416d26",
      "metadata": {
        "id": "81416d26"
      },
      "outputs": [],
      "source": [
        "from sklearn.preprocessing import StandardScaler\n",
        "scaler = StandardScaler()\n"
      ]
    },
    {
      "cell_type": "code",
      "execution_count": 25,
      "id": "a184d9cd",
      "metadata": {
        "id": "a184d9cd",
        "colab": {
          "base_uri": "https://localhost:8080/"
        },
        "outputId": "3f31e070-3605-441f-a2b3-202b44fc9e89"
      },
      "outputs": [
        {
          "output_type": "stream",
          "name": "stderr",
          "text": [
            "/usr/local/lib/python3.8/dist-packages/pandas/core/frame.py:3678: SettingWithCopyWarning: \n",
            "A value is trying to be set on a copy of a slice from a DataFrame.\n",
            "Try using .loc[row_indexer,col_indexer] = value instead\n",
            "\n",
            "See the caveats in the documentation: https://pandas.pydata.org/pandas-docs/stable/user_guide/indexing.html#returning-a-view-versus-a-copy\n",
            "  self[col] = igetitem(value, i)\n"
          ]
        }
      ],
      "source": [
        "df[numerical_names]=scaler.fit_transform(df[numerical_names])\n"
      ]
    },
    {
      "cell_type": "markdown",
      "id": "3f299e42",
      "metadata": {
        "id": "3f299e42"
      },
      "source": [
        "### Find similar songs using continuous features."
      ]
    },
    {
      "cell_type": "markdown",
      "id": "0bee5615",
      "metadata": {
        "id": "0bee5615"
      },
      "source": [
        "#### Apply K-means\n",
        "- We will use Elbow method to find value of hyperparameter K."
      ]
    },
    {
      "cell_type": "code",
      "source": [
        "cols=allcols.copy()\n",
        "cols.remove(itemid)"
      ],
      "metadata": {
        "id": "gVQPEFHCNWFG"
      },
      "id": "gVQPEFHCNWFG",
      "execution_count": 35,
      "outputs": []
    },
    {
      "cell_type": "code",
      "execution_count": 37,
      "id": "1c98647c",
      "metadata": {
        "id": "1c98647c"
      },
      "outputs": [],
      "source": [
        "df_tmp=df[cols]\n"
      ]
    },
    {
      "cell_type": "markdown",
      "source": [
        "### Use MeanShift to get best K value"
      ],
      "metadata": {
        "id": "v_H7Xlw1GxMR"
      },
      "id": "v_H7Xlw1GxMR"
    },
    {
      "cell_type": "code",
      "source": [
        "from autoelbow_rupakbob import autoelbow\n",
        "n =autoelbow.auto_elbow_search(df_tmp)"
      ],
      "metadata": {
        "id": "_IdPj8Y6Gj0f"
      },
      "id": "_IdPj8Y6Gj0f",
      "execution_count": 38,
      "outputs": []
    },
    {
      "cell_type": "code",
      "execution_count": 40,
      "id": "efaffcab",
      "metadata": {
        "id": "efaffcab",
        "outputId": "d4ce52ab-b4a1-4e32-c830-19db50e5b33c",
        "colab": {
          "base_uri": "https://localhost:8080/",
          "height": 423
        }
      },
      "outputs": [
        {
          "output_type": "display_data",
          "data": {
            "text/plain": [
              "<Figure size 360x360 with 1 Axes>"
            ],
            "image/png": "[encoded data removed]"
          },
          "metadata": {}
        }
      ],
      "source": [
        "\n",
        "from sklearn.cluster import KMeans\n",
        "n_clusters_ = n\n",
        "kmeans = KMeans(n_clusters = n_clusters_, init = 'k-means++', random_state = 42)\n",
        "y_kmeans = kmeans.fit_predict(df_tmp)\n",
        "\n",
        "df_tmp.loc[:, 'cluster'] = y_kmeans\n",
        "\n",
        "fig = plt.figure()\n",
        "ax = fig.add_axes([0,0,1,1])\n",
        "\n",
        "ax.hist(\n",
        "    y_kmeans,\n",
        "    bins=n_clusters_,\n",
        "    density=True,\n",
        "    alpha=0.8\n",
        ")\n",
        "\n",
        "plt.title('Distribution by cluster')\n",
        "plt.show()"
      ]
    },
    {
      "cell_type": "code",
      "execution_count": 41,
      "id": "d72e5a85",
      "metadata": {
        "id": "d72e5a85",
        "outputId": "90aca48e-5235-4a23-e129-cfa07897438c",
        "colab": {
          "base_uri": "https://localhost:8080/",
          "height": 144
        }
      },
      "outputs": [
        {
          "output_type": "execute_result",
          "data": {
            "text/plain": [
              "   genre  artist_name  popularity  acousticness  danceability    energy  \\\n",
              "0     15         5181   -2.261007      0.683376     -0.890935  1.286908   \n",
              "\n",
              "   instrumentalness  liveness  loudness  speechiness     tempo   valence  \\\n",
              "0         -0.489819  0.660661  1.290703     -0.36797  1.595607  1.380744   \n",
              "\n",
              "   duration_ms  cluster  \n",
              "0    -1.141368        0  "
            ],
            "text/html": [
              "\n",
              "  <div id=\"df-5bd4ec48-f568-41f6-9d00-64dca0d3156e\">\n",
              "    <div class=\"colab-df-container\">\n",
              "      <div>\n",
              "<style scoped>\n",
              "    .dataframe tbody tr th:only-of-type {\n",
              "        vertical-align: middle;\n",
              "    }\n",
              "\n",
              "    .dataframe tbody tr th {\n",
              "        vertical-align: top;\n",
              "    }\n",
              "\n",
              "    .dataframe thead th {\n",
              "        text-align: right;\n",
              "    }\n",
              "</style>\n",
              "<table border=\"1\" class=\"dataframe\">\n",
              "  <thead>\n",
              "    <tr style=\"text-align: right;\">\n",
              "      <th></th>\n",
              "      <th>genre</th>\n",
              "      <th>artist_name</th>\n",
              "      <th>popularity</th>\n",
              "      <th>acousticness</th>\n",
              "      <th>danceability</th>\n",
              "      <th>energy</th>\n",
              "      <th>instrumentalness</th>\n",
              "      <th>liveness</th>\n",
              "      <th>loudness</th>\n",
              "      <th>speechiness</th>\n",
              "      <th>tempo</th>\n",
              "      <th>valence</th>\n",
              "      <th>duration_ms</th>\n",
              "      <th>cluster</th>\n",
              "    </tr>\n",
              "  </thead>\n",
              "  <tbody>\n",
              "    <tr>\n",
              "      <th>0</th>\n",
              "      <td>15</td>\n",
              "      <td>5181</td>\n",
              "      <td>-2.261007</td>\n",
              "      <td>0.683376</td>\n",
              "      <td>-0.890935</td>\n",
              "      <td>1.286908</td>\n",
              "      <td>-0.489819</td>\n",
              "      <td>0.660661</td>\n",
              "      <td>1.290703</td>\n",
              "      <td>-0.36797</td>\n",
              "      <td>1.595607</td>\n",
              "      <td>1.380744</td>\n",
              "      <td>-1.141368</td>\n",
              "      <td>0</td>\n",
              "    </tr>\n",
              "  </tbody>\n",
              "</table>\n",
              "</div>\n",
              "      <button class=\"colab-df-convert\" onclick=\"convertToInteractive('df-5bd4ec48-f568-41f6-9d00-64dca0d3156e')\"\n",
              "              title=\"Convert this dataframe to an interactive table.\"\n",
              "              style=\"display:none;\">\n",
              "        \n",
              "  <svg xmlns=\"http://www.w3.org/2000/svg\" height=\"24px\"viewBox=\"0 0 24 24\"\n",
              "       width=\"24px\">\n",
              "    <path d=\"M0 0h24v24H0V0z\" fill=\"none\"/>\n",
              "    <path d=\"M18.56 5.44l.94 2.06.94-2.06 2.06-.94-2.06-.94-.94-2.06-.94 2.06-2.06.94zm-11 1L8.5 8.5l.94-2.06 2.06-.94-2.06-.94L8.5 2.5l-.94 2.06-2.06.94zm10 10l.94 2.06.94-2.06 2.06-.94-2.06-.94-.94-2.06-.94 2.06-2.06.94z\"/><path d=\"M17.41 7.96l-1.37-1.37c-.4-.4-.92-.59-1.43-.59-.52 0-1.04.2-1.43.59L10.3 9.45l-7.72 7.72c-.78.78-.78 2.05 0 2.83L4 21.41c.39.39.9.59 1.41.59.51 0 1.02-.2 1.41-.59l7.78-7.78 2.81-2.81c.8-.78.8-2.07 0-2.86zM5.41 20L4 18.59l7.72-7.72 1.47 1.35L5.41 20z\"/>\n",
              "  </svg>\n",
              "      </button>\n",
              "      \n",
              "  <style>\n",
              "    .colab-df-container {\n",
              "      display:flex;\n",
              "      flex-wrap:wrap;\n",
              "      gap: 12px;\n",
              "    }\n",
              "\n",
              "    .colab-df-convert {\n",
              "      background-color: #E8F0FE;\n",
              "      border: none;\n",
              "      border-radius: 50%;\n",
              "      cursor: pointer;\n",
              "      display: none;\n",
              "      fill: #1967D2;\n",
              "      height: 32px;\n",
              "      padding: 0 0 0 0;\n",
              "      width: 32px;\n",
              "    }\n",
              "\n",
              "    .colab-df-convert:hover {\n",
              "      background-color: #E2EBFA;\n",
              "      box-shadow: 0px 1px 2px rgba(60, 64, 67, 0.3), 0px 1px 3px 1px rgba(60, 64, 67, 0.15);\n",
              "      fill: #174EA6;\n",
              "    }\n",
              "\n",
              "    [theme=dark] .colab-df-convert {\n",
              "      background-color: #3B4455;\n",
              "      fill: #D2E3FC;\n",
              "    }\n",
              "\n",
              "    [theme=dark] .colab-df-convert:hover {\n",
              "      background-color: #434B5C;\n",
              "      box-shadow: 0px 1px 3px 1px rgba(0, 0, 0, 0.15);\n",
              "      filter: drop-shadow(0px 1px 2px rgba(0, 0, 0, 0.3));\n",
              "      fill: #FFFFFF;\n",
              "    }\n",
              "  </style>\n",
              "\n",
              "      <script>\n",
              "        const buttonEl =\n",
              "          document.querySelector('#df-5bd4ec48-f568-41f6-9d00-64dca0d3156e button.colab-df-convert');\n",
              "        buttonEl.style.display =\n",
              "          google.colab.kernel.accessAllowed ? 'block' : 'none';\n",
              "\n",
              "        async function convertToInteractive(key) {\n",
              "          const element = document.querySelector('#df-5bd4ec48-f568-41f6-9d00-64dca0d3156e');\n",
              "          const dataTable =\n",
              "            await google.colab.kernel.invokeFunction('convertToInteractive',\n",
              "                                                     [key], {});\n",
              "          if (!dataTable) return;\n",
              "\n",
              "          const docLinkHtml = 'Like what you see? Visit the ' +\n",
              "            '<a target=\"_blank\" href=https://colab.research.google.com/notebooks/data_table.ipynb>data table notebook</a>'\n",
              "            + ' to learn more about interactive tables.';\n",
              "          element.innerHTML = '';\n",
              "          dataTable['output_type'] = 'display_data';\n",
              "          await google.colab.output.renderOutput(dataTable, element);\n",
              "          const docLink = document.createElement('div');\n",
              "          docLink.innerHTML = docLinkHtml;\n",
              "          element.appendChild(docLink);\n",
              "        }\n",
              "      </script>\n",
              "    </div>\n",
              "  </div>\n",
              "  "
            ]
          },
          "metadata": {},
          "execution_count": 41
        }
      ],
      "source": [
        "df_tmp.head(1)"
      ]
    },
    {
      "cell_type": "code",
      "execution_count": 42,
      "id": "c5423f22",
      "metadata": {
        "id": "c5423f22",
        "colab": {
          "base_uri": "https://localhost:8080/"
        },
        "outputId": "3e99ecb3-2f30-4278-8ecb-a47956e7762f"
      },
      "outputs": [
        {
          "output_type": "stream",
          "name": "stderr",
          "text": [
            "<ipython-input-42-ba58f7161387>:1: SettingWithCopyWarning: \n",
            "A value is trying to be set on a copy of a slice from a DataFrame.\n",
            "Try using .loc[row_indexer,col_indexer] = value instead\n",
            "\n",
            "See the caveats in the documentation: https://pandas.pydata.org/pandas-docs/stable/user_guide/indexing.html#returning-a-view-versus-a-copy\n",
            "  df['cluster']=df_tmp['cluster']\n"
          ]
        }
      ],
      "source": [
        "df['cluster']=df_tmp['cluster']"
      ]
    },
    {
      "cell_type": "markdown",
      "id": "473636de",
      "metadata": {
        "id": "473636de"
      },
      "source": [
        "#### Find similarity"
      ]
    },
    {
      "cell_type": "code",
      "execution_count": 58,
      "id": "650c762f",
      "metadata": {
        "id": "650c762f",
        "outputId": "9fa1cc2a-3c8a-4103-ffb7-6ac89afe73e0",
        "colab": {
          "base_uri": "https://localhost:8080/",
          "height": 144
        }
      },
      "outputs": [
        {
          "output_type": "execute_result",
          "data": {
            "text/plain": [
              "     track_name  genre  artist_name  popularity  acousticness  danceability  \\\n",
              "8147    Perfect      8         3037   -0.281887     -0.981377      -0.43298   \n",
              "\n",
              "        energy  instrumentalness  liveness  loudness  speechiness     tempo  \\\n",
              "8147  1.047778         -0.489819 -0.611328  0.773714    -0.404624  1.569587   \n",
              "\n",
              "       valence  duration_ms  cluster  \n",
              "8147  0.911631    -0.278717        1  "
            ],
            "text/html": [
              "\n",
              "  <div id=\"df-b074884c-db01-4b9c-a520-7de9212ce2fe\">\n",
              "    <div class=\"colab-df-container\">\n",
              "      <div>\n",
              "<style scoped>\n",
              "    .dataframe tbody tr th:only-of-type {\n",
              "        vertical-align: middle;\n",
              "    }\n",
              "\n",
              "    .dataframe tbody tr th {\n",
              "        vertical-align: top;\n",
              "    }\n",
              "\n",
              "    .dataframe thead th {\n",
              "        text-align: right;\n",
              "    }\n",
              "</style>\n",
              "<table border=\"1\" class=\"dataframe\">\n",
              "  <thead>\n",
              "    <tr style=\"text-align: right;\">\n",
              "      <th></th>\n",
              "      <th>track_name</th>\n",
              "      <th>genre</th>\n",
              "      <th>artist_name</th>\n",
              "      <th>popularity</th>\n",
              "      <th>acousticness</th>\n",
              "      <th>danceability</th>\n",
              "      <th>energy</th>\n",
              "      <th>instrumentalness</th>\n",
              "      <th>liveness</th>\n",
              "      <th>loudness</th>\n",
              "      <th>speechiness</th>\n",
              "      <th>tempo</th>\n",
              "      <th>valence</th>\n",
              "      <th>duration_ms</th>\n",
              "      <th>cluster</th>\n",
              "    </tr>\n",
              "  </thead>\n",
              "  <tbody>\n",
              "    <tr>\n",
              "      <th>8147</th>\n",
              "      <td>Perfect</td>\n",
              "      <td>8</td>\n",
              "      <td>3037</td>\n",
              "      <td>-0.281887</td>\n",
              "      <td>-0.981377</td>\n",
              "      <td>-0.43298</td>\n",
              "      <td>1.047778</td>\n",
              "      <td>-0.489819</td>\n",
              "      <td>-0.611328</td>\n",
              "      <td>0.773714</td>\n",
              "      <td>-0.404624</td>\n",
              "      <td>1.569587</td>\n",
              "      <td>0.911631</td>\n",
              "      <td>-0.278717</td>\n",
              "      <td>1</td>\n",
              "    </tr>\n",
              "  </tbody>\n",
              "</table>\n",
              "</div>\n",
              "      <button class=\"colab-df-convert\" onclick=\"convertToInteractive('df-b074884c-db01-4b9c-a520-7de9212ce2fe')\"\n",
              "              title=\"Convert this dataframe to an interactive table.\"\n",
              "              style=\"display:none;\">\n",
              "        \n",
              "  <svg xmlns=\"http://www.w3.org/2000/svg\" height=\"24px\"viewBox=\"0 0 24 24\"\n",
              "       width=\"24px\">\n",
              "    <path d=\"M0 0h24v24H0V0z\" fill=\"none\"/>\n",
              "    <path d=\"M18.56 5.44l.94 2.06.94-2.06 2.06-.94-2.06-.94-.94-2.06-.94 2.06-2.06.94zm-11 1L8.5 8.5l.94-2.06 2.06-.94-2.06-.94L8.5 2.5l-.94 2.06-2.06.94zm10 10l.94 2.06.94-2.06 2.06-.94-2.06-.94-.94-2.06-.94 2.06-2.06.94z\"/><path d=\"M17.41 7.96l-1.37-1.37c-.4-.4-.92-.59-1.43-.59-.52 0-1.04.2-1.43.59L10.3 9.45l-7.72 7.72c-.78.78-.78 2.05 0 2.83L4 21.41c.39.39.9.59 1.41.59.51 0 1.02-.2 1.41-.59l7.78-7.78 2.81-2.81c.8-.78.8-2.07 0-2.86zM5.41 20L4 18.59l7.72-7.72 1.47 1.35L5.41 20z\"/>\n",
              "  </svg>\n",
              "      </button>\n",
              "      \n",
              "  <style>\n",
              "    .colab-df-container {\n",
              "      display:flex;\n",
              "      flex-wrap:wrap;\n",
              "      gap: 12px;\n",
              "    }\n",
              "\n",
              "    .colab-df-convert {\n",
              "      background-color: #E8F0FE;\n",
              "      border: none;\n",
              "      border-radius: 50%;\n",
              "      cursor: pointer;\n",
              "      display: none;\n",
              "      fill: #1967D2;\n",
              "      height: 32px;\n",
              "      padding: 0 0 0 0;\n",
              "      width: 32px;\n",
              "    }\n",
              "\n",
              "    .colab-df-convert:hover {\n",
              "      background-color: #E2EBFA;\n",
              "      box-shadow: 0px 1px 2px rgba(60, 64, 67, 0.3), 0px 1px 3px 1px rgba(60, 64, 67, 0.15);\n",
              "      fill: #174EA6;\n",
              "    }\n",
              "\n",
              "    [theme=dark] .colab-df-convert {\n",
              "      background-color: #3B4455;\n",
              "      fill: #D2E3FC;\n",
              "    }\n",
              "\n",
              "    [theme=dark] .colab-df-convert:hover {\n",
              "      background-color: #434B5C;\n",
              "      box-shadow: 0px 1px 3px 1px rgba(0, 0, 0, 0.15);\n",
              "      filter: drop-shadow(0px 1px 2px rgba(0, 0, 0, 0.3));\n",
              "      fill: #FFFFFF;\n",
              "    }\n",
              "  </style>\n",
              "\n",
              "      <script>\n",
              "        const buttonEl =\n",
              "          document.querySelector('#df-b074884c-db01-4b9c-a520-7de9212ce2fe button.colab-df-convert');\n",
              "        buttonEl.style.display =\n",
              "          google.colab.kernel.accessAllowed ? 'block' : 'none';\n",
              "\n",
              "        async function convertToInteractive(key) {\n",
              "          const element = document.querySelector('#df-b074884c-db01-4b9c-a520-7de9212ce2fe');\n",
              "          const dataTable =\n",
              "            await google.colab.kernel.invokeFunction('convertToInteractive',\n",
              "                                                     [key], {});\n",
              "          if (!dataTable) return;\n",
              "\n",
              "          const docLinkHtml = 'Like what you see? Visit the ' +\n",
              "            '<a target=\"_blank\" href=https://colab.research.google.com/notebooks/data_table.ipynb>data table notebook</a>'\n",
              "            + ' to learn more about interactive tables.';\n",
              "          element.innerHTML = '';\n",
              "          dataTable['output_type'] = 'display_data';\n",
              "          await google.colab.output.renderOutput(dataTable, element);\n",
              "          const docLink = document.createElement('div');\n",
              "          docLink.innerHTML = docLinkHtml;\n",
              "          element.appendChild(docLink);\n",
              "        }\n",
              "      </script>\n",
              "    </div>\n",
              "  </div>\n",
              "  "
            ]
          },
          "metadata": {},
          "execution_count": 58
        }
      ],
      "source": [
        "songs_df=df[df['track_name']=='Perfect']\n",
        "songs_df=songs_df.head(1)\n",
        "custer=list(songs_df['cluster'])[0]\n",
        "artist_name=list(songs_df['artist_name'])[0]\n",
        "songs_df\n"
      ]
    },
    {
      "cell_type": "code",
      "execution_count": 59,
      "id": "ad9f80f1",
      "metadata": {
        "id": "ad9f80f1"
      },
      "outputs": [],
      "source": [
        "cluster_df=df[(df['cluster']==custer) ].sort_values('popularity', ascending=[False])"
      ]
    },
    {
      "cell_type": "code",
      "execution_count": 60,
      "id": "b075c37d",
      "metadata": {
        "id": "b075c37d",
        "outputId": "564e67ca-79a9-493a-db64-cf1a27ac0337",
        "colab": {
          "base_uri": "https://localhost:8080/",
          "height": 652
        }
      },
      "outputs": [
        {
          "output_type": "execute_result",
          "data": {
            "text/plain": [
              "                                            track_name  genre  artist_name  \\\n",
              "9027                                           7 rings      9          828   \n",
              "107804                                         7 rings     17          828   \n",
              "107802        break up with your girlfriend, i'm bored     17          828   \n",
              "9026          break up with your girlfriend, i'm bored      9          828   \n",
              "66643                                        Con Calma     12         2934   \n",
              "138918                                       Con Calma     21         2934   \n",
              "107909                                       Con Calma     17         2934   \n",
              "9037                                  Sweet but Psycho      9          978   \n",
              "107829                                Sweet but Psycho     17          978   \n",
              "9048    Taki Taki (with Selena Gomez, Ozuna & Cardi B)      9         2902   \n",
              "\n",
              "        popularity  acousticness  danceability    energy  instrumentalness  \\\n",
              "9027      3.236547      0.590358      0.919334 -0.948768         -0.489819   \n",
              "107804    3.236547      0.590358      0.919334 -0.948768         -0.489819   \n",
              "107802    3.181572     -0.920210      0.924721 -0.064366         -0.489819   \n",
              "9026      3.181572     -0.920210      0.924721 -0.064366         -0.489819   \n",
              "66643     3.126596     -0.728817      0.983986  1.097122         -0.489812   \n",
              "138918    3.126596     -0.728817      0.983986  1.097122         -0.489812   \n",
              "107909    3.126596     -0.728817      0.983986  1.097122         -0.489812   \n",
              "9037      3.071621     -0.844104      0.887007  0.504991         -0.489819   \n",
              "107829    3.071621     -0.844104      0.887007  0.504991         -0.489819   \n",
              "9048      3.016645     -0.607611      1.544307  0.861788         -0.489808   \n",
              "\n",
              "        liveness  loudness  speechiness     tempo   valence  duration_ms  \\\n",
              "9027   -0.638563 -0.195745     1.090110 -1.538070 -0.522627    -0.474898   \n",
              "107804 -0.638563 -0.195745     1.090110 -1.538070 -0.522627    -0.474898   \n",
              "107802 -0.549796  0.713529    -0.156670  1.693669 -0.461104    -0.375685   \n",
              "9026   -0.549796  0.713529    -0.156670  1.693669 -0.461104    -0.375685   \n",
              "66643  -0.794914  1.153329    -0.331316 -0.766294  0.773204    -0.352252   \n",
              "138918 -0.794914  1.153329    -0.331316 -0.766294  0.773204    -0.352252   \n",
              "107909 -0.794914  1.153329    -0.331316 -0.766294  0.773204    -0.352252   \n",
              "9037   -0.247182  0.807891    -0.394382  0.496310  0.665538    -0.400942   \n",
              "107829 -0.247182  0.807891    -0.394382  0.496310  0.665538    -0.400942   \n",
              "9048   -0.772722  0.894251     0.583421 -0.702893  0.523266    -0.190207   \n",
              "\n",
              "        cluster  \n",
              "9027          1  \n",
              "107804        1  \n",
              "107802        1  \n",
              "9026          1  \n",
              "66643         1  \n",
              "138918        1  \n",
              "107909        1  \n",
              "9037          1  \n",
              "107829        1  \n",
              "9048          1  "
            ],
            "text/html": [
              "\n",
              "  <div id=\"df-0b98454a-c913-45a7-9de5-1358b2b0c040\">\n",
              "    <div class=\"colab-df-container\">\n",
              "      <div>\n",
              "<style scoped>\n",
              "    .dataframe tbody tr th:only-of-type {\n",
              "        vertical-align: middle;\n",
              "    }\n",
              "\n",
              "    .dataframe tbody tr th {\n",
              "        vertical-align: top;\n",
              "    }\n",
              "\n",
              "    .dataframe thead th {\n",
              "        text-align: right;\n",
              "    }\n",
              "</style>\n",
              "<table border=\"1\" class=\"dataframe\">\n",
              "  <thead>\n",
              "    <tr style=\"text-align: right;\">\n",
              "      <th></th>\n",
              "      <th>track_name</th>\n",
              "      <th>genre</th>\n",
              "      <th>artist_name</th>\n",
              "      <th>popularity</th>\n",
              "      <th>acousticness</th>\n",
              "      <th>danceability</th>\n",
              "      <th>energy</th>\n",
              "      <th>instrumentalness</th>\n",
              "      <th>liveness</th>\n",
              "      <th>loudness</th>\n",
              "      <th>speechiness</th>\n",
              "      <th>tempo</th>\n",
              "      <th>valence</th>\n",
              "      <th>duration_ms</th>\n",
              "      <th>cluster</th>\n",
              "    </tr>\n",
              "  </thead>\n",
              "  <tbody>\n",
              "    <tr>\n",
              "      <th>9027</th>\n",
              "      <td>7 rings</td>\n",
              "      <td>9</td>\n",
              "      <td>828</td>\n",
              "      <td>3.236547</td>\n",
              "      <td>0.590358</td>\n",
              "      <td>0.919334</td>\n",
              "      <td>-0.948768</td>\n",
              "      <td>-0.489819</td>\n",
              "      <td>-0.638563</td>\n",
              "      <td>-0.195745</td>\n",
              "      <td>1.090110</td>\n",
              "      <td>-1.538070</td>\n",
              "      <td>-0.522627</td>\n",
              "      <td>-0.474898</td>\n",
              "      <td>1</td>\n",
              "    </tr>\n",
              "    <tr>\n",
              "      <th>107804</th>\n",
              "      <td>7 rings</td>\n",
              "      <td>17</td>\n",
              "      <td>828</td>\n",
              "      <td>3.236547</td>\n",
              "      <td>0.590358</td>\n",
              "      <td>0.919334</td>\n",
              "      <td>-0.948768</td>\n",
              "      <td>-0.489819</td>\n",
              "      <td>-0.638563</td>\n",
              "      <td>-0.195745</td>\n",
              "      <td>1.090110</td>\n",
              "      <td>-1.538070</td>\n",
              "      <td>-0.522627</td>\n",
              "      <td>-0.474898</td>\n",
              "      <td>1</td>\n",
              "    </tr>\n",
              "    <tr>\n",
              "      <th>107802</th>\n",
              "      <td>break up with your girlfriend, i'm bored</td>\n",
              "      <td>17</td>\n",
              "      <td>828</td>\n",
              "      <td>3.181572</td>\n",
              "      <td>-0.920210</td>\n",
              "      <td>0.924721</td>\n",
              "      <td>-0.064366</td>\n",
              "      <td>-0.489819</td>\n",
              "      <td>-0.549796</td>\n",
              "      <td>0.713529</td>\n",
              "      <td>-0.156670</td>\n",
              "      <td>1.693669</td>\n",
              "      <td>-0.461104</td>\n",
              "      <td>-0.375685</td>\n",
              "      <td>1</td>\n",
              "    </tr>\n",
              "    <tr>\n",
              "      <th>9026</th>\n",
              "      <td>break up with your girlfriend, i'm bored</td>\n",
              "      <td>9</td>\n",
              "      <td>828</td>\n",
              "      <td>3.181572</td>\n",
              "      <td>-0.920210</td>\n",
              "      <td>0.924721</td>\n",
              "      <td>-0.064366</td>\n",
              "      <td>-0.489819</td>\n",
              "      <td>-0.549796</td>\n",
              "      <td>0.713529</td>\n",
              "      <td>-0.156670</td>\n",
              "      <td>1.693669</td>\n",
              "      <td>-0.461104</td>\n",
              "      <td>-0.375685</td>\n",
              "      <td>1</td>\n",
              "    </tr>\n",
              "    <tr>\n",
              "      <th>66643</th>\n",
              "      <td>Con Calma</td>\n",
              "      <td>12</td>\n",
              "      <td>2934</td>\n",
              "      <td>3.126596</td>\n",
              "      <td>-0.728817</td>\n",
              "      <td>0.983986</td>\n",
              "      <td>1.097122</td>\n",
              "      <td>-0.489812</td>\n",
              "      <td>-0.794914</td>\n",
              "      <td>1.153329</td>\n",
              "      <td>-0.331316</td>\n",
              "      <td>-0.766294</td>\n",
              "      <td>0.773204</td>\n",
              "      <td>-0.352252</td>\n",
              "      <td>1</td>\n",
              "    </tr>\n",
              "    <tr>\n",
              "      <th>138918</th>\n",
              "      <td>Con Calma</td>\n",
              "      <td>21</td>\n",
              "      <td>2934</td>\n",
              "      <td>3.126596</td>\n",
              "      <td>-0.728817</td>\n",
              "      <td>0.983986</td>\n",
              "      <td>1.097122</td>\n",
              "      <td>-0.489812</td>\n",
              "      <td>-0.794914</td>\n",
              "      <td>1.153329</td>\n",
              "      <td>-0.331316</td>\n",
              "      <td>-0.766294</td>\n",
              "      <td>0.773204</td>\n",
              "      <td>-0.352252</td>\n",
              "      <td>1</td>\n",
              "    </tr>\n",
              "    <tr>\n",
              "      <th>107909</th>\n",
              "      <td>Con Calma</td>\n",
              "      <td>17</td>\n",
              "      <td>2934</td>\n",
              "      <td>3.126596</td>\n",
              "      <td>-0.728817</td>\n",
              "      <td>0.983986</td>\n",
              "      <td>1.097122</td>\n",
              "      <td>-0.489812</td>\n",
              "      <td>-0.794914</td>\n",
              "      <td>1.153329</td>\n",
              "      <td>-0.331316</td>\n",
              "      <td>-0.766294</td>\n",
              "      <td>0.773204</td>\n",
              "      <td>-0.352252</td>\n",
              "      <td>1</td>\n",
              "    </tr>\n",
              "    <tr>\n",
              "      <th>9037</th>\n",
              "      <td>Sweet but Psycho</td>\n",
              "      <td>9</td>\n",
              "      <td>978</td>\n",
              "      <td>3.071621</td>\n",
              "      <td>-0.844104</td>\n",
              "      <td>0.887007</td>\n",
              "      <td>0.504991</td>\n",
              "      <td>-0.489819</td>\n",
              "      <td>-0.247182</td>\n",
              "      <td>0.807891</td>\n",
              "      <td>-0.394382</td>\n",
              "      <td>0.496310</td>\n",
              "      <td>0.665538</td>\n",
              "      <td>-0.400942</td>\n",
              "      <td>1</td>\n",
              "    </tr>\n",
              "    <tr>\n",
              "      <th>107829</th>\n",
              "      <td>Sweet but Psycho</td>\n",
              "      <td>17</td>\n",
              "      <td>978</td>\n",
              "      <td>3.071621</td>\n",
              "      <td>-0.844104</td>\n",
              "      <td>0.887007</td>\n",
              "      <td>0.504991</td>\n",
              "      <td>-0.489819</td>\n",
              "      <td>-0.247182</td>\n",
              "      <td>0.807891</td>\n",
              "      <td>-0.394382</td>\n",
              "      <td>0.496310</td>\n",
              "      <td>0.665538</td>\n",
              "      <td>-0.400942</td>\n",
              "      <td>1</td>\n",
              "    </tr>\n",
              "    <tr>\n",
              "      <th>9048</th>\n",
              "      <td>Taki Taki (with Selena Gomez, Ozuna &amp; Cardi B)</td>\n",
              "      <td>9</td>\n",
              "      <td>2902</td>\n",
              "      <td>3.016645</td>\n",
              "      <td>-0.607611</td>\n",
              "      <td>1.544307</td>\n",
              "      <td>0.861788</td>\n",
              "      <td>-0.489808</td>\n",
              "      <td>-0.772722</td>\n",
              "      <td>0.894251</td>\n",
              "      <td>0.583421</td>\n",
              "      <td>-0.702893</td>\n",
              "      <td>0.523266</td>\n",
              "      <td>-0.190207</td>\n",
              "      <td>1</td>\n",
              "    </tr>\n",
              "  </tbody>\n",
              "</table>\n",
              "</div>\n",
              "      <button class=\"colab-df-convert\" onclick=\"convertToInteractive('df-0b98454a-c913-45a7-9de5-1358b2b0c040')\"\n",
              "              title=\"Convert this dataframe to an interactive table.\"\n",
              "              style=\"display:none;\">\n",
              "        \n",
              "  <svg xmlns=\"http://www.w3.org/2000/svg\" height=\"24px\"viewBox=\"0 0 24 24\"\n",
              "       width=\"24px\">\n",
              "    <path d=\"M0 0h24v24H0V0z\" fill=\"none\"/>\n",
              "    <path d=\"M18.56 5.44l.94 2.06.94-2.06 2.06-.94-2.06-.94-.94-2.06-.94 2.06-2.06.94zm-11 1L8.5 8.5l.94-2.06 2.06-.94-2.06-.94L8.5 2.5l-.94 2.06-2.06.94zm10 10l.94 2.06.94-2.06 2.06-.94-2.06-.94-.94-2.06-.94 2.06-2.06.94z\"/><path d=\"M17.41 7.96l-1.37-1.37c-.4-.4-.92-.59-1.43-.59-.52 0-1.04.2-1.43.59L10.3 9.45l-7.72 7.72c-.78.78-.78 2.05 0 2.83L4 21.41c.39.39.9.59 1.41.59.51 0 1.02-.2 1.41-.59l7.78-7.78 2.81-2.81c.8-.78.8-2.07 0-2.86zM5.41 20L4 18.59l7.72-7.72 1.47 1.35L5.41 20z\"/>\n",
              "  </svg>\n",
              "      </button>\n",
              "      \n",
              "  <style>\n",
              "    .colab-df-container {\n",
              "      display:flex;\n",
              "      flex-wrap:wrap;\n",
              "      gap: 12px;\n",
              "    }\n",
              "\n",
              "    .colab-df-convert {\n",
              "      background-color: #E8F0FE;\n",
              "      border: none;\n",
              "      border-radius: 50%;\n",
              "      cursor: pointer;\n",
              "      display: none;\n",
              "      fill: #1967D2;\n",
              "      height: 32px;\n",
              "      padding: 0 0 0 0;\n",
              "      width: 32px;\n",
              "    }\n",
              "\n",
              "    .colab-df-convert:hover {\n",
              "      background-color: #E2EBFA;\n",
              "      box-shadow: 0px 1px 2px rgba(60, 64, 67, 0.3), 0px 1px 3px 1px rgba(60, 64, 67, 0.15);\n",
              "      fill: #174EA6;\n",
              "    }\n",
              "\n",
              "    [theme=dark] .colab-df-convert {\n",
              "      background-color: #3B4455;\n",
              "      fill: #D2E3FC;\n",
              "    }\n",
              "\n",
              "    [theme=dark] .colab-df-convert:hover {\n",
              "      background-color: #434B5C;\n",
              "      box-shadow: 0px 1px 3px 1px rgba(0, 0, 0, 0.15);\n",
              "      filter: drop-shadow(0px 1px 2px rgba(0, 0, 0, 0.3));\n",
              "      fill: #FFFFFF;\n",
              "    }\n",
              "  </style>\n",
              "\n",
              "      <script>\n",
              "        const buttonEl =\n",
              "          document.querySelector('#df-0b98454a-c913-45a7-9de5-1358b2b0c040 button.colab-df-convert');\n",
              "        buttonEl.style.display =\n",
              "          google.colab.kernel.accessAllowed ? 'block' : 'none';\n",
              "\n",
              "        async function convertToInteractive(key) {\n",
              "          const element = document.querySelector('#df-0b98454a-c913-45a7-9de5-1358b2b0c040');\n",
              "          const dataTable =\n",
              "            await google.colab.kernel.invokeFunction('convertToInteractive',\n",
              "                                                     [key], {});\n",
              "          if (!dataTable) return;\n",
              "\n",
              "          const docLinkHtml = 'Like what you see? Visit the ' +\n",
              "            '<a target=\"_blank\" href=https://colab.research.google.com/notebooks/data_table.ipynb>data table notebook</a>'\n",
              "            + ' to learn more about interactive tables.';\n",
              "          element.innerHTML = '';\n",
              "          dataTable['output_type'] = 'display_data';\n",
              "          await google.colab.output.renderOutput(dataTable, element);\n",
              "          const docLink = document.createElement('div');\n",
              "          docLink.innerHTML = docLinkHtml;\n",
              "          element.appendChild(docLink);\n",
              "        }\n",
              "      </script>\n",
              "    </div>\n",
              "  </div>\n",
              "  "
            ]
          },
          "metadata": {},
          "execution_count": 60
        }
      ],
      "source": [
        "cluster_df.head(10)"
      ]
    },
    {
      "cell_type": "code",
      "execution_count": 61,
      "id": "21ae4f56",
      "metadata": {
        "id": "21ae4f56",
        "outputId": "ce48dfc6-23a7-4820-9ec5-3319d5e3f234",
        "colab": {
          "base_uri": "https://localhost:8080/",
          "height": 626
        }
      },
      "outputs": [
        {
          "output_type": "execute_result",
          "data": {
            "text/plain": [
              "                   track_name  genre  artist_name  popularity  acousticness  \\\n",
              "166135            Wagon Wheel     22         3037    1.807183      0.246470   \n",
              "108724            Wagon Wheel     17         3037    1.807183      0.246470   \n",
              "212312            Wagon Wheel      8         3037    1.752208      0.246470   \n",
              "110893          If I Told You     17         3037    1.422354     -0.069230   \n",
              "111102     For The First Time     17         3037    1.422354     -1.018077   \n",
              "...                       ...    ...          ...         ...           ...   \n",
              "8014    You, Me And My Guitar      8         3037   -0.281887     -0.839312   \n",
              "8147                  Perfect      8         3037   -0.281887     -0.981377   \n",
              "8564                    Shine      8         3037   -0.336863     -0.824373   \n",
              "8390     Leavin' The Light On      8         3037   -0.336863      0.108351   \n",
              "8471     Good For A Good Time      8         3037   -0.336863     -0.593517   \n",
              "\n",
              "        danceability    energy  instrumentalness  liveness  loudness  \\\n",
              "166135     -0.136656  0.349366         -0.489819 -0.368228  0.405436   \n",
              "108724     -0.136656  0.349366         -0.489819 -0.368228  0.405436   \n",
              "212312     -0.136656  0.349366         -0.489819 -0.368228  0.405436   \n",
              "110893     -0.120493  0.262065         -0.489819  0.736315  0.481126   \n",
              "111102     -0.039678  0.884562         -0.489819 -0.929073  0.717197   \n",
              "...              ...       ...               ...       ...       ...   \n",
              "8014       -0.346777  1.275521         -0.489819  0.448831  0.782383   \n",
              "8147       -0.432980  1.047778         -0.489819 -0.611328  0.773714   \n",
              "8564        0.041138  0.656819         -0.489819 -0.647137  0.518971   \n",
              "8390        0.725376 -0.455325         -0.489714  0.695966 -0.007355   \n",
              "8471        0.423665  1.123692         -0.489819  0.625356  0.696191   \n",
              "\n",
              "        speechiness     tempo   valence  duration_ms  cluster  \n",
              "166135    -0.486018  0.985002  0.527111     0.532033        1  \n",
              "108724    -0.486018  0.985002  0.527111     0.532033        1  \n",
              "212312    -0.486018  0.985002  0.527111     0.532033        1  \n",
              "110893    -0.481706 -1.088636 -0.564924    -0.191720        1  \n",
              "111102    -0.456371  0.788037  0.811656    -0.320083        1  \n",
              "...             ...       ...       ...          ...      ...  \n",
              "8014      -0.332394  1.695902  1.465338    -0.319184        1  \n",
              "8147      -0.404624  1.569587  0.911631    -0.278717        1  \n",
              "8564      -0.454215  1.434630  1.088510     0.142805        1  \n",
              "8390      -0.500572 -1.316444  0.715526     0.018478        1  \n",
              "8471      -0.424029 -0.101447  1.250008    -0.124120        1  \n",
              "\n",
              "[65 rows x 15 columns]"
            ],
            "text/html": [
              "\n",
              "  <div id=\"df-98ed9efb-c6c6-43f6-a325-a84e754263b6\">\n",
              "    <div class=\"colab-df-container\">\n",
              "      <div>\n",
              "<style scoped>\n",
              "    .dataframe tbody tr th:only-of-type {\n",
              "        vertical-align: middle;\n",
              "    }\n",
              "\n",
              "    .dataframe tbody tr th {\n",
              "        vertical-align: top;\n",
              "    }\n",
              "\n",
              "    .dataframe thead th {\n",
              "        text-align: right;\n",
              "    }\n",
              "</style>\n",
              "<table border=\"1\" class=\"dataframe\">\n",
              "  <thead>\n",
              "    <tr style=\"text-align: right;\">\n",
              "      <th></th>\n",
              "      <th>track_name</th>\n",
              "      <th>genre</th>\n",
              "      <th>artist_name</th>\n",
              "      <th>popularity</th>\n",
              "      <th>acousticness</th>\n",
              "      <th>danceability</th>\n",
              "      <th>energy</th>\n",
              "      <th>instrumentalness</th>\n",
              "      <th>liveness</th>\n",
              "      <th>loudness</th>\n",
              "      <th>speechiness</th>\n",
              "      <th>tempo</th>\n",
              "      <th>valence</th>\n",
              "      <th>duration_ms</th>\n",
              "      <th>cluster</th>\n",
              "    </tr>\n",
              "  </thead>\n",
              "  <tbody>\n",
              "    <tr>\n",
              "      <th>166135</th>\n",
              "      <td>Wagon Wheel</td>\n",
              "      <td>22</td>\n",
              "      <td>3037</td>\n",
              "      <td>1.807183</td>\n",
              "      <td>0.246470</td>\n",
              "      <td>-0.136656</td>\n",
              "      <td>0.349366</td>\n",
              "      <td>-0.489819</td>\n",
              "      <td>-0.368228</td>\n",
              "      <td>0.405436</td>\n",
              "      <td>-0.486018</td>\n",
              "      <td>0.985002</td>\n",
              "      <td>0.527111</td>\n",
              "      <td>0.532033</td>\n",
              "      <td>1</td>\n",
              "    </tr>\n",
              "    <tr>\n",
              "      <th>108724</th>\n",
              "      <td>Wagon Wheel</td>\n",
              "      <td>17</td>\n",
              "      <td>3037</td>\n",
              "      <td>1.807183</td>\n",
              "      <td>0.246470</td>\n",
              "      <td>-0.136656</td>\n",
              "      <td>0.349366</td>\n",
              "      <td>-0.489819</td>\n",
              "      <td>-0.368228</td>\n",
              "      <td>0.405436</td>\n",
              "      <td>-0.486018</td>\n",
              "      <td>0.985002</td>\n",
              "      <td>0.527111</td>\n",
              "      <td>0.532033</td>\n",
              "      <td>1</td>\n",
              "    </tr>\n",
              "    <tr>\n",
              "      <th>212312</th>\n",
              "      <td>Wagon Wheel</td>\n",
              "      <td>8</td>\n",
              "      <td>3037</td>\n",
              "      <td>1.752208</td>\n",
              "      <td>0.246470</td>\n",
              "      <td>-0.136656</td>\n",
              "      <td>0.349366</td>\n",
              "      <td>-0.489819</td>\n",
              "      <td>-0.368228</td>\n",
              "      <td>0.405436</td>\n",
              "      <td>-0.486018</td>\n",
              "      <td>0.985002</td>\n",
              "      <td>0.527111</td>\n",
              "      <td>0.532033</td>\n",
              "      <td>1</td>\n",
              "    </tr>\n",
              "    <tr>\n",
              "      <th>110893</th>\n",
              "      <td>If I Told You</td>\n",
              "      <td>17</td>\n",
              "      <td>3037</td>\n",
              "      <td>1.422354</td>\n",
              "      <td>-0.069230</td>\n",
              "      <td>-0.120493</td>\n",
              "      <td>0.262065</td>\n",
              "      <td>-0.489819</td>\n",
              "      <td>0.736315</td>\n",
              "      <td>0.481126</td>\n",
              "      <td>-0.481706</td>\n",
              "      <td>-1.088636</td>\n",
              "      <td>-0.564924</td>\n",
              "      <td>-0.191720</td>\n",
              "      <td>1</td>\n",
              "    </tr>\n",
              "    <tr>\n",
              "      <th>111102</th>\n",
              "      <td>For The First Time</td>\n",
              "      <td>17</td>\n",
              "      <td>3037</td>\n",
              "      <td>1.422354</td>\n",
              "      <td>-1.018077</td>\n",
              "      <td>-0.039678</td>\n",
              "      <td>0.884562</td>\n",
              "      <td>-0.489819</td>\n",
              "      <td>-0.929073</td>\n",
              "      <td>0.717197</td>\n",
              "      <td>-0.456371</td>\n",
              "      <td>0.788037</td>\n",
              "      <td>0.811656</td>\n",
              "      <td>-0.320083</td>\n",
              "      <td>1</td>\n",
              "    </tr>\n",
              "    <tr>\n",
              "      <th>...</th>\n",
              "      <td>...</td>\n",
              "      <td>...</td>\n",
              "      <td>...</td>\n",
              "      <td>...</td>\n",
              "      <td>...</td>\n",
              "      <td>...</td>\n",
              "      <td>...</td>\n",
              "      <td>...</td>\n",
              "      <td>...</td>\n",
              "      <td>...</td>\n",
              "      <td>...</td>\n",
              "      <td>...</td>\n",
              "      <td>...</td>\n",
              "      <td>...</td>\n",
              "      <td>...</td>\n",
              "    </tr>\n",
              "    <tr>\n",
              "      <th>8014</th>\n",
              "      <td>You, Me And My Guitar</td>\n",
              "      <td>8</td>\n",
              "      <td>3037</td>\n",
              "      <td>-0.281887</td>\n",
              "      <td>-0.839312</td>\n",
              "      <td>-0.346777</td>\n",
              "      <td>1.275521</td>\n",
              "      <td>-0.489819</td>\n",
              "      <td>0.448831</td>\n",
              "      <td>0.782383</td>\n",
              "      <td>-0.332394</td>\n",
              "      <td>1.695902</td>\n",
              "      <td>1.465338</td>\n",
              "      <td>-0.319184</td>\n",
              "      <td>1</td>\n",
              "    </tr>\n",
              "    <tr>\n",
              "      <th>8147</th>\n",
              "      <td>Perfect</td>\n",
              "      <td>8</td>\n",
              "      <td>3037</td>\n",
              "      <td>-0.281887</td>\n",
              "      <td>-0.981377</td>\n",
              "      <td>-0.432980</td>\n",
              "      <td>1.047778</td>\n",
              "      <td>-0.489819</td>\n",
              "      <td>-0.611328</td>\n",
              "      <td>0.773714</td>\n",
              "      <td>-0.404624</td>\n",
              "      <td>1.569587</td>\n",
              "      <td>0.911631</td>\n",
              "      <td>-0.278717</td>\n",
              "      <td>1</td>\n",
              "    </tr>\n",
              "    <tr>\n",
              "      <th>8564</th>\n",
              "      <td>Shine</td>\n",
              "      <td>8</td>\n",
              "      <td>3037</td>\n",
              "      <td>-0.336863</td>\n",
              "      <td>-0.824373</td>\n",
              "      <td>0.041138</td>\n",
              "      <td>0.656819</td>\n",
              "      <td>-0.489819</td>\n",
              "      <td>-0.647137</td>\n",
              "      <td>0.518971</td>\n",
              "      <td>-0.454215</td>\n",
              "      <td>1.434630</td>\n",
              "      <td>1.088510</td>\n",
              "      <td>0.142805</td>\n",
              "      <td>1</td>\n",
              "    </tr>\n",
              "    <tr>\n",
              "      <th>8390</th>\n",
              "      <td>Leavin' The Light On</td>\n",
              "      <td>8</td>\n",
              "      <td>3037</td>\n",
              "      <td>-0.336863</td>\n",
              "      <td>0.108351</td>\n",
              "      <td>0.725376</td>\n",
              "      <td>-0.455325</td>\n",
              "      <td>-0.489714</td>\n",
              "      <td>0.695966</td>\n",
              "      <td>-0.007355</td>\n",
              "      <td>-0.500572</td>\n",
              "      <td>-1.316444</td>\n",
              "      <td>0.715526</td>\n",
              "      <td>0.018478</td>\n",
              "      <td>1</td>\n",
              "    </tr>\n",
              "    <tr>\n",
              "      <th>8471</th>\n",
              "      <td>Good For A Good Time</td>\n",
              "      <td>8</td>\n",
              "      <td>3037</td>\n",
              "      <td>-0.336863</td>\n",
              "      <td>-0.593517</td>\n",
              "      <td>0.423665</td>\n",
              "      <td>1.123692</td>\n",
              "      <td>-0.489819</td>\n",
              "      <td>0.625356</td>\n",
              "      <td>0.696191</td>\n",
              "      <td>-0.424029</td>\n",
              "      <td>-0.101447</td>\n",
              "      <td>1.250008</td>\n",
              "      <td>-0.124120</td>\n",
              "      <td>1</td>\n",
              "    </tr>\n",
              "  </tbody>\n",
              "</table>\n",
              "<p>65 rows × 15 columns</p>\n",
              "</div>\n",
              "      <button class=\"colab-df-convert\" onclick=\"convertToInteractive('df-98ed9efb-c6c6-43f6-a325-a84e754263b6')\"\n",
              "              title=\"Convert this dataframe to an interactive table.\"\n",
              "              style=\"display:none;\">\n",
              "        \n",
              "  <svg xmlns=\"http://www.w3.org/2000/svg\" height=\"24px\"viewBox=\"0 0 24 24\"\n",
              "       width=\"24px\">\n",
              "    <path d=\"M0 0h24v24H0V0z\" fill=\"none\"/>\n",
              "    <path d=\"M18.56 5.44l.94 2.06.94-2.06 2.06-.94-2.06-.94-.94-2.06-.94 2.06-2.06.94zm-11 1L8.5 8.5l.94-2.06 2.06-.94-2.06-.94L8.5 2.5l-.94 2.06-2.06.94zm10 10l.94 2.06.94-2.06 2.06-.94-2.06-.94-.94-2.06-.94 2.06-2.06.94z\"/><path d=\"M17.41 7.96l-1.37-1.37c-.4-.4-.92-.59-1.43-.59-.52 0-1.04.2-1.43.59L10.3 9.45l-7.72 7.72c-.78.78-.78 2.05 0 2.83L4 21.41c.39.39.9.59 1.41.59.51 0 1.02-.2 1.41-.59l7.78-7.78 2.81-2.81c.8-.78.8-2.07 0-2.86zM5.41 20L4 18.59l7.72-7.72 1.47 1.35L5.41 20z\"/>\n",
              "  </svg>\n",
              "      </button>\n",
              "      \n",
              "  <style>\n",
              "    .colab-df-container {\n",
              "      display:flex;\n",
              "      flex-wrap:wrap;\n",
              "      gap: 12px;\n",
              "    }\n",
              "\n",
              "    .colab-df-convert {\n",
              "      background-color: #E8F0FE;\n",
              "      border: none;\n",
              "      border-radius: 50%;\n",
              "      cursor: pointer;\n",
              "      display: none;\n",
              "      fill: #1967D2;\n",
              "      height: 32px;\n",
              "      padding: 0 0 0 0;\n",
              "      width: 32px;\n",
              "    }\n",
              "\n",
              "    .colab-df-convert:hover {\n",
              "      background-color: #E2EBFA;\n",
              "      box-shadow: 0px 1px 2px rgba(60, 64, 67, 0.3), 0px 1px 3px 1px rgba(60, 64, 67, 0.15);\n",
              "      fill: #174EA6;\n",
              "    }\n",
              "\n",
              "    [theme=dark] .colab-df-convert {\n",
              "      background-color: #3B4455;\n",
              "      fill: #D2E3FC;\n",
              "    }\n",
              "\n",
              "    [theme=dark] .colab-df-convert:hover {\n",
              "      background-color: #434B5C;\n",
              "      box-shadow: 0px 1px 3px 1px rgba(0, 0, 0, 0.15);\n",
              "      filter: drop-shadow(0px 1px 2px rgba(0, 0, 0, 0.3));\n",
              "      fill: #FFFFFF;\n",
              "    }\n",
              "  </style>\n",
              "\n",
              "      <script>\n",
              "        const buttonEl =\n",
              "          document.querySelector('#df-98ed9efb-c6c6-43f6-a325-a84e754263b6 button.colab-df-convert');\n",
              "        buttonEl.style.display =\n",
              "          google.colab.kernel.accessAllowed ? 'block' : 'none';\n",
              "\n",
              "        async function convertToInteractive(key) {\n",
              "          const element = document.querySelector('#df-98ed9efb-c6c6-43f6-a325-a84e754263b6');\n",
              "          const dataTable =\n",
              "            await google.colab.kernel.invokeFunction('convertToInteractive',\n",
              "                                                     [key], {});\n",
              "          if (!dataTable) return;\n",
              "\n",
              "          const docLinkHtml = 'Like what you see? Visit the ' +\n",
              "            '<a target=\"_blank\" href=https://colab.research.google.com/notebooks/data_table.ipynb>data table notebook</a>'\n",
              "            + ' to learn more about interactive tables.';\n",
              "          element.innerHTML = '';\n",
              "          dataTable['output_type'] = 'display_data';\n",
              "          await google.colab.output.renderOutput(dataTable, element);\n",
              "          const docLink = document.createElement('div');\n",
              "          docLink.innerHTML = docLinkHtml;\n",
              "          element.appendChild(docLink);\n",
              "        }\n",
              "      </script>\n",
              "    </div>\n",
              "  </div>\n",
              "  "
            ]
          },
          "metadata": {},
          "execution_count": 61
        }
      ],
      "source": [
        "cluster_df[cluster_df['artist_name']==artist_name]"
      ]
    },
    {
      "cell_type": "code",
      "execution_count": null,
      "id": "be53e4d6",
      "metadata": {
        "id": "be53e4d6"
      },
      "outputs": [],
      "source": []
    }
  ],
  "metadata": {
    "kernelspec": {
      "display_name": "Python 3",
      "language": "python",
      "name": "python3"
    },
    "language_info": {
      "codemirror_mode": {
        "name": "ipython",
        "version": 3
      },
      "file_extension": ".py",
      "mimetype": "text/x-python",
      "name": "python",
      "nbconvert_exporter": "python",
      "pygments_lexer": "ipython3",
      "version": "3.6.5"
    },
    "colab": {
      "provenance": [],
      "collapsed_sections": [
        "b4b6aca7"
      ]
    }
  },
  "nbformat": 4,
  "nbformat_minor": 5
}