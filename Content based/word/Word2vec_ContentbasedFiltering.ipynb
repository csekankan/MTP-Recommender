{
  "cells": [
    {
      "cell_type": "markdown",
      "metadata": {
        "id": "uGRD8a9sKacB"
      },
      "source": [
        "### Setup and Load dataset\n",
        "\n"
      ],
      "id": "uGRD8a9sKacB"
    },
    {
      "cell_type": "code",
      "source": [
        "!pip install --upgrade --no-cache-dir gdown"
      ],
      "metadata": {
        "colab": {
          "base_uri": "https://localhost:8080/"
        },
        "id": "C1r8Sraf7rPj",
        "outputId": "282ae92d-c84c-45c8-9643-4e62702c5d00"
      },
      "id": "C1r8Sraf7rPj",
      "execution_count": null,
      "outputs": [
        {
          "output_type": "stream",
          "name": "stdout",
          "text": [
            "Looking in indexes: https://pypi.org/simple, https://us-python.pkg.dev/colab-wheels/public/simple/\n",
            "Requirement already satisfied: gdown in /usr/local/lib/python3.8/dist-packages (4.4.0)\n",
            "Collecting gdown\n",
            "  Downloading gdown-4.6.0-py3-none-any.whl (14 kB)\n",
            "Requirement already satisfied: tqdm in /usr/local/lib/python3.8/dist-packages (from gdown) (4.64.1)\n",
            "Requirement already satisfied: six in /usr/local/lib/python3.8/dist-packages (from gdown) (1.15.0)\n",
            "Requirement already satisfied: beautifulsoup4 in /usr/local/lib/python3.8/dist-packages (from gdown) (4.6.3)\n",
            "Requirement already satisfied: filelock in /usr/local/lib/python3.8/dist-packages (from gdown) (3.9.0)\n",
            "Requirement already satisfied: requests[socks] in /usr/local/lib/python3.8/dist-packages (from gdown) (2.25.1)\n",
            "Requirement already satisfied: idna<3,>=2.5 in /usr/local/lib/python3.8/dist-packages (from requests[socks]->gdown) (2.10)\n",
            "Requirement already satisfied: urllib3<1.27,>=1.21.1 in /usr/local/lib/python3.8/dist-packages (from requests[socks]->gdown) (1.24.3)\n",
            "Requirement already satisfied: chardet<5,>=3.0.2 in /usr/local/lib/python3.8/dist-packages (from requests[socks]->gdown) (4.0.0)\n",
            "Requirement already satisfied: certifi>=2017.4.17 in /usr/local/lib/python3.8/dist-packages (from requests[socks]->gdown) (2022.12.7)\n",
            "Requirement already satisfied: PySocks!=1.5.7,>=1.5.6 in /usr/local/lib/python3.8/dist-packages (from requests[socks]->gdown) (1.7.1)\n",
            "Installing collected packages: gdown\n",
            "  Attempting uninstall: gdown\n",
            "    Found existing installation: gdown 4.4.0\n",
            "    Uninstalling gdown-4.4.0:\n",
            "      Successfully uninstalled gdown-4.4.0\n",
            "Successfully installed gdown-4.6.0\n"
          ]
        }
      ]
    },
    {
      "cell_type": "code",
      "source": [
        "!gdown --id 15hmSSQBP0hPCJHrQRBjyfqd_bPU29Rwr"
      ],
      "metadata": {
        "id": "JN6L-XVUpDB3",
        "colab": {
          "base_uri": "https://localhost:8080/"
        },
        "outputId": "5497cb5a-b09e-4b2d-b08a-37c444c91b47"
      },
      "execution_count": null,
      "outputs": [
        {
          "output_type": "stream",
          "name": "stdout",
          "text": [
            "/usr/local/lib/python3.8/dist-packages/gdown/cli.py:121: FutureWarning: Option `--id` was deprecated in version 4.3.1 and will be removed in 5.0. You don't need to pass it anymore to use a file ID.\n",
            "  warnings.warn(\n",
            "Downloading...\n",
            "From: https://drive.google.com/uc?id=15hmSSQBP0hPCJHrQRBjyfqd_bPU29Rwr\n",
            "To: /content/MIND.zip\n",
            "100% 44.4M/44.4M [00:01<00:00, 23.4MB/s]\n"
          ]
        }
      ],
      "id": "JN6L-XVUpDB3"
    },
    {
      "cell_type": "code",
      "source": [
        "!unzip -o \"MIND.zip\"  -d  \"/content\""
      ],
      "metadata": {
        "id": "TtZEDi2_JS0Z",
        "colab": {
          "base_uri": "https://localhost:8080/"
        },
        "outputId": "2b298e62-0cb1-40d8-f656-06e50a98b57d"
      },
      "execution_count": null,
      "outputs": [
        {
          "output_type": "stream",
          "name": "stdout",
          "text": [
            "Archive:  MIND.zip\n",
            "  inflating: /content/MIND/behaviors.tsv  \n",
            "  inflating: /content/MIND/news.tsv  \n"
          ]
        }
      ],
      "id": "TtZEDi2_JS0Z"
    },
    {
      "cell_type": "markdown",
      "source": [
        "## Data Loading"
      ],
      "metadata": {
        "id": "HDz_Qe5KHFho"
      },
      "id": "HDz_Qe5KHFho"
    },
    {
      "cell_type": "code",
      "execution_count": null,
      "id": "84eddad3",
      "metadata": {
        "id": "84eddad3"
      },
      "outputs": [],
      "source": [
        "from datetime import datetime\n",
        "import os\n",
        "import matplotlib\n",
        "import pandas as pd\n",
        "import numpy as np\n",
        "import matplotlib.pyplot as plt\n",
        "import seaborn as sns\n",
        "sns.set_style('whitegrid')\n",
        "\n",
        "from scipy import sparse\n",
        "from scipy.sparse import csc_matrix\n",
        "from sklearn.decomposition import TruncatedSVD\n",
        "\n",
        "np.random.seed(0)"
      ]
    },
    {
      "cell_type": "markdown",
      "source": [
        "#### Name of the file which contain all the item properties"
      ],
      "metadata": {
        "id": "lHG3Yw4EHJbO"
      },
      "id": "lHG3Yw4EHJbO"
    },
    {
      "cell_type": "code",
      "source": [
        "file=\"MIND/news.tsv\""
      ],
      "metadata": {
        "id": "4zX5cx_NHQNv"
      },
      "id": "4zX5cx_NHQNv",
      "execution_count": null,
      "outputs": []
    },
    {
      "cell_type": "markdown",
      "source": [
        "###### Run below cell"
      ],
      "metadata": {
        "id": "r2ef3FxJHYkQ"
      },
      "id": "r2ef3FxJHYkQ"
    },
    {
      "cell_type": "code",
      "execution_count": null,
      "metadata": {
        "id": "7e7fee79"
      },
      "outputs": [],
      "source": [
        "content_df  = pd.read_table( 'MIND/news.tsv',\n",
        "            names=['newid', 'vertical', 'subvertical', 'title',\n",
        "                            'abstract', 'url', 'entities in title', 'entities in abstract'],\n",
        "                     usecols = ['newid','vertical', 'subvertical', 'title', 'abstract'])"
      ],
      "id": "7e7fee79"
    },
    {
      "cell_type": "code",
      "execution_count": null,
      "metadata": {
        "id": "af507f93",
        "outputId": "a952331a-093a-498a-c3e1-2668554bd664",
        "colab": {
          "base_uri": "https://localhost:8080/"
        }
      },
      "outputs": [
        {
          "output_type": "execute_result",
          "data": {
            "text/plain": [
              "        newid   vertical        subvertical  \\\n",
              "0      N55528  lifestyle    lifestyleroyals   \n",
              "1      N19639     health         weightloss   \n",
              "2      N61837       news          newsworld   \n",
              "3      N53526     health             voices   \n",
              "4      N38324     health            medical   \n",
              "...       ...        ...                ...   \n",
              "51277  N16909    weather  weathertopstories   \n",
              "51278  N47585  lifestyle    lifestylefamily   \n",
              "51279   N7482     sports        more_sports   \n",
              "51280  N34418     sports         soccer_epl   \n",
              "51281  N44276      autos        autossports   \n",
              "\n",
              "                                                   title  \\\n",
              "0      The Brands Queen Elizabeth, Prince Charles, an...   \n",
              "1                          50 Worst Habits For Belly Fat   \n",
              "2      The Cost of Trump's Aid Freeze in the Trenches...   \n",
              "3      I Was An NBA Wife. Here's How It Affected My M...   \n",
              "4      How to Get Rid of Skin Tags, According to a De...   \n",
              "...                                                  ...   \n",
              "51277  Adapting, Learning And Soul Searching: Reflect...   \n",
              "51278  Family says 13-year-old Broadway star died fro...   \n",
              "51279  St. Dominic soccer player tries to kick cancer...   \n",
              "51280                       How the Sounders won MLS Cup   \n",
              "51281                  Best Sports Car Deals for October   \n",
              "\n",
              "                                                abstract  \n",
              "0      Shop the notebooks, jackets, and more that the...  \n",
              "1      These seemingly harmless habits are holding yo...  \n",
              "2      Lt. Ivan Molchanets peeked over a parapet of s...  \n",
              "3      I felt like I was a fraud, and being an NBA wi...  \n",
              "4      They seem harmless, but there's a very good re...  \n",
              "...                                                  ...  \n",
              "51277  Woolsey Fire Anniversary: A community is forev...  \n",
              "51278                                                NaN  \n",
              "51279  Sometimes, what happens on the sidelines can b...  \n",
              "51280  Mark, Jeremiah and Casey were so excited they ...  \n",
              "51281                                                NaN  \n",
              "\n",
              "[51282 rows x 5 columns]"
            ],
            "text/html": [
              "\n",
              "  <div id=\"df-ebfd55f2-dbba-423c-a2d0-f1c7cda7c6a0\">\n",
              "    <div class=\"colab-df-container\">\n",
              "      <div>\n",
              "<style scoped>\n",
              "    .dataframe tbody tr th:only-of-type {\n",
              "        vertical-align: middle;\n",
              "    }\n",
              "\n",
              "    .dataframe tbody tr th {\n",
              "        vertical-align: top;\n",
              "    }\n",
              "\n",
              "    .dataframe thead th {\n",
              "        text-align: right;\n",
              "    }\n",
              "</style>\n",
              "<table border=\"1\" class=\"dataframe\">\n",
              "  <thead>\n",
              "    <tr style=\"text-align: right;\">\n",
              "      <th></th>\n",
              "      <th>newid</th>\n",
              "      <th>vertical</th>\n",
              "      <th>subvertical</th>\n",
              "      <th>title</th>\n",
              "      <th>abstract</th>\n",
              "    </tr>\n",
              "  </thead>\n",
              "  <tbody>\n",
              "    <tr>\n",
              "      <th>0</th>\n",
              "      <td>N55528</td>\n",
              "      <td>lifestyle</td>\n",
              "      <td>lifestyleroyals</td>\n",
              "      <td>The Brands Queen Elizabeth, Prince Charles, an...</td>\n",
              "      <td>Shop the notebooks, jackets, and more that the...</td>\n",
              "    </tr>\n",
              "    <tr>\n",
              "      <th>1</th>\n",
              "      <td>N19639</td>\n",
              "      <td>health</td>\n",
              "      <td>weightloss</td>\n",
              "      <td>50 Worst Habits For Belly Fat</td>\n",
              "      <td>These seemingly harmless habits are holding yo...</td>\n",
              "    </tr>\n",
              "    <tr>\n",
              "      <th>2</th>\n",
              "      <td>N61837</td>\n",
              "      <td>news</td>\n",
              "      <td>newsworld</td>\n",
              "      <td>The Cost of Trump's Aid Freeze in the Trenches...</td>\n",
              "      <td>Lt. Ivan Molchanets peeked over a parapet of s...</td>\n",
              "    </tr>\n",
              "    <tr>\n",
              "      <th>3</th>\n",
              "      <td>N53526</td>\n",
              "      <td>health</td>\n",
              "      <td>voices</td>\n",
              "      <td>I Was An NBA Wife. Here's How It Affected My M...</td>\n",
              "      <td>I felt like I was a fraud, and being an NBA wi...</td>\n",
              "    </tr>\n",
              "    <tr>\n",
              "      <th>4</th>\n",
              "      <td>N38324</td>\n",
              "      <td>health</td>\n",
              "      <td>medical</td>\n",
              "      <td>How to Get Rid of Skin Tags, According to a De...</td>\n",
              "      <td>They seem harmless, but there's a very good re...</td>\n",
              "    </tr>\n",
              "    <tr>\n",
              "      <th>...</th>\n",
              "      <td>...</td>\n",
              "      <td>...</td>\n",
              "      <td>...</td>\n",
              "      <td>...</td>\n",
              "      <td>...</td>\n",
              "    </tr>\n",
              "    <tr>\n",
              "      <th>51277</th>\n",
              "      <td>N16909</td>\n",
              "      <td>weather</td>\n",
              "      <td>weathertopstories</td>\n",
              "      <td>Adapting, Learning And Soul Searching: Reflect...</td>\n",
              "      <td>Woolsey Fire Anniversary: A community is forev...</td>\n",
              "    </tr>\n",
              "    <tr>\n",
              "      <th>51278</th>\n",
              "      <td>N47585</td>\n",
              "      <td>lifestyle</td>\n",
              "      <td>lifestylefamily</td>\n",
              "      <td>Family says 13-year-old Broadway star died fro...</td>\n",
              "      <td>NaN</td>\n",
              "    </tr>\n",
              "    <tr>\n",
              "      <th>51279</th>\n",
              "      <td>N7482</td>\n",
              "      <td>sports</td>\n",
              "      <td>more_sports</td>\n",
              "      <td>St. Dominic soccer player tries to kick cancer...</td>\n",
              "      <td>Sometimes, what happens on the sidelines can b...</td>\n",
              "    </tr>\n",
              "    <tr>\n",
              "      <th>51280</th>\n",
              "      <td>N34418</td>\n",
              "      <td>sports</td>\n",
              "      <td>soccer_epl</td>\n",
              "      <td>How the Sounders won MLS Cup</td>\n",
              "      <td>Mark, Jeremiah and Casey were so excited they ...</td>\n",
              "    </tr>\n",
              "    <tr>\n",
              "      <th>51281</th>\n",
              "      <td>N44276</td>\n",
              "      <td>autos</td>\n",
              "      <td>autossports</td>\n",
              "      <td>Best Sports Car Deals for October</td>\n",
              "      <td>NaN</td>\n",
              "    </tr>\n",
              "  </tbody>\n",
              "</table>\n",
              "<p>51282 rows × 5 columns</p>\n",
              "</div>\n",
              "      <button class=\"colab-df-convert\" onclick=\"convertToInteractive('df-ebfd55f2-dbba-423c-a2d0-f1c7cda7c6a0')\"\n",
              "              title=\"Convert this dataframe to an interactive table.\"\n",
              "              style=\"display:none;\">\n",
              "        \n",
              "  <svg xmlns=\"http://www.w3.org/2000/svg\" height=\"24px\"viewBox=\"0 0 24 24\"\n",
              "       width=\"24px\">\n",
              "    <path d=\"M0 0h24v24H0V0z\" fill=\"none\"/>\n",
              "    <path d=\"M18.56 5.44l.94 2.06.94-2.06 2.06-.94-2.06-.94-.94-2.06-.94 2.06-2.06.94zm-11 1L8.5 8.5l.94-2.06 2.06-.94-2.06-.94L8.5 2.5l-.94 2.06-2.06.94zm10 10l.94 2.06.94-2.06 2.06-.94-2.06-.94-.94-2.06-.94 2.06-2.06.94z\"/><path d=\"M17.41 7.96l-1.37-1.37c-.4-.4-.92-.59-1.43-.59-.52 0-1.04.2-1.43.59L10.3 9.45l-7.72 7.72c-.78.78-.78 2.05 0 2.83L4 21.41c.39.39.9.59 1.41.59.51 0 1.02-.2 1.41-.59l7.78-7.78 2.81-2.81c.8-.78.8-2.07 0-2.86zM5.41 20L4 18.59l7.72-7.72 1.47 1.35L5.41 20z\"/>\n",
              "  </svg>\n",
              "      </button>\n",
              "      \n",
              "  <style>\n",
              "    .colab-df-container {\n",
              "      display:flex;\n",
              "      flex-wrap:wrap;\n",
              "      gap: 12px;\n",
              "    }\n",
              "\n",
              "    .colab-df-convert {\n",
              "      background-color: #E8F0FE;\n",
              "      border: none;\n",
              "      border-radius: 50%;\n",
              "      cursor: pointer;\n",
              "      display: none;\n",
              "      fill: #1967D2;\n",
              "      height: 32px;\n",
              "      padding: 0 0 0 0;\n",
              "      width: 32px;\n",
              "    }\n",
              "\n",
              "    .colab-df-convert:hover {\n",
              "      background-color: #E2EBFA;\n",
              "      box-shadow: 0px 1px 2px rgba(60, 64, 67, 0.3), 0px 1px 3px 1px rgba(60, 64, 67, 0.15);\n",
              "      fill: #174EA6;\n",
              "    }\n",
              "\n",
              "    [theme=dark] .colab-df-convert {\n",
              "      background-color: #3B4455;\n",
              "      fill: #D2E3FC;\n",
              "    }\n",
              "\n",
              "    [theme=dark] .colab-df-convert:hover {\n",
              "      background-color: #434B5C;\n",
              "      box-shadow: 0px 1px 3px 1px rgba(0, 0, 0, 0.15);\n",
              "      filter: drop-shadow(0px 1px 2px rgba(0, 0, 0, 0.3));\n",
              "      fill: #FFFFFF;\n",
              "    }\n",
              "  </style>\n",
              "\n",
              "      <script>\n",
              "        const buttonEl =\n",
              "          document.querySelector('#df-ebfd55f2-dbba-423c-a2d0-f1c7cda7c6a0 button.colab-df-convert');\n",
              "        buttonEl.style.display =\n",
              "          google.colab.kernel.accessAllowed ? 'block' : 'none';\n",
              "\n",
              "        async function convertToInteractive(key) {\n",
              "          const element = document.querySelector('#df-ebfd55f2-dbba-423c-a2d0-f1c7cda7c6a0');\n",
              "          const dataTable =\n",
              "            await google.colab.kernel.invokeFunction('convertToInteractive',\n",
              "                                                     [key], {});\n",
              "          if (!dataTable) return;\n",
              "\n",
              "          const docLinkHtml = 'Like what you see? Visit the ' +\n",
              "            '<a target=\"_blank\" href=https://colab.research.google.com/notebooks/data_table.ipynb>data table notebook</a>'\n",
              "            + ' to learn more about interactive tables.';\n",
              "          element.innerHTML = '';\n",
              "          dataTable['output_type'] = 'display_data';\n",
              "          await google.colab.output.renderOutput(dataTable, element);\n",
              "          const docLink = document.createElement('div');\n",
              "          docLink.innerHTML = docLinkHtml;\n",
              "          element.appendChild(docLink);\n",
              "        }\n",
              "      </script>\n",
              "    </div>\n",
              "  </div>\n",
              "  "
            ]
          },
          "metadata": {},
          "execution_count": 7
        }
      ],
      "source": [
        "content_df"
      ],
      "id": "af507f93"
    },
    {
      "cell_type": "markdown",
      "metadata": {
        "id": "sjJpU6lTGK51"
      },
      "source": [
        "## Details about dataset"
      ],
      "id": "sjJpU6lTGK51"
    },
    {
      "cell_type": "code",
      "source": [
        "itemid=\"newid\""
      ],
      "metadata": {
        "id": "4u2f4NWQa14z"
      },
      "id": "4u2f4NWQa14z",
      "execution_count": null,
      "outputs": []
    },
    {
      "cell_type": "code",
      "execution_count": null,
      "metadata": {
        "id": "LpnvsLU_U-7O"
      },
      "outputs": [],
      "source": [
        "features=['vertical',\t'subvertical','title']"
      ],
      "id": "LpnvsLU_U-7O"
    },
    {
      "cell_type": "markdown",
      "metadata": {
        "id": "D_UJlmcgZNBc"
      },
      "source": [
        "# Content based filtering"
      ],
      "id": "D_UJlmcgZNBc"
    },
    {
      "cell_type": "code",
      "source": [
        "content_df['NewTag']=\"\"\n",
        "for i in features:\n",
        "  content_df['NewTag']+=(\" \"+content_df[i])\n",
        "content_df['NewTag']=content_df['NewTag'].astype(str)"
      ],
      "metadata": {
        "id": "QxJnf-lrLdm2"
      },
      "id": "QxJnf-lrLdm2",
      "execution_count": null,
      "outputs": []
    },
    {
      "cell_type": "markdown",
      "source": [
        "## Word2Vec"
      ],
      "metadata": {
        "id": "41CRCvVCWyWV"
      },
      "id": "41CRCvVCWyWV"
    },
    {
      "cell_type": "code",
      "source": [
        "from nltk.corpus import stopwords\n",
        "from sklearn.metrics.pairwise import linear_kernel, cosine_similarity\n",
        "from sklearn.feature_extraction.text import CountVectorizer, TfidfVectorizer\n",
        "from nltk.tokenize import RegexpTokenizer\n",
        "import re\n",
        "import string\n",
        "from io import BytesIO\n",
        "import matplotlib.pyplot as plt\n",
        "from gensim.models import Word2Vec, KeyedVectors\n",
        "from gensim.models.phrases import Phrases, Phraser\n",
        "from matplotlib import pyplot\n",
        "# Function for removing ASCII characters\n",
        "def _removeNonAscii(s):\n",
        "    return \"\".join(i for i in s if  ord(i)<128)\n",
        "\n",
        "# Function for converting to lower case\n",
        "def make_lower_case(text):\n",
        "    return text.lower()\n",
        "\n",
        "# Function for removing stop words\n",
        "def remove_stop_words(text):\n",
        "    text = text.split()\n",
        "    stops = set(stopwords.words(\"english\"))\n",
        "    text = [w for w in text if not w in stops]\n",
        "    text = \" \".join(text)\n",
        "    return text\n",
        "\n",
        "# Function for removing html\n",
        "def remove_html(text):\n",
        "    html_pattern = re.compile('<.*?>')\n",
        "    return html_pattern.sub(r'', text)\n",
        "\n",
        "# Function for removing punctuation\n",
        "def remove_punctuation(text):\n",
        "    tokenizer = RegexpTokenizer(r'\\w+')\n",
        "    text = tokenizer.tokenize(text)\n",
        "    text = \" \".join(text)\n",
        "    return text\n",
        "\n",
        "content_df['Cleaned'] = content_df['NewTag'].apply(_removeNonAscii)\n",
        "content_df['Cleaned'] = content_df.Cleaned.apply(func = make_lower_case)\n",
        "content_df['Cleaned'] = content_df.Cleaned.apply(func = remove_stop_words)\n",
        "content_df['Cleaned'] = content_df.Cleaned.apply(func = remove_punctuation)\n",
        "content_df['Cleaned'] = content_df.Cleaned.apply(func = remove_html)"
      ],
      "metadata": {
        "id": "op7zytoUW0Xr"
      },
      "id": "op7zytoUW0Xr",
      "execution_count": null,
      "outputs": []
    },
    {
      "cell_type": "code",
      "source": [
        "corpus = []\n",
        "for words in content_df['Cleaned']:\n",
        "    corpus.append(words.split())"
      ],
      "metadata": {
        "id": "cDqwE-nzXN-T"
      },
      "id": "cDqwE-nzXN-T",
      "execution_count": null,
      "outputs": []
    },
    {
      "cell_type": "code",
      "source": [
        "# Downloading the Google's pretrained Word2Vec Model\n",
        "!wget --save-cookies cookies.txt --keep-session-cookies --no-check-certificate 'https://docs.google.com/uc?export=download&id=0B7XkCwpI5KDYNlNUTTlSS21pQmM' -O- | sed -rn 's/.*confirm=([0-9A-Za-z_]+).*/Code: \\1\\n/p'\n",
        "!wget --load-cookies cookies.txt 'https://docs.google.com/uc?export=download&confirm=YOURCODEID&id=0B7XkCwpI5KDYNlNUTTlSS21pQmM' -O GoogleNews-vectors-negative300.bin.gz\n",
        "\n"
      ],
      "metadata": {
        "colab": {
          "base_uri": "https://localhost:8080/"
        },
        "id": "0405iaN1XWyr",
        "outputId": "2289c2c7-cee5-4500-c43b-ec4b74807e01"
      },
      "id": "0405iaN1XWyr",
      "execution_count": null,
      "outputs": [
        {
          "output_type": "stream",
          "name": "stdout",
          "text": [
            "--2023-02-08 10:04:03--  https://docs.google.com/uc?export=download&id=0B7XkCwpI5KDYNlNUTTlSS21pQmM\n",
            "Resolving docs.google.com (docs.google.com)... 74.125.196.101, 74.125.196.100, 74.125.196.102, ...\n",
            "Connecting to docs.google.com (docs.google.com)|74.125.196.101|:443... connected.\n",
            "HTTP request sent, awaiting response... 200 OK\n",
            "Length: unspecified [text/html]\n",
            "Saving to: ‘STDOUT’\n",
            "\n",
            "\r-                       [<=>                 ]       0  --.-KB/s               \r-                       [ <=>                ]   2.24K  --.-KB/s    in 0s      \n",
            "\n",
            "2023-02-08 10:04:03 (57.8 MB/s) - written to stdout [2289]\n",
            "\n",
            "Code: t\n",
            "--2023-02-08 10:04:03--  https://docs.google.com/uc?export=download&confirm=YOURCODEID&id=0B7XkCwpI5KDYNlNUTTlSS21pQmM\n",
            "Resolving docs.google.com (docs.google.com)... 74.125.196.101, 74.125.196.100, 74.125.196.102, ...\n",
            "Connecting to docs.google.com (docs.google.com)|74.125.196.101|:443... connected.\n",
            "HTTP request sent, awaiting response... 303 See Other\n",
            "Location: https://doc-0g-8s-docs.googleusercontent.com/docs/securesc/ha0ro937gcuc7l7deffksulhg5h7mbp1/6n9ftk22u9mfbo7lb7b2itfbeehui157/1675850625000/06848720943842814915/*/0B7XkCwpI5KDYNlNUTTlSS21pQmM?e=download&uuid=61dc2cf2-f53f-4a29-a675-66ee76344001 [following]\n",
            "Warning: wildcards not supported in HTTP.\n",
            "--2023-02-08 10:04:03--  https://doc-0g-8s-docs.googleusercontent.com/docs/securesc/ha0ro937gcuc7l7deffksulhg5h7mbp1/6n9ftk22u9mfbo7lb7b2itfbeehui157/1675850625000/06848720943842814915/*/0B7XkCwpI5KDYNlNUTTlSS21pQmM?e=download&uuid=61dc2cf2-f53f-4a29-a675-66ee76344001\n",
            "Resolving doc-0g-8s-docs.googleusercontent.com (doc-0g-8s-docs.googleusercontent.com)... 108.177.13.132, 2607:f8b0:400c:c09::84\n",
            "Connecting to doc-0g-8s-docs.googleusercontent.com (doc-0g-8s-docs.googleusercontent.com)|108.177.13.132|:443... connected.\n",
            "HTTP request sent, awaiting response... 200 OK\n",
            "Length: 1647046227 (1.5G) [application/x-gzip]\n",
            "Saving to: ‘GoogleNews-vectors-negative300.bin.gz’\n",
            "\n",
            "GoogleNews-vectors- 100%[===================>]   1.53G   234MB/s    in 5.7s    \n",
            "\n",
            "2023-02-08 10:04:09 (274 MB/s) - ‘GoogleNews-vectors-negative300.bin.gz’ saved [1647046227/1647046227]\n",
            "\n"
          ]
        }
      ]
    },
    {
      "cell_type": "code",
      "source": [
        "EMBEDDING_FILE = 'GoogleNews-vectors-negative300.bin.gz'\n",
        "google_word2vec = KeyedVectors.load_word2vec_format(EMBEDDING_FILE, binary = True)\n",
        "\n",
        "# Training our corpus with the model\n",
        "google_model = Word2Vec(size = 300, window = 5, min_count = 2, workers = -1)\n",
        "google_model.build_vocab(corpus)\n",
        "\n",
        "google_model.intersect_word2vec_format(EMBEDDING_FILE, lockf = 1.0, binary = True)\n",
        "google_model.train(corpus, total_examples = google_model.corpus_count, epochs = 5)"
      ],
      "metadata": {
        "colab": {
          "base_uri": "https://localhost:8080/"
        },
        "id": "nG2Qis1OZds8",
        "outputId": "c7e8a92e-6fe0-4273-8f2b-77d7d3dd9c33"
      },
      "id": "nG2Qis1OZds8",
      "execution_count": null,
      "outputs": [
        {
          "output_type": "stream",
          "name": "stderr",
          "text": [
            "WARNING:gensim.models.base_any2vec:EPOCH - 1 : supplied example count (0) did not equal expected count (51282)\n",
            "WARNING:gensim.models.base_any2vec:EPOCH - 2 : supplied example count (0) did not equal expected count (51282)\n",
            "WARNING:gensim.models.base_any2vec:EPOCH - 3 : supplied example count (0) did not equal expected count (51282)\n",
            "WARNING:gensim.models.base_any2vec:EPOCH - 4 : supplied example count (0) did not equal expected count (51282)\n",
            "WARNING:gensim.models.base_any2vec:EPOCH - 5 : supplied example count (0) did not equal expected count (51282)\n"
          ]
        },
        {
          "output_type": "execute_result",
          "data": {
            "text/plain": [
              "(0, 0)"
            ]
          },
          "metadata": {},
          "execution_count": 13
        }
      ]
    },
    {
      "cell_type": "code",
      "source": [
        "word_embeddings = []\n",
        "# Reading the each 'Description'\n",
        "for line in content_df['Cleaned']:\n",
        "    avgword2vec = None\n",
        "    count = 0\n",
        "    for word in line.split():\n",
        "        if word in google_model.wv.vocab:\n",
        "            count += 1\n",
        "            if avgword2vec is None:\n",
        "                avgword2vec = google_model[word]\n",
        "            else:\n",
        "                avgword2vec = avgword2vec + google_model[word]\n",
        "            \n",
        "    if avgword2vec is not None:\n",
        "        avgword2vec = avgword2vec / count\n",
        "        word_embeddings.append(avgword2vec)"
      ],
      "metadata": {
        "colab": {
          "base_uri": "https://localhost:8080/"
        },
        "id": "F4EKXkmGZkwr",
        "outputId": "19f019fa-6eaf-4354-aa8a-8b75190db0eb"
      },
      "id": "F4EKXkmGZkwr",
      "execution_count": null,
      "outputs": [
        {
          "output_type": "stream",
          "name": "stderr",
          "text": [
            "<ipython-input-14-230bc56917c9>:10: DeprecationWarning: Call to deprecated `__getitem__` (Method will be removed in 4.0.0, use self.wv.__getitem__() instead).\n",
            "  avgword2vec = google_model[word]\n",
            "<ipython-input-14-230bc56917c9>:12: DeprecationWarning: Call to deprecated `__getitem__` (Method will be removed in 4.0.0, use self.wv.__getitem__() instead).\n",
            "  avgword2vec = avgword2vec + google_model[word]\n"
          ]
        }
      ]
    },
    {
      "cell_type": "code",
      "source": [
        " # Finding cosine similarity for the vectors\n",
        "cosine_similarities = cosine_similarity(word_embeddings, word_embeddings)"
      ],
      "metadata": {
        "id": "IlAlgBooaUlT"
      },
      "id": "IlAlgBooaUlT",
      "execution_count": null,
      "outputs": []
    },
    {
      "cell_type": "code",
      "source": [
        "# Recommending the Top 5 similar movies\n",
        "def recommendations(itemkey,k=10):\n",
        "    \n",
        "    # Calling the function vectors\n",
        "  \n",
        "    # Taking the Title and Movie Image Link and store in new dataframe called 'movies'\n",
        "    items = content_df[[itemid]]\n",
        "\n",
        "    # Reverse mapping of the index\n",
        "    indices = pd.Series(content_df.index, index = content_df[itemid]).drop_duplicates()\n",
        "     \n",
        "    idx = indices[itemkey]\n",
        " \n",
        "    sim_scores = list(enumerate(cosine_similarities[idx]))\n",
        "   \n",
        "    sim_scores = sorted(sim_scores, key = lambda x: x[1], reverse = True)\n",
        "    sim_scores = sim_scores[1:k]\n",
        "    item_indices = [i[0] for i in sim_scores]\n",
        "    recommend = items.iloc[item_indices]\n",
        "    return recommend"
      ],
      "metadata": {
        "id": "CS3k6oLbZozL"
      },
      "id": "CS3k6oLbZozL",
      "execution_count": null,
      "outputs": []
    },
    {
      "cell_type": "markdown",
      "source": [
        "## Recommendation"
      ],
      "metadata": {
        "id": "K0X5La0ccsUW"
      },
      "id": "K0X5La0ccsUW"
    },
    {
      "cell_type": "code",
      "source": [
        "recomm=list(recommendations('N55528',10)['newid'])"
      ],
      "metadata": {
        "id": "oQ-EUtEAZuLz"
      },
      "id": "oQ-EUtEAZuLz",
      "execution_count": null,
      "outputs": []
    },
    {
      "cell_type": "code",
      "source": [
        "content_df[content_df.newid=='N55528']"
      ],
      "metadata": {
        "colab": {
          "base_uri": "https://localhost:8080/",
          "height": 142
        },
        "id": "tgBthMz3dHhD",
        "outputId": "8cb5df87-0fad-40be-b50a-9caa4561df6d"
      },
      "id": "tgBthMz3dHhD",
      "execution_count": null,
      "outputs": [
        {
          "output_type": "execute_result",
          "data": {
            "text/plain": [
              "    newid   vertical      subvertical  \\\n",
              "0  N55528  lifestyle  lifestyleroyals   \n",
              "\n",
              "                                               title  \\\n",
              "0  The Brands Queen Elizabeth, Prince Charles, an...   \n",
              "\n",
              "                                            abstract  \\\n",
              "0  Shop the notebooks, jackets, and more that the...   \n",
              "\n",
              "                                              NewTag  \\\n",
              "0   lifestyle lifestyleroyals The Brands Queen El...   \n",
              "\n",
              "                                             Cleaned  \n",
              "0  lifestyle lifestyleroyals brands queen elizabe...  "
            ],
            "text/html": [
              "\n",
              "  <div id=\"df-3bd97c5a-60a9-4155-ac3a-6c2ff7d356ee\">\n",
              "    <div class=\"colab-df-container\">\n",
              "      <div>\n",
              "<style scoped>\n",
              "    .dataframe tbody tr th:only-of-type {\n",
              "        vertical-align: middle;\n",
              "    }\n",
              "\n",
              "    .dataframe tbody tr th {\n",
              "        vertical-align: top;\n",
              "    }\n",
              "\n",
              "    .dataframe thead th {\n",
              "        text-align: right;\n",
              "    }\n",
              "</style>\n",
              "<table border=\"1\" class=\"dataframe\">\n",
              "  <thead>\n",
              "    <tr style=\"text-align: right;\">\n",
              "      <th></th>\n",
              "      <th>newid</th>\n",
              "      <th>vertical</th>\n",
              "      <th>subvertical</th>\n",
              "      <th>title</th>\n",
              "      <th>abstract</th>\n",
              "      <th>NewTag</th>\n",
              "      <th>Cleaned</th>\n",
              "    </tr>\n",
              "  </thead>\n",
              "  <tbody>\n",
              "    <tr>\n",
              "      <th>0</th>\n",
              "      <td>N55528</td>\n",
              "      <td>lifestyle</td>\n",
              "      <td>lifestyleroyals</td>\n",
              "      <td>The Brands Queen Elizabeth, Prince Charles, an...</td>\n",
              "      <td>Shop the notebooks, jackets, and more that the...</td>\n",
              "      <td>lifestyle lifestyleroyals The Brands Queen El...</td>\n",
              "      <td>lifestyle lifestyleroyals brands queen elizabe...</td>\n",
              "    </tr>\n",
              "  </tbody>\n",
              "</table>\n",
              "</div>\n",
              "      <button class=\"colab-df-convert\" onclick=\"convertToInteractive('df-3bd97c5a-60a9-4155-ac3a-6c2ff7d356ee')\"\n",
              "              title=\"Convert this dataframe to an interactive table.\"\n",
              "              style=\"display:none;\">\n",
              "        \n",
              "  <svg xmlns=\"http://www.w3.org/2000/svg\" height=\"24px\"viewBox=\"0 0 24 24\"\n",
              "       width=\"24px\">\n",
              "    <path d=\"M0 0h24v24H0V0z\" fill=\"none\"/>\n",
              "    <path d=\"M18.56 5.44l.94 2.06.94-2.06 2.06-.94-2.06-.94-.94-2.06-.94 2.06-2.06.94zm-11 1L8.5 8.5l.94-2.06 2.06-.94-2.06-.94L8.5 2.5l-.94 2.06-2.06.94zm10 10l.94 2.06.94-2.06 2.06-.94-2.06-.94-.94-2.06-.94 2.06-2.06.94z\"/><path d=\"M17.41 7.96l-1.37-1.37c-.4-.4-.92-.59-1.43-.59-.52 0-1.04.2-1.43.59L10.3 9.45l-7.72 7.72c-.78.78-.78 2.05 0 2.83L4 21.41c.39.39.9.59 1.41.59.51 0 1.02-.2 1.41-.59l7.78-7.78 2.81-2.81c.8-.78.8-2.07 0-2.86zM5.41 20L4 18.59l7.72-7.72 1.47 1.35L5.41 20z\"/>\n",
              "  </svg>\n",
              "      </button>\n",
              "      \n",
              "  <style>\n",
              "    .colab-df-container {\n",
              "      display:flex;\n",
              "      flex-wrap:wrap;\n",
              "      gap: 12px;\n",
              "    }\n",
              "\n",
              "    .colab-df-convert {\n",
              "      background-color: #E8F0FE;\n",
              "      border: none;\n",
              "      border-radius: 50%;\n",
              "      cursor: pointer;\n",
              "      display: none;\n",
              "      fill: #1967D2;\n",
              "      height: 32px;\n",
              "      padding: 0 0 0 0;\n",
              "      width: 32px;\n",
              "    }\n",
              "\n",
              "    .colab-df-convert:hover {\n",
              "      background-color: #E2EBFA;\n",
              "      box-shadow: 0px 1px 2px rgba(60, 64, 67, 0.3), 0px 1px 3px 1px rgba(60, 64, 67, 0.15);\n",
              "      fill: #174EA6;\n",
              "    }\n",
              "\n",
              "    [theme=dark] .colab-df-convert {\n",
              "      background-color: #3B4455;\n",
              "      fill: #D2E3FC;\n",
              "    }\n",
              "\n",
              "    [theme=dark] .colab-df-convert:hover {\n",
              "      background-color: #434B5C;\n",
              "      box-shadow: 0px 1px 3px 1px rgba(0, 0, 0, 0.15);\n",
              "      filter: drop-shadow(0px 1px 2px rgba(0, 0, 0, 0.3));\n",
              "      fill: #FFFFFF;\n",
              "    }\n",
              "  </style>\n",
              "\n",
              "      <script>\n",
              "        const buttonEl =\n",
              "          document.querySelector('#df-3bd97c5a-60a9-4155-ac3a-6c2ff7d356ee button.colab-df-convert');\n",
              "        buttonEl.style.display =\n",
              "          google.colab.kernel.accessAllowed ? 'block' : 'none';\n",
              "\n",
              "        async function convertToInteractive(key) {\n",
              "          const element = document.querySelector('#df-3bd97c5a-60a9-4155-ac3a-6c2ff7d356ee');\n",
              "          const dataTable =\n",
              "            await google.colab.kernel.invokeFunction('convertToInteractive',\n",
              "                                                     [key], {});\n",
              "          if (!dataTable) return;\n",
              "\n",
              "          const docLinkHtml = 'Like what you see? Visit the ' +\n",
              "            '<a target=\"_blank\" href=https://colab.research.google.com/notebooks/data_table.ipynb>data table notebook</a>'\n",
              "            + ' to learn more about interactive tables.';\n",
              "          element.innerHTML = '';\n",
              "          dataTable['output_type'] = 'display_data';\n",
              "          await google.colab.output.renderOutput(dataTable, element);\n",
              "          const docLink = document.createElement('div');\n",
              "          docLink.innerHTML = docLinkHtml;\n",
              "          element.appendChild(docLink);\n",
              "        }\n",
              "      </script>\n",
              "    </div>\n",
              "  </div>\n",
              "  "
            ]
          },
          "metadata": {},
          "execution_count": 18
        }
      ]
    },
    {
      "cell_type": "code",
      "source": [
        "content_df[content_df.newid.isin(recomm)]"
      ],
      "metadata": {
        "colab": {
          "base_uri": "https://localhost:8080/",
          "height": 531
        },
        "id": "eLomcqrlcwuS",
        "outputId": "cd69cc2a-10fe-4321-f54b-c17648158950"
      },
      "id": "eLomcqrlcwuS",
      "execution_count": null,
      "outputs": [
        {
          "output_type": "execute_result",
          "data": {
            "text/plain": [
              "        newid   vertical      subvertical  \\\n",
              "397     N7716  lifestyle  lifestyleroyals   \n",
              "4414   N18957  lifestyle  lifestyleroyals   \n",
              "14081   N3046  lifestyle  lifestyleroyals   \n",
              "22924  N12732  lifestyle  lifestyleroyals   \n",
              "28360   N9056  lifestyle  lifestyleroyals   \n",
              "29974  N60671  lifestyle  lifestyleroyals   \n",
              "31743  N38133  lifestyle  lifestyleroyals   \n",
              "43853  N56051  lifestyle  lifestyleroyals   \n",
              "43870  N42457  lifestyle  lifestyleroyals   \n",
              "\n",
              "                                                   title  \\\n",
              "397    What Do Prince George & Princess Charlotte Kno...   \n",
              "4414   People Can't Stop Debating Who Princess Charlo...   \n",
              "14081  See all the best photos of Prince William and ...   \n",
              "22924  Meghan Markle, Prince Harry, Kate Middleton an...   \n",
              "28360  This Is What Queen Elizabeth Is Doing About th...   \n",
              "29974  Prince Charles Teared Up When Prince William T...   \n",
              "31743  The cutest photos of royal children and their ...   \n",
              "43853  Meghan Markle and Prince Harry Reunite with Ka...   \n",
              "43870  Meghan Markle and Prince Harry Won't Spend Chr...   \n",
              "\n",
              "                                                abstract  \\\n",
              "397    Do Prince William and Kate Middleton's kids kn...   \n",
              "4414   The 4-year-old is a beautiful little girl who ...   \n",
              "14081  In October 2019, the Duke and Duchess of Cambr...   \n",
              "22924  Meghan Markle, Prince Harry, Kate, William Reu...   \n",
              "28360  According to royal insiders, Queen Elizabeth h...   \n",
              "29974          Frankly, it reduced me to tears, he said.   \n",
              "31743  See all the cute photos of royal children with...   \n",
              "43853  Meghan Markle, Harry Reunite Kate and William ...   \n",
              "43870  They'll hang out with baby Archie and Meghan's...   \n",
              "\n",
              "                                                  NewTag  \\\n",
              "397     lifestyle lifestyleroyals What Do Prince Geor...   \n",
              "4414    lifestyle lifestyleroyals People Can't Stop D...   \n",
              "14081   lifestyle lifestyleroyals See all the best ph...   \n",
              "22924   lifestyle lifestyleroyals Meghan Markle, Prin...   \n",
              "28360   lifestyle lifestyleroyals This Is What Queen ...   \n",
              "29974   lifestyle lifestyleroyals Prince Charles Tear...   \n",
              "31743   lifestyle lifestyleroyals The cutest photos o...   \n",
              "43853   lifestyle lifestyleroyals Meghan Markle and P...   \n",
              "43870   lifestyle lifestyleroyals Meghan Markle and P...   \n",
              "\n",
              "                                                 Cleaned  \n",
              "397    lifestyle lifestyleroyals prince george prince...  \n",
              "4414   lifestyle lifestyleroyals people can t stop de...  \n",
              "14081  lifestyle lifestyleroyals see best photos prin...  \n",
              "22924  lifestyle lifestyleroyals meghan markle prince...  \n",
              "28360  lifestyle lifestyleroyals queen elizabeth prin...  \n",
              "29974  lifestyle lifestyleroyals prince charles teare...  \n",
              "31743  lifestyle lifestyleroyals cutest photos royal ...  \n",
              "43853  lifestyle lifestyleroyals meghan markle prince...  \n",
              "43870  lifestyle lifestyleroyals meghan markle prince...  "
            ],
            "text/html": [
              "\n",
              "  <div id=\"df-cbc837fb-b4b2-4c2e-952b-68821eafac33\">\n",
              "    <div class=\"colab-df-container\">\n",
              "      <div>\n",
              "<style scoped>\n",
              "    .dataframe tbody tr th:only-of-type {\n",
              "        vertical-align: middle;\n",
              "    }\n",
              "\n",
              "    .dataframe tbody tr th {\n",
              "        vertical-align: top;\n",
              "    }\n",
              "\n",
              "    .dataframe thead th {\n",
              "        text-align: right;\n",
              "    }\n",
              "</style>\n",
              "<table border=\"1\" class=\"dataframe\">\n",
              "  <thead>\n",
              "    <tr style=\"text-align: right;\">\n",
              "      <th></th>\n",
              "      <th>newid</th>\n",
              "      <th>vertical</th>\n",
              "      <th>subvertical</th>\n",
              "      <th>title</th>\n",
              "      <th>abstract</th>\n",
              "      <th>NewTag</th>\n",
              "      <th>Cleaned</th>\n",
              "    </tr>\n",
              "  </thead>\n",
              "  <tbody>\n",
              "    <tr>\n",
              "      <th>397</th>\n",
              "      <td>N7716</td>\n",
              "      <td>lifestyle</td>\n",
              "      <td>lifestyleroyals</td>\n",
              "      <td>What Do Prince George &amp; Princess Charlotte Kno...</td>\n",
              "      <td>Do Prince William and Kate Middleton's kids kn...</td>\n",
              "      <td>lifestyle lifestyleroyals What Do Prince Geor...</td>\n",
              "      <td>lifestyle lifestyleroyals prince george prince...</td>\n",
              "    </tr>\n",
              "    <tr>\n",
              "      <th>4414</th>\n",
              "      <td>N18957</td>\n",
              "      <td>lifestyle</td>\n",
              "      <td>lifestyleroyals</td>\n",
              "      <td>People Can't Stop Debating Who Princess Charlo...</td>\n",
              "      <td>The 4-year-old is a beautiful little girl who ...</td>\n",
              "      <td>lifestyle lifestyleroyals People Can't Stop D...</td>\n",
              "      <td>lifestyle lifestyleroyals people can t stop de...</td>\n",
              "    </tr>\n",
              "    <tr>\n",
              "      <th>14081</th>\n",
              "      <td>N3046</td>\n",
              "      <td>lifestyle</td>\n",
              "      <td>lifestyleroyals</td>\n",
              "      <td>See all the best photos of Prince William and ...</td>\n",
              "      <td>In October 2019, the Duke and Duchess of Cambr...</td>\n",
              "      <td>lifestyle lifestyleroyals See all the best ph...</td>\n",
              "      <td>lifestyle lifestyleroyals see best photos prin...</td>\n",
              "    </tr>\n",
              "    <tr>\n",
              "      <th>22924</th>\n",
              "      <td>N12732</td>\n",
              "      <td>lifestyle</td>\n",
              "      <td>lifestyleroyals</td>\n",
              "      <td>Meghan Markle, Prince Harry, Kate Middleton an...</td>\n",
              "      <td>Meghan Markle, Prince Harry, Kate, William Reu...</td>\n",
              "      <td>lifestyle lifestyleroyals Meghan Markle, Prin...</td>\n",
              "      <td>lifestyle lifestyleroyals meghan markle prince...</td>\n",
              "    </tr>\n",
              "    <tr>\n",
              "      <th>28360</th>\n",
              "      <td>N9056</td>\n",
              "      <td>lifestyle</td>\n",
              "      <td>lifestyleroyals</td>\n",
              "      <td>This Is What Queen Elizabeth Is Doing About th...</td>\n",
              "      <td>According to royal insiders, Queen Elizabeth h...</td>\n",
              "      <td>lifestyle lifestyleroyals This Is What Queen ...</td>\n",
              "      <td>lifestyle lifestyleroyals queen elizabeth prin...</td>\n",
              "    </tr>\n",
              "    <tr>\n",
              "      <th>29974</th>\n",
              "      <td>N60671</td>\n",
              "      <td>lifestyle</td>\n",
              "      <td>lifestyleroyals</td>\n",
              "      <td>Prince Charles Teared Up When Prince William T...</td>\n",
              "      <td>Frankly, it reduced me to tears, he said.</td>\n",
              "      <td>lifestyle lifestyleroyals Prince Charles Tear...</td>\n",
              "      <td>lifestyle lifestyleroyals prince charles teare...</td>\n",
              "    </tr>\n",
              "    <tr>\n",
              "      <th>31743</th>\n",
              "      <td>N38133</td>\n",
              "      <td>lifestyle</td>\n",
              "      <td>lifestyleroyals</td>\n",
              "      <td>The cutest photos of royal children and their ...</td>\n",
              "      <td>See all the cute photos of royal children with...</td>\n",
              "      <td>lifestyle lifestyleroyals The cutest photos o...</td>\n",
              "      <td>lifestyle lifestyleroyals cutest photos royal ...</td>\n",
              "    </tr>\n",
              "    <tr>\n",
              "      <th>43853</th>\n",
              "      <td>N56051</td>\n",
              "      <td>lifestyle</td>\n",
              "      <td>lifestyleroyals</td>\n",
              "      <td>Meghan Markle and Prince Harry Reunite with Ka...</td>\n",
              "      <td>Meghan Markle, Harry Reunite Kate and William ...</td>\n",
              "      <td>lifestyle lifestyleroyals Meghan Markle and P...</td>\n",
              "      <td>lifestyle lifestyleroyals meghan markle prince...</td>\n",
              "    </tr>\n",
              "    <tr>\n",
              "      <th>43870</th>\n",
              "      <td>N42457</td>\n",
              "      <td>lifestyle</td>\n",
              "      <td>lifestyleroyals</td>\n",
              "      <td>Meghan Markle and Prince Harry Won't Spend Chr...</td>\n",
              "      <td>They'll hang out with baby Archie and Meghan's...</td>\n",
              "      <td>lifestyle lifestyleroyals Meghan Markle and P...</td>\n",
              "      <td>lifestyle lifestyleroyals meghan markle prince...</td>\n",
              "    </tr>\n",
              "  </tbody>\n",
              "</table>\n",
              "</div>\n",
              "      <button class=\"colab-df-convert\" onclick=\"convertToInteractive('df-cbc837fb-b4b2-4c2e-952b-68821eafac33')\"\n",
              "              title=\"Convert this dataframe to an interactive table.\"\n",
              "              style=\"display:none;\">\n",
              "        \n",
              "  <svg xmlns=\"http://www.w3.org/2000/svg\" height=\"24px\"viewBox=\"0 0 24 24\"\n",
              "       width=\"24px\">\n",
              "    <path d=\"M0 0h24v24H0V0z\" fill=\"none\"/>\n",
              "    <path d=\"M18.56 5.44l.94 2.06.94-2.06 2.06-.94-2.06-.94-.94-2.06-.94 2.06-2.06.94zm-11 1L8.5 8.5l.94-2.06 2.06-.94-2.06-.94L8.5 2.5l-.94 2.06-2.06.94zm10 10l.94 2.06.94-2.06 2.06-.94-2.06-.94-.94-2.06-.94 2.06-2.06.94z\"/><path d=\"M17.41 7.96l-1.37-1.37c-.4-.4-.92-.59-1.43-.59-.52 0-1.04.2-1.43.59L10.3 9.45l-7.72 7.72c-.78.78-.78 2.05 0 2.83L4 21.41c.39.39.9.59 1.41.59.51 0 1.02-.2 1.41-.59l7.78-7.78 2.81-2.81c.8-.78.8-2.07 0-2.86zM5.41 20L4 18.59l7.72-7.72 1.47 1.35L5.41 20z\"/>\n",
              "  </svg>\n",
              "      </button>\n",
              "      \n",
              "  <style>\n",
              "    .colab-df-container {\n",
              "      display:flex;\n",
              "      flex-wrap:wrap;\n",
              "      gap: 12px;\n",
              "    }\n",
              "\n",
              "    .colab-df-convert {\n",
              "      background-color: #E8F0FE;\n",
              "      border: none;\n",
              "      border-radius: 50%;\n",
              "      cursor: pointer;\n",
              "      display: none;\n",
              "      fill: #1967D2;\n",
              "      height: 32px;\n",
              "      padding: 0 0 0 0;\n",
              "      width: 32px;\n",
              "    }\n",
              "\n",
              "    .colab-df-convert:hover {\n",
              "      background-color: #E2EBFA;\n",
              "      box-shadow: 0px 1px 2px rgba(60, 64, 67, 0.3), 0px 1px 3px 1px rgba(60, 64, 67, 0.15);\n",
              "      fill: #174EA6;\n",
              "    }\n",
              "\n",
              "    [theme=dark] .colab-df-convert {\n",
              "      background-color: #3B4455;\n",
              "      fill: #D2E3FC;\n",
              "    }\n",
              "\n",
              "    [theme=dark] .colab-df-convert:hover {\n",
              "      background-color: #434B5C;\n",
              "      box-shadow: 0px 1px 3px 1px rgba(0, 0, 0, 0.15);\n",
              "      filter: drop-shadow(0px 1px 2px rgba(0, 0, 0, 0.3));\n",
              "      fill: #FFFFFF;\n",
              "    }\n",
              "  </style>\n",
              "\n",
              "      <script>\n",
              "        const buttonEl =\n",
              "          document.querySelector('#df-cbc837fb-b4b2-4c2e-952b-68821eafac33 button.colab-df-convert');\n",
              "        buttonEl.style.display =\n",
              "          google.colab.kernel.accessAllowed ? 'block' : 'none';\n",
              "\n",
              "        async function convertToInteractive(key) {\n",
              "          const element = document.querySelector('#df-cbc837fb-b4b2-4c2e-952b-68821eafac33');\n",
              "          const dataTable =\n",
              "            await google.colab.kernel.invokeFunction('convertToInteractive',\n",
              "                                                     [key], {});\n",
              "          if (!dataTable) return;\n",
              "\n",
              "          const docLinkHtml = 'Like what you see? Visit the ' +\n",
              "            '<a target=\"_blank\" href=https://colab.research.google.com/notebooks/data_table.ipynb>data table notebook</a>'\n",
              "            + ' to learn more about interactive tables.';\n",
              "          element.innerHTML = '';\n",
              "          dataTable['output_type'] = 'display_data';\n",
              "          await google.colab.output.renderOutput(dataTable, element);\n",
              "          const docLink = document.createElement('div');\n",
              "          docLink.innerHTML = docLinkHtml;\n",
              "          element.appendChild(docLink);\n",
              "        }\n",
              "      </script>\n",
              "    </div>\n",
              "  </div>\n",
              "  "
            ]
          },
          "metadata": {},
          "execution_count": 19
        }
      ]
    },
    {
      "cell_type": "code",
      "source": [],
      "metadata": {
        "id": "72El_cf3crMr"
      },
      "id": "72El_cf3crMr",
      "execution_count": null,
      "outputs": []
    }
  ],
  "metadata": {
    "kernelspec": {
      "display_name": "Python 3",
      "language": "python",
      "name": "python3"
    },
    "language_info": {
      "codemirror_mode": {
        "name": "ipython",
        "version": 3
      },
      "file_extension": ".py",
      "mimetype": "text/x-python",
      "name": "python",
      "nbconvert_exporter": "python",
      "pygments_lexer": "ipython3",
      "version": "3.6.5"
    },
    "colab": {
      "provenance": [],
      "machine_shape": "hm",
      "collapsed_sections": [
        "HDz_Qe5KHFho",
        "41CRCvVCWyWV",
        "K0X5La0ccsUW"
      ]
    },
    "gpuClass": "standard",
    "accelerator": "GPU"
  },
  "nbformat": 4,
  "nbformat_minor": 5
}