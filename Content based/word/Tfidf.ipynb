{
  "cells": [
    {
      "cell_type": "markdown",
      "metadata": {
        "id": "uGRD8a9sKacB"
      },
      "source": [
        "### Setup and Load dataset\n",
        "\n"
      ],
      "id": "uGRD8a9sKacB"
    },
    {
      "cell_type": "code",
      "source": [
        "!pip install --upgrade --no-cache-dir gdown"
      ],
      "metadata": {
        "colab": {
          "base_uri": "https://localhost:8080/"
        },
        "id": "C1r8Sraf7rPj",
        "outputId": "59228c1d-805e-4a95-dbe3-cb136b0d03c7"
      },
      "id": "C1r8Sraf7rPj",
      "execution_count": null,
      "outputs": [
        {
          "output_type": "stream",
          "name": "stdout",
          "text": [
            "Looking in indexes: https://pypi.org/simple, https://us-python.pkg.dev/colab-wheels/public/simple/\n",
            "Requirement already satisfied: gdown in /usr/local/lib/python3.8/dist-packages (4.6.0)\n",
            "Requirement already satisfied: six in /usr/local/lib/python3.8/dist-packages (from gdown) (1.15.0)\n",
            "Requirement already satisfied: requests[socks] in /usr/local/lib/python3.8/dist-packages (from gdown) (2.25.1)\n",
            "Requirement already satisfied: beautifulsoup4 in /usr/local/lib/python3.8/dist-packages (from gdown) (4.6.3)\n",
            "Requirement already satisfied: tqdm in /usr/local/lib/python3.8/dist-packages (from gdown) (4.64.1)\n",
            "Requirement already satisfied: filelock in /usr/local/lib/python3.8/dist-packages (from gdown) (3.9.0)\n",
            "Requirement already satisfied: certifi>=2017.4.17 in /usr/local/lib/python3.8/dist-packages (from requests[socks]->gdown) (2022.12.7)\n",
            "Requirement already satisfied: chardet<5,>=3.0.2 in /usr/local/lib/python3.8/dist-packages (from requests[socks]->gdown) (4.0.0)\n",
            "Requirement already satisfied: idna<3,>=2.5 in /usr/local/lib/python3.8/dist-packages (from requests[socks]->gdown) (2.10)\n",
            "Requirement already satisfied: urllib3<1.27,>=1.21.1 in /usr/local/lib/python3.8/dist-packages (from requests[socks]->gdown) (1.24.3)\n",
            "Requirement already satisfied: PySocks!=1.5.7,>=1.5.6 in /usr/local/lib/python3.8/dist-packages (from requests[socks]->gdown) (1.7.1)\n"
          ]
        }
      ]
    },
    {
      "cell_type": "code",
      "source": [
        "!gdown --id 15hmSSQBP0hPCJHrQRBjyfqd_bPU29Rwr"
      ],
      "metadata": {
        "id": "JN6L-XVUpDB3",
        "colab": {
          "base_uri": "https://localhost:8080/"
        },
        "outputId": "41426899-f78d-4549-d941-676bd7f2d249"
      },
      "execution_count": null,
      "outputs": [
        {
          "output_type": "stream",
          "name": "stdout",
          "text": [
            "/usr/local/lib/python3.8/dist-packages/gdown/cli.py:121: FutureWarning: Option `--id` was deprecated in version 4.3.1 and will be removed in 5.0. You don't need to pass it anymore to use a file ID.\n",
            "  warnings.warn(\n",
            "Downloading...\n",
            "From: https://drive.google.com/uc?id=15hmSSQBP0hPCJHrQRBjyfqd_bPU29Rwr\n",
            "To: /content/MIND.zip\n",
            "100% 44.4M/44.4M [00:00<00:00, 217MB/s]\n"
          ]
        }
      ],
      "id": "JN6L-XVUpDB3"
    },
    {
      "cell_type": "code",
      "source": [
        "!unzip -o \"MIND.zip\"  -d  \"/content\""
      ],
      "metadata": {
        "id": "TtZEDi2_JS0Z",
        "colab": {
          "base_uri": "https://localhost:8080/"
        },
        "outputId": "99c95d15-0fee-440e-972f-aa537c214429"
      },
      "execution_count": null,
      "outputs": [
        {
          "output_type": "stream",
          "name": "stdout",
          "text": [
            "Archive:  MIND.zip\n",
            "  inflating: /content/MIND/behaviors.tsv  \n",
            "  inflating: /content/MIND/news.tsv  \n"
          ]
        }
      ],
      "id": "TtZEDi2_JS0Z"
    },
    {
      "cell_type": "markdown",
      "source": [
        "## Data Loading"
      ],
      "metadata": {
        "id": "HDz_Qe5KHFho"
      },
      "id": "HDz_Qe5KHFho"
    },
    {
      "cell_type": "code",
      "execution_count": null,
      "id": "84eddad3",
      "metadata": {
        "id": "84eddad3"
      },
      "outputs": [],
      "source": [
        "from datetime import datetime\n",
        "import os\n",
        "import matplotlib\n",
        "import pandas as pd\n",
        "import numpy as np\n",
        "import matplotlib.pyplot as plt\n",
        "import seaborn as sns\n",
        "sns.set_style('whitegrid')\n",
        "\n",
        "from scipy import sparse\n",
        "from scipy.sparse import csc_matrix\n",
        "from sklearn.decomposition import TruncatedSVD\n",
        "\n",
        "np.random.seed(0)"
      ]
    },
    {
      "cell_type": "markdown",
      "source": [
        "#### Name of the file which contain all the item properties"
      ],
      "metadata": {
        "id": "lHG3Yw4EHJbO"
      },
      "id": "lHG3Yw4EHJbO"
    },
    {
      "cell_type": "code",
      "source": [
        "file=\"MIND/news.tsv\""
      ],
      "metadata": {
        "id": "4zX5cx_NHQNv"
      },
      "id": "4zX5cx_NHQNv",
      "execution_count": null,
      "outputs": []
    },
    {
      "cell_type": "markdown",
      "source": [
        "###### Run below cell"
      ],
      "metadata": {
        "id": "r2ef3FxJHYkQ"
      },
      "id": "r2ef3FxJHYkQ"
    },
    {
      "cell_type": "code",
      "execution_count": null,
      "metadata": {
        "id": "7e7fee79"
      },
      "outputs": [],
      "source": [
        "content_df  = pd.read_table( 'MIND/news.tsv',\n",
        "            names=['newid', 'vertical', 'subvertical', 'title',\n",
        "                            'abstract', 'url', 'entities in title', 'entities in abstract'],\n",
        "                     usecols = ['newid','vertical', 'subvertical', 'title', 'abstract'])"
      ],
      "id": "7e7fee79"
    },
    {
      "cell_type": "code",
      "execution_count": null,
      "metadata": {
        "id": "af507f93"
      },
      "outputs": [],
      "source": [
        "content_df=content_df[:10000]"
      ],
      "id": "af507f93"
    },
    {
      "cell_type": "markdown",
      "metadata": {
        "id": "sjJpU6lTGK51"
      },
      "source": [
        "## Details about dataset"
      ],
      "id": "sjJpU6lTGK51"
    },
    {
      "cell_type": "code",
      "source": [
        "itemid=\"newid\""
      ],
      "metadata": {
        "id": "4u2f4NWQa14z"
      },
      "id": "4u2f4NWQa14z",
      "execution_count": null,
      "outputs": []
    },
    {
      "cell_type": "code",
      "execution_count": null,
      "metadata": {
        "id": "LpnvsLU_U-7O"
      },
      "outputs": [],
      "source": [
        "features=['vertical',\t'subvertical','title']"
      ],
      "id": "LpnvsLU_U-7O"
    },
    {
      "cell_type": "markdown",
      "metadata": {
        "id": "D_UJlmcgZNBc"
      },
      "source": [
        "# Content based filtering"
      ],
      "id": "D_UJlmcgZNBc"
    },
    {
      "cell_type": "code",
      "source": [
        "content_df['NewTag']=\"\"\n",
        "for i in features:\n",
        "  content_df['NewTag']+=(\" \"+content_df[i])\n",
        "content_df['NewTag']=content_df['NewTag'].astype(str)"
      ],
      "metadata": {
        "id": "QxJnf-lrLdm2"
      },
      "id": "QxJnf-lrLdm2",
      "execution_count": null,
      "outputs": []
    },
    {
      "cell_type": "markdown",
      "source": [
        "## TFIDF"
      ],
      "metadata": {
        "id": "3AI2qsByMIz9"
      },
      "id": "3AI2qsByMIz9"
    },
    {
      "cell_type": "code",
      "execution_count": null,
      "metadata": {
        "id": "1246260e"
      },
      "outputs": [],
      "source": [
        "from sklearn.feature_extraction.text import TfidfVectorizer\n",
        "from sklearn.metrics.pairwise import cosine_similarity\n",
        "cv =TfidfVectorizer(analyzer='word', stop_words='english')\n",
        "vector = cv.fit_transform(content_df['NewTag'].values.astype('str') ).toarray()\n",
        "similarity = cosine_similarity(vector)"
      ],
      "id": "1246260e"
    },
    {
      "cell_type": "code",
      "execution_count": null,
      "metadata": {
        "id": "aa030706"
      },
      "outputs": [],
      "source": [
        "def Recommend(itemkey,contant_df,similarity):\n",
        "    index  = contant_df[contant_df[itemid] == itemkey].index [0]\n",
        "    #print(index)\n",
        "    distance = sorted(list(enumerate(similarity[index])),reverse=True,key = lambda x: x[1])\n",
        "    result=[]\n",
        "  \n",
        "    for i in distance[1:11]:\n",
        "      \n",
        "        result.append(list(contant_df.iloc[i[0]])[0])\n",
        "    return result    "
      ],
      "id": "aa030706"
    },
    {
      "cell_type": "markdown",
      "source": [
        "## Recommendation"
      ],
      "metadata": {
        "id": "K0X5La0ccsUW"
      },
      "id": "K0X5La0ccsUW"
    },
    {
      "cell_type": "code",
      "source": [
        "content_df[content_df.newid=='N55528']"
      ],
      "metadata": {
        "colab": {
          "base_uri": "https://localhost:8080/",
          "height": 80
        },
        "id": "tgBthMz3dHhD",
        "outputId": "16120c57-f95f-4c75-9524-7d456028e815"
      },
      "execution_count": null,
      "outputs": [
        {
          "output_type": "execute_result",
          "data": {
            "text/plain": [
              "    newid   vertical      subvertical  \\\n",
              "0  N55528  lifestyle  lifestyleroyals   \n",
              "\n",
              "                                               title  \\\n",
              "0  The Brands Queen Elizabeth, Prince Charles, an...   \n",
              "\n",
              "                                            abstract  \\\n",
              "0  Shop the notebooks, jackets, and more that the...   \n",
              "\n",
              "                                              NewTag  \n",
              "0   lifestyle lifestyleroyals The Brands Queen El...  "
            ],
            "text/html": [
              "\n",
              "  <div id=\"df-bd41bff9-8145-4caa-9424-38bf47e7d0d8\">\n",
              "    <div class=\"colab-df-container\">\n",
              "      <div>\n",
              "<style scoped>\n",
              "    .dataframe tbody tr th:only-of-type {\n",
              "        vertical-align: middle;\n",
              "    }\n",
              "\n",
              "    .dataframe tbody tr th {\n",
              "        vertical-align: top;\n",
              "    }\n",
              "\n",
              "    .dataframe thead th {\n",
              "        text-align: right;\n",
              "    }\n",
              "</style>\n",
              "<table border=\"1\" class=\"dataframe\">\n",
              "  <thead>\n",
              "    <tr style=\"text-align: right;\">\n",
              "      <th></th>\n",
              "      <th>newid</th>\n",
              "      <th>vertical</th>\n",
              "      <th>subvertical</th>\n",
              "      <th>title</th>\n",
              "      <th>abstract</th>\n",
              "      <th>NewTag</th>\n",
              "    </tr>\n",
              "  </thead>\n",
              "  <tbody>\n",
              "    <tr>\n",
              "      <th>0</th>\n",
              "      <td>N55528</td>\n",
              "      <td>lifestyle</td>\n",
              "      <td>lifestyleroyals</td>\n",
              "      <td>The Brands Queen Elizabeth, Prince Charles, an...</td>\n",
              "      <td>Shop the notebooks, jackets, and more that the...</td>\n",
              "      <td>lifestyle lifestyleroyals The Brands Queen El...</td>\n",
              "    </tr>\n",
              "  </tbody>\n",
              "</table>\n",
              "</div>\n",
              "      <button class=\"colab-df-convert\" onclick=\"convertToInteractive('df-bd41bff9-8145-4caa-9424-38bf47e7d0d8')\"\n",
              "              title=\"Convert this dataframe to an interactive table.\"\n",
              "              style=\"display:none;\">\n",
              "        \n",
              "  <svg xmlns=\"http://www.w3.org/2000/svg\" height=\"24px\"viewBox=\"0 0 24 24\"\n",
              "       width=\"24px\">\n",
              "    <path d=\"M0 0h24v24H0V0z\" fill=\"none\"/>\n",
              "    <path d=\"M18.56 5.44l.94 2.06.94-2.06 2.06-.94-2.06-.94-.94-2.06-.94 2.06-2.06.94zm-11 1L8.5 8.5l.94-2.06 2.06-.94-2.06-.94L8.5 2.5l-.94 2.06-2.06.94zm10 10l.94 2.06.94-2.06 2.06-.94-2.06-.94-.94-2.06-.94 2.06-2.06.94z\"/><path d=\"M17.41 7.96l-1.37-1.37c-.4-.4-.92-.59-1.43-.59-.52 0-1.04.2-1.43.59L10.3 9.45l-7.72 7.72c-.78.78-.78 2.05 0 2.83L4 21.41c.39.39.9.59 1.41.59.51 0 1.02-.2 1.41-.59l7.78-7.78 2.81-2.81c.8-.78.8-2.07 0-2.86zM5.41 20L4 18.59l7.72-7.72 1.47 1.35L5.41 20z\"/>\n",
              "  </svg>\n",
              "      </button>\n",
              "      \n",
              "  <style>\n",
              "    .colab-df-container {\n",
              "      display:flex;\n",
              "      flex-wrap:wrap;\n",
              "      gap: 12px;\n",
              "    }\n",
              "\n",
              "    .colab-df-convert {\n",
              "      background-color: #E8F0FE;\n",
              "      border: none;\n",
              "      border-radius: 50%;\n",
              "      cursor: pointer;\n",
              "      display: none;\n",
              "      fill: #1967D2;\n",
              "      height: 32px;\n",
              "      padding: 0 0 0 0;\n",
              "      width: 32px;\n",
              "    }\n",
              "\n",
              "    .colab-df-convert:hover {\n",
              "      background-color: #E2EBFA;\n",
              "      box-shadow: 0px 1px 2px rgba(60, 64, 67, 0.3), 0px 1px 3px 1px rgba(60, 64, 67, 0.15);\n",
              "      fill: #174EA6;\n",
              "    }\n",
              "\n",
              "    [theme=dark] .colab-df-convert {\n",
              "      background-color: #3B4455;\n",
              "      fill: #D2E3FC;\n",
              "    }\n",
              "\n",
              "    [theme=dark] .colab-df-convert:hover {\n",
              "      background-color: #434B5C;\n",
              "      box-shadow: 0px 1px 3px 1px rgba(0, 0, 0, 0.15);\n",
              "      filter: drop-shadow(0px 1px 2px rgba(0, 0, 0, 0.3));\n",
              "      fill: #FFFFFF;\n",
              "    }\n",
              "  </style>\n",
              "\n",
              "      <script>\n",
              "        const buttonEl =\n",
              "          document.querySelector('#df-bd41bff9-8145-4caa-9424-38bf47e7d0d8 button.colab-df-convert');\n",
              "        buttonEl.style.display =\n",
              "          google.colab.kernel.accessAllowed ? 'block' : 'none';\n",
              "\n",
              "        async function convertToInteractive(key) {\n",
              "          const element = document.querySelector('#df-bd41bff9-8145-4caa-9424-38bf47e7d0d8');\n",
              "          const dataTable =\n",
              "            await google.colab.kernel.invokeFunction('convertToInteractive',\n",
              "                                                     [key], {});\n",
              "          if (!dataTable) return;\n",
              "\n",
              "          const docLinkHtml = 'Like what you see? Visit the ' +\n",
              "            '<a target=\"_blank\" href=https://colab.research.google.com/notebooks/data_table.ipynb>data table notebook</a>'\n",
              "            + ' to learn more about interactive tables.';\n",
              "          element.innerHTML = '';\n",
              "          dataTable['output_type'] = 'display_data';\n",
              "          await google.colab.output.renderOutput(dataTable, element);\n",
              "          const docLink = document.createElement('div');\n",
              "          docLink.innerHTML = docLinkHtml;\n",
              "          element.appendChild(docLink);\n",
              "        }\n",
              "      </script>\n",
              "    </div>\n",
              "  </div>\n",
              "  "
            ]
          },
          "metadata": {},
          "execution_count": 40
        }
      ],
      "id": "tgBthMz3dHhD"
    },
    {
      "cell_type": "code",
      "execution_count": null,
      "metadata": {
        "id": "54a7e34c",
        "colab": {
          "base_uri": "https://localhost:8080/"
        },
        "outputId": "8de48c14-4420-427b-86ff-c55c9f764856"
      },
      "outputs": [
        {
          "output_type": "execute_result",
          "data": {
            "text/plain": [
              "['N28614',\n",
              " 'N42777',\n",
              " 'N64143',\n",
              " 'N39520',\n",
              " 'N51340',\n",
              " 'N42227',\n",
              " 'N7716',\n",
              " 'N24075',\n",
              " 'N5672',\n",
              " 'N8071']"
            ]
          },
          "metadata": {},
          "execution_count": 41
        }
      ],
      "source": [
        "resuls=Recommend('N55528',content_df,similarity)\n",
        "resuls"
      ],
      "id": "54a7e34c"
    },
    {
      "cell_type": "code",
      "source": [
        "content_df[content_df.newid.isin(resuls)]"
      ],
      "metadata": {
        "colab": {
          "base_uri": "https://localhost:8080/",
          "height": 362
        },
        "id": "eLomcqrlcwuS",
        "outputId": "215d0b4e-fa44-49d9-c594-300808f900ed"
      },
      "execution_count": null,
      "outputs": [
        {
          "output_type": "execute_result",
          "data": {
            "text/plain": [
              "       newid   vertical      subvertical  \\\n",
              "42     N8071  lifestyle  lifestyleroyals   \n",
              "46    N42777  lifestyle  lifestyleroyals   \n",
              "107   N51340  lifestyle  lifestyleroyals   \n",
              "392   N42227  lifestyle  lifestyleroyals   \n",
              "397    N7716  lifestyle  lifestyleroyals   \n",
              "1667  N28614  lifestyle  lifestyleroyals   \n",
              "3028  N64143  lifestyle  lifestyleroyals   \n",
              "5887  N39520  lifestyle  lifestyleroyals   \n",
              "6980   N5672  lifestyle  lifestyleroyals   \n",
              "7004  N24075  lifestyle   lifestylevideo   \n",
              "\n",
              "                                                  title  \\\n",
              "42    25 Photos of the Royal Family at Balmoral Cast...   \n",
              "46                 Prince George's Royal Life in Photos   \n",
              "107   Queen Elizabeth's Cousin Says Royal Family 'Do...   \n",
              "392   Queen Elizabeth's Favorite Beauty Products Hav...   \n",
              "397   What Do Prince George & Princess Charlotte Kno...   \n",
              "1667  A Look Back at Prince Charles and Camilla's Re...   \n",
              "3028  Adorable Moments Between Queen Elizabeth and H...   \n",
              "5887  Queen Elizabeth Has Someone on Staff Break in ...   \n",
              "6980  Why Prince William Is Making Headlines for His...   \n",
              "7004  This is What Will Happen When Queen Elizabeth ...   \n",
              "\n",
              "                                               abstract  \\\n",
              "42    The royal family has been visiting the Scottis...   \n",
              "46    Photos of the future king of England   who is ...   \n",
              "107   Queen Elizabeth's Cousin: Royal Family 'Don't ...   \n",
              "392   Here, all the brands the British monarch swear...   \n",
              "397   Do Prince William and Kate Middleton's kids kn...   \n",
              "1667         In honor of the third season of The Crown.   \n",
              "3028  These photos capture Her Majesty in her role a...   \n",
              "5887  Queen Elizabeth Has Her Shoes Broken in Before...   \n",
              "6980  Prince William Wears Traditional Sherwani in P...   \n",
              "7004  Queen Elizabeth is the longest ruling monarch ...   \n",
              "\n",
              "                                                 NewTag  \n",
              "42     lifestyle lifestyleroyals 25 Photos of the Ro...  \n",
              "46     lifestyle lifestyleroyals Prince George's Roy...  \n",
              "107    lifestyle lifestyleroyals Queen Elizabeth's C...  \n",
              "392    lifestyle lifestyleroyals Queen Elizabeth's F...  \n",
              "397    lifestyle lifestyleroyals What Do Prince Geor...  \n",
              "1667   lifestyle lifestyleroyals A Look Back at Prin...  \n",
              "3028   lifestyle lifestyleroyals Adorable Moments Be...  \n",
              "5887   lifestyle lifestyleroyals Queen Elizabeth Has...  \n",
              "6980   lifestyle lifestyleroyals Why Prince William ...  \n",
              "7004   lifestyle lifestylevideo This is What Will Ha...  "
            ],
            "text/html": [
              "\n",
              "  <div id=\"df-e1bf317f-d841-4ee5-907f-6de5f543773d\">\n",
              "    <div class=\"colab-df-container\">\n",
              "      <div>\n",
              "<style scoped>\n",
              "    .dataframe tbody tr th:only-of-type {\n",
              "        vertical-align: middle;\n",
              "    }\n",
              "\n",
              "    .dataframe tbody tr th {\n",
              "        vertical-align: top;\n",
              "    }\n",
              "\n",
              "    .dataframe thead th {\n",
              "        text-align: right;\n",
              "    }\n",
              "</style>\n",
              "<table border=\"1\" class=\"dataframe\">\n",
              "  <thead>\n",
              "    <tr style=\"text-align: right;\">\n",
              "      <th></th>\n",
              "      <th>newid</th>\n",
              "      <th>vertical</th>\n",
              "      <th>subvertical</th>\n",
              "      <th>title</th>\n",
              "      <th>abstract</th>\n",
              "      <th>NewTag</th>\n",
              "    </tr>\n",
              "  </thead>\n",
              "  <tbody>\n",
              "    <tr>\n",
              "      <th>42</th>\n",
              "      <td>N8071</td>\n",
              "      <td>lifestyle</td>\n",
              "      <td>lifestyleroyals</td>\n",
              "      <td>25 Photos of the Royal Family at Balmoral Cast...</td>\n",
              "      <td>The royal family has been visiting the Scottis...</td>\n",
              "      <td>lifestyle lifestyleroyals 25 Photos of the Ro...</td>\n",
              "    </tr>\n",
              "    <tr>\n",
              "      <th>46</th>\n",
              "      <td>N42777</td>\n",
              "      <td>lifestyle</td>\n",
              "      <td>lifestyleroyals</td>\n",
              "      <td>Prince George's Royal Life in Photos</td>\n",
              "      <td>Photos of the future king of England   who is ...</td>\n",
              "      <td>lifestyle lifestyleroyals Prince George's Roy...</td>\n",
              "    </tr>\n",
              "    <tr>\n",
              "      <th>107</th>\n",
              "      <td>N51340</td>\n",
              "      <td>lifestyle</td>\n",
              "      <td>lifestyleroyals</td>\n",
              "      <td>Queen Elizabeth's Cousin Says Royal Family 'Do...</td>\n",
              "      <td>Queen Elizabeth's Cousin: Royal Family 'Don't ...</td>\n",
              "      <td>lifestyle lifestyleroyals Queen Elizabeth's C...</td>\n",
              "    </tr>\n",
              "    <tr>\n",
              "      <th>392</th>\n",
              "      <td>N42227</td>\n",
              "      <td>lifestyle</td>\n",
              "      <td>lifestyleroyals</td>\n",
              "      <td>Queen Elizabeth's Favorite Beauty Products Hav...</td>\n",
              "      <td>Here, all the brands the British monarch swear...</td>\n",
              "      <td>lifestyle lifestyleroyals Queen Elizabeth's F...</td>\n",
              "    </tr>\n",
              "    <tr>\n",
              "      <th>397</th>\n",
              "      <td>N7716</td>\n",
              "      <td>lifestyle</td>\n",
              "      <td>lifestyleroyals</td>\n",
              "      <td>What Do Prince George &amp; Princess Charlotte Kno...</td>\n",
              "      <td>Do Prince William and Kate Middleton's kids kn...</td>\n",
              "      <td>lifestyle lifestyleroyals What Do Prince Geor...</td>\n",
              "    </tr>\n",
              "    <tr>\n",
              "      <th>1667</th>\n",
              "      <td>N28614</td>\n",
              "      <td>lifestyle</td>\n",
              "      <td>lifestyleroyals</td>\n",
              "      <td>A Look Back at Prince Charles and Camilla's Re...</td>\n",
              "      <td>In honor of the third season of The Crown.</td>\n",
              "      <td>lifestyle lifestyleroyals A Look Back at Prin...</td>\n",
              "    </tr>\n",
              "    <tr>\n",
              "      <th>3028</th>\n",
              "      <td>N64143</td>\n",
              "      <td>lifestyle</td>\n",
              "      <td>lifestyleroyals</td>\n",
              "      <td>Adorable Moments Between Queen Elizabeth and H...</td>\n",
              "      <td>These photos capture Her Majesty in her role a...</td>\n",
              "      <td>lifestyle lifestyleroyals Adorable Moments Be...</td>\n",
              "    </tr>\n",
              "    <tr>\n",
              "      <th>5887</th>\n",
              "      <td>N39520</td>\n",
              "      <td>lifestyle</td>\n",
              "      <td>lifestyleroyals</td>\n",
              "      <td>Queen Elizabeth Has Someone on Staff Break in ...</td>\n",
              "      <td>Queen Elizabeth Has Her Shoes Broken in Before...</td>\n",
              "      <td>lifestyle lifestyleroyals Queen Elizabeth Has...</td>\n",
              "    </tr>\n",
              "    <tr>\n",
              "      <th>6980</th>\n",
              "      <td>N5672</td>\n",
              "      <td>lifestyle</td>\n",
              "      <td>lifestyleroyals</td>\n",
              "      <td>Why Prince William Is Making Headlines for His...</td>\n",
              "      <td>Prince William Wears Traditional Sherwani in P...</td>\n",
              "      <td>lifestyle lifestyleroyals Why Prince William ...</td>\n",
              "    </tr>\n",
              "    <tr>\n",
              "      <th>7004</th>\n",
              "      <td>N24075</td>\n",
              "      <td>lifestyle</td>\n",
              "      <td>lifestylevideo</td>\n",
              "      <td>This is What Will Happen When Queen Elizabeth ...</td>\n",
              "      <td>Queen Elizabeth is the longest ruling monarch ...</td>\n",
              "      <td>lifestyle lifestylevideo This is What Will Ha...</td>\n",
              "    </tr>\n",
              "  </tbody>\n",
              "</table>\n",
              "</div>\n",
              "      <button class=\"colab-df-convert\" onclick=\"convertToInteractive('df-e1bf317f-d841-4ee5-907f-6de5f543773d')\"\n",
              "              title=\"Convert this dataframe to an interactive table.\"\n",
              "              style=\"display:none;\">\n",
              "        \n",
              "  <svg xmlns=\"http://www.w3.org/2000/svg\" height=\"24px\"viewBox=\"0 0 24 24\"\n",
              "       width=\"24px\">\n",
              "    <path d=\"M0 0h24v24H0V0z\" fill=\"none\"/>\n",
              "    <path d=\"M18.56 5.44l.94 2.06.94-2.06 2.06-.94-2.06-.94-.94-2.06-.94 2.06-2.06.94zm-11 1L8.5 8.5l.94-2.06 2.06-.94-2.06-.94L8.5 2.5l-.94 2.06-2.06.94zm10 10l.94 2.06.94-2.06 2.06-.94-2.06-.94-.94-2.06-.94 2.06-2.06.94z\"/><path d=\"M17.41 7.96l-1.37-1.37c-.4-.4-.92-.59-1.43-.59-.52 0-1.04.2-1.43.59L10.3 9.45l-7.72 7.72c-.78.78-.78 2.05 0 2.83L4 21.41c.39.39.9.59 1.41.59.51 0 1.02-.2 1.41-.59l7.78-7.78 2.81-2.81c.8-.78.8-2.07 0-2.86zM5.41 20L4 18.59l7.72-7.72 1.47 1.35L5.41 20z\"/>\n",
              "  </svg>\n",
              "      </button>\n",
              "      \n",
              "  <style>\n",
              "    .colab-df-container {\n",
              "      display:flex;\n",
              "      flex-wrap:wrap;\n",
              "      gap: 12px;\n",
              "    }\n",
              "\n",
              "    .colab-df-convert {\n",
              "      background-color: #E8F0FE;\n",
              "      border: none;\n",
              "      border-radius: 50%;\n",
              "      cursor: pointer;\n",
              "      display: none;\n",
              "      fill: #1967D2;\n",
              "      height: 32px;\n",
              "      padding: 0 0 0 0;\n",
              "      width: 32px;\n",
              "    }\n",
              "\n",
              "    .colab-df-convert:hover {\n",
              "      background-color: #E2EBFA;\n",
              "      box-shadow: 0px 1px 2px rgba(60, 64, 67, 0.3), 0px 1px 3px 1px rgba(60, 64, 67, 0.15);\n",
              "      fill: #174EA6;\n",
              "    }\n",
              "\n",
              "    [theme=dark] .colab-df-convert {\n",
              "      background-color: #3B4455;\n",
              "      fill: #D2E3FC;\n",
              "    }\n",
              "\n",
              "    [theme=dark] .colab-df-convert:hover {\n",
              "      background-color: #434B5C;\n",
              "      box-shadow: 0px 1px 3px 1px rgba(0, 0, 0, 0.15);\n",
              "      filter: drop-shadow(0px 1px 2px rgba(0, 0, 0, 0.3));\n",
              "      fill: #FFFFFF;\n",
              "    }\n",
              "  </style>\n",
              "\n",
              "      <script>\n",
              "        const buttonEl =\n",
              "          document.querySelector('#df-e1bf317f-d841-4ee5-907f-6de5f543773d button.colab-df-convert');\n",
              "        buttonEl.style.display =\n",
              "          google.colab.kernel.accessAllowed ? 'block' : 'none';\n",
              "\n",
              "        async function convertToInteractive(key) {\n",
              "          const element = document.querySelector('#df-e1bf317f-d841-4ee5-907f-6de5f543773d');\n",
              "          const dataTable =\n",
              "            await google.colab.kernel.invokeFunction('convertToInteractive',\n",
              "                                                     [key], {});\n",
              "          if (!dataTable) return;\n",
              "\n",
              "          const docLinkHtml = 'Like what you see? Visit the ' +\n",
              "            '<a target=\"_blank\" href=https://colab.research.google.com/notebooks/data_table.ipynb>data table notebook</a>'\n",
              "            + ' to learn more about interactive tables.';\n",
              "          element.innerHTML = '';\n",
              "          dataTable['output_type'] = 'display_data';\n",
              "          await google.colab.output.renderOutput(dataTable, element);\n",
              "          const docLink = document.createElement('div');\n",
              "          docLink.innerHTML = docLinkHtml;\n",
              "          element.appendChild(docLink);\n",
              "        }\n",
              "      </script>\n",
              "    </div>\n",
              "  </div>\n",
              "  "
            ]
          },
          "metadata": {},
          "execution_count": 42
        }
      ],
      "id": "eLomcqrlcwuS"
    },
    {
      "cell_type": "code",
      "source": [],
      "metadata": {
        "id": "72El_cf3crMr"
      },
      "execution_count": null,
      "outputs": [],
      "id": "72El_cf3crMr"
    }
  ],
  "metadata": {
    "kernelspec": {
      "display_name": "Python 3",
      "language": "python",
      "name": "python3"
    },
    "language_info": {
      "codemirror_mode": {
        "name": "ipython",
        "version": 3
      },
      "file_extension": ".py",
      "mimetype": "text/x-python",
      "name": "python",
      "nbconvert_exporter": "python",
      "pygments_lexer": "ipython3",
      "version": "3.6.5"
    },
    "colab": {
      "provenance": [],
      "machine_shape": "hm",
      "collapsed_sections": [
        "3AI2qsByMIz9"
      ]
    },
    "gpuClass": "standard",
    "accelerator": "GPU"
  },
  "nbformat": 4,
  "nbformat_minor": 5
}