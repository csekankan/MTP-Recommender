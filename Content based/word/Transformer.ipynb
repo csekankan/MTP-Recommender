{
  "cells": [
    {
      "cell_type": "markdown",
      "metadata": {
        "id": "uGRD8a9sKacB"
      },
      "source": [
        "### Setup and Load dataset\n",
        "\n"
      ],
      "id": "uGRD8a9sKacB"
    },
    {
      "cell_type": "code",
      "source": [
        "!pip install --upgrade --no-cache-dir gdown"
      ],
      "metadata": {
        "colab": {
          "base_uri": "https://localhost:8080/"
        },
        "id": "C1r8Sraf7rPj",
        "outputId": "40fa1fc4-082f-4640-93f3-67cf5c9a1e7f"
      },
      "id": "C1r8Sraf7rPj",
      "execution_count": 1,
      "outputs": [
        {
          "output_type": "stream",
          "name": "stdout",
          "text": [
            "Looking in indexes: https://pypi.org/simple, https://us-python.pkg.dev/colab-wheels/public/simple/\n",
            "Requirement already satisfied: gdown in /usr/local/lib/python3.8/dist-packages (4.4.0)\n",
            "Collecting gdown\n",
            "  Downloading gdown-4.6.0-py3-none-any.whl (14 kB)\n",
            "Requirement already satisfied: beautifulsoup4 in /usr/local/lib/python3.8/dist-packages (from gdown) (4.6.3)\n",
            "Requirement already satisfied: filelock in /usr/local/lib/python3.8/dist-packages (from gdown) (3.9.0)\n",
            "Requirement already satisfied: tqdm in /usr/local/lib/python3.8/dist-packages (from gdown) (4.64.1)\n",
            "Requirement already satisfied: requests[socks] in /usr/local/lib/python3.8/dist-packages (from gdown) (2.25.1)\n",
            "Requirement already satisfied: six in /usr/local/lib/python3.8/dist-packages (from gdown) (1.15.0)\n",
            "Requirement already satisfied: chardet<5,>=3.0.2 in /usr/local/lib/python3.8/dist-packages (from requests[socks]->gdown) (4.0.0)\n",
            "Requirement already satisfied: idna<3,>=2.5 in /usr/local/lib/python3.8/dist-packages (from requests[socks]->gdown) (2.10)\n",
            "Requirement already satisfied: urllib3<1.27,>=1.21.1 in /usr/local/lib/python3.8/dist-packages (from requests[socks]->gdown) (1.24.3)\n",
            "Requirement already satisfied: certifi>=2017.4.17 in /usr/local/lib/python3.8/dist-packages (from requests[socks]->gdown) (2022.12.7)\n",
            "Requirement already satisfied: PySocks!=1.5.7,>=1.5.6 in /usr/local/lib/python3.8/dist-packages (from requests[socks]->gdown) (1.7.1)\n",
            "Installing collected packages: gdown\n",
            "  Attempting uninstall: gdown\n",
            "    Found existing installation: gdown 4.4.0\n",
            "    Uninstalling gdown-4.4.0:\n",
            "      Successfully uninstalled gdown-4.4.0\n",
            "Successfully installed gdown-4.6.0\n"
          ]
        }
      ]
    },
    {
      "cell_type": "code",
      "source": [
        "!gdown --id 15hmSSQBP0hPCJHrQRBjyfqd_bPU29Rwr"
      ],
      "metadata": {
        "id": "JN6L-XVUpDB3",
        "colab": {
          "base_uri": "https://localhost:8080/"
        },
        "outputId": "15388d55-6dd4-4f5a-890d-7442e20f2d9f"
      },
      "execution_count": 2,
      "outputs": [
        {
          "output_type": "stream",
          "name": "stdout",
          "text": [
            "/usr/local/lib/python3.8/dist-packages/gdown/cli.py:121: FutureWarning: Option `--id` was deprecated in version 4.3.1 and will be removed in 5.0. You don't need to pass it anymore to use a file ID.\n",
            "  warnings.warn(\n",
            "Downloading...\n",
            "From: https://drive.google.com/uc?id=15hmSSQBP0hPCJHrQRBjyfqd_bPU29Rwr\n",
            "To: /content/MIND.zip\n",
            "100% 44.4M/44.4M [00:01<00:00, 38.0MB/s]\n"
          ]
        }
      ],
      "id": "JN6L-XVUpDB3"
    },
    {
      "cell_type": "code",
      "source": [
        "!unzip -o \"MIND.zip\"  -d  \"/content\""
      ],
      "metadata": {
        "id": "TtZEDi2_JS0Z",
        "colab": {
          "base_uri": "https://localhost:8080/"
        },
        "outputId": "b90e7d4f-350e-41da-a63d-d080555ad715"
      },
      "execution_count": 3,
      "outputs": [
        {
          "output_type": "stream",
          "name": "stdout",
          "text": [
            "Archive:  MIND.zip\n",
            "  inflating: /content/MIND/behaviors.tsv  \n",
            "  inflating: /content/MIND/news.tsv  \n"
          ]
        }
      ],
      "id": "TtZEDi2_JS0Z"
    },
    {
      "cell_type": "markdown",
      "source": [
        "## Data Loading"
      ],
      "metadata": {
        "id": "HDz_Qe5KHFho"
      },
      "id": "HDz_Qe5KHFho"
    },
    {
      "cell_type": "code",
      "execution_count": 4,
      "id": "84eddad3",
      "metadata": {
        "id": "84eddad3"
      },
      "outputs": [],
      "source": [
        "from datetime import datetime\n",
        "import os\n",
        "import matplotlib\n",
        "import pandas as pd\n",
        "import numpy as np\n",
        "import matplotlib.pyplot as plt\n",
        "import seaborn as sns\n",
        "sns.set_style('whitegrid')\n",
        "\n",
        "from scipy import sparse\n",
        "from scipy.sparse import csc_matrix\n",
        "from sklearn.decomposition import TruncatedSVD\n",
        "\n",
        "np.random.seed(0)"
      ]
    },
    {
      "cell_type": "markdown",
      "source": [
        "#### Name of the file which contain all the item properties"
      ],
      "metadata": {
        "id": "lHG3Yw4EHJbO"
      },
      "id": "lHG3Yw4EHJbO"
    },
    {
      "cell_type": "code",
      "source": [
        "file=\"MIND/news.tsv\""
      ],
      "metadata": {
        "id": "4zX5cx_NHQNv"
      },
      "id": "4zX5cx_NHQNv",
      "execution_count": 5,
      "outputs": []
    },
    {
      "cell_type": "markdown",
      "source": [
        "###### Run below cell"
      ],
      "metadata": {
        "id": "r2ef3FxJHYkQ"
      },
      "id": "r2ef3FxJHYkQ"
    },
    {
      "cell_type": "code",
      "execution_count": 6,
      "metadata": {
        "id": "7e7fee79"
      },
      "outputs": [],
      "source": [
        "content_df  = pd.read_table( 'MIND/news.tsv',\n",
        "            names=['newid', 'vertical', 'subvertical', 'title',\n",
        "                            'abstract', 'url', 'entities in title', 'entities in abstract'],\n",
        "                     usecols = ['newid','vertical', 'subvertical', 'title', 'abstract'])"
      ],
      "id": "7e7fee79"
    },
    {
      "cell_type": "code",
      "execution_count": 7,
      "metadata": {
        "id": "af507f93"
      },
      "outputs": [],
      "source": [
        "content_df=content_df[:10000]"
      ],
      "id": "af507f93"
    },
    {
      "cell_type": "markdown",
      "metadata": {
        "id": "sjJpU6lTGK51"
      },
      "source": [
        "## Details about dataset"
      ],
      "id": "sjJpU6lTGK51"
    },
    {
      "cell_type": "code",
      "source": [
        "itemid=\"newid\""
      ],
      "metadata": {
        "id": "4u2f4NWQa14z"
      },
      "id": "4u2f4NWQa14z",
      "execution_count": 8,
      "outputs": []
    },
    {
      "cell_type": "code",
      "execution_count": 9,
      "metadata": {
        "id": "LpnvsLU_U-7O"
      },
      "outputs": [],
      "source": [
        "features=['vertical',\t'subvertical','title']"
      ],
      "id": "LpnvsLU_U-7O"
    },
    {
      "cell_type": "markdown",
      "metadata": {
        "id": "D_UJlmcgZNBc"
      },
      "source": [
        "# Content based filtering"
      ],
      "id": "D_UJlmcgZNBc"
    },
    {
      "cell_type": "code",
      "source": [
        "!pip install sentence_transformers "
      ],
      "metadata": {
        "id": "Nsg4OkCqt80K"
      },
      "id": "Nsg4OkCqt80K",
      "execution_count": null,
      "outputs": []
    },
    {
      "cell_type": "code",
      "source": [
        "content_df['NewTag']=\"\"\n",
        "for i in features:\n",
        "  content_df['NewTag']+=(\" \"+content_df[i])\n",
        "content_df['NewTag']=content_df['NewTag'].astype(str)"
      ],
      "metadata": {
        "id": "QxJnf-lrLdm2"
      },
      "id": "QxJnf-lrLdm2",
      "execution_count": 11,
      "outputs": []
    },
    {
      "cell_type": "code",
      "source": [
        "import nltk\n",
        "nltk.download('stopwords')\n",
        "nltk.download('punkt')\n",
        "nltk.download('wordnet')\n",
        "nltk.download('omw-1.4')"
      ],
      "metadata": {
        "colab": {
          "base_uri": "https://localhost:8080/"
        },
        "id": "DJ5l6HbYvKHi",
        "outputId": "2a1ddf22-79f6-4cff-c80a-a3ed2bdac62b"
      },
      "id": "DJ5l6HbYvKHi",
      "execution_count": 24,
      "outputs": [
        {
          "output_type": "stream",
          "name": "stderr",
          "text": [
            "[nltk_data] Downloading package stopwords to /root/nltk_data...\n",
            "[nltk_data]   Package stopwords is already up-to-date!\n",
            "[nltk_data] Downloading package punkt to /root/nltk_data...\n",
            "[nltk_data]   Package punkt is already up-to-date!\n",
            "[nltk_data] Downloading package wordnet to /root/nltk_data...\n",
            "[nltk_data]   Package wordnet is already up-to-date!\n",
            "[nltk_data] Downloading package omw-1.4 to /root/nltk_data...\n"
          ]
        },
        {
          "output_type": "execute_result",
          "data": {
            "text/plain": [
              "True"
            ]
          },
          "metadata": {},
          "execution_count": 24
        }
      ]
    },
    {
      "cell_type": "code",
      "source": [
        "from nltk.stem import WordNetLemmatizer\n",
        "from nltk.corpus import stopwords\n",
        "from nltk.tokenize import word_tokenize\n",
        "import re"
      ],
      "metadata": {
        "id": "VAXhYHfLuugD"
      },
      "id": "VAXhYHfLuugD",
      "execution_count": 12,
      "outputs": []
    },
    {
      "cell_type": "code",
      "source": [
        "def clean_text(text):\n",
        "    \n",
        "    text = text.lower()  # lowercase text\n",
        "    # replace the matched string with ' '\n",
        "    text = re.sub( re.compile(\"\\'s\"), ' ', text)\n",
        "    text = re.sub(re.compile(\"\\\\r\\\\n\"), ' ', text)\n",
        "    text = re.sub(re.compile(r\"[^\\w\\s]\"), ' ', text)\n",
        "    return text"
      ],
      "metadata": {
        "id": "hZ8HmiLbukp6"
      },
      "id": "hZ8HmiLbukp6",
      "execution_count": 18,
      "outputs": []
    },
    {
      "cell_type": "code",
      "source": [
        "stopwords=set(stopwords.words('english'))"
      ],
      "metadata": {
        "id": "SZqqCS7ZvF1a"
      },
      "id": "SZqqCS7ZvF1a",
      "execution_count": 15,
      "outputs": []
    },
    {
      "cell_type": "code",
      "source": [
        "def tokenizer(sentence, min_words=4, max_words=200, stopwords=stopwords, lemmatize=True):\n",
        "    \n",
        "    if lemmatize:\n",
        "        stemmer = WordNetLemmatizer()\n",
        "        tokens = [stemmer.lemmatize(w) for w in word_tokenize(sentence)]\n",
        "    else:\n",
        "        tokens = [w for w in word_tokenize(sentence)]\n",
        "    token = [w for w in tokens if (len(w) > min_words and len(w) < max_words\n",
        "                                                        and w not in stopwords)]\n",
        "    return tokens    "
      ],
      "metadata": {
        "id": "pZnlWqy4u_2U"
      },
      "id": "pZnlWqy4u_2U",
      "execution_count": 16,
      "outputs": []
    },
    {
      "cell_type": "code",
      "source": [
        "content_df['clean'] = content_df['NewTag'].apply(clean_text)\n",
        "content_df['token_lem_sentence'] = content_df['clean'].apply(\n",
        "        lambda x: tokenizer(x))"
      ],
      "metadata": {
        "id": "HDh1rTXeuKzi"
      },
      "id": "HDh1rTXeuKzi",
      "execution_count": 25,
      "outputs": []
    },
    {
      "cell_type": "markdown",
      "source": [
        "# Transformer"
      ],
      "metadata": {
        "id": "hU28x83Sv_OC"
      },
      "id": "hU28x83Sv_OC"
    },
    {
      "cell_type": "code",
      "source": [
        "from sentence_transformers import SentenceTransformer, util\n",
        "import torch\n"
      ],
      "metadata": {
        "id": "i_kKA8LOwEHJ"
      },
      "id": "i_kKA8LOwEHJ",
      "execution_count": 26,
      "outputs": []
    },
    {
      "cell_type": "code",
      "source": [
        "model = SentenceTransformer('paraphrase-MiniLM-L6-v2')\n",
        "corpus_embeddings = model.encode(content_df.clean.values, convert_to_tensor=True)\n"
      ],
      "metadata": {
        "id": "jrcVFrA3wAtI"
      },
      "id": "jrcVFrA3wAtI",
      "execution_count": 28,
      "outputs": []
    },
    {
      "cell_type": "markdown",
      "source": [
        "## Recommendation"
      ],
      "metadata": {
        "id": "K0X5La0ccsUW"
      },
      "id": "K0X5La0ccsUW"
    },
    {
      "cell_type": "code",
      "source": [
        "content_df[content_df.newid=='N55528']"
      ],
      "metadata": {
        "colab": {
          "base_uri": "https://localhost:8080/",
          "height": 142
        },
        "id": "tgBthMz3dHhD",
        "outputId": "9c35fe04-db99-41c8-a41b-b1b48c931c85"
      },
      "execution_count": 29,
      "outputs": [
        {
          "output_type": "execute_result",
          "data": {
            "text/plain": [
              "    newid   vertical      subvertical  \\\n",
              "0  N55528  lifestyle  lifestyleroyals   \n",
              "\n",
              "                                               title  \\\n",
              "0  The Brands Queen Elizabeth, Prince Charles, an...   \n",
              "\n",
              "                                            abstract  \\\n",
              "0  Shop the notebooks, jackets, and more that the...   \n",
              "\n",
              "                                              NewTag  \\\n",
              "0   lifestyle lifestyleroyals The Brands Queen El...   \n",
              "\n",
              "                                               clean  \\\n",
              "0   lifestyle lifestyleroyals the brands queen el...   \n",
              "\n",
              "                                  token_lem_sentence  \n",
              "0  [lifestyle, lifestyleroyals, the, brand, queen...  "
            ],
            "text/html": [
              "\n",
              "  <div id=\"df-42aaf913-0d7c-4a03-9d7e-369d5a3071e6\">\n",
              "    <div class=\"colab-df-container\">\n",
              "      <div>\n",
              "<style scoped>\n",
              "    .dataframe tbody tr th:only-of-type {\n",
              "        vertical-align: middle;\n",
              "    }\n",
              "\n",
              "    .dataframe tbody tr th {\n",
              "        vertical-align: top;\n",
              "    }\n",
              "\n",
              "    .dataframe thead th {\n",
              "        text-align: right;\n",
              "    }\n",
              "</style>\n",
              "<table border=\"1\" class=\"dataframe\">\n",
              "  <thead>\n",
              "    <tr style=\"text-align: right;\">\n",
              "      <th></th>\n",
              "      <th>newid</th>\n",
              "      <th>vertical</th>\n",
              "      <th>subvertical</th>\n",
              "      <th>title</th>\n",
              "      <th>abstract</th>\n",
              "      <th>NewTag</th>\n",
              "      <th>clean</th>\n",
              "      <th>token_lem_sentence</th>\n",
              "    </tr>\n",
              "  </thead>\n",
              "  <tbody>\n",
              "    <tr>\n",
              "      <th>0</th>\n",
              "      <td>N55528</td>\n",
              "      <td>lifestyle</td>\n",
              "      <td>lifestyleroyals</td>\n",
              "      <td>The Brands Queen Elizabeth, Prince Charles, an...</td>\n",
              "      <td>Shop the notebooks, jackets, and more that the...</td>\n",
              "      <td>lifestyle lifestyleroyals The Brands Queen El...</td>\n",
              "      <td>lifestyle lifestyleroyals the brands queen el...</td>\n",
              "      <td>[lifestyle, lifestyleroyals, the, brand, queen...</td>\n",
              "    </tr>\n",
              "  </tbody>\n",
              "</table>\n",
              "</div>\n",
              "      <button class=\"colab-df-convert\" onclick=\"convertToInteractive('df-42aaf913-0d7c-4a03-9d7e-369d5a3071e6')\"\n",
              "              title=\"Convert this dataframe to an interactive table.\"\n",
              "              style=\"display:none;\">\n",
              "        \n",
              "  <svg xmlns=\"http://www.w3.org/2000/svg\" height=\"24px\"viewBox=\"0 0 24 24\"\n",
              "       width=\"24px\">\n",
              "    <path d=\"M0 0h24v24H0V0z\" fill=\"none\"/>\n",
              "    <path d=\"M18.56 5.44l.94 2.06.94-2.06 2.06-.94-2.06-.94-.94-2.06-.94 2.06-2.06.94zm-11 1L8.5 8.5l.94-2.06 2.06-.94-2.06-.94L8.5 2.5l-.94 2.06-2.06.94zm10 10l.94 2.06.94-2.06 2.06-.94-2.06-.94-.94-2.06-.94 2.06-2.06.94z\"/><path d=\"M17.41 7.96l-1.37-1.37c-.4-.4-.92-.59-1.43-.59-.52 0-1.04.2-1.43.59L10.3 9.45l-7.72 7.72c-.78.78-.78 2.05 0 2.83L4 21.41c.39.39.9.59 1.41.59.51 0 1.02-.2 1.41-.59l7.78-7.78 2.81-2.81c.8-.78.8-2.07 0-2.86zM5.41 20L4 18.59l7.72-7.72 1.47 1.35L5.41 20z\"/>\n",
              "  </svg>\n",
              "      </button>\n",
              "      \n",
              "  <style>\n",
              "    .colab-df-container {\n",
              "      display:flex;\n",
              "      flex-wrap:wrap;\n",
              "      gap: 12px;\n",
              "    }\n",
              "\n",
              "    .colab-df-convert {\n",
              "      background-color: #E8F0FE;\n",
              "      border: none;\n",
              "      border-radius: 50%;\n",
              "      cursor: pointer;\n",
              "      display: none;\n",
              "      fill: #1967D2;\n",
              "      height: 32px;\n",
              "      padding: 0 0 0 0;\n",
              "      width: 32px;\n",
              "    }\n",
              "\n",
              "    .colab-df-convert:hover {\n",
              "      background-color: #E2EBFA;\n",
              "      box-shadow: 0px 1px 2px rgba(60, 64, 67, 0.3), 0px 1px 3px 1px rgba(60, 64, 67, 0.15);\n",
              "      fill: #174EA6;\n",
              "    }\n",
              "\n",
              "    [theme=dark] .colab-df-convert {\n",
              "      background-color: #3B4455;\n",
              "      fill: #D2E3FC;\n",
              "    }\n",
              "\n",
              "    [theme=dark] .colab-df-convert:hover {\n",
              "      background-color: #434B5C;\n",
              "      box-shadow: 0px 1px 3px 1px rgba(0, 0, 0, 0.15);\n",
              "      filter: drop-shadow(0px 1px 2px rgba(0, 0, 0, 0.3));\n",
              "      fill: #FFFFFF;\n",
              "    }\n",
              "  </style>\n",
              "\n",
              "      <script>\n",
              "        const buttonEl =\n",
              "          document.querySelector('#df-42aaf913-0d7c-4a03-9d7e-369d5a3071e6 button.colab-df-convert');\n",
              "        buttonEl.style.display =\n",
              "          google.colab.kernel.accessAllowed ? 'block' : 'none';\n",
              "\n",
              "        async function convertToInteractive(key) {\n",
              "          const element = document.querySelector('#df-42aaf913-0d7c-4a03-9d7e-369d5a3071e6');\n",
              "          const dataTable =\n",
              "            await google.colab.kernel.invokeFunction('convertToInteractive',\n",
              "                                                     [key], {});\n",
              "          if (!dataTable) return;\n",
              "\n",
              "          const docLinkHtml = 'Like what you see? Visit the ' +\n",
              "            '<a target=\"_blank\" href=https://colab.research.google.com/notebooks/data_table.ipynb>data table notebook</a>'\n",
              "            + ' to learn more about interactive tables.';\n",
              "          element.innerHTML = '';\n",
              "          dataTable['output_type'] = 'display_data';\n",
              "          await google.colab.output.renderOutput(dataTable, element);\n",
              "          const docLink = document.createElement('div');\n",
              "          docLink.innerHTML = docLinkHtml;\n",
              "          element.appendChild(docLink);\n",
              "        }\n",
              "      </script>\n",
              "    </div>\n",
              "  </div>\n",
              "  "
            ]
          },
          "metadata": {},
          "execution_count": 29
        }
      ],
      "id": "tgBthMz3dHhD"
    },
    {
      "cell_type": "code",
      "source": [
        "query=content_df[content_df.newid=='N55528'].clean[0]"
      ],
      "metadata": {
        "id": "dL24DWoPwaM5"
      },
      "id": "dL24DWoPwaM5",
      "execution_count": 32,
      "outputs": []
    },
    {
      "cell_type": "code",
      "source": [
        "query_embedding = model.encode(query, convert_to_tensor=True)\n",
        "\n",
        "# We use cosine-similarity and torch.topk to find the highest 3 scores\n",
        "cos_scores = util.pytorch_cos_sim(query_embedding, corpus_embeddings)[0]\n",
        "top_results = torch.topk(cos_scores, k=10)"
      ],
      "metadata": {
        "id": "ZXMnmRwmwIya"
      },
      "id": "ZXMnmRwmwIya",
      "execution_count": 35,
      "outputs": []
    },
    {
      "cell_type": "code",
      "execution_count": 37,
      "metadata": {
        "id": "54a7e34c",
        "colab": {
          "base_uri": "https://localhost:8080/",
          "height": 885
        },
        "outputId": "0ea3d5e1-a8d8-4fa3-da9c-cb970f946dc7"
      },
      "outputs": [
        {
          "output_type": "display_data",
          "data": {
            "text/plain": [
              "newid                                                     N55528\n",
              "vertical                                               lifestyle\n",
              "subvertical                                      lifestyleroyals\n",
              "title          The Brands Queen Elizabeth, Prince Charles, an...\n",
              "Name: 0, dtype: object"
            ]
          },
          "metadata": {}
        },
        {
          "output_type": "display_data",
          "data": {
            "text/plain": [
              "newid                                                      N7716\n",
              "vertical                                               lifestyle\n",
              "subvertical                                      lifestyleroyals\n",
              "title          What Do Prince George & Princess Charlotte Kno...\n",
              "Name: 397, dtype: object"
            ]
          },
          "metadata": {}
        },
        {
          "output_type": "display_data",
          "data": {
            "text/plain": [
              "newid                                        N42777\n",
              "vertical                                  lifestyle\n",
              "subvertical                         lifestyleroyals\n",
              "title          Prince George's Royal Life in Photos\n",
              "Name: 46, dtype: object"
            ]
          },
          "metadata": {}
        },
        {
          "output_type": "display_data",
          "data": {
            "text/plain": [
              "newid                                                     N28614\n",
              "vertical                                               lifestyle\n",
              "subvertical                                      lifestyleroyals\n",
              "title          A Look Back at Prince Charles and Camilla's Re...\n",
              "Name: 1667, dtype: object"
            ]
          },
          "metadata": {}
        },
        {
          "output_type": "display_data",
          "data": {
            "text/plain": [
              "newid                                                     N23937\n",
              "vertical                                               lifestyle\n",
              "subvertical                                      lifestyleroyals\n",
              "title          6 gorgeous royal family heirlooms that Kate Mi...\n",
              "Name: 208, dtype: object"
            ]
          },
          "metadata": {}
        },
        {
          "output_type": "display_data",
          "data": {
            "text/plain": [
              "newid                                                     N17326\n",
              "vertical                                               lifestyle\n",
              "subvertical                                      lifestyleroyals\n",
              "title          Here's what Kate Middleton and Prince William'...\n",
              "Name: 3452, dtype: object"
            ]
          },
          "metadata": {}
        },
        {
          "output_type": "display_data",
          "data": {
            "text/plain": [
              "newid                                                     N18957\n",
              "vertical                                               lifestyle\n",
              "subvertical                                      lifestyleroyals\n",
              "title          People Can't Stop Debating Who Princess Charlo...\n",
              "Name: 4414, dtype: object"
            ]
          },
          "metadata": {}
        },
        {
          "output_type": "display_data",
          "data": {
            "text/plain": [
              "newid                                                     N61811\n",
              "vertical                                               lifestyle\n",
              "subvertical                                      lifestyleroyals\n",
              "title          Archie's Photo Album: Prince Harry, Duchess Me...\n",
              "Name: 2503, dtype: object"
            ]
          },
          "metadata": {}
        },
        {
          "output_type": "display_data",
          "data": {
            "text/plain": [
              "newid                                              N47552\n",
              "vertical                                        lifestyle\n",
              "subvertical                               lifestyleroyals\n",
              "title          20 of Princess Diana's most daring outfits\n",
              "Name: 7219, dtype: object"
            ]
          },
          "metadata": {}
        },
        {
          "output_type": "display_data",
          "data": {
            "text/plain": [
              "newid                                                      N5672\n",
              "vertical                                               lifestyle\n",
              "subvertical                                      lifestyleroyals\n",
              "title          Why Prince William Is Making Headlines for His...\n",
              "Name: 6980, dtype: object"
            ]
          },
          "metadata": {}
        }
      ],
      "source": [
        "for score, idx in zip(top_results[0], top_results[1]):\n",
        "    score = score.cpu().data.numpy() \n",
        "    idx = idx.cpu().data.numpy()\n",
        "    display(content_df[['newid', 'vertical', 'subvertical','title']].iloc[idx])"
      ],
      "id": "54a7e34c"
    },
    {
      "cell_type": "code",
      "source": [],
      "metadata": {
        "id": "72El_cf3crMr"
      },
      "execution_count": null,
      "outputs": [],
      "id": "72El_cf3crMr"
    }
  ],
  "metadata": {
    "kernelspec": {
      "display_name": "Python 3",
      "language": "python",
      "name": "python3"
    },
    "language_info": {
      "codemirror_mode": {
        "name": "ipython",
        "version": 3
      },
      "file_extension": ".py",
      "mimetype": "text/x-python",
      "name": "python",
      "nbconvert_exporter": "python",
      "pygments_lexer": "ipython3",
      "version": "3.6.5"
    },
    "colab": {
      "provenance": [],
      "machine_shape": "hm",
      "collapsed_sections": [
        "uGRD8a9sKacB",
        "HDz_Qe5KHFho",
        "sjJpU6lTGK51"
      ]
    },
    "gpuClass": "standard",
    "accelerator": "GPU"
  },
  "nbformat": 4,
  "nbformat_minor": 5
}