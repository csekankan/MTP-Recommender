{
  "cells": [
    {
      "cell_type": "markdown",
      "metadata": {
        "id": "1ILJlOp2j64Y"
      },
      "source": [
        "## Installation\n",
        "-  Run this only once"
      ],
      "id": "1ILJlOp2j64Y"
    },
    {
      "cell_type": "code",
      "execution_count": null,
      "metadata": {
        "colab": {
          "base_uri": "https://localhost:8080/"
        },
        "id": "XXB_1HlIKdFi",
        "outputId": "75a85da5-a1a7-4325-ed92-30362fca7635"
      },
      "outputs": [
        {
          "output_type": "stream",
          "name": "stdout",
          "text": [
            "Looking in indexes: https://pypi.org/simple, https://us-python.pkg.dev/colab-wheels/public/simple/\n",
            "Requirement already satisfied: gdown in /usr/local/lib/python3.8/dist-packages (4.4.0)\n",
            "Requirement already satisfied: requests[socks] in /usr/local/lib/python3.8/dist-packages (from gdown) (2.25.1)\n",
            "Requirement already satisfied: tqdm in /usr/local/lib/python3.8/dist-packages (from gdown) (4.64.1)\n",
            "Requirement already satisfied: filelock in /usr/local/lib/python3.8/dist-packages (from gdown) (3.9.0)\n",
            "Requirement already satisfied: beautifulsoup4 in /usr/local/lib/python3.8/dist-packages (from gdown) (4.6.3)\n",
            "Requirement already satisfied: six in /usr/local/lib/python3.8/dist-packages (from gdown) (1.15.0)\n",
            "Requirement already satisfied: certifi>=2017.4.17 in /usr/local/lib/python3.8/dist-packages (from requests[socks]->gdown) (2022.12.7)\n",
            "Requirement already satisfied: urllib3<1.27,>=1.21.1 in /usr/local/lib/python3.8/dist-packages (from requests[socks]->gdown) (1.24.3)\n",
            "Requirement already satisfied: idna<3,>=2.5 in /usr/local/lib/python3.8/dist-packages (from requests[socks]->gdown) (2.10)\n",
            "Requirement already satisfied: chardet<5,>=3.0.2 in /usr/local/lib/python3.8/dist-packages (from requests[socks]->gdown) (4.0.0)\n",
            "Requirement already satisfied: PySocks!=1.5.7,>=1.5.6 in /usr/local/lib/python3.8/dist-packages (from requests[socks]->gdown) (1.7.1)\n",
            "Looking in indexes: https://pypi.org/simple, https://us-python.pkg.dev/colab-wheels/public/simple/\n",
            "Requirement already satisfied: lightfm in /usr/local/lib/python3.8/dist-packages (1.16)\n",
            "Requirement already satisfied: scipy>=0.17.0 in /usr/local/lib/python3.8/dist-packages (from lightfm) (1.7.3)\n",
            "Requirement already satisfied: numpy in /usr/local/lib/python3.8/dist-packages (from lightfm) (1.22.0)\n",
            "Requirement already satisfied: requests in /usr/local/lib/python3.8/dist-packages (from lightfm) (2.25.1)\n",
            "Requirement already satisfied: scikit-learn in /usr/local/lib/python3.8/dist-packages (from lightfm) (1.0.2)\n",
            "Requirement already satisfied: certifi>=2017.4.17 in /usr/local/lib/python3.8/dist-packages (from requests->lightfm) (2022.12.7)\n",
            "Requirement already satisfied: chardet<5,>=3.0.2 in /usr/local/lib/python3.8/dist-packages (from requests->lightfm) (4.0.0)\n",
            "Requirement already satisfied: idna<3,>=2.5 in /usr/local/lib/python3.8/dist-packages (from requests->lightfm) (2.10)\n",
            "Requirement already satisfied: urllib3<1.27,>=1.21.1 in /usr/local/lib/python3.8/dist-packages (from requests->lightfm) (1.24.3)\n",
            "Requirement already satisfied: joblib>=0.11 in /usr/local/lib/python3.8/dist-packages (from scikit-learn->lightfm) (1.2.0)\n",
            "Requirement already satisfied: threadpoolctl>=2.0.0 in /usr/local/lib/python3.8/dist-packages (from scikit-learn->lightfm) (3.1.0)\n",
            "Looking in indexes: https://pypi.org/simple, https://us-python.pkg.dev/colab-wheels/public/simple/\n",
            "Requirement already satisfied: recommenders in /usr/local/lib/python3.8/dist-packages (1.1.1)\n",
            "Requirement already satisfied: transformers<5,>=2.5.0 in /usr/local/lib/python3.8/dist-packages (from recommenders) (4.26.0)\n",
            "Requirement already satisfied: pandera[strategies]>=0.6.5 in /usr/local/lib/python3.8/dist-packages (from recommenders) (0.13.4)\n",
            "Requirement already satisfied: cornac<2,>=1.1.2 in /usr/local/lib/python3.8/dist-packages (from recommenders) (1.14.2)\n",
            "Requirement already satisfied: lightfm<2,>=1.15 in /usr/local/lib/python3.8/dist-packages (from recommenders) (1.16)\n",
            "Requirement already satisfied: retrying>=1.3.3 in /usr/local/lib/python3.8/dist-packages (from recommenders) (1.3.4)\n",
            "Requirement already satisfied: tqdm<5,>=4.31.1 in /usr/local/lib/python3.8/dist-packages (from recommenders) (4.64.1)\n",
            "Requirement already satisfied: nltk<4,>=3.4 in /usr/local/lib/python3.8/dist-packages (from recommenders) (3.7)\n",
            "Requirement already satisfied: lightgbm>=2.2.1 in /usr/local/lib/python3.8/dist-packages (from recommenders) (2.2.3)\n",
            "Requirement already satisfied: scikit-learn<1.0.3,>=0.22.1 in /usr/local/lib/python3.8/dist-packages (from recommenders) (1.0.2)\n",
            "Requirement already satisfied: jinja2<3.1,>=2 in /usr/local/lib/python3.8/dist-packages (from recommenders) (2.11.3)\n",
            "Requirement already satisfied: pyyaml<6,>=5.4.1 in /usr/local/lib/python3.8/dist-packages (from recommenders) (5.4.1)\n",
            "Requirement already satisfied: bottleneck<2,>=1.2.1 in /usr/local/lib/python3.8/dist-packages (from recommenders) (1.3.6)\n",
            "Requirement already satisfied: seaborn<1,>=0.8.1 in /usr/local/lib/python3.8/dist-packages (from recommenders) (0.11.2)\n",
            "Requirement already satisfied: numba<1,>=0.38.1 in /usr/local/lib/python3.8/dist-packages (from recommenders) (0.56.4)\n",
            "Requirement already satisfied: pandas<2,>1.0.3 in /usr/local/lib/python3.8/dist-packages (from recommenders) (1.3.5)\n",
            "Requirement already satisfied: matplotlib<4,>=2.2.2 in /usr/local/lib/python3.8/dist-packages (from recommenders) (3.2.2)\n",
            "Requirement already satisfied: category-encoders<2,>=1.3.0 in /usr/local/lib/python3.8/dist-packages (from recommenders) (1.3.0)\n",
            "Requirement already satisfied: numpy>=1.19 in /usr/local/lib/python3.8/dist-packages (from recommenders) (1.22.0)\n",
            "Requirement already satisfied: scikit-surprise>=1.0.6 in /usr/local/lib/python3.8/dist-packages (from recommenders) (1.1.3)\n",
            "Requirement already satisfied: requests<3,>=2.0.0 in /usr/local/lib/python3.8/dist-packages (from recommenders) (2.25.1)\n",
            "Requirement already satisfied: memory-profiler<1,>=0.54.0 in /usr/local/lib/python3.8/dist-packages (from recommenders) (0.61.0)\n",
            "Requirement already satisfied: scipy<2,>=1.0.0 in /usr/local/lib/python3.8/dist-packages (from recommenders) (1.7.3)\n",
            "Requirement already satisfied: statsmodels>=0.6.1 in /usr/local/lib/python3.8/dist-packages (from category-encoders<2,>=1.3.0->recommenders) (0.12.2)\n",
            "Requirement already satisfied: patsy>=0.4.1 in /usr/local/lib/python3.8/dist-packages (from category-encoders<2,>=1.3.0->recommenders) (0.5.3)\n",
            "Requirement already satisfied: powerlaw in /usr/local/lib/python3.8/dist-packages (from cornac<2,>=1.1.2->recommenders) (1.5)\n",
            "Requirement already satisfied: MarkupSafe>=0.23 in /usr/local/lib/python3.8/dist-packages (from jinja2<3.1,>=2->recommenders) (2.0.1)\n",
            "Requirement already satisfied: pyparsing!=2.0.4,!=2.1.2,!=2.1.6,>=2.0.1 in /usr/local/lib/python3.8/dist-packages (from matplotlib<4,>=2.2.2->recommenders) (3.0.9)\n",
            "Requirement already satisfied: kiwisolver>=1.0.1 in /usr/local/lib/python3.8/dist-packages (from matplotlib<4,>=2.2.2->recommenders) (1.4.4)\n",
            "Requirement already satisfied: cycler>=0.10 in /usr/local/lib/python3.8/dist-packages (from matplotlib<4,>=2.2.2->recommenders) (0.11.0)\n",
            "Requirement already satisfied: python-dateutil>=2.1 in /usr/local/lib/python3.8/dist-packages (from matplotlib<4,>=2.2.2->recommenders) (2.8.2)\n",
            "Requirement already satisfied: psutil in /usr/local/lib/python3.8/dist-packages (from memory-profiler<1,>=0.54.0->recommenders) (5.4.8)\n",
            "Requirement already satisfied: joblib in /usr/local/lib/python3.8/dist-packages (from nltk<4,>=3.4->recommenders) (1.2.0)\n",
            "Requirement already satisfied: regex>=2021.8.3 in /usr/local/lib/python3.8/dist-packages (from nltk<4,>=3.4->recommenders) (2022.6.2)\n",
            "Requirement already satisfied: click in /usr/local/lib/python3.8/dist-packages (from nltk<4,>=3.4->recommenders) (7.1.2)\n",
            "Requirement already satisfied: setuptools in /usr/local/lib/python3.8/dist-packages (from numba<1,>=0.38.1->recommenders) (57.4.0)\n",
            "Requirement already satisfied: llvmlite<0.40,>=0.39.0dev0 in /usr/local/lib/python3.8/dist-packages (from numba<1,>=0.38.1->recommenders) (0.39.1)\n",
            "Requirement already satisfied: importlib-metadata in /usr/local/lib/python3.8/dist-packages (from numba<1,>=0.38.1->recommenders) (6.0.0)\n",
            "Requirement already satisfied: pytz>=2017.3 in /usr/local/lib/python3.8/dist-packages (from pandas<2,>1.0.3->recommenders) (2022.7.1)\n",
            "Requirement already satisfied: packaging>=20.0 in /usr/local/lib/python3.8/dist-packages (from pandera[strategies]>=0.6.5->recommenders) (23.0)\n",
            "Requirement already satisfied: wrapt in /usr/local/lib/python3.8/dist-packages (from pandera[strategies]>=0.6.5->recommenders) (1.14.1)\n",
            "Requirement already satisfied: typing-inspect>=0.6.0 in /usr/local/lib/python3.8/dist-packages (from pandera[strategies]>=0.6.5->recommenders) (0.8.0)\n",
            "Requirement already satisfied: pydantic in /usr/local/lib/python3.8/dist-packages (from pandera[strategies]>=0.6.5->recommenders) (1.10.4)\n",
            "Requirement already satisfied: hypothesis>=5.41.1 in /usr/local/lib/python3.8/dist-packages (from pandera[strategies]>=0.6.5->recommenders) (6.67.1)\n",
            "Requirement already satisfied: chardet<5,>=3.0.2 in /usr/local/lib/python3.8/dist-packages (from requests<3,>=2.0.0->recommenders) (4.0.0)\n",
            "Requirement already satisfied: urllib3<1.27,>=1.21.1 in /usr/local/lib/python3.8/dist-packages (from requests<3,>=2.0.0->recommenders) (1.24.3)\n",
            "Requirement already satisfied: idna<3,>=2.5 in /usr/local/lib/python3.8/dist-packages (from requests<3,>=2.0.0->recommenders) (2.10)\n",
            "Requirement already satisfied: certifi>=2017.4.17 in /usr/local/lib/python3.8/dist-packages (from requests<3,>=2.0.0->recommenders) (2022.12.7)\n",
            "Requirement already satisfied: six>=1.7.0 in /usr/local/lib/python3.8/dist-packages (from retrying>=1.3.3->recommenders) (1.15.0)\n",
            "Requirement already satisfied: threadpoolctl>=2.0.0 in /usr/local/lib/python3.8/dist-packages (from scikit-learn<1.0.3,>=0.22.1->recommenders) (3.1.0)\n",
            "Requirement already satisfied: filelock in /usr/local/lib/python3.8/dist-packages (from transformers<5,>=2.5.0->recommenders) (3.9.0)\n",
            "Requirement already satisfied: tokenizers!=0.11.3,<0.14,>=0.11.1 in /usr/local/lib/python3.8/dist-packages (from transformers<5,>=2.5.0->recommenders) (0.13.2)\n",
            "Requirement already satisfied: huggingface-hub<1.0,>=0.11.0 in /usr/local/lib/python3.8/dist-packages (from transformers<5,>=2.5.0->recommenders) (0.12.0)\n",
            "Requirement already satisfied: typing-extensions>=3.7.4.3 in /usr/local/lib/python3.8/dist-packages (from huggingface-hub<1.0,>=0.11.0->transformers<5,>=2.5.0->recommenders) (4.4.0)\n",
            "Requirement already satisfied: attrs>=19.2.0 in /usr/local/lib/python3.8/dist-packages (from hypothesis>=5.41.1->pandera[strategies]>=0.6.5->recommenders) (22.2.0)\n",
            "Requirement already satisfied: exceptiongroup>=1.0.0 in /usr/local/lib/python3.8/dist-packages (from hypothesis>=5.41.1->pandera[strategies]>=0.6.5->recommenders) (1.1.0)\n",
            "Requirement already satisfied: sortedcontainers<3.0.0,>=2.1.0 in /usr/local/lib/python3.8/dist-packages (from hypothesis>=5.41.1->pandera[strategies]>=0.6.5->recommenders) (2.4.0)\n",
            "Requirement already satisfied: mypy-extensions>=0.3.0 in /usr/local/lib/python3.8/dist-packages (from typing-inspect>=0.6.0->pandera[strategies]>=0.6.5->recommenders) (1.0.0)\n",
            "Requirement already satisfied: zipp>=0.5 in /usr/local/lib/python3.8/dist-packages (from importlib-metadata->numba<1,>=0.38.1->recommenders) (3.12.0)\n",
            "Requirement already satisfied: mpmath in /usr/local/lib/python3.8/dist-packages (from powerlaw->cornac<2,>=1.1.2->recommenders) (1.2.1)\n"
          ]
        }
      ],
      "source": [
        "!pip install gdown\n",
        "!pip install lightfm\n",
        "!pip install recommenders\n"
      ],
      "id": "XXB_1HlIKdFi"
    },
    {
      "cell_type": "code",
      "execution_count": null,
      "metadata": {
        "colab": {
          "base_uri": "https://localhost:8080/"
        },
        "outputId": "a86badc2-683a-4e59-88c8-f18fd0d28fda",
        "id": "T098HkgX2cti"
      },
      "outputs": [
        {
          "output_type": "stream",
          "name": "stdout",
          "text": [
            "Looking in indexes: https://pypi.org/simple, https://us-python.pkg.dev/colab-wheels/public/simple/\n",
            "Requirement already satisfied: numpy==1.22 in /usr/local/lib/python3.8/dist-packages (1.22.0)\n",
            "Looking in indexes: https://pypi.org/simple, https://us-python.pkg.dev/colab-wheels/public/simple/\n",
            "Requirement already satisfied: LibRecommender in /usr/local/lib/python3.8/dist-packages (0.12.6)\n",
            "Requirement already satisfied: numpy>=1.19.5 in /usr/local/lib/python3.8/dist-packages (from LibRecommender) (1.22.0)\n",
            "Requirement already satisfied: tqdm in /usr/local/lib/python3.8/dist-packages (from LibRecommender) (4.64.1)\n",
            "Requirement already satisfied: scipy>=1.2.1 in /usr/local/lib/python3.8/dist-packages (from LibRecommender) (1.7.3)\n",
            "Requirement already satisfied: torch>=1.10.0 in /usr/local/lib/python3.8/dist-packages (from LibRecommender) (1.13.1+cu116)\n",
            "Requirement already satisfied: gensim>=4.0.0 in /usr/local/lib/python3.8/dist-packages (from LibRecommender) (4.3.0)\n",
            "Requirement already satisfied: cython<3,>=0.29.0 in /usr/local/lib/python3.8/dist-packages (from LibRecommender) (0.29.33)\n",
            "Requirement already satisfied: pandas>=1.0.0 in /usr/local/lib/python3.8/dist-packages (from LibRecommender) (1.3.5)\n",
            "Requirement already satisfied: tensorflow>=1.15.0 in /usr/local/lib/python3.8/dist-packages (from LibRecommender) (2.9.2)\n",
            "Requirement already satisfied: scikit-learn>=0.20.0 in /usr/local/lib/python3.8/dist-packages (from LibRecommender) (1.0.2)\n",
            "Requirement already satisfied: FuzzyTM>=0.4.0 in /usr/local/lib/python3.8/dist-packages (from gensim>=4.0.0->LibRecommender) (2.0.5)\n",
            "Requirement already satisfied: smart-open>=1.8.1 in /usr/local/lib/python3.8/dist-packages (from gensim>=4.0.0->LibRecommender) (6.3.0)\n",
            "Requirement already satisfied: pytz>=2017.3 in /usr/local/lib/python3.8/dist-packages (from pandas>=1.0.0->LibRecommender) (2022.7.1)\n",
            "Requirement already satisfied: python-dateutil>=2.7.3 in /usr/local/lib/python3.8/dist-packages (from pandas>=1.0.0->LibRecommender) (2.8.2)\n",
            "Requirement already satisfied: threadpoolctl>=2.0.0 in /usr/local/lib/python3.8/dist-packages (from scikit-learn>=0.20.0->LibRecommender) (3.1.0)\n",
            "Requirement already satisfied: joblib>=0.11 in /usr/local/lib/python3.8/dist-packages (from scikit-learn>=0.20.0->LibRecommender) (1.2.0)\n",
            "Requirement already satisfied: flatbuffers<2,>=1.12 in /usr/local/lib/python3.8/dist-packages (from tensorflow>=1.15.0->LibRecommender) (1.12)\n",
            "Requirement already satisfied: grpcio<2.0,>=1.24.3 in /usr/local/lib/python3.8/dist-packages (from tensorflow>=1.15.0->LibRecommender) (1.51.1)\n",
            "Requirement already satisfied: wrapt>=1.11.0 in /usr/local/lib/python3.8/dist-packages (from tensorflow>=1.15.0->LibRecommender) (1.14.1)\n",
            "Requirement already satisfied: tensorflow-io-gcs-filesystem>=0.23.1 in /usr/local/lib/python3.8/dist-packages (from tensorflow>=1.15.0->LibRecommender) (0.30.0)\n",
            "Requirement already satisfied: protobuf<3.20,>=3.9.2 in /usr/local/lib/python3.8/dist-packages (from tensorflow>=1.15.0->LibRecommender) (3.19.6)\n",
            "Requirement already satisfied: gast<=0.4.0,>=0.2.1 in /usr/local/lib/python3.8/dist-packages (from tensorflow>=1.15.0->LibRecommender) (0.4.0)\n",
            "Requirement already satisfied: absl-py>=1.0.0 in /usr/local/lib/python3.8/dist-packages (from tensorflow>=1.15.0->LibRecommender) (1.4.0)\n",
            "Requirement already satisfied: tensorboard<2.10,>=2.9 in /usr/local/lib/python3.8/dist-packages (from tensorflow>=1.15.0->LibRecommender) (2.9.1)\n",
            "Requirement already satisfied: google-pasta>=0.1.1 in /usr/local/lib/python3.8/dist-packages (from tensorflow>=1.15.0->LibRecommender) (0.2.0)\n",
            "Requirement already satisfied: h5py>=2.9.0 in /usr/local/lib/python3.8/dist-packages (from tensorflow>=1.15.0->LibRecommender) (3.1.0)\n",
            "Requirement already satisfied: keras-preprocessing>=1.1.1 in /usr/local/lib/python3.8/dist-packages (from tensorflow>=1.15.0->LibRecommender) (1.1.2)\n",
            "Requirement already satisfied: packaging in /usr/local/lib/python3.8/dist-packages (from tensorflow>=1.15.0->LibRecommender) (23.0)\n",
            "Requirement already satisfied: astunparse>=1.6.0 in /usr/local/lib/python3.8/dist-packages (from tensorflow>=1.15.0->LibRecommender) (1.6.3)\n",
            "Requirement already satisfied: termcolor>=1.1.0 in /usr/local/lib/python3.8/dist-packages (from tensorflow>=1.15.0->LibRecommender) (2.2.0)\n",
            "Requirement already satisfied: opt-einsum>=2.3.2 in /usr/local/lib/python3.8/dist-packages (from tensorflow>=1.15.0->LibRecommender) (3.3.0)\n",
            "Requirement already satisfied: tensorflow-estimator<2.10.0,>=2.9.0rc0 in /usr/local/lib/python3.8/dist-packages (from tensorflow>=1.15.0->LibRecommender) (2.9.0)\n",
            "Requirement already satisfied: keras<2.10.0,>=2.9.0rc0 in /usr/local/lib/python3.8/dist-packages (from tensorflow>=1.15.0->LibRecommender) (2.9.0)\n",
            "Requirement already satisfied: libclang>=13.0.0 in /usr/local/lib/python3.8/dist-packages (from tensorflow>=1.15.0->LibRecommender) (15.0.6.1)\n",
            "Requirement already satisfied: setuptools in /usr/local/lib/python3.8/dist-packages (from tensorflow>=1.15.0->LibRecommender) (57.4.0)\n",
            "Requirement already satisfied: six>=1.12.0 in /usr/local/lib/python3.8/dist-packages (from tensorflow>=1.15.0->LibRecommender) (1.15.0)\n",
            "Requirement already satisfied: typing-extensions>=3.6.6 in /usr/local/lib/python3.8/dist-packages (from tensorflow>=1.15.0->LibRecommender) (4.4.0)\n",
            "Requirement already satisfied: wheel<1.0,>=0.23.0 in /usr/local/lib/python3.8/dist-packages (from astunparse>=1.6.0->tensorflow>=1.15.0->LibRecommender) (0.38.4)\n",
            "Requirement already satisfied: pyfume in /usr/local/lib/python3.8/dist-packages (from FuzzyTM>=0.4.0->gensim>=4.0.0->LibRecommender) (0.2.25)\n",
            "Requirement already satisfied: tensorboard-plugin-wit>=1.6.0 in /usr/local/lib/python3.8/dist-packages (from tensorboard<2.10,>=2.9->tensorflow>=1.15.0->LibRecommender) (1.8.1)\n",
            "Requirement already satisfied: google-auth<3,>=1.6.3 in /usr/local/lib/python3.8/dist-packages (from tensorboard<2.10,>=2.9->tensorflow>=1.15.0->LibRecommender) (2.16.0)\n",
            "Requirement already satisfied: werkzeug>=1.0.1 in /usr/local/lib/python3.8/dist-packages (from tensorboard<2.10,>=2.9->tensorflow>=1.15.0->LibRecommender) (1.0.1)\n",
            "Requirement already satisfied: requests<3,>=2.21.0 in /usr/local/lib/python3.8/dist-packages (from tensorboard<2.10,>=2.9->tensorflow>=1.15.0->LibRecommender) (2.25.1)\n",
            "Requirement already satisfied: google-auth-oauthlib<0.5,>=0.4.1 in /usr/local/lib/python3.8/dist-packages (from tensorboard<2.10,>=2.9->tensorflow>=1.15.0->LibRecommender) (0.4.6)\n",
            "Requirement already satisfied: tensorboard-data-server<0.7.0,>=0.6.0 in /usr/local/lib/python3.8/dist-packages (from tensorboard<2.10,>=2.9->tensorflow>=1.15.0->LibRecommender) (0.6.1)\n",
            "Requirement already satisfied: markdown>=2.6.8 in /usr/local/lib/python3.8/dist-packages (from tensorboard<2.10,>=2.9->tensorflow>=1.15.0->LibRecommender) (3.4.1)\n",
            "Requirement already satisfied: pyasn1-modules>=0.2.1 in /usr/local/lib/python3.8/dist-packages (from google-auth<3,>=1.6.3->tensorboard<2.10,>=2.9->tensorflow>=1.15.0->LibRecommender) (0.2.8)\n",
            "Requirement already satisfied: cachetools<6.0,>=2.0.0 in /usr/local/lib/python3.8/dist-packages (from google-auth<3,>=1.6.3->tensorboard<2.10,>=2.9->tensorflow>=1.15.0->LibRecommender) (5.3.0)\n",
            "Requirement already satisfied: rsa<5,>=3.1.4 in /usr/local/lib/python3.8/dist-packages (from google-auth<3,>=1.6.3->tensorboard<2.10,>=2.9->tensorflow>=1.15.0->LibRecommender) (4.9)\n",
            "Requirement already satisfied: requests-oauthlib>=0.7.0 in /usr/local/lib/python3.8/dist-packages (from google-auth-oauthlib<0.5,>=0.4.1->tensorboard<2.10,>=2.9->tensorflow>=1.15.0->LibRecommender) (1.3.1)\n",
            "Requirement already satisfied: importlib-metadata>=4.4 in /usr/local/lib/python3.8/dist-packages (from markdown>=2.6.8->tensorboard<2.10,>=2.9->tensorflow>=1.15.0->LibRecommender) (6.0.0)\n",
            "Requirement already satisfied: chardet<5,>=3.0.2 in /usr/local/lib/python3.8/dist-packages (from requests<3,>=2.21.0->tensorboard<2.10,>=2.9->tensorflow>=1.15.0->LibRecommender) (4.0.0)\n",
            "Requirement already satisfied: urllib3<1.27,>=1.21.1 in /usr/local/lib/python3.8/dist-packages (from requests<3,>=2.21.0->tensorboard<2.10,>=2.9->tensorflow>=1.15.0->LibRecommender) (1.24.3)\n",
            "Requirement already satisfied: certifi>=2017.4.17 in /usr/local/lib/python3.8/dist-packages (from requests<3,>=2.21.0->tensorboard<2.10,>=2.9->tensorflow>=1.15.0->LibRecommender) (2022.12.7)\n",
            "Requirement already satisfied: idna<3,>=2.5 in /usr/local/lib/python3.8/dist-packages (from requests<3,>=2.21.0->tensorboard<2.10,>=2.9->tensorflow>=1.15.0->LibRecommender) (2.10)\n",
            "Requirement already satisfied: fst-pso in /usr/local/lib/python3.8/dist-packages (from pyfume->FuzzyTM>=0.4.0->gensim>=4.0.0->LibRecommender) (1.8.1)\n",
            "Requirement already satisfied: simpful in /usr/local/lib/python3.8/dist-packages (from pyfume->FuzzyTM>=0.4.0->gensim>=4.0.0->LibRecommender) (2.9.0)\n",
            "Requirement already satisfied: zipp>=0.5 in /usr/local/lib/python3.8/dist-packages (from importlib-metadata>=4.4->markdown>=2.6.8->tensorboard<2.10,>=2.9->tensorflow>=1.15.0->LibRecommender) (3.12.0)\n",
            "Requirement already satisfied: pyasn1<0.5.0,>=0.4.6 in /usr/local/lib/python3.8/dist-packages (from pyasn1-modules>=0.2.1->google-auth<3,>=1.6.3->tensorboard<2.10,>=2.9->tensorflow>=1.15.0->LibRecommender) (0.4.8)\n",
            "Requirement already satisfied: oauthlib>=3.0.0 in /usr/local/lib/python3.8/dist-packages (from requests-oauthlib>=0.7.0->google-auth-oauthlib<0.5,>=0.4.1->tensorboard<2.10,>=2.9->tensorflow>=1.15.0->LibRecommender) (3.2.2)\n",
            "Requirement already satisfied: miniful in /usr/local/lib/python3.8/dist-packages (from fst-pso->pyfume->FuzzyTM>=0.4.0->gensim>=4.0.0->LibRecommender) (0.0.6)\n"
          ]
        }
      ],
      "source": [
        "\n",
        "!pip install numpy==1.22\n",
        "!pip install LibRecommender\n"
      ],
      "id": "T098HkgX2cti"
    },
    {
      "cell_type": "markdown",
      "metadata": {
        "id": "x7-kQ2uHgQHN"
      },
      "source": [
        "## Restart "
      ],
      "id": "x7-kQ2uHgQHN"
    },
    {
      "cell_type": "code",
      "execution_count": null,
      "metadata": {
        "id": "bhIJ0xYh2YXz"
      },
      "outputs": [],
      "source": [
        "import os\n",
        "os.kill(os.getpid(), 9)"
      ],
      "id": "bhIJ0xYh2YXz"
    },
    {
      "cell_type": "markdown",
      "metadata": {
        "id": "JW1c4-822wY6"
      },
      "source": [
        "## Data Loading"
      ],
      "id": "JW1c4-822wY6"
    },
    {
      "cell_type": "code",
      "execution_count": null,
      "metadata": {
        "id": "d6266078"
      },
      "outputs": [],
      "source": [
        "\n",
        "import pandas as pd\n",
        "import os\n",
        "from os.path import exists\n",
        "import zipfile\n",
        "import numpy as np\n",
        "from datetime import datetime"
      ],
      "id": "d6266078"
    },
    {
      "cell_type": "code",
      "execution_count": null,
      "metadata": {
        "id": "grEEvzijoj2y"
      },
      "outputs": [],
      "source": [
        "TIMESTAMP=None"
      ],
      "id": "grEEvzijoj2y"
    },
    {
      "cell_type": "code",
      "execution_count": null,
      "metadata": {
        "colab": {
          "base_uri": "https://localhost:8080/"
        },
        "id": "5YlrLKiBr-Oy",
        "outputId": "44c62edb-45f1-40b9-c810-1ec68569c956"
      },
      "outputs": [
        {
          "output_type": "stream",
          "name": "stdout",
          "text": [
            "Downloading...\n",
            "From: https://drive.google.com/uc?id=1tZlrPeJf7geYfRRTxeRhdPU_Hq5m8tg6\n",
            "To: /content/Travel_TripAdvisor_v1.zip\n",
            "\r  0% 0.00/155k [00:00<?, ?B/s]\r100% 155k/155k [00:00<00:00, 83.5MB/s]\n"
          ]
        }
      ],
      "source": [
        "!gdown https://drive.google.com/uc?id=1tZlrPeJf7geYfRRTxeRhdPU_Hq5m8tg6"
      ],
      "id": "5YlrLKiBr-Oy"
    },
    {
      "cell_type": "code",
      "execution_count": null,
      "metadata": {
        "colab": {
          "base_uri": "https://localhost:8080/"
        },
        "id": "zVe-QzFtyZcR",
        "outputId": "7352b11f-86cb-4f9c-e4c4-8d545fabc68d"
      },
      "outputs": [
        {
          "output_type": "stream",
          "name": "stdout",
          "text": [
            "Archive:  Travel_TripAdvisor_v1.zip\n",
            "replace /content/Travel_TripAdvisor_v1/Data_TripAdvisor_v1.xls? [y]es, [n]o, [A]ll, [N]one, [r]ename: "
          ]
        }
      ],
      "source": [
        "!unzip \"Travel_TripAdvisor_v1.zip\"  -d  \"/content\""
      ],
      "id": "zVe-QzFtyZcR"
    },
    {
      "cell_type": "code",
      "execution_count": null,
      "metadata": {
        "id": "kL5ASmbGyZcS"
      },
      "outputs": [],
      "source": [
        "!pip install pandas openpyxl"
      ],
      "id": "kL5ASmbGyZcS"
    },
    {
      "cell_type": "code",
      "execution_count": null,
      "metadata": {
        "id": "FcBWdcpFyZcT"
      },
      "outputs": [],
      "source": [
        "\n",
        "import pandas as pd\n",
        "\n",
        "xls = pd.ExcelFile(r\"Travel_TripAdvisor_v1/Data_TripAdvisor_v1.xls\") \n",
        "\n",
        "rating_df = xls.parse(0) #2 is the sheet number+1 thus if the file has only 1 sheet write 0 in paranthesis\n",
        "\n"
      ],
      "id": "FcBWdcpFyZcT"
    },
    {
      "cell_type": "code",
      "execution_count": null,
      "metadata": {
        "id": "p3CDyklH1Kv1"
      },
      "outputs": [],
      "source": [
        "rating_df=rating_df.reset_index(drop=True)"
      ],
      "id": "p3CDyklH1Kv1"
    },
    {
      "cell_type": "code",
      "execution_count": null,
      "metadata": {
        "id": "NHIInGM3yZcW"
      },
      "outputs": [],
      "source": [
        "\n",
        "rating_df.rename(columns = {'ID_USER':'userID'}, inplace = True)\n",
        "rating_df.rename(columns = {'ID_HOTEL':'itemID'}, inplace = True)\n",
        "rating_df.rename(columns = {'Rating':'rating'}, inplace = True)"
      ],
      "id": "NHIInGM3yZcW"
    },
    {
      "cell_type": "markdown",
      "metadata": {
        "id": "xR4W7kxwlOmR"
      },
      "source": [
        "## Name of the file where user item interaction data avaiable?\n",
        "- Column name should be in following name and order\n",
        "- [ **itemID, userID , rating , [other features]** ]\n"
      ],
      "id": "xR4W7kxwlOmR"
    },
    {
      "cell_type": "markdown",
      "metadata": {
        "id": "Z3qHPPpg6AOZ"
      },
      "source": [
        "### Dense columns"
      ],
      "id": "Z3qHPPpg6AOZ"
    },
    {
      "cell_type": "code",
      "execution_count": null,
      "metadata": {
        "id": "8k0LC32K6AOZ"
      },
      "outputs": [],
      "source": [
        "dense_col=None"
      ],
      "id": "8k0LC32K6AOZ"
    },
    {
      "cell_type": "markdown",
      "metadata": {
        "id": "xyD0hk3P6AOZ"
      },
      "source": [
        "### Sparse columns"
      ],
      "id": "xyD0hk3P6AOZ"
    },
    {
      "cell_type": "code",
      "execution_count": null,
      "metadata": {
        "id": "qKa62BFK6AOZ"
      },
      "outputs": [],
      "source": [
        "col_sparse= ['USER_STATE', 'USER_TIMEZONE','Trip Type']\n"
      ],
      "id": "qKa62BFK6AOZ"
    },
    {
      "cell_type": "markdown",
      "metadata": {
        "id": "b-n4nO9HvyRq"
      },
      "source": [
        "### User contexual features other than \"user\" column"
      ],
      "id": "b-n4nO9HvyRq"
    },
    {
      "cell_type": "code",
      "execution_count": null,
      "metadata": {
        "id": "sIuteHEmwCdU"
      },
      "outputs": [],
      "source": [
        "\n",
        "user_col = ['USER_STATE', 'USER_TIMEZONE','Trip Type']\n"
      ],
      "id": "sIuteHEmwCdU"
    },
    {
      "cell_type": "markdown",
      "metadata": {
        "id": "9JazyARCv77k"
      },
      "source": [
        "### User contexual features other than \"item\" column"
      ],
      "id": "9JazyARCv77k"
    },
    {
      "cell_type": "code",
      "execution_count": null,
      "metadata": {
        "id": "iVUF_PnywHOy"
      },
      "outputs": [],
      "source": [
        "item_col=[]\n"
      ],
      "id": "iVUF_PnywHOy"
    },
    {
      "cell_type": "markdown",
      "metadata": {
        "id": "DvQzh9z6osMg"
      },
      "source": [
        "### Run below cell"
      ],
      "id": "DvQzh9z6osMg"
    },
    {
      "cell_type": "code",
      "source": [
        "for i in user_col:\n",
        "  rating_df[i] = rating_df[i].fillna('NA')"
      ],
      "metadata": {
        "id": "abgcde72sMEd"
      },
      "id": "abgcde72sMEd",
      "execution_count": null,
      "outputs": []
    },
    {
      "cell_type": "code",
      "source": [
        "for i in item_col:\n",
        "  rating_df[i] = rating_df[i].fillna('NA')"
      ],
      "metadata": {
        "id": "HhheobUFsNHF"
      },
      "id": "HhheobUFsNHF",
      "execution_count": null,
      "outputs": []
    },
    {
      "cell_type": "code",
      "execution_count": null,
      "metadata": {
        "id": "vSqr1RIMwn7i"
      },
      "outputs": [],
      "source": [
        "allcols=['userID','itemID','rating']\n",
        "if user_col is not None:\n",
        "  for i in user_col:\n",
        "    allcols.append(i)\n",
        "if item_col is not None:\n",
        "  for i in item_col:\n",
        "    allcols.append(i)"
      ],
      "id": "vSqr1RIMwn7i"
    },
    {
      "cell_type": "code",
      "execution_count": null,
      "metadata": {
        "colab": {
          "base_uri": "https://localhost:8080/"
        },
        "id": "x3WSJMFwxBOK",
        "outputId": "f52dffcf-158d-4a0c-efd0-594628428f53"
      },
      "outputs": [
        {
          "output_type": "execute_result",
          "data": {
            "text/plain": [
              "[None, None, None, None, None, None]"
            ]
          },
          "metadata": {},
          "execution_count": 85
        }
      ],
      "source": [
        "listcols = []\n",
        "[listcols.append(x) for x in allcols if x not in listcols]"
      ],
      "id": "x3WSJMFwxBOK"
    },
    {
      "cell_type": "code",
      "execution_count": null,
      "metadata": {
        "colab": {
          "base_uri": "https://localhost:8080/"
        },
        "id": "5ztGXRmMxnDC",
        "outputId": "8553112e-7d76-4c08-d857-c3ff75ee7e0a"
      },
      "outputs": [
        {
          "output_type": "execute_result",
          "data": {
            "text/plain": [
              "['userID', 'itemID', 'rating', 'USER_STATE', 'USER_TIMEZONE', 'Trip Type']"
            ]
          },
          "metadata": {},
          "execution_count": 86
        }
      ],
      "source": [
        "listcols"
      ],
      "id": "5ztGXRmMxnDC"
    },
    {
      "cell_type": "code",
      "execution_count": null,
      "metadata": {
        "id": "QuETNcoErhSC"
      },
      "outputs": [],
      "source": [
        "rating_df=rating_df[listcols]"
      ],
      "id": "QuETNcoErhSC"
    },
    {
      "cell_type": "markdown",
      "metadata": {
        "id": "2U3Ah9H-LsTa"
      },
      "source": [
        "##### Code Setup"
      ],
      "id": "2U3Ah9H-LsTa"
    },
    {
      "cell_type": "code",
      "source": [
        "import lightfm\n",
        "from lightfm import LightFM\n",
        "from lightfm.data import Dataset\n",
        "from lightfm import cross_validation\n",
        "# Import LightFM's evaluation metrics\n",
        "from lightfm.evaluation import precision_at_k \n",
        "from lightfm.evaluation import recall_at_k \n",
        "# Import repo's evaluation metrics\n",
        "from recommenders.evaluation.python_evaluation import precision_at_k, recall_at_k\n",
        "\n",
        "from recommenders.utils.timer import Timer\n",
        "from recommenders.datasets import movielens\n",
        "from recommenders.models.lightfm.lightfm_utils import (\n",
        "    track_model_metrics, prepare_test_df, prepare_all_predictions,\n",
        "    compare_metric, similar_users, similar_items)\n",
        "from lightfm import cross_validation\n",
        "# Import LightFM's evaluation metrics\n",
        "from lightfm.evaluation import precision_at_k \n",
        "from lightfm.evaluation import recall_at_k "
      ],
      "metadata": {
        "id": "9KWLjYLTJN6T"
      },
      "execution_count": null,
      "outputs": [],
      "id": "9KWLjYLTJN6T"
    },
    {
      "cell_type": "markdown",
      "source": [
        "#### LightFM code"
      ],
      "metadata": {
        "id": "ish2yTj7uk-0"
      },
      "id": "ish2yTj7uk-0"
    },
    {
      "cell_type": "code",
      "source": [
        "\n",
        "def runlightFM(rating_df,user_col,item_col,test_percentage=.2,no_components=50,seed=42,k=10,lr=0.1,item_alpha = 1e-6,user_alpha = 1e-6,epochs=100,threads=32):\n",
        "    user_features =list()\n",
        "    item_features=list()\n",
        "    if len(user_col)>0:\n",
        "      user_features=list( rating_df[user_col])\n",
        "    if len(item_col)>0:\n",
        "        item_features=list( rating_df[item_col])\n",
        "    user_features=iter(user_features)\n",
        "    item_features=iter(item_features)\n",
        "    \n",
        "    dataset = Dataset()\n",
        "    dataset.fit(users=rating_df['userID'], \n",
        "            items=rating_df['itemID'],\n",
        "             user_features=user_features,\n",
        "            item_features=item_features\n",
        "            )\n",
        "    user_features = dataset.build_user_features((x, y) for x,y in zip(rating_df.userID,user_features))\n",
        "    item_features = dataset.build_item_features((x, y) for x,y in zip(rating_df.itemID,item_features))\n",
        "    # quick check to determine the number of unique users and items in the data\n",
        "    num_users, num_items = dataset.interactions_shape()\n",
        "    print(f'Num users: {num_users}, num_items: {num_items}.')\n",
        "    interactions, weights = dataset.build_interactions(rating_df[['userID','itemID','rating']].values)\n",
        "\n",
        "\n",
        "    train_interactions, test_interactions = cross_validation.random_train_test_split(\n",
        "    interactions, test_percentage=test_percentage,\n",
        "    random_state=np.random.RandomState(seed))\n",
        "    model = LightFM(loss='warp', no_components=no_components, \n",
        "                 learning_rate=lr, \n",
        "                 item_alpha=item_alpha,\n",
        "                 user_alpha=user_alpha,\n",
        "                 random_state=np.random.RandomState(seed)\n",
        "                )\n",
        "    model.fit(interactions=train_interactions,\n",
        "           user_features=user_features,\n",
        "           item_features=item_features,\n",
        "           epochs=epochs\n",
        "           )\n",
        "    uids, iids, interaction_data = cross_validation._shuffle(\n",
        "    interactions.row, \n",
        "    interactions.col, \n",
        "    interactions.data, \n",
        "    random_state=np.random.RandomState(seed)\n",
        "    )\n",
        "\n",
        "    uid_map, ufeature_map, iid_map, ifeature_map = dataset.mapping()\n",
        "    cutoff = int((1.0 - test_percentage) * len(uids))\n",
        "    test_idx = slice(cutoff, None)\n",
        "    test_df = prepare_test_df(test_idx, uids, iids, uid_map, iid_map, weights)\n",
        "    all_predictions = prepare_all_predictions(rating_df, uid_map, iid_map, \n",
        "                                              interactions=train_interactions,\n",
        "                                              model=model, \n",
        "                                              user_features=user_features,\n",
        "                                              item_features=item_features,\n",
        "                                              num_threads=threads)\n",
        "    top_k_items = (\n",
        "            all_predictions.sort_values([\"userID\",\"prediction\" ], ascending=[True, False])\n",
        "            .groupby(\"userID\", as_index=False)\n",
        "            .head(k)\n",
        "            .reset_index(drop=True)\n",
        "        )\n",
        " \n",
        "    top_k_items = top_k_items[[\"userID\",\"itemID\"]]\n",
        "    print(\"Train precision: %.5f\" % precision_at_k(model, train_interactions, k=10, user_features=user_features,item_features=item_features,).mean())\n",
        "    print(\"Test precision: %.5f\" % precision_at_k(model, test_interactions, k=10,user_features=user_features,item_features=item_features,).mean())\n",
        "    return model,    top_k_items\n"
      ],
      "metadata": {
        "id": "f4ODCWQlusAc"
      },
      "id": "f4ODCWQlusAc",
      "execution_count": null,
      "outputs": []
    },
    {
      "cell_type": "code",
      "source": [],
      "metadata": {
        "id": "oI3QGWJW2FI0"
      },
      "id": "oI3QGWJW2FI0",
      "execution_count": null,
      "outputs": []
    },
    {
      "cell_type": "markdown",
      "source": [
        "#### Lib recommender code"
      ],
      "metadata": {
        "id": "P3GG9knK2GCc"
      },
      "id": "P3GG9knK2GCc"
    },
    {
      "cell_type": "code",
      "execution_count": null,
      "metadata": {
        "id": "Mz_p14qC0qMi"
      },
      "outputs": [],
      "source": [
        "# Evaluation metrics\n",
        "import libreco\n",
        "import tensorflow as tf\n",
        "from libreco.data import DatasetFeat, DataInfo\n",
        "from libreco.data import  split_by_ratio\n",
        "from libreco.data import split_by_ratio_chrono, DatasetPure, DatasetFeat\n",
        "from libreco.evaluation import evaluate\n",
        "from libreco.prediction import predict_data_with_feats\n",
        "import torch\n",
        "from libreco.algorithms import (\n",
        "    FM,\n",
        "    \n",
        ")\n",
        "\n",
        "import time\n",
        "import pandas as pd\n",
        "\n",
        "metrics=[\n",
        "            \"loss\",\n",
        "            \"balanced_accuracy\",\n",
        "            \"roc_auc\",\n",
        "            \"pr_auc\",\n",
        "            \"precision\",\n",
        "            \"recall\",\n",
        "            \"map\",\n",
        "            \"ndcg\",\n",
        "        ]\n",
        "\n",
        "# Call Librecommender API\n",
        "# datasettype =\"pure\" or \"feat\"\n",
        "def run(rating_df,user_col, item_col, col_sparse, dense_col,datasettype=\"pure\", algo=[\"als\"],hyperparam={\"als\":{ \"embed_size\":16,\n",
        "        \"n_epochs\":10,\n",
        "        \"reg\":5.0,\n",
        "        \"alpha\":10,\n",
        "        \"use_cg\":False,\n",
        "        \"n_threads\":1,\n",
        "        \"seed\":42}}, neg_samples=True):\n",
        "    train_data, test_data, data_info=None,None,None\n",
        "    tf.compat.v1.reset_default_graph()\n",
        "    train_data, test_data, data_info = preprocessingFeature(rating_df,user_col, item_col, col_sparse, dense_col, neg_samples) \n",
        "    models = dict()\n",
        "    evals = dict()\n",
        "    if(neg_samples):\n",
        "      train_data.build_negative_samples(\n",
        "            data_info, item_gen_mode=\"random\", num_neg=1, seed=2020\n",
        "        )\n",
        "      test_data.build_negative_samples(\n",
        "            data_info, item_gen_mode=\"random\", num_neg=1, seed=2222\n",
        "        )\n",
        "    for i in algo:\n",
        "        if i == 'FM':\n",
        "            \n",
        "            als, eval, algo_data_info = FM(train_data, test_data, data_info,hyperparam[\"FM\"])\n",
        "            models['FM'] = als\n",
        "            evals['FM'] = eval\n",
        "            print(\"Evaluation Results for FM:\")\n",
        "            print(evals['FM'])\n",
        "        \n",
        "       \n",
        "          \n",
        "    return models, evals\n",
        "\n",
        "# data preprocessing\n",
        "def preprocessingFeature(rating_df,user_col, item_col, col_sparse, dense_col, neg_samples=True):\n",
        "    data = rating_df.copy()\n",
        "\n",
        "    train, test = split_by_ratio(data, test_size=0.2)\n",
        "    train_data, data_info = DatasetFeat.build_trainset(\n",
        "        train, user_col, item_col, col_sparse, dense_col,\n",
        "        shuffle=False,\n",
        "    )\n",
        "    test_data = DatasetFeat.build_testset(test, shuffle=False)\n",
        "    if neg_samples:\n",
        "        train_data.build_negative_samples(\n",
        "            data_info, item_gen_mode=\"random\", num_neg=1, seed=2020\n",
        "        )\n",
        "        test_data.build_negative_samples(\n",
        "            data_info, item_gen_mode=\"random\", num_neg=1, seed=2222\n",
        "        )\n",
        "    return train_data, test_data, data_info\n",
        "\n",
        "\n",
        "# Recommend items to user\n",
        "def recommend(model, userid, k=10):\n",
        "    return model.recommend_user(user=userid, n_rec=k)\n",
        "\n",
        "# Find similar items\n",
        "def similarItems(model, itemids, k=10):\n",
        "    return model.search_knn_items(item=itemids, k=k)\n",
        "\n",
        "\n",
        "# Model : Wide and deep\n",
        "def FM(train_data, test_data, data_info,hyperparam={ \"loss_type\":\"cross_entropy\",\"embed_size\":16,\n",
        "        \"n_epochs\":10,\n",
        "        \"lr\":1e-4,\n",
        "        \"lr_decay\":False,\n",
        "        \"reg\":None,\n",
        "        \"batch_size\":256,\n",
        "        \"num_neg\":1,\n",
        "        \"use_bn\":False,\n",
        "        \"dropout_rate\":None,\n",
        "        \"tf_sess_config\":None,}):\n",
        "  \n",
        "    \n",
        "    model = libreco.algorithms.FM(\n",
        "        \"ranking\",\n",
        "        data_info,\n",
        "        loss_type=hyperparam[\"loss_type\"] ,\n",
        "        embed_size=hyperparam[\"embed_size\"],\n",
        "        n_epochs=hyperparam[\"n_epochs\"],\n",
        "        lr=hyperparam[\"lr\"],  \n",
        "        lr_decay=hyperparam[\"lr_decay\"],\n",
        "        reg=hyperparam[\"reg\"],\n",
        "        batch_size=hyperparam[\"batch_size\"],\n",
        "        num_neg=hyperparam[\"num_neg\"],\n",
        "        use_bn=hyperparam[\"use_bn\"],\n",
        "        dropout_rate=hyperparam[\"dropout_rate\"],\n",
        "      \n",
        "        tf_sess_config=hyperparam[\"tf_sess_config\"],\n",
        "    )\n",
        "    model.fit(\n",
        "        train_data,\n",
        "        verbose=2,\n",
        "        eval_data=test_data,\n",
        "        metrics=metrics,\n",
        "    )\n",
        "    result = evaluate(model=model, data=test_data, metrics=metrics)\n",
        "    return model, result, data_info\n",
        "\n",
        "    \n"
      ],
      "id": "Mz_p14qC0qMi"
    },
    {
      "cell_type": "markdown",
      "metadata": {
        "id": "mYOqn9gnSZZw"
      },
      "source": [
        "##  LightFM"
      ],
      "id": "mYOqn9gnSZZw"
    },
    {
      "cell_type": "code",
      "source": [
        "\n",
        "model,pred=runlightFM(rating_df,user_col,item_col)\n"
      ],
      "metadata": {
        "id": "Inad8KCVLDB2"
      },
      "execution_count": null,
      "outputs": [],
      "id": "Inad8KCVLDB2"
    },
    {
      "cell_type": "markdown",
      "metadata": {
        "id": "-d_XzF_wND7D"
      },
      "source": [
        "#### Recommendations to users"
      ],
      "id": "-d_XzF_wND7D"
    },
    {
      "cell_type": "code",
      "source": [
        "pred.head(10)"
      ],
      "metadata": {
        "id": "YLJ_KAGiw540"
      },
      "id": "YLJ_KAGiw540",
      "execution_count": null,
      "outputs": []
    },
    {
      "cell_type": "markdown",
      "metadata": {
        "id": "za_i4V_I1wkz"
      },
      "source": [
        "## Libreco FM"
      ],
      "id": "za_i4V_I1wkz"
    },
    {
      "cell_type": "code",
      "source": [
        "recofm_df=rating_df"
      ],
      "metadata": {
        "id": "oTGloai5DKIo"
      },
      "id": "oTGloai5DKIo",
      "execution_count": null,
      "outputs": []
    },
    {
      "cell_type": "code",
      "source": [
        "\n",
        "recofm_df.rename(columns = {'userID':'user'}, inplace = True)\n",
        "recofm_df.rename(columns = {'itemID':'item'}, inplace = True)\n",
        "recofm_df.rename(columns = {'label':'label'}, inplace = True)"
      ],
      "metadata": {
        "id": "SDI6w7mr3CMj"
      },
      "id": "SDI6w7mr3CMj",
      "execution_count": null,
      "outputs": []
    },
    {
      "cell_type": "code",
      "source": [
        "recofm_df['label']=1"
      ],
      "metadata": {
        "id": "cpW9ir1Y4XlC"
      },
      "id": "cpW9ir1Y4XlC",
      "execution_count": null,
      "outputs": []
    },
    {
      "cell_type": "code",
      "execution_count": null,
      "metadata": {
        "colab": {
          "base_uri": "https://localhost:8080/"
        },
        "id": "G2ite0KAND7B",
        "outputId": "849b8a6d-16ae-4127-cb50-fdd3e541662b"
      },
      "outputs": [
        {
          "output_type": "stream",
          "name": "stdout",
          "text": [
            "random neg item sampling elapsed: 0.005s\n",
            "random neg item sampling elapsed: 0.000s\n",
            "random neg item sampling elapsed: 0.009s\n",
            "random neg item sampling elapsed: 0.001s\n",
            "total params: \u001b[33m199,296\u001b[0m | embedding params: \u001b[33m199,227\u001b[0m | network params: \u001b[33m69\u001b[0m\n",
            "Training start time: \u001b[35m2023-02-08 07:50:15\u001b[0m\n"
          ]
        },
        {
          "output_type": "stream",
          "name": "stderr",
          "text": [
            "train: 100%|██████████| 129/129 [00:02<00:00, 46.96it/s] \n"
          ]
        },
        {
          "output_type": "stream",
          "name": "stdout",
          "text": [
            "Epoch 1 elapsed: 2.756s\n",
            "\t \u001b[32mtrain_loss: 0.6935\u001b[0m\n"
          ]
        },
        {
          "output_type": "stream",
          "name": "stderr",
          "text": [
            "eval_pointwise: 100%|██████████| 1/1 [00:00<00:00, 38.29it/s]\n"
          ]
        },
        {
          "output_type": "stream",
          "name": "stdout",
          "text": [
            "\t eval log_loss: 0.6934\n",
            "\t eval balanced accuracy: 0.4927\n",
            "\t eval roc_auc: 0.5006\n",
            "\t eval pr_auc: 0.4985\n"
          ]
        },
        {
          "output_type": "stream",
          "name": "stderr",
          "text": [
            "eval_listwise: 100%|██████████| 23/23 [00:00<00:00, 185.05it/s]\n"
          ]
        },
        {
          "output_type": "stream",
          "name": "stdout",
          "text": [
            "\t eval precision@10: 0.0007\n",
            "\t eval recall@10: 0.0073\n",
            "\t eval map@10: 0.0023\n",
            "\t eval ndcg@10: 0.0035\n",
            "==============================\n"
          ]
        },
        {
          "output_type": "stream",
          "name": "stderr",
          "text": [
            "train: 100%|██████████| 129/129 [00:00<00:00, 251.38it/s]\n"
          ]
        },
        {
          "output_type": "stream",
          "name": "stdout",
          "text": [
            "Epoch 2 elapsed: 0.522s\n",
            "\t \u001b[32mtrain_loss: 0.6934\u001b[0m\n"
          ]
        },
        {
          "output_type": "stream",
          "name": "stderr",
          "text": [
            "eval_pointwise: 100%|██████████| 1/1 [00:00<00:00, 248.46it/s]\n"
          ]
        },
        {
          "output_type": "stream",
          "name": "stdout",
          "text": [
            "\t eval log_loss: 0.6934\n",
            "\t eval balanced accuracy: 0.4927\n",
            "\t eval roc_auc: 0.5011\n",
            "\t eval pr_auc: 0.4990\n"
          ]
        },
        {
          "output_type": "stream",
          "name": "stderr",
          "text": [
            "eval_listwise: 100%|██████████| 23/23 [00:00<00:00, 201.22it/s]\n"
          ]
        },
        {
          "output_type": "stream",
          "name": "stdout",
          "text": [
            "\t eval precision@10: 0.0007\n",
            "\t eval recall@10: 0.0073\n",
            "\t eval map@10: 0.0023\n",
            "\t eval ndcg@10: 0.0035\n",
            "==============================\n"
          ]
        },
        {
          "output_type": "stream",
          "name": "stderr",
          "text": [
            "train: 100%|██████████| 129/129 [00:00<00:00, 255.85it/s]\n"
          ]
        },
        {
          "output_type": "stream",
          "name": "stdout",
          "text": [
            "Epoch 3 elapsed: 0.513s\n",
            "\t \u001b[32mtrain_loss: 0.6933\u001b[0m\n"
          ]
        },
        {
          "output_type": "stream",
          "name": "stderr",
          "text": [
            "eval_pointwise: 100%|██████████| 1/1 [00:00<00:00, 563.07it/s]\n"
          ]
        },
        {
          "output_type": "stream",
          "name": "stdout",
          "text": [
            "\t eval log_loss: 0.6933\n",
            "\t eval balanced accuracy: 0.4966\n",
            "\t eval roc_auc: 0.5016\n",
            "\t eval pr_auc: 0.4993\n"
          ]
        },
        {
          "output_type": "stream",
          "name": "stderr",
          "text": [
            "eval_listwise: 100%|██████████| 23/23 [00:00<00:00, 203.00it/s]\n"
          ]
        },
        {
          "output_type": "stream",
          "name": "stdout",
          "text": [
            "\t eval precision@10: 0.0005\n",
            "\t eval recall@10: 0.0049\n",
            "\t eval map@10: 0.0017\n",
            "\t eval ndcg@10: 0.0025\n",
            "==============================\n"
          ]
        },
        {
          "output_type": "stream",
          "name": "stderr",
          "text": [
            "train: 100%|██████████| 129/129 [00:00<00:00, 255.20it/s]\n"
          ]
        },
        {
          "output_type": "stream",
          "name": "stdout",
          "text": [
            "Epoch 4 elapsed: 0.513s\n",
            "\t \u001b[32mtrain_loss: 0.6932\u001b[0m\n"
          ]
        },
        {
          "output_type": "stream",
          "name": "stderr",
          "text": [
            "eval_pointwise: 100%|██████████| 1/1 [00:00<00:00, 461.78it/s]\n"
          ]
        },
        {
          "output_type": "stream",
          "name": "stdout",
          "text": [
            "\t eval log_loss: 0.6933\n",
            "\t eval balanced accuracy: 0.4989\n",
            "\t eval roc_auc: 0.5023\n",
            "\t eval pr_auc: 0.4999\n"
          ]
        },
        {
          "output_type": "stream",
          "name": "stderr",
          "text": [
            "eval_listwise: 100%|██████████| 23/23 [00:00<00:00, 192.91it/s]\n"
          ]
        },
        {
          "output_type": "stream",
          "name": "stdout",
          "text": [
            "\t eval precision@10: 0.0007\n",
            "\t eval recall@10: 0.0073\n",
            "\t eval map@10: 0.0019\n",
            "\t eval ndcg@10: 0.0031\n",
            "==============================\n"
          ]
        },
        {
          "output_type": "stream",
          "name": "stderr",
          "text": [
            "train: 100%|██████████| 129/129 [00:00<00:00, 225.04it/s]\n"
          ]
        },
        {
          "output_type": "stream",
          "name": "stdout",
          "text": [
            "Epoch 5 elapsed: 0.582s\n",
            "\t \u001b[32mtrain_loss: 0.693\u001b[0m\n"
          ]
        },
        {
          "output_type": "stream",
          "name": "stderr",
          "text": [
            "eval_pointwise: 100%|██████████| 1/1 [00:00<00:00, 358.52it/s]\n"
          ]
        },
        {
          "output_type": "stream",
          "name": "stdout",
          "text": [
            "\t eval log_loss: 0.6933\n",
            "\t eval balanced accuracy: 0.4978\n",
            "\t eval roc_auc: 0.5030\n",
            "\t eval pr_auc: 0.5013\n"
          ]
        },
        {
          "output_type": "stream",
          "name": "stderr",
          "text": [
            "eval_listwise: 100%|██████████| 23/23 [00:00<00:00, 184.08it/s]\n"
          ]
        },
        {
          "output_type": "stream",
          "name": "stdout",
          "text": [
            "\t eval precision@10: 0.0007\n",
            "\t eval recall@10: 0.0073\n",
            "\t eval map@10: 0.0015\n",
            "\t eval ndcg@10: 0.0028\n",
            "==============================\n"
          ]
        },
        {
          "output_type": "stream",
          "name": "stderr",
          "text": [
            "train: 100%|██████████| 129/129 [00:00<00:00, 232.98it/s]\n"
          ]
        },
        {
          "output_type": "stream",
          "name": "stdout",
          "text": [
            "Epoch 6 elapsed: 0.565s\n",
            "\t \u001b[32mtrain_loss: 0.6929\u001b[0m\n"
          ]
        },
        {
          "output_type": "stream",
          "name": "stderr",
          "text": [
            "eval_pointwise: 100%|██████████| 1/1 [00:00<00:00, 234.27it/s]\n"
          ]
        },
        {
          "output_type": "stream",
          "name": "stdout",
          "text": [
            "\t eval log_loss: 0.6933\n",
            "\t eval balanced accuracy: 0.5000\n",
            "\t eval roc_auc: 0.5036\n",
            "\t eval pr_auc: 0.5017\n"
          ]
        },
        {
          "output_type": "stream",
          "name": "stderr",
          "text": [
            "eval_listwise: 100%|██████████| 23/23 [00:00<00:00, 185.64it/s]\n"
          ]
        },
        {
          "output_type": "stream",
          "name": "stdout",
          "text": [
            "\t eval precision@10: 0.0007\n",
            "\t eval recall@10: 0.0073\n",
            "\t eval map@10: 0.0013\n",
            "\t eval ndcg@10: 0.0026\n",
            "==============================\n"
          ]
        },
        {
          "output_type": "stream",
          "name": "stderr",
          "text": [
            "train: 100%|██████████| 129/129 [00:00<00:00, 217.80it/s]\n"
          ]
        },
        {
          "output_type": "stream",
          "name": "stdout",
          "text": [
            "Epoch 7 elapsed: 0.602s\n",
            "\t \u001b[32mtrain_loss: 0.6928\u001b[0m\n"
          ]
        },
        {
          "output_type": "stream",
          "name": "stderr",
          "text": [
            "eval_pointwise: 100%|██████████| 1/1 [00:00<00:00, 279.38it/s]\n"
          ]
        },
        {
          "output_type": "stream",
          "name": "stdout",
          "text": [
            "\t eval log_loss: 0.6932\n",
            "\t eval balanced accuracy: 0.4983\n",
            "\t eval roc_auc: 0.5042\n",
            "\t eval pr_auc: 0.5022\n"
          ]
        },
        {
          "output_type": "stream",
          "name": "stderr",
          "text": [
            "eval_listwise: 100%|██████████| 23/23 [00:00<00:00, 186.85it/s]\n"
          ]
        },
        {
          "output_type": "stream",
          "name": "stdout",
          "text": [
            "\t eval precision@10: 0.0012\n",
            "\t eval recall@10: 0.0122\n",
            "\t eval map@10: 0.0018\n",
            "\t eval ndcg@10: 0.0041\n",
            "==============================\n"
          ]
        },
        {
          "output_type": "stream",
          "name": "stderr",
          "text": [
            "train: 100%|██████████| 129/129 [00:00<00:00, 211.95it/s]\n"
          ]
        },
        {
          "output_type": "stream",
          "name": "stdout",
          "text": [
            "Epoch 8 elapsed: 0.617s\n",
            "\t \u001b[32mtrain_loss: 0.6927\u001b[0m\n"
          ]
        },
        {
          "output_type": "stream",
          "name": "stderr",
          "text": [
            "eval_pointwise: 100%|██████████| 1/1 [00:00<00:00, 671.84it/s]\n"
          ]
        },
        {
          "output_type": "stream",
          "name": "stdout",
          "text": [
            "\t eval log_loss: 0.6932\n",
            "\t eval balanced accuracy: 0.4994\n",
            "\t eval roc_auc: 0.5051\n",
            "\t eval pr_auc: 0.5031\n"
          ]
        },
        {
          "output_type": "stream",
          "name": "stderr",
          "text": [
            "eval_listwise: 100%|██████████| 23/23 [00:00<00:00, 175.50it/s]\n"
          ]
        },
        {
          "output_type": "stream",
          "name": "stdout",
          "text": [
            "\t eval precision@10: 0.0012\n",
            "\t eval recall@10: 0.0122\n",
            "\t eval map@10: 0.0023\n",
            "\t eval ndcg@10: 0.0046\n",
            "==============================\n"
          ]
        },
        {
          "output_type": "stream",
          "name": "stderr",
          "text": [
            "train: 100%|██████████| 129/129 [00:00<00:00, 220.06it/s]\n"
          ]
        },
        {
          "output_type": "stream",
          "name": "stdout",
          "text": [
            "Epoch 9 elapsed: 0.595s\n",
            "\t \u001b[32mtrain_loss: 0.6925\u001b[0m\n"
          ]
        },
        {
          "output_type": "stream",
          "name": "stderr",
          "text": [
            "eval_pointwise: 100%|██████████| 1/1 [00:00<00:00, 508.59it/s]\n"
          ]
        },
        {
          "output_type": "stream",
          "name": "stdout",
          "text": [
            "\t eval log_loss: 0.6932\n",
            "\t eval balanced accuracy: 0.4972\n",
            "\t eval roc_auc: 0.5058\n",
            "\t eval pr_auc: 0.5035\n"
          ]
        },
        {
          "output_type": "stream",
          "name": "stderr",
          "text": [
            "eval_listwise: 100%|██████████| 23/23 [00:00<00:00, 186.47it/s]\n"
          ]
        },
        {
          "output_type": "stream",
          "name": "stdout",
          "text": [
            "\t eval precision@10: 0.0012\n",
            "\t eval recall@10: 0.0109\n",
            "\t eval map@10: 0.0029\n",
            "\t eval ndcg@10: 0.0050\n",
            "==============================\n"
          ]
        },
        {
          "output_type": "stream",
          "name": "stderr",
          "text": [
            "train: 100%|██████████| 129/129 [00:00<00:00, 250.87it/s]\n"
          ]
        },
        {
          "output_type": "stream",
          "name": "stdout",
          "text": [
            "Epoch 10 elapsed: 0.525s\n",
            "\t \u001b[32mtrain_loss: 0.6924\u001b[0m\n"
          ]
        },
        {
          "output_type": "stream",
          "name": "stderr",
          "text": [
            "eval_pointwise: 100%|██████████| 1/1 [00:00<00:00, 284.94it/s]\n"
          ]
        },
        {
          "output_type": "stream",
          "name": "stdout",
          "text": [
            "\t eval log_loss: 0.6931\n",
            "\t eval balanced accuracy: 0.4989\n",
            "\t eval roc_auc: 0.5068\n",
            "\t eval pr_auc: 0.5041\n"
          ]
        },
        {
          "output_type": "stream",
          "name": "stderr",
          "text": [
            "eval_listwise: 100%|██████████| 23/23 [00:00<00:00, 195.21it/s]\n"
          ]
        },
        {
          "output_type": "stream",
          "name": "stdout",
          "text": [
            "\t eval precision@10: 0.0010\n",
            "\t eval recall@10: 0.0097\n",
            "\t eval map@10: 0.0026\n",
            "\t eval ndcg@10: 0.0042\n",
            "==============================\n"
          ]
        },
        {
          "output_type": "stream",
          "name": "stderr",
          "text": [
            "train: 100%|██████████| 129/129 [00:00<00:00, 252.99it/s]\n"
          ]
        },
        {
          "output_type": "stream",
          "name": "stdout",
          "text": [
            "Epoch 11 elapsed: 0.519s\n",
            "\t \u001b[32mtrain_loss: 0.6922\u001b[0m\n"
          ]
        },
        {
          "output_type": "stream",
          "name": "stderr",
          "text": [
            "eval_pointwise: 100%|██████████| 1/1 [00:00<00:00, 217.07it/s]\n"
          ]
        },
        {
          "output_type": "stream",
          "name": "stdout",
          "text": [
            "\t eval log_loss: 0.6931\n",
            "\t eval balanced accuracy: 0.5000\n",
            "\t eval roc_auc: 0.5078\n",
            "\t eval pr_auc: 0.5052\n"
          ]
        },
        {
          "output_type": "stream",
          "name": "stderr",
          "text": [
            "eval_listwise: 100%|██████████| 23/23 [00:00<00:00, 198.99it/s]\n"
          ]
        },
        {
          "output_type": "stream",
          "name": "stdout",
          "text": [
            "\t eval precision@10: 0.0007\n",
            "\t eval recall@10: 0.0073\n",
            "\t eval map@10: 0.0023\n",
            "\t eval ndcg@10: 0.0035\n",
            "==============================\n"
          ]
        },
        {
          "output_type": "stream",
          "name": "stderr",
          "text": [
            "train: 100%|██████████| 129/129 [00:00<00:00, 247.81it/s]\n"
          ]
        },
        {
          "output_type": "stream",
          "name": "stdout",
          "text": [
            "Epoch 12 elapsed: 0.529s\n",
            "\t \u001b[32mtrain_loss: 0.692\u001b[0m\n"
          ]
        },
        {
          "output_type": "stream",
          "name": "stderr",
          "text": [
            "eval_pointwise: 100%|██████████| 1/1 [00:00<00:00, 357.17it/s]\n"
          ]
        },
        {
          "output_type": "stream",
          "name": "stdout",
          "text": [
            "\t eval log_loss: 0.6931\n",
            "\t eval balanced accuracy: 0.5006\n",
            "\t eval roc_auc: 0.5087\n",
            "\t eval pr_auc: 0.5060\n"
          ]
        },
        {
          "output_type": "stream",
          "name": "stderr",
          "text": [
            "eval_listwise: 100%|██████████| 23/23 [00:00<00:00, 197.84it/s]\n"
          ]
        },
        {
          "output_type": "stream",
          "name": "stdout",
          "text": [
            "\t eval precision@10: 0.0010\n",
            "\t eval recall@10: 0.0085\n",
            "\t eval map@10: 0.0030\n",
            "\t eval ndcg@10: 0.0045\n",
            "==============================\n"
          ]
        },
        {
          "output_type": "stream",
          "name": "stderr",
          "text": [
            "train: 100%|██████████| 129/129 [00:00<00:00, 253.43it/s]\n"
          ]
        },
        {
          "output_type": "stream",
          "name": "stdout",
          "text": [
            "Epoch 13 elapsed: 0.517s\n",
            "\t \u001b[32mtrain_loss: 0.6918\u001b[0m\n"
          ]
        },
        {
          "output_type": "stream",
          "name": "stderr",
          "text": [
            "eval_pointwise: 100%|██████████| 1/1 [00:00<00:00, 399.61it/s]\n"
          ]
        },
        {
          "output_type": "stream",
          "name": "stdout",
          "text": [
            "\t eval log_loss: 0.6931\n",
            "\t eval balanced accuracy: 0.5017\n",
            "\t eval roc_auc: 0.5100\n",
            "\t eval pr_auc: 0.5063\n"
          ]
        },
        {
          "output_type": "stream",
          "name": "stderr",
          "text": [
            "eval_listwise: 100%|██████████| 23/23 [00:00<00:00, 190.77it/s]\n"
          ]
        },
        {
          "output_type": "stream",
          "name": "stdout",
          "text": [
            "\t eval precision@10: 0.0010\n",
            "\t eval recall@10: 0.0085\n",
            "\t eval map@10: 0.0030\n",
            "\t eval ndcg@10: 0.0046\n",
            "==============================\n"
          ]
        },
        {
          "output_type": "stream",
          "name": "stderr",
          "text": [
            "train: 100%|██████████| 129/129 [00:00<00:00, 255.80it/s]\n"
          ]
        },
        {
          "output_type": "stream",
          "name": "stdout",
          "text": [
            "Epoch 14 elapsed: 0.513s\n",
            "\t \u001b[32mtrain_loss: 0.6915\u001b[0m\n"
          ]
        },
        {
          "output_type": "stream",
          "name": "stderr",
          "text": [
            "eval_pointwise: 100%|██████████| 1/1 [00:00<00:00, 813.48it/s]\n"
          ]
        },
        {
          "output_type": "stream",
          "name": "stdout",
          "text": [
            "\t eval log_loss: 0.6930\n",
            "\t eval balanced accuracy: 0.5062\n",
            "\t eval roc_auc: 0.5113\n",
            "\t eval pr_auc: 0.5076\n"
          ]
        },
        {
          "output_type": "stream",
          "name": "stderr",
          "text": [
            "eval_listwise: 100%|██████████| 23/23 [00:00<00:00, 196.70it/s]\n"
          ]
        },
        {
          "output_type": "stream",
          "name": "stdout",
          "text": [
            "\t eval precision@10: 0.0010\n",
            "\t eval recall@10: 0.0085\n",
            "\t eval map@10: 0.0031\n",
            "\t eval ndcg@10: 0.0046\n",
            "==============================\n"
          ]
        },
        {
          "output_type": "stream",
          "name": "stderr",
          "text": [
            "train: 100%|██████████| 129/129 [00:00<00:00, 255.98it/s]\n"
          ]
        },
        {
          "output_type": "stream",
          "name": "stdout",
          "text": [
            "Epoch 15 elapsed: 0.511s\n",
            "\t \u001b[32mtrain_loss: 0.6912\u001b[0m\n"
          ]
        },
        {
          "output_type": "stream",
          "name": "stderr",
          "text": [
            "eval_pointwise: 100%|██████████| 1/1 [00:00<00:00, 590.83it/s]\n"
          ]
        },
        {
          "output_type": "stream",
          "name": "stdout",
          "text": [
            "\t eval log_loss: 0.6930\n",
            "\t eval balanced accuracy: 0.5050\n",
            "\t eval roc_auc: 0.5127\n",
            "\t eval pr_auc: 0.5094\n"
          ]
        },
        {
          "output_type": "stream",
          "name": "stderr",
          "text": [
            "eval_listwise: 100%|██████████| 23/23 [00:00<00:00, 194.66it/s]\n"
          ]
        },
        {
          "output_type": "stream",
          "name": "stdout",
          "text": [
            "\t eval precision@10: 0.0010\n",
            "\t eval recall@10: 0.0085\n",
            "\t eval map@10: 0.0043\n",
            "\t eval ndcg@10: 0.0056\n",
            "==============================\n"
          ]
        },
        {
          "output_type": "stream",
          "name": "stderr",
          "text": [
            "train: 100%|██████████| 129/129 [00:00<00:00, 249.39it/s]\n"
          ]
        },
        {
          "output_type": "stream",
          "name": "stdout",
          "text": [
            "Epoch 16 elapsed: 0.527s\n",
            "\t \u001b[32mtrain_loss: 0.6909\u001b[0m\n"
          ]
        },
        {
          "output_type": "stream",
          "name": "stderr",
          "text": [
            "eval_pointwise: 100%|██████████| 1/1 [00:00<00:00, 620.00it/s]\n"
          ]
        },
        {
          "output_type": "stream",
          "name": "stdout",
          "text": [
            "\t eval log_loss: 0.6929\n",
            "\t eval balanced accuracy: 0.5067\n",
            "\t eval roc_auc: 0.5145\n",
            "\t eval pr_auc: 0.5111\n"
          ]
        },
        {
          "output_type": "stream",
          "name": "stderr",
          "text": [
            "eval_listwise: 100%|██████████| 23/23 [00:00<00:00, 195.08it/s]\n"
          ]
        },
        {
          "output_type": "stream",
          "name": "stdout",
          "text": [
            "\t eval precision@10: 0.0010\n",
            "\t eval recall@10: 0.0085\n",
            "\t eval map@10: 0.0046\n",
            "\t eval ndcg@10: 0.0058\n",
            "==============================\n"
          ]
        },
        {
          "output_type": "stream",
          "name": "stderr",
          "text": [
            "train: 100%|██████████| 129/129 [00:00<00:00, 248.79it/s]\n"
          ]
        },
        {
          "output_type": "stream",
          "name": "stdout",
          "text": [
            "Epoch 17 elapsed: 0.527s\n",
            "\t \u001b[32mtrain_loss: 0.6905\u001b[0m\n"
          ]
        },
        {
          "output_type": "stream",
          "name": "stderr",
          "text": [
            "eval_pointwise: 100%|██████████| 1/1 [00:00<00:00, 211.76it/s]\n"
          ]
        },
        {
          "output_type": "stream",
          "name": "stdout",
          "text": [
            "\t eval log_loss: 0.6929\n",
            "\t eval balanced accuracy: 0.5090\n",
            "\t eval roc_auc: 0.5161\n",
            "\t eval pr_auc: 0.5127\n"
          ]
        },
        {
          "output_type": "stream",
          "name": "stderr",
          "text": [
            "eval_listwise: 100%|██████████| 23/23 [00:00<00:00, 191.91it/s]\n"
          ]
        },
        {
          "output_type": "stream",
          "name": "stdout",
          "text": [
            "\t eval precision@10: 0.0010\n",
            "\t eval recall@10: 0.0085\n",
            "\t eval map@10: 0.0046\n",
            "\t eval ndcg@10: 0.0058\n",
            "==============================\n"
          ]
        },
        {
          "output_type": "stream",
          "name": "stderr",
          "text": [
            "train: 100%|██████████| 129/129 [00:00<00:00, 155.42it/s]\n"
          ]
        },
        {
          "output_type": "stream",
          "name": "stdout",
          "text": [
            "Epoch 18 elapsed: 0.843s\n",
            "\t \u001b[32mtrain_loss: 0.6901\u001b[0m\n"
          ]
        },
        {
          "output_type": "stream",
          "name": "stderr",
          "text": [
            "eval_pointwise: 100%|██████████| 1/1 [00:00<00:00, 302.16it/s]\n"
          ]
        },
        {
          "output_type": "stream",
          "name": "stdout",
          "text": [
            "\t eval log_loss: 0.6928\n",
            "\t eval balanced accuracy: 0.5090\n",
            "\t eval roc_auc: 0.5177\n",
            "\t eval pr_auc: 0.5146\n"
          ]
        },
        {
          "output_type": "stream",
          "name": "stderr",
          "text": [
            "eval_listwise: 100%|██████████| 23/23 [00:00<00:00, 121.06it/s]\n"
          ]
        },
        {
          "output_type": "stream",
          "name": "stdout",
          "text": [
            "\t eval precision@10: 0.0010\n",
            "\t eval recall@10: 0.0085\n",
            "\t eval map@10: 0.0048\n",
            "\t eval ndcg@10: 0.0060\n",
            "==============================\n"
          ]
        },
        {
          "output_type": "stream",
          "name": "stderr",
          "text": [
            "train: 100%|██████████| 129/129 [00:00<00:00, 163.82it/s]\n"
          ]
        },
        {
          "output_type": "stream",
          "name": "stdout",
          "text": [
            "Epoch 19 elapsed: 0.798s\n",
            "\t \u001b[32mtrain_loss: 0.6896\u001b[0m\n"
          ]
        },
        {
          "output_type": "stream",
          "name": "stderr",
          "text": [
            "eval_pointwise: 100%|██████████| 1/1 [00:00<00:00, 257.92it/s]\n"
          ]
        },
        {
          "output_type": "stream",
          "name": "stdout",
          "text": [
            "\t eval log_loss: 0.6928\n",
            "\t eval balanced accuracy: 0.5067\n",
            "\t eval roc_auc: 0.5193\n",
            "\t eval pr_auc: 0.5167\n"
          ]
        },
        {
          "output_type": "stream",
          "name": "stderr",
          "text": [
            "eval_listwise: 100%|██████████| 23/23 [00:00<00:00, 170.44it/s]\n"
          ]
        },
        {
          "output_type": "stream",
          "name": "stdout",
          "text": [
            "\t eval precision@10: 0.0012\n",
            "\t eval recall@10: 0.0109\n",
            "\t eval map@10: 0.0051\n",
            "\t eval ndcg@10: 0.0067\n",
            "==============================\n"
          ]
        },
        {
          "output_type": "stream",
          "name": "stderr",
          "text": [
            "train: 100%|██████████| 129/129 [00:00<00:00, 164.21it/s]\n"
          ]
        },
        {
          "output_type": "stream",
          "name": "stdout",
          "text": [
            "Epoch 20 elapsed: 0.797s\n",
            "\t \u001b[32mtrain_loss: 0.689\u001b[0m\n"
          ]
        },
        {
          "output_type": "stream",
          "name": "stderr",
          "text": [
            "eval_pointwise: 100%|██████████| 1/1 [00:00<00:00, 605.59it/s]\n"
          ]
        },
        {
          "output_type": "stream",
          "name": "stdout",
          "text": [
            "\t eval log_loss: 0.6927\n",
            "\t eval balanced accuracy: 0.5118\n",
            "\t eval roc_auc: 0.5214\n",
            "\t eval pr_auc: 0.5195\n"
          ]
        },
        {
          "output_type": "stream",
          "name": "stderr",
          "text": [
            "eval_listwise: 100%|██████████| 23/23 [00:00<00:00, 192.72it/s]\n"
          ]
        },
        {
          "output_type": "stream",
          "name": "stdout",
          "text": [
            "\t eval precision@10: 0.0012\n",
            "\t eval recall@10: 0.0109\n",
            "\t eval map@10: 0.0050\n",
            "\t eval ndcg@10: 0.0067\n",
            "==============================\n"
          ]
        },
        {
          "output_type": "stream",
          "name": "stderr",
          "text": [
            "train: 100%|██████████| 129/129 [00:00<00:00, 257.03it/s]\n"
          ]
        },
        {
          "output_type": "stream",
          "name": "stdout",
          "text": [
            "Epoch 21 elapsed: 0.510s\n",
            "\t \u001b[32mtrain_loss: 0.6883\u001b[0m\n"
          ]
        },
        {
          "output_type": "stream",
          "name": "stderr",
          "text": [
            "eval_pointwise: 100%|██████████| 1/1 [00:00<00:00, 190.07it/s]\n"
          ]
        },
        {
          "output_type": "stream",
          "name": "stdout",
          "text": [
            "\t eval log_loss: 0.6926\n",
            "\t eval balanced accuracy: 0.5101\n",
            "\t eval roc_auc: 0.5233\n",
            "\t eval pr_auc: 0.5222\n"
          ]
        },
        {
          "output_type": "stream",
          "name": "stderr",
          "text": [
            "eval_listwise: 100%|██████████| 23/23 [00:00<00:00, 197.67it/s]\n"
          ]
        },
        {
          "output_type": "stream",
          "name": "stdout",
          "text": [
            "\t eval precision@10: 0.0012\n",
            "\t eval recall@10: 0.0109\n",
            "\t eval map@10: 0.0055\n",
            "\t eval ndcg@10: 0.0070\n",
            "==============================\n"
          ]
        },
        {
          "output_type": "stream",
          "name": "stderr",
          "text": [
            "train: 100%|██████████| 129/129 [00:00<00:00, 246.55it/s]\n"
          ]
        },
        {
          "output_type": "stream",
          "name": "stdout",
          "text": [
            "Epoch 22 elapsed: 0.533s\n",
            "\t \u001b[32mtrain_loss: 0.6876\u001b[0m\n"
          ]
        },
        {
          "output_type": "stream",
          "name": "stderr",
          "text": [
            "eval_pointwise: 100%|██████████| 1/1 [00:00<00:00, 480.50it/s]\n"
          ]
        },
        {
          "output_type": "stream",
          "name": "stdout",
          "text": [
            "\t eval log_loss: 0.6926\n",
            "\t eval balanced accuracy: 0.5146\n",
            "\t eval roc_auc: 0.5251\n",
            "\t eval pr_auc: 0.5244\n"
          ]
        },
        {
          "output_type": "stream",
          "name": "stderr",
          "text": [
            "eval_listwise: 100%|██████████| 23/23 [00:00<00:00, 186.05it/s]\n"
          ]
        },
        {
          "output_type": "stream",
          "name": "stdout",
          "text": [
            "\t eval precision@10: 0.0012\n",
            "\t eval recall@10: 0.0109\n",
            "\t eval map@10: 0.0051\n",
            "\t eval ndcg@10: 0.0067\n",
            "==============================\n"
          ]
        },
        {
          "output_type": "stream",
          "name": "stderr",
          "text": [
            "train: 100%|██████████| 129/129 [00:00<00:00, 230.30it/s]\n"
          ]
        },
        {
          "output_type": "stream",
          "name": "stdout",
          "text": [
            "Epoch 23 elapsed: 0.569s\n",
            "\t \u001b[32mtrain_loss: 0.6867\u001b[0m\n"
          ]
        },
        {
          "output_type": "stream",
          "name": "stderr",
          "text": [
            "eval_pointwise: 100%|██████████| 1/1 [00:00<00:00, 353.50it/s]\n"
          ]
        },
        {
          "output_type": "stream",
          "name": "stdout",
          "text": [
            "\t eval log_loss: 0.6925\n",
            "\t eval balanced accuracy: 0.5213\n",
            "\t eval roc_auc: 0.5266\n",
            "\t eval pr_auc: 0.5268\n"
          ]
        },
        {
          "output_type": "stream",
          "name": "stderr",
          "text": [
            "eval_listwise: 100%|██████████| 23/23 [00:00<00:00, 169.76it/s]\n"
          ]
        },
        {
          "output_type": "stream",
          "name": "stdout",
          "text": [
            "\t eval precision@10: 0.0010\n",
            "\t eval recall@10: 0.0085\n",
            "\t eval map@10: 0.0048\n",
            "\t eval ndcg@10: 0.0060\n",
            "==============================\n"
          ]
        },
        {
          "output_type": "stream",
          "name": "stderr",
          "text": [
            "train: 100%|██████████| 129/129 [00:00<00:00, 229.84it/s]\n"
          ]
        },
        {
          "output_type": "stream",
          "name": "stdout",
          "text": [
            "Epoch 24 elapsed: 0.569s\n",
            "\t \u001b[32mtrain_loss: 0.6858\u001b[0m\n"
          ]
        },
        {
          "output_type": "stream",
          "name": "stderr",
          "text": [
            "eval_pointwise: 100%|██████████| 1/1 [00:00<00:00, 355.24it/s]\n"
          ]
        },
        {
          "output_type": "stream",
          "name": "stdout",
          "text": [
            "\t eval log_loss: 0.6924\n",
            "\t eval balanced accuracy: 0.5207\n",
            "\t eval roc_auc: 0.5280\n",
            "\t eval pr_auc: 0.5292\n"
          ]
        },
        {
          "output_type": "stream",
          "name": "stderr",
          "text": [
            "eval_listwise: 100%|██████████| 23/23 [00:00<00:00, 166.30it/s]\n"
          ]
        },
        {
          "output_type": "stream",
          "name": "stdout",
          "text": [
            "\t eval precision@10: 0.0012\n",
            "\t eval recall@10: 0.0097\n",
            "\t eval map@10: 0.0035\n",
            "\t eval ndcg@10: 0.0056\n",
            "==============================\n"
          ]
        },
        {
          "output_type": "stream",
          "name": "stderr",
          "text": [
            "train: 100%|██████████| 129/129 [00:00<00:00, 217.86it/s]\n"
          ]
        },
        {
          "output_type": "stream",
          "name": "stdout",
          "text": [
            "Epoch 25 elapsed: 0.603s\n",
            "\t \u001b[32mtrain_loss: 0.6847\u001b[0m\n"
          ]
        },
        {
          "output_type": "stream",
          "name": "stderr",
          "text": [
            "eval_pointwise: 100%|██████████| 1/1 [00:00<00:00, 362.01it/s]\n"
          ]
        },
        {
          "output_type": "stream",
          "name": "stdout",
          "text": [
            "\t eval log_loss: 0.6923\n",
            "\t eval balanced accuracy: 0.5230\n",
            "\t eval roc_auc: 0.5295\n",
            "\t eval pr_auc: 0.5318\n"
          ]
        },
        {
          "output_type": "stream",
          "name": "stderr",
          "text": [
            "eval_listwise: 100%|██████████| 23/23 [00:00<00:00, 179.26it/s]\n"
          ]
        },
        {
          "output_type": "stream",
          "name": "stdout",
          "text": [
            "\t eval precision@10: 0.0012\n",
            "\t eval recall@10: 0.0097\n",
            "\t eval map@10: 0.0035\n",
            "\t eval ndcg@10: 0.0056\n",
            "==============================\n"
          ]
        },
        {
          "output_type": "stream",
          "name": "stderr",
          "text": [
            "train: 100%|██████████| 129/129 [00:00<00:00, 216.70it/s]\n"
          ]
        },
        {
          "output_type": "stream",
          "name": "stdout",
          "text": [
            "Epoch 26 elapsed: 0.606s\n",
            "\t \u001b[32mtrain_loss: 0.6835\u001b[0m\n"
          ]
        },
        {
          "output_type": "stream",
          "name": "stderr",
          "text": [
            "eval_pointwise: 100%|██████████| 1/1 [00:00<00:00, 262.36it/s]\n"
          ]
        },
        {
          "output_type": "stream",
          "name": "stdout",
          "text": [
            "\t eval log_loss: 0.6922\n",
            "\t eval balanced accuracy: 0.5191\n",
            "\t eval roc_auc: 0.5309\n",
            "\t eval pr_auc: 0.5341\n"
          ]
        },
        {
          "output_type": "stream",
          "name": "stderr",
          "text": [
            "eval_listwise: 100%|██████████| 23/23 [00:00<00:00, 191.07it/s]\n"
          ]
        },
        {
          "output_type": "stream",
          "name": "stdout",
          "text": [
            "\t eval precision@10: 0.0015\n",
            "\t eval recall@10: 0.0122\n",
            "\t eval map@10: 0.0039\n",
            "\t eval ndcg@10: 0.0064\n",
            "==============================\n"
          ]
        },
        {
          "output_type": "stream",
          "name": "stderr",
          "text": [
            "train: 100%|██████████| 129/129 [00:00<00:00, 216.06it/s]\n"
          ]
        },
        {
          "output_type": "stream",
          "name": "stdout",
          "text": [
            "Epoch 27 elapsed: 0.605s\n",
            "\t \u001b[32mtrain_loss: 0.6821\u001b[0m\n"
          ]
        },
        {
          "output_type": "stream",
          "name": "stderr",
          "text": [
            "eval_pointwise: 100%|██████████| 1/1 [00:00<00:00, 329.69it/s]\n"
          ]
        },
        {
          "output_type": "stream",
          "name": "stdout",
          "text": [
            "\t eval log_loss: 0.6921\n",
            "\t eval balanced accuracy: 0.5202\n",
            "\t eval roc_auc: 0.5319\n",
            "\t eval pr_auc: 0.5362\n"
          ]
        },
        {
          "output_type": "stream",
          "name": "stderr",
          "text": [
            "eval_listwise: 100%|██████████| 23/23 [00:00<00:00, 183.17it/s]\n"
          ]
        },
        {
          "output_type": "stream",
          "name": "stdout",
          "text": [
            "\t eval precision@10: 0.0017\n",
            "\t eval recall@10: 0.0146\n",
            "\t eval map@10: 0.0043\n",
            "\t eval ndcg@10: 0.0073\n",
            "==============================\n"
          ]
        },
        {
          "output_type": "stream",
          "name": "stderr",
          "text": [
            "train: 100%|██████████| 129/129 [00:00<00:00, 254.54it/s]\n"
          ]
        },
        {
          "output_type": "stream",
          "name": "stdout",
          "text": [
            "Epoch 28 elapsed: 0.515s\n",
            "\t \u001b[32mtrain_loss: 0.6806\u001b[0m\n"
          ]
        },
        {
          "output_type": "stream",
          "name": "stderr",
          "text": [
            "eval_pointwise: 100%|██████████| 1/1 [00:00<00:00, 234.38it/s]\n"
          ]
        },
        {
          "output_type": "stream",
          "name": "stdout",
          "text": [
            "\t eval log_loss: 0.6920\n",
            "\t eval balanced accuracy: 0.5151\n",
            "\t eval roc_auc: 0.5325\n",
            "\t eval pr_auc: 0.5381\n"
          ]
        },
        {
          "output_type": "stream",
          "name": "stderr",
          "text": [
            "eval_listwise: 100%|██████████| 23/23 [00:00<00:00, 192.76it/s]\n"
          ]
        },
        {
          "output_type": "stream",
          "name": "stdout",
          "text": [
            "\t eval precision@10: 0.0017\n",
            "\t eval recall@10: 0.0146\n",
            "\t eval map@10: 0.0042\n",
            "\t eval ndcg@10: 0.0072\n",
            "==============================\n"
          ]
        },
        {
          "output_type": "stream",
          "name": "stderr",
          "text": [
            "train: 100%|██████████| 129/129 [00:00<00:00, 255.40it/s]\n"
          ]
        },
        {
          "output_type": "stream",
          "name": "stdout",
          "text": [
            "Epoch 29 elapsed: 0.516s\n",
            "\t \u001b[32mtrain_loss: 0.6789\u001b[0m\n"
          ]
        },
        {
          "output_type": "stream",
          "name": "stderr",
          "text": [
            "eval_pointwise: 100%|██████████| 1/1 [00:00<00:00, 352.28it/s]\n"
          ]
        },
        {
          "output_type": "stream",
          "name": "stdout",
          "text": [
            "\t eval log_loss: 0.6918\n",
            "\t eval balanced accuracy: 0.5157\n",
            "\t eval roc_auc: 0.5332\n",
            "\t eval pr_auc: 0.5402\n"
          ]
        },
        {
          "output_type": "stream",
          "name": "stderr",
          "text": [
            "eval_listwise: 100%|██████████| 23/23 [00:00<00:00, 192.49it/s]\n"
          ]
        },
        {
          "output_type": "stream",
          "name": "stdout",
          "text": [
            "\t eval precision@10: 0.0017\n",
            "\t eval recall@10: 0.0146\n",
            "\t eval map@10: 0.0046\n",
            "\t eval ndcg@10: 0.0075\n",
            "==============================\n"
          ]
        },
        {
          "output_type": "stream",
          "name": "stderr",
          "text": [
            "train: 100%|██████████| 129/129 [00:00<00:00, 256.66it/s]\n"
          ]
        },
        {
          "output_type": "stream",
          "name": "stdout",
          "text": [
            "Epoch 30 elapsed: 0.512s\n",
            "\t \u001b[32mtrain_loss: 0.6771\u001b[0m\n"
          ]
        },
        {
          "output_type": "stream",
          "name": "stderr",
          "text": [
            "eval_pointwise: 100%|██████████| 1/1 [00:00<00:00, 334.66it/s]\n"
          ]
        },
        {
          "output_type": "stream",
          "name": "stdout",
          "text": [
            "\t eval log_loss: 0.6917\n",
            "\t eval balanced accuracy: 0.5213\n",
            "\t eval roc_auc: 0.5333\n",
            "\t eval pr_auc: 0.5420\n"
          ]
        },
        {
          "output_type": "stream",
          "name": "stderr",
          "text": [
            "eval_listwise: 100%|██████████| 23/23 [00:00<00:00, 195.07it/s]\n"
          ]
        },
        {
          "output_type": "stream",
          "name": "stdout",
          "text": [
            "\t eval precision@10: 0.0019\n",
            "\t eval recall@10: 0.0170\n",
            "\t eval map@10: 0.0053\n",
            "\t eval ndcg@10: 0.0086\n",
            "==============================\n"
          ]
        },
        {
          "output_type": "stream",
          "name": "stderr",
          "text": [
            "train: 100%|██████████| 129/129 [00:00<00:00, 249.54it/s]\n"
          ]
        },
        {
          "output_type": "stream",
          "name": "stdout",
          "text": [
            "Epoch 31 elapsed: 0.526s\n",
            "\t \u001b[32mtrain_loss: 0.6751\u001b[0m\n"
          ]
        },
        {
          "output_type": "stream",
          "name": "stderr",
          "text": [
            "eval_pointwise: 100%|██████████| 1/1 [00:00<00:00, 212.80it/s]\n"
          ]
        },
        {
          "output_type": "stream",
          "name": "stdout",
          "text": [
            "\t eval log_loss: 0.6916\n",
            "\t eval balanced accuracy: 0.5213\n",
            "\t eval roc_auc: 0.5339\n",
            "\t eval pr_auc: 0.5435\n"
          ]
        },
        {
          "output_type": "stream",
          "name": "stderr",
          "text": [
            "eval_listwise: 100%|██████████| 23/23 [00:00<00:00, 197.10it/s]\n"
          ]
        },
        {
          "output_type": "stream",
          "name": "stdout",
          "text": [
            "\t eval precision@10: 0.0019\n",
            "\t eval recall@10: 0.0170\n",
            "\t eval map@10: 0.0053\n",
            "\t eval ndcg@10: 0.0086\n",
            "==============================\n"
          ]
        },
        {
          "output_type": "stream",
          "name": "stderr",
          "text": [
            "train: 100%|██████████| 129/129 [00:00<00:00, 252.81it/s]\n"
          ]
        },
        {
          "output_type": "stream",
          "name": "stdout",
          "text": [
            "Epoch 32 elapsed: 0.519s\n",
            "\t \u001b[32mtrain_loss: 0.6729\u001b[0m\n"
          ]
        },
        {
          "output_type": "stream",
          "name": "stderr",
          "text": [
            "eval_pointwise: 100%|██████████| 1/1 [00:00<00:00, 386.50it/s]\n"
          ]
        },
        {
          "output_type": "stream",
          "name": "stdout",
          "text": [
            "\t eval log_loss: 0.6915\n",
            "\t eval balanced accuracy: 0.5185\n",
            "\t eval roc_auc: 0.5340\n",
            "\t eval pr_auc: 0.5450\n"
          ]
        },
        {
          "output_type": "stream",
          "name": "stderr",
          "text": [
            "eval_listwise: 100%|██████████| 23/23 [00:00<00:00, 192.13it/s]\n"
          ]
        },
        {
          "output_type": "stream",
          "name": "stdout",
          "text": [
            "\t eval precision@10: 0.0019\n",
            "\t eval recall@10: 0.0170\n",
            "\t eval map@10: 0.0070\n",
            "\t eval ndcg@10: 0.0099\n",
            "==============================\n"
          ]
        },
        {
          "output_type": "stream",
          "name": "stderr",
          "text": [
            "train: 100%|██████████| 129/129 [00:00<00:00, 255.48it/s]\n"
          ]
        },
        {
          "output_type": "stream",
          "name": "stdout",
          "text": [
            "Epoch 33 elapsed: 0.513s\n",
            "\t \u001b[32mtrain_loss: 0.6706\u001b[0m\n"
          ]
        },
        {
          "output_type": "stream",
          "name": "stderr",
          "text": [
            "eval_pointwise: 100%|██████████| 1/1 [00:00<00:00, 314.79it/s]\n"
          ]
        },
        {
          "output_type": "stream",
          "name": "stdout",
          "text": [
            "\t eval log_loss: 0.6914\n",
            "\t eval balanced accuracy: 0.5196\n",
            "\t eval roc_auc: 0.5334\n",
            "\t eval pr_auc: 0.5453\n"
          ]
        },
        {
          "output_type": "stream",
          "name": "stderr",
          "text": [
            "eval_listwise: 100%|██████████| 23/23 [00:00<00:00, 196.51it/s]\n"
          ]
        },
        {
          "output_type": "stream",
          "name": "stdout",
          "text": [
            "\t eval precision@10: 0.0019\n",
            "\t eval recall@10: 0.0170\n",
            "\t eval map@10: 0.0070\n",
            "\t eval ndcg@10: 0.0099\n",
            "==============================\n"
          ]
        },
        {
          "output_type": "stream",
          "name": "stderr",
          "text": [
            "train: 100%|██████████| 129/129 [00:00<00:00, 255.37it/s]\n"
          ]
        },
        {
          "output_type": "stream",
          "name": "stdout",
          "text": [
            "Epoch 34 elapsed: 0.513s\n",
            "\t \u001b[32mtrain_loss: 0.6681\u001b[0m\n"
          ]
        },
        {
          "output_type": "stream",
          "name": "stderr",
          "text": [
            "eval_pointwise: 100%|██████████| 1/1 [00:00<00:00, 466.03it/s]\n"
          ]
        },
        {
          "output_type": "stream",
          "name": "stdout",
          "text": [
            "\t eval log_loss: 0.6913\n",
            "\t eval balanced accuracy: 0.5247\n",
            "\t eval roc_auc: 0.5333\n",
            "\t eval pr_auc: 0.5456\n"
          ]
        },
        {
          "output_type": "stream",
          "name": "stderr",
          "text": [
            "eval_listwise: 100%|██████████| 23/23 [00:00<00:00, 197.40it/s]\n"
          ]
        },
        {
          "output_type": "stream",
          "name": "stdout",
          "text": [
            "\t eval precision@10: 0.0019\n",
            "\t eval recall@10: 0.0170\n",
            "\t eval map@10: 0.0068\n",
            "\t eval ndcg@10: 0.0098\n",
            "==============================\n"
          ]
        },
        {
          "output_type": "stream",
          "name": "stderr",
          "text": [
            "train: 100%|██████████| 129/129 [00:00<00:00, 254.88it/s]\n"
          ]
        },
        {
          "output_type": "stream",
          "name": "stdout",
          "text": [
            "Epoch 35 elapsed: 0.515s\n",
            "\t \u001b[32mtrain_loss: 0.6654\u001b[0m\n"
          ]
        },
        {
          "output_type": "stream",
          "name": "stderr",
          "text": [
            "eval_pointwise: 100%|██████████| 1/1 [00:00<00:00, 249.48it/s]\n"
          ]
        },
        {
          "output_type": "stream",
          "name": "stdout",
          "text": [
            "\t eval log_loss: 0.6911\n",
            "\t eval balanced accuracy: 0.5230\n",
            "\t eval roc_auc: 0.5334\n",
            "\t eval pr_auc: 0.5463\n"
          ]
        },
        {
          "output_type": "stream",
          "name": "stderr",
          "text": [
            "eval_listwise: 100%|██████████| 23/23 [00:00<00:00, 188.78it/s]\n"
          ]
        },
        {
          "output_type": "stream",
          "name": "stdout",
          "text": [
            "\t eval precision@10: 0.0019\n",
            "\t eval recall@10: 0.0170\n",
            "\t eval map@10: 0.0067\n",
            "\t eval ndcg@10: 0.0097\n",
            "==============================\n"
          ]
        },
        {
          "output_type": "stream",
          "name": "stderr",
          "text": [
            "train: 100%|██████████| 129/129 [00:00<00:00, 253.35it/s]\n"
          ]
        },
        {
          "output_type": "stream",
          "name": "stdout",
          "text": [
            "Epoch 36 elapsed: 0.517s\n",
            "\t \u001b[32mtrain_loss: 0.6626\u001b[0m\n"
          ]
        },
        {
          "output_type": "stream",
          "name": "stderr",
          "text": [
            "eval_pointwise: 100%|██████████| 1/1 [00:00<00:00, 305.95it/s]\n"
          ]
        },
        {
          "output_type": "stream",
          "name": "stdout",
          "text": [
            "\t eval log_loss: 0.6910\n",
            "\t eval balanced accuracy: 0.5252\n",
            "\t eval roc_auc: 0.5335\n",
            "\t eval pr_auc: 0.5464\n"
          ]
        },
        {
          "output_type": "stream",
          "name": "stderr",
          "text": [
            "eval_listwise: 100%|██████████| 23/23 [00:00<00:00, 199.44it/s]\n"
          ]
        },
        {
          "output_type": "stream",
          "name": "stdout",
          "text": [
            "\t eval precision@10: 0.0019\n",
            "\t eval recall@10: 0.0170\n",
            "\t eval map@10: 0.0070\n",
            "\t eval ndcg@10: 0.0099\n",
            "==============================\n"
          ]
        },
        {
          "output_type": "stream",
          "name": "stderr",
          "text": [
            "train: 100%|██████████| 129/129 [00:00<00:00, 250.54it/s]\n"
          ]
        },
        {
          "output_type": "stream",
          "name": "stdout",
          "text": [
            "Epoch 37 elapsed: 0.522s\n",
            "\t \u001b[32mtrain_loss: 0.6596\u001b[0m\n"
          ]
        },
        {
          "output_type": "stream",
          "name": "stderr",
          "text": [
            "eval_pointwise: 100%|██████████| 1/1 [00:00<00:00, 658.86it/s]\n"
          ]
        },
        {
          "output_type": "stream",
          "name": "stdout",
          "text": [
            "\t eval log_loss: 0.6910\n",
            "\t eval balanced accuracy: 0.5258\n",
            "\t eval roc_auc: 0.5331\n",
            "\t eval pr_auc: 0.5468\n"
          ]
        },
        {
          "output_type": "stream",
          "name": "stderr",
          "text": [
            "eval_listwise: 100%|██████████| 23/23 [00:00<00:00, 189.16it/s]\n"
          ]
        },
        {
          "output_type": "stream",
          "name": "stdout",
          "text": [
            "\t eval precision@10: 0.0019\n",
            "\t eval recall@10: 0.0170\n",
            "\t eval map@10: 0.0072\n",
            "\t eval ndcg@10: 0.0101\n",
            "==============================\n"
          ]
        },
        {
          "output_type": "stream",
          "name": "stderr",
          "text": [
            "train: 100%|██████████| 129/129 [00:00<00:00, 243.85it/s]\n"
          ]
        },
        {
          "output_type": "stream",
          "name": "stdout",
          "text": [
            "Epoch 38 elapsed: 0.538s\n",
            "\t \u001b[32mtrain_loss: 0.6564\u001b[0m\n"
          ]
        },
        {
          "output_type": "stream",
          "name": "stderr",
          "text": [
            "eval_pointwise: 100%|██████████| 1/1 [00:00<00:00, 420.48it/s]\n"
          ]
        },
        {
          "output_type": "stream",
          "name": "stdout",
          "text": [
            "\t eval log_loss: 0.6910\n",
            "\t eval balanced accuracy: 0.5241\n",
            "\t eval roc_auc: 0.5327\n",
            "\t eval pr_auc: 0.5464\n"
          ]
        },
        {
          "output_type": "stream",
          "name": "stderr",
          "text": [
            "eval_listwise: 100%|██████████| 23/23 [00:00<00:00, 189.72it/s]\n"
          ]
        },
        {
          "output_type": "stream",
          "name": "stdout",
          "text": [
            "\t eval precision@10: 0.0019\n",
            "\t eval recall@10: 0.0170\n",
            "\t eval map@10: 0.0071\n",
            "\t eval ndcg@10: 0.0100\n",
            "==============================\n"
          ]
        },
        {
          "output_type": "stream",
          "name": "stderr",
          "text": [
            "train: 100%|██████████| 129/129 [00:00<00:00, 252.14it/s]\n"
          ]
        },
        {
          "output_type": "stream",
          "name": "stdout",
          "text": [
            "Epoch 39 elapsed: 0.522s\n",
            "\t \u001b[32mtrain_loss: 0.6531\u001b[0m\n"
          ]
        },
        {
          "output_type": "stream",
          "name": "stderr",
          "text": [
            "eval_pointwise: 100%|██████████| 1/1 [00:00<00:00, 482.60it/s]\n"
          ]
        },
        {
          "output_type": "stream",
          "name": "stdout",
          "text": [
            "\t eval log_loss: 0.6909\n",
            "\t eval balanced accuracy: 0.5241\n",
            "\t eval roc_auc: 0.5331\n",
            "\t eval pr_auc: 0.5473\n"
          ]
        },
        {
          "output_type": "stream",
          "name": "stderr",
          "text": [
            "eval_listwise: 100%|██████████| 23/23 [00:00<00:00, 195.22it/s]\n"
          ]
        },
        {
          "output_type": "stream",
          "name": "stdout",
          "text": [
            "\t eval precision@10: 0.0022\n",
            "\t eval recall@10: 0.0195\n",
            "\t eval map@10: 0.0074\n",
            "\t eval ndcg@10: 0.0107\n",
            "==============================\n"
          ]
        },
        {
          "output_type": "stream",
          "name": "stderr",
          "text": [
            "train: 100%|██████████| 129/129 [00:00<00:00, 246.75it/s]\n"
          ]
        },
        {
          "output_type": "stream",
          "name": "stdout",
          "text": [
            "Epoch 40 elapsed: 0.531s\n",
            "\t \u001b[32mtrain_loss: 0.6497\u001b[0m\n"
          ]
        },
        {
          "output_type": "stream",
          "name": "stderr",
          "text": [
            "eval_pointwise: 100%|██████████| 1/1 [00:00<00:00, 512.75it/s]\n"
          ]
        },
        {
          "output_type": "stream",
          "name": "stdout",
          "text": [
            "\t eval log_loss: 0.6909\n",
            "\t eval balanced accuracy: 0.5263\n",
            "\t eval roc_auc: 0.5334\n",
            "\t eval pr_auc: 0.5474\n"
          ]
        },
        {
          "output_type": "stream",
          "name": "stderr",
          "text": [
            "eval_listwise: 100%|██████████| 23/23 [00:00<00:00, 198.33it/s]\n"
          ]
        },
        {
          "output_type": "stream",
          "name": "stdout",
          "text": [
            "\t eval precision@10: 0.0022\n",
            "\t eval recall@10: 0.0195\n",
            "\t eval map@10: 0.0074\n",
            "\t eval ndcg@10: 0.0107\n",
            "==============================\n"
          ]
        },
        {
          "output_type": "stream",
          "name": "stderr",
          "text": [
            "train: 100%|██████████| 129/129 [00:00<00:00, 256.58it/s]\n"
          ]
        },
        {
          "output_type": "stream",
          "name": "stdout",
          "text": [
            "Epoch 41 elapsed: 0.511s\n",
            "\t \u001b[32mtrain_loss: 0.6461\u001b[0m\n"
          ]
        },
        {
          "output_type": "stream",
          "name": "stderr",
          "text": [
            "eval_pointwise: 100%|██████████| 1/1 [00:00<00:00, 191.15it/s]\n"
          ]
        },
        {
          "output_type": "stream",
          "name": "stdout",
          "text": [
            "\t eval log_loss: 0.6910\n",
            "\t eval balanced accuracy: 0.5280\n",
            "\t eval roc_auc: 0.5331\n",
            "\t eval pr_auc: 0.5473\n"
          ]
        },
        {
          "output_type": "stream",
          "name": "stderr",
          "text": [
            "eval_listwise: 100%|██████████| 23/23 [00:00<00:00, 196.48it/s]\n"
          ]
        },
        {
          "output_type": "stream",
          "name": "stdout",
          "text": [
            "\t eval precision@10: 0.0019\n",
            "\t eval recall@10: 0.0170\n",
            "\t eval map@10: 0.0071\n",
            "\t eval ndcg@10: 0.0100\n",
            "==============================\n"
          ]
        },
        {
          "output_type": "stream",
          "name": "stderr",
          "text": [
            "train: 100%|██████████| 129/129 [00:00<00:00, 237.51it/s]\n"
          ]
        },
        {
          "output_type": "stream",
          "name": "stdout",
          "text": [
            "Epoch 42 elapsed: 0.552s\n",
            "\t \u001b[32mtrain_loss: 0.6424\u001b[0m\n"
          ]
        },
        {
          "output_type": "stream",
          "name": "stderr",
          "text": [
            "eval_pointwise: 100%|██████████| 1/1 [00:00<00:00, 470.16it/s]\n"
          ]
        },
        {
          "output_type": "stream",
          "name": "stdout",
          "text": [
            "\t eval log_loss: 0.6910\n",
            "\t eval balanced accuracy: 0.5286\n",
            "\t eval roc_auc: 0.5330\n",
            "\t eval pr_auc: 0.5473\n"
          ]
        },
        {
          "output_type": "stream",
          "name": "stderr",
          "text": [
            "eval_listwise: 100%|██████████| 23/23 [00:00<00:00, 181.04it/s]\n"
          ]
        },
        {
          "output_type": "stream",
          "name": "stdout",
          "text": [
            "\t eval precision@10: 0.0019\n",
            "\t eval recall@10: 0.0170\n",
            "\t eval map@10: 0.0070\n",
            "\t eval ndcg@10: 0.0099\n",
            "==============================\n"
          ]
        },
        {
          "output_type": "stream",
          "name": "stderr",
          "text": [
            "train: 100%|██████████| 129/129 [00:00<00:00, 230.01it/s]\n"
          ]
        },
        {
          "output_type": "stream",
          "name": "stdout",
          "text": [
            "Epoch 43 elapsed: 0.572s\n",
            "\t \u001b[32mtrain_loss: 0.6386\u001b[0m\n"
          ]
        },
        {
          "output_type": "stream",
          "name": "stderr",
          "text": [
            "eval_pointwise: 100%|██████████| 1/1 [00:00<00:00, 352.02it/s]\n"
          ]
        },
        {
          "output_type": "stream",
          "name": "stdout",
          "text": [
            "\t eval log_loss: 0.6911\n",
            "\t eval balanced accuracy: 0.5303\n",
            "\t eval roc_auc: 0.5332\n",
            "\t eval pr_auc: 0.5478\n"
          ]
        },
        {
          "output_type": "stream",
          "name": "stderr",
          "text": [
            "eval_listwise: 100%|██████████| 23/23 [00:00<00:00, 181.91it/s]\n"
          ]
        },
        {
          "output_type": "stream",
          "name": "stdout",
          "text": [
            "\t eval precision@10: 0.0019\n",
            "\t eval recall@10: 0.0170\n",
            "\t eval map@10: 0.0070\n",
            "\t eval ndcg@10: 0.0099\n",
            "==============================\n"
          ]
        },
        {
          "output_type": "stream",
          "name": "stderr",
          "text": [
            "train: 100%|██████████| 129/129 [00:00<00:00, 228.00it/s]\n"
          ]
        },
        {
          "output_type": "stream",
          "name": "stdout",
          "text": [
            "Epoch 44 elapsed: 0.575s\n",
            "\t \u001b[32mtrain_loss: 0.6347\u001b[0m\n"
          ]
        },
        {
          "output_type": "stream",
          "name": "stderr",
          "text": [
            "eval_pointwise: 100%|██████████| 1/1 [00:00<00:00, 599.27it/s]\n"
          ]
        },
        {
          "output_type": "stream",
          "name": "stdout",
          "text": [
            "\t eval log_loss: 0.6913\n",
            "\t eval balanced accuracy: 0.5297\n",
            "\t eval roc_auc: 0.5328\n",
            "\t eval pr_auc: 0.5474\n"
          ]
        },
        {
          "output_type": "stream",
          "name": "stderr",
          "text": [
            "eval_listwise: 100%|██████████| 23/23 [00:00<00:00, 177.26it/s]\n"
          ]
        },
        {
          "output_type": "stream",
          "name": "stdout",
          "text": [
            "\t eval precision@10: 0.0019\n",
            "\t eval recall@10: 0.0170\n",
            "\t eval map@10: 0.0070\n",
            "\t eval ndcg@10: 0.0099\n",
            "==============================\n"
          ]
        },
        {
          "output_type": "stream",
          "name": "stderr",
          "text": [
            "train: 100%|██████████| 129/129 [00:00<00:00, 217.89it/s]\n"
          ]
        },
        {
          "output_type": "stream",
          "name": "stdout",
          "text": [
            "Epoch 45 elapsed: 0.602s\n",
            "\t \u001b[32mtrain_loss: 0.6306\u001b[0m\n"
          ]
        },
        {
          "output_type": "stream",
          "name": "stderr",
          "text": [
            "eval_pointwise: 100%|██████████| 1/1 [00:00<00:00, 372.56it/s]\n"
          ]
        },
        {
          "output_type": "stream",
          "name": "stdout",
          "text": [
            "\t eval log_loss: 0.6915\n",
            "\t eval balanced accuracy: 0.5280\n",
            "\t eval roc_auc: 0.5328\n",
            "\t eval pr_auc: 0.5472\n"
          ]
        },
        {
          "output_type": "stream",
          "name": "stderr",
          "text": [
            "eval_listwise: 100%|██████████| 23/23 [00:00<00:00, 184.45it/s]\n"
          ]
        },
        {
          "output_type": "stream",
          "name": "stdout",
          "text": [
            "\t eval precision@10: 0.0019\n",
            "\t eval recall@10: 0.0170\n",
            "\t eval map@10: 0.0069\n",
            "\t eval ndcg@10: 0.0098\n",
            "==============================\n"
          ]
        },
        {
          "output_type": "stream",
          "name": "stderr",
          "text": [
            "train: 100%|██████████| 129/129 [00:00<00:00, 216.15it/s]\n"
          ]
        },
        {
          "output_type": "stream",
          "name": "stdout",
          "text": [
            "Epoch 46 elapsed: 0.607s\n",
            "\t \u001b[32mtrain_loss: 0.6265\u001b[0m\n"
          ]
        },
        {
          "output_type": "stream",
          "name": "stderr",
          "text": [
            "eval_pointwise: 100%|██████████| 1/1 [00:00<00:00, 414.70it/s]\n"
          ]
        },
        {
          "output_type": "stream",
          "name": "stdout",
          "text": [
            "\t eval log_loss: 0.6919\n",
            "\t eval balanced accuracy: 0.5258\n",
            "\t eval roc_auc: 0.5326\n",
            "\t eval pr_auc: 0.5471\n"
          ]
        },
        {
          "output_type": "stream",
          "name": "stderr",
          "text": [
            "eval_listwise: 100%|██████████| 23/23 [00:00<00:00, 181.03it/s]\n"
          ]
        },
        {
          "output_type": "stream",
          "name": "stdout",
          "text": [
            "\t eval precision@10: 0.0019\n",
            "\t eval recall@10: 0.0170\n",
            "\t eval map@10: 0.0070\n",
            "\t eval ndcg@10: 0.0099\n",
            "==============================\n"
          ]
        },
        {
          "output_type": "stream",
          "name": "stderr",
          "text": [
            "train: 100%|██████████| 129/129 [00:00<00:00, 229.69it/s]\n"
          ]
        },
        {
          "output_type": "stream",
          "name": "stdout",
          "text": [
            "Epoch 47 elapsed: 0.570s\n",
            "\t \u001b[32mtrain_loss: 0.6224\u001b[0m\n"
          ]
        },
        {
          "output_type": "stream",
          "name": "stderr",
          "text": [
            "eval_pointwise: 100%|██████████| 1/1 [00:00<00:00, 339.48it/s]\n"
          ]
        },
        {
          "output_type": "stream",
          "name": "stdout",
          "text": [
            "\t eval log_loss: 0.6921\n",
            "\t eval balanced accuracy: 0.5269\n",
            "\t eval roc_auc: 0.5325\n",
            "\t eval pr_auc: 0.5469\n"
          ]
        },
        {
          "output_type": "stream",
          "name": "stderr",
          "text": [
            "eval_listwise: 100%|██████████| 23/23 [00:00<00:00, 192.63it/s]\n"
          ]
        },
        {
          "output_type": "stream",
          "name": "stdout",
          "text": [
            "\t eval precision@10: 0.0019\n",
            "\t eval recall@10: 0.0170\n",
            "\t eval map@10: 0.0071\n",
            "\t eval ndcg@10: 0.0100\n",
            "==============================\n"
          ]
        },
        {
          "output_type": "stream",
          "name": "stderr",
          "text": [
            "train: 100%|██████████| 129/129 [00:00<00:00, 252.64it/s]\n"
          ]
        },
        {
          "output_type": "stream",
          "name": "stdout",
          "text": [
            "Epoch 48 elapsed: 0.518s\n",
            "\t \u001b[32mtrain_loss: 0.6181\u001b[0m\n"
          ]
        },
        {
          "output_type": "stream",
          "name": "stderr",
          "text": [
            "eval_pointwise: 100%|██████████| 1/1 [00:00<00:00, 454.32it/s]\n"
          ]
        },
        {
          "output_type": "stream",
          "name": "stdout",
          "text": [
            "\t eval log_loss: 0.6925\n",
            "\t eval balanced accuracy: 0.5280\n",
            "\t eval roc_auc: 0.5324\n",
            "\t eval pr_auc: 0.5470\n"
          ]
        },
        {
          "output_type": "stream",
          "name": "stderr",
          "text": [
            "eval_listwise: 100%|██████████| 23/23 [00:00<00:00, 180.36it/s]\n"
          ]
        },
        {
          "output_type": "stream",
          "name": "stdout",
          "text": [
            "\t eval precision@10: 0.0019\n",
            "\t eval recall@10: 0.0170\n",
            "\t eval map@10: 0.0069\n",
            "\t eval ndcg@10: 0.0098\n",
            "==============================\n"
          ]
        },
        {
          "output_type": "stream",
          "name": "stderr",
          "text": [
            "train: 100%|██████████| 129/129 [00:00<00:00, 257.69it/s]\n"
          ]
        },
        {
          "output_type": "stream",
          "name": "stdout",
          "text": [
            "Epoch 49 elapsed: 0.510s\n",
            "\t \u001b[32mtrain_loss: 0.6138\u001b[0m\n"
          ]
        },
        {
          "output_type": "stream",
          "name": "stderr",
          "text": [
            "eval_pointwise: 100%|██████████| 1/1 [00:00<00:00, 285.85it/s]\n"
          ]
        },
        {
          "output_type": "stream",
          "name": "stdout",
          "text": [
            "\t eval log_loss: 0.6930\n",
            "\t eval balanced accuracy: 0.5291\n",
            "\t eval roc_auc: 0.5326\n",
            "\t eval pr_auc: 0.5467\n"
          ]
        },
        {
          "output_type": "stream",
          "name": "stderr",
          "text": [
            "eval_listwise: 100%|██████████| 23/23 [00:00<00:00, 198.42it/s]\n"
          ]
        },
        {
          "output_type": "stream",
          "name": "stdout",
          "text": [
            "\t eval precision@10: 0.0019\n",
            "\t eval recall@10: 0.0170\n",
            "\t eval map@10: 0.0066\n",
            "\t eval ndcg@10: 0.0096\n",
            "==============================\n"
          ]
        },
        {
          "output_type": "stream",
          "name": "stderr",
          "text": [
            "train: 100%|██████████| 129/129 [00:00<00:00, 249.73it/s]\n"
          ]
        },
        {
          "output_type": "stream",
          "name": "stdout",
          "text": [
            "Epoch 50 elapsed: 0.524s\n",
            "\t \u001b[32mtrain_loss: 0.6095\u001b[0m\n"
          ]
        },
        {
          "output_type": "stream",
          "name": "stderr",
          "text": [
            "eval_pointwise: 100%|██████████| 1/1 [00:00<00:00, 479.40it/s]\n"
          ]
        },
        {
          "output_type": "stream",
          "name": "stdout",
          "text": [
            "\t eval log_loss: 0.6935\n",
            "\t eval balanced accuracy: 0.5308\n",
            "\t eval roc_auc: 0.5321\n",
            "\t eval pr_auc: 0.5467\n"
          ]
        },
        {
          "output_type": "stream",
          "name": "stderr",
          "text": [
            "eval_listwise: 100%|██████████| 23/23 [00:00<00:00, 190.40it/s]\n"
          ]
        },
        {
          "output_type": "stream",
          "name": "stdout",
          "text": [
            "\t eval precision@10: 0.0019\n",
            "\t eval recall@10: 0.0170\n",
            "\t eval map@10: 0.0066\n",
            "\t eval ndcg@10: 0.0096\n",
            "==============================\n"
          ]
        },
        {
          "output_type": "stream",
          "name": "stderr",
          "text": [
            "eval_pointwise: 100%|██████████| 1/1 [00:00<00:00, 373.06it/s]\n",
            "eval_listwise: 100%|██████████| 103/103 [00:00<00:00, 525.93it/s]\n"
          ]
        },
        {
          "output_type": "stream",
          "name": "stdout",
          "text": [
            "Evaluation Results for FM:\n",
            "{'loss': 0.6934993142370317, 'balanced_accuracy': 0.530829596412556, 'roc_auc': 0.5321247410967443, 'pr_auc': 0.5466939274092928, 'precision': 0.0019464720194647203, 'recall': 0.0170316301703163, 'map': 0.006584791256324102, 'ndcg': 0.009566812041935375}\n"
          ]
        }
      ],
      "source": [
        "\n",
        "models, evals = run(recofm_df,user_col, item_col, col_sparse, dense_col, algo=[\"FM\"], hyperparam={\"FM\":{\"loss_type\":\"cross_entropy\",\"embed_size\":64,\n",
        "        \"n_epochs\":50,\n",
        "        \"lr\":1e-4,\n",
        "        \"lr_decay\":False,\n",
        "        \"reg\":None,\n",
        "        \"batch_size\":128,\n",
        "        \"num_neg\":2,\n",
        "        \"use_bn\":False,\n",
        "        \"dropout_rate\":None,\n",
        "        \"tf_sess_config\":None,} },neg_samples=True)\n"
      ],
      "id": "G2ite0KAND7B"
    },
    {
      "cell_type": "markdown",
      "metadata": {
        "id": "kHXHqeIV1wk5"
      },
      "source": [
        "#### Recommendations to users"
      ],
      "id": "kHXHqeIV1wk5"
    },
    {
      "cell_type": "code",
      "execution_count": null,
      "metadata": {
        "id": "9kbFOxpoND7E"
      },
      "outputs": [],
      "source": [
        "model=models['FM']"
      ],
      "id": "9kbFOxpoND7E"
    },
    {
      "cell_type": "code",
      "execution_count": null,
      "metadata": {
        "colab": {
          "base_uri": "https://localhost:8080/"
        },
        "id": "qgx3HWinND7F",
        "outputId": "68156cfb-d624-46c2-81c7-5fd1330f7d7e"
      },
      "outputs": [
        {
          "output_type": "stream",
          "name": "stdout",
          "text": [
            "{65457: array([  73821,   74362,   74476,   79445,  125845,  100602,   84031,\n",
            "        878115, 1225375,   84654])}\n"
          ]
        }
      ],
      "source": [
        "\n",
        "results= recommend(model,65457, 10)\n",
        "print(results)"
      ],
      "id": "qgx3HWinND7F"
    }
  ],
  "metadata": {
    "accelerator": "GPU",
    "colab": {
      "collapsed_sections": [
        "1ILJlOp2j64Y",
        "x7-kQ2uHgQHN",
        "xR4W7kxwlOmR",
        "Z3qHPPpg6AOZ",
        "2U3Ah9H-LsTa",
        "ish2yTj7uk-0",
        "P3GG9knK2GCc",
        "za_i4V_I1wkz"
      ],
      "machine_shape": "hm",
      "provenance": []
    },
    "gpuClass": "premium",
    "kernelspec": {
      "display_name": "Python 3 (ipykernel)",
      "language": "python",
      "name": "python3"
    },
    "language_info": {
      "codemirror_mode": {
        "name": "ipython",
        "version": 3
      },
      "file_extension": ".py",
      "mimetype": "text/x-python",
      "name": "python",
      "nbconvert_exporter": "python",
      "pygments_lexer": "ipython3",
      "version": "3.9.12"
    }
  },
  "nbformat": 4,
  "nbformat_minor": 5
}