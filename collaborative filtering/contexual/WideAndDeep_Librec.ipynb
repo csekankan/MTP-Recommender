{
  "cells": [
    {
      "cell_type": "markdown",
      "metadata": {
        "id": "1ILJlOp2j64Y"
      },
      "source": [
        "## Installation\n",
        "-  Run this only once"
      ],
      "id": "1ILJlOp2j64Y"
    },
    {
      "cell_type": "code",
      "execution_count": null,
      "metadata": {
        "colab": {
          "base_uri": "https://localhost:8080/",
          "height": 1000
        },
        "id": "XXB_1HlIKdFi",
        "outputId": "97621d69-f1a9-40e6-9677-e85000080f4c"
      },
      "outputs": [
        {
          "output_type": "stream",
          "name": "stdout",
          "text": [
            "Looking in indexes: https://pypi.org/simple, https://us-python.pkg.dev/colab-wheels/public/simple/\n",
            "Requirement already satisfied: gdown in /usr/local/lib/python3.8/dist-packages (4.4.0)\n",
            "Requirement already satisfied: requests[socks] in /usr/local/lib/python3.8/dist-packages (from gdown) (2.25.1)\n",
            "Requirement already satisfied: tqdm in /usr/local/lib/python3.8/dist-packages (from gdown) (4.64.1)\n",
            "Requirement already satisfied: beautifulsoup4 in /usr/local/lib/python3.8/dist-packages (from gdown) (4.6.3)\n",
            "Requirement already satisfied: filelock in /usr/local/lib/python3.8/dist-packages (from gdown) (3.9.0)\n",
            "Requirement already satisfied: six in /usr/local/lib/python3.8/dist-packages (from gdown) (1.15.0)\n",
            "Requirement already satisfied: urllib3<1.27,>=1.21.1 in /usr/local/lib/python3.8/dist-packages (from requests[socks]->gdown) (1.24.3)\n",
            "Requirement already satisfied: idna<3,>=2.5 in /usr/local/lib/python3.8/dist-packages (from requests[socks]->gdown) (2.10)\n",
            "Requirement already satisfied: certifi>=2017.4.17 in /usr/local/lib/python3.8/dist-packages (from requests[socks]->gdown) (2022.12.7)\n",
            "Requirement already satisfied: chardet<5,>=3.0.2 in /usr/local/lib/python3.8/dist-packages (from requests[socks]->gdown) (4.0.0)\n",
            "Requirement already satisfied: PySocks!=1.5.7,>=1.5.6 in /usr/local/lib/python3.8/dist-packages (from requests[socks]->gdown) (1.7.1)\n",
            "Looking in indexes: https://pypi.org/simple, https://us-python.pkg.dev/colab-wheels/public/simple/\n",
            "Collecting tf_slim\n",
            "  Downloading tf_slim-1.1.0-py2.py3-none-any.whl (352 kB)\n",
            "\u001b[2K     \u001b[90m━━━━━━━━━━━━━━━━━━━━━━━━━━━━━━━━━━━━━━━\u001b[0m \u001b[32m352.1/352.1 KB\u001b[0m \u001b[31m8.8 MB/s\u001b[0m eta \u001b[36m0:00:00\u001b[0m\n",
            "\u001b[?25hRequirement already satisfied: absl-py>=0.2.2 in /usr/local/lib/python3.8/dist-packages (from tf_slim) (1.4.0)\n",
            "Installing collected packages: tf_slim\n",
            "Successfully installed tf_slim-1.1.0\n",
            "Looking in indexes: https://pypi.org/simple, https://us-python.pkg.dev/colab-wheels/public/simple/\n",
            "Collecting numpy==1.22\n",
            "  Downloading numpy-1.22.0-cp38-cp38-manylinux_2_17_x86_64.manylinux2014_x86_64.whl (16.8 MB)\n",
            "\u001b[2K     \u001b[90m━━━━━━━━━━━━━━━━━━━━━━━━━━━━━━━━━━━━━━━━\u001b[0m \u001b[32m16.8/16.8 MB\u001b[0m \u001b[31m79.6 MB/s\u001b[0m eta \u001b[36m0:00:00\u001b[0m\n",
            "\u001b[?25hInstalling collected packages: numpy\n",
            "  Attempting uninstall: numpy\n",
            "    Found existing installation: numpy 1.21.6\n",
            "    Uninstalling numpy-1.21.6:\n",
            "      Successfully uninstalled numpy-1.21.6\n",
            "Successfully installed numpy-1.22.0\n"
          ]
        },
        {
          "output_type": "display_data",
          "data": {
            "application/vnd.colab-display-data+json": {
              "pip_warning": {
                "packages": [
                  "numpy"
                ]
              }
            }
          },
          "metadata": {}
        },
        {
          "output_type": "stream",
          "name": "stdout",
          "text": [
            "Looking in indexes: https://pypi.org/simple, https://us-python.pkg.dev/colab-wheels/public/simple/\n",
            "Collecting LibRecommender\n",
            "  Downloading LibRecommender-0.12.6-cp38-cp38-manylinux_2_17_x86_64.manylinux2014_x86_64.whl (2.1 MB)\n",
            "\u001b[2K     \u001b[90m━━━━━━━━━━━━━━━━━━━━━━━━━━━━━━━━━━━━━━━━\u001b[0m \u001b[32m2.1/2.1 MB\u001b[0m \u001b[31m55.1 MB/s\u001b[0m eta \u001b[36m0:00:00\u001b[0m\n",
            "\u001b[?25hRequirement already satisfied: pandas>=1.0.0 in /usr/local/lib/python3.8/dist-packages (from LibRecommender) (1.3.5)\n",
            "Requirement already satisfied: tensorflow>=1.15.0 in /usr/local/lib/python3.8/dist-packages (from LibRecommender) (2.9.2)\n",
            "Requirement already satisfied: scikit-learn>=0.20.0 in /usr/local/lib/python3.8/dist-packages (from LibRecommender) (1.0.2)\n",
            "Requirement already satisfied: tqdm in /usr/local/lib/python3.8/dist-packages (from LibRecommender) (4.64.1)\n",
            "Requirement already satisfied: numpy>=1.19.5 in /usr/local/lib/python3.8/dist-packages (from LibRecommender) (1.22.0)\n",
            "Collecting gensim>=4.0.0\n",
            "  Downloading gensim-4.3.0-cp38-cp38-manylinux_2_12_x86_64.manylinux2010_x86_64.whl (24.1 MB)\n",
            "\u001b[2K     \u001b[90m━━━━━━━━━━━━━━━━━━━━━━━━━━━━━━━━━━━━━━━━\u001b[0m \u001b[32m24.1/24.1 MB\u001b[0m \u001b[31m69.3 MB/s\u001b[0m eta \u001b[36m0:00:00\u001b[0m\n",
            "\u001b[?25hRequirement already satisfied: cython<3,>=0.29.0 in /usr/local/lib/python3.8/dist-packages (from LibRecommender) (0.29.33)\n",
            "Requirement already satisfied: scipy>=1.2.1 in /usr/local/lib/python3.8/dist-packages (from LibRecommender) (1.7.3)\n",
            "Requirement already satisfied: torch>=1.10.0 in /usr/local/lib/python3.8/dist-packages (from LibRecommender) (1.13.1+cu116)\n",
            "Requirement already satisfied: smart-open>=1.8.1 in /usr/local/lib/python3.8/dist-packages (from gensim>=4.0.0->LibRecommender) (6.3.0)\n",
            "Collecting FuzzyTM>=0.4.0\n",
            "  Downloading FuzzyTM-2.0.5-py3-none-any.whl (29 kB)\n",
            "Requirement already satisfied: python-dateutil>=2.7.3 in /usr/local/lib/python3.8/dist-packages (from pandas>=1.0.0->LibRecommender) (2.8.2)\n",
            "Requirement already satisfied: pytz>=2017.3 in /usr/local/lib/python3.8/dist-packages (from pandas>=1.0.0->LibRecommender) (2022.7.1)\n",
            "Requirement already satisfied: threadpoolctl>=2.0.0 in /usr/local/lib/python3.8/dist-packages (from scikit-learn>=0.20.0->LibRecommender) (3.1.0)\n",
            "Requirement already satisfied: joblib>=0.11 in /usr/local/lib/python3.8/dist-packages (from scikit-learn>=0.20.0->LibRecommender) (1.2.0)\n",
            "Requirement already satisfied: protobuf<3.20,>=3.9.2 in /usr/local/lib/python3.8/dist-packages (from tensorflow>=1.15.0->LibRecommender) (3.19.6)\n",
            "Requirement already satisfied: keras<2.10.0,>=2.9.0rc0 in /usr/local/lib/python3.8/dist-packages (from tensorflow>=1.15.0->LibRecommender) (2.9.0)\n",
            "Requirement already satisfied: keras-preprocessing>=1.1.1 in /usr/local/lib/python3.8/dist-packages (from tensorflow>=1.15.0->LibRecommender) (1.1.2)\n",
            "Requirement already satisfied: tensorflow-estimator<2.10.0,>=2.9.0rc0 in /usr/local/lib/python3.8/dist-packages (from tensorflow>=1.15.0->LibRecommender) (2.9.0)\n",
            "Requirement already satisfied: google-pasta>=0.1.1 in /usr/local/lib/python3.8/dist-packages (from tensorflow>=1.15.0->LibRecommender) (0.2.0)\n",
            "Requirement already satisfied: tensorflow-io-gcs-filesystem>=0.23.1 in /usr/local/lib/python3.8/dist-packages (from tensorflow>=1.15.0->LibRecommender) (0.30.0)\n",
            "Requirement already satisfied: typing-extensions>=3.6.6 in /usr/local/lib/python3.8/dist-packages (from tensorflow>=1.15.0->LibRecommender) (4.4.0)\n",
            "Requirement already satisfied: packaging in /usr/local/lib/python3.8/dist-packages (from tensorflow>=1.15.0->LibRecommender) (23.0)\n",
            "Requirement already satisfied: grpcio<2.0,>=1.24.3 in /usr/local/lib/python3.8/dist-packages (from tensorflow>=1.15.0->LibRecommender) (1.51.1)\n",
            "Requirement already satisfied: opt-einsum>=2.3.2 in /usr/local/lib/python3.8/dist-packages (from tensorflow>=1.15.0->LibRecommender) (3.3.0)\n",
            "Requirement already satisfied: gast<=0.4.0,>=0.2.1 in /usr/local/lib/python3.8/dist-packages (from tensorflow>=1.15.0->LibRecommender) (0.4.0)\n",
            "Requirement already satisfied: tensorboard<2.10,>=2.9 in /usr/local/lib/python3.8/dist-packages (from tensorflow>=1.15.0->LibRecommender) (2.9.1)\n",
            "Requirement already satisfied: libclang>=13.0.0 in /usr/local/lib/python3.8/dist-packages (from tensorflow>=1.15.0->LibRecommender) (15.0.6.1)\n",
            "Requirement already satisfied: six>=1.12.0 in /usr/local/lib/python3.8/dist-packages (from tensorflow>=1.15.0->LibRecommender) (1.15.0)\n",
            "Requirement already satisfied: astunparse>=1.6.0 in /usr/local/lib/python3.8/dist-packages (from tensorflow>=1.15.0->LibRecommender) (1.6.3)\n",
            "Requirement already satisfied: flatbuffers<2,>=1.12 in /usr/local/lib/python3.8/dist-packages (from tensorflow>=1.15.0->LibRecommender) (1.12)\n",
            "Requirement already satisfied: termcolor>=1.1.0 in /usr/local/lib/python3.8/dist-packages (from tensorflow>=1.15.0->LibRecommender) (2.2.0)\n",
            "Requirement already satisfied: wrapt>=1.11.0 in /usr/local/lib/python3.8/dist-packages (from tensorflow>=1.15.0->LibRecommender) (1.14.1)\n",
            "Requirement already satisfied: absl-py>=1.0.0 in /usr/local/lib/python3.8/dist-packages (from tensorflow>=1.15.0->LibRecommender) (1.4.0)\n",
            "Requirement already satisfied: setuptools in /usr/local/lib/python3.8/dist-packages (from tensorflow>=1.15.0->LibRecommender) (57.4.0)\n",
            "Requirement already satisfied: h5py>=2.9.0 in /usr/local/lib/python3.8/dist-packages (from tensorflow>=1.15.0->LibRecommender) (3.1.0)\n",
            "Requirement already satisfied: wheel<1.0,>=0.23.0 in /usr/local/lib/python3.8/dist-packages (from astunparse>=1.6.0->tensorflow>=1.15.0->LibRecommender) (0.38.4)\n",
            "Collecting pyfume\n",
            "  Downloading pyFUME-0.2.25-py3-none-any.whl (67 kB)\n",
            "\u001b[2K     \u001b[90m━━━━━━━━━━━━━━━━━━━━━━━━━━━━━━━━━━━━━━━━\u001b[0m \u001b[32m67.1/67.1 KB\u001b[0m \u001b[31m9.7 MB/s\u001b[0m eta \u001b[36m0:00:00\u001b[0m\n",
            "\u001b[?25hRequirement already satisfied: google-auth-oauthlib<0.5,>=0.4.1 in /usr/local/lib/python3.8/dist-packages (from tensorboard<2.10,>=2.9->tensorflow>=1.15.0->LibRecommender) (0.4.6)\n",
            "Requirement already satisfied: tensorboard-plugin-wit>=1.6.0 in /usr/local/lib/python3.8/dist-packages (from tensorboard<2.10,>=2.9->tensorflow>=1.15.0->LibRecommender) (1.8.1)\n",
            "Requirement already satisfied: tensorboard-data-server<0.7.0,>=0.6.0 in /usr/local/lib/python3.8/dist-packages (from tensorboard<2.10,>=2.9->tensorflow>=1.15.0->LibRecommender) (0.6.1)\n",
            "Requirement already satisfied: requests<3,>=2.21.0 in /usr/local/lib/python3.8/dist-packages (from tensorboard<2.10,>=2.9->tensorflow>=1.15.0->LibRecommender) (2.25.1)\n",
            "Requirement already satisfied: werkzeug>=1.0.1 in /usr/local/lib/python3.8/dist-packages (from tensorboard<2.10,>=2.9->tensorflow>=1.15.0->LibRecommender) (1.0.1)\n",
            "Requirement already satisfied: markdown>=2.6.8 in /usr/local/lib/python3.8/dist-packages (from tensorboard<2.10,>=2.9->tensorflow>=1.15.0->LibRecommender) (3.4.1)\n",
            "Requirement already satisfied: google-auth<3,>=1.6.3 in /usr/local/lib/python3.8/dist-packages (from tensorboard<2.10,>=2.9->tensorflow>=1.15.0->LibRecommender) (2.16.0)\n",
            "Requirement already satisfied: rsa<5,>=3.1.4 in /usr/local/lib/python3.8/dist-packages (from google-auth<3,>=1.6.3->tensorboard<2.10,>=2.9->tensorflow>=1.15.0->LibRecommender) (4.9)\n",
            "Requirement already satisfied: pyasn1-modules>=0.2.1 in /usr/local/lib/python3.8/dist-packages (from google-auth<3,>=1.6.3->tensorboard<2.10,>=2.9->tensorflow>=1.15.0->LibRecommender) (0.2.8)\n",
            "Requirement already satisfied: cachetools<6.0,>=2.0.0 in /usr/local/lib/python3.8/dist-packages (from google-auth<3,>=1.6.3->tensorboard<2.10,>=2.9->tensorflow>=1.15.0->LibRecommender) (5.3.0)\n",
            "Requirement already satisfied: requests-oauthlib>=0.7.0 in /usr/local/lib/python3.8/dist-packages (from google-auth-oauthlib<0.5,>=0.4.1->tensorboard<2.10,>=2.9->tensorflow>=1.15.0->LibRecommender) (1.3.1)\n",
            "Requirement already satisfied: importlib-metadata>=4.4 in /usr/local/lib/python3.8/dist-packages (from markdown>=2.6.8->tensorboard<2.10,>=2.9->tensorflow>=1.15.0->LibRecommender) (6.0.0)\n",
            "Requirement already satisfied: idna<3,>=2.5 in /usr/local/lib/python3.8/dist-packages (from requests<3,>=2.21.0->tensorboard<2.10,>=2.9->tensorflow>=1.15.0->LibRecommender) (2.10)\n",
            "Requirement already satisfied: certifi>=2017.4.17 in /usr/local/lib/python3.8/dist-packages (from requests<3,>=2.21.0->tensorboard<2.10,>=2.9->tensorflow>=1.15.0->LibRecommender) (2022.12.7)\n",
            "Requirement already satisfied: urllib3<1.27,>=1.21.1 in /usr/local/lib/python3.8/dist-packages (from requests<3,>=2.21.0->tensorboard<2.10,>=2.9->tensorflow>=1.15.0->LibRecommender) (1.24.3)\n",
            "Requirement already satisfied: chardet<5,>=3.0.2 in /usr/local/lib/python3.8/dist-packages (from requests<3,>=2.21.0->tensorboard<2.10,>=2.9->tensorflow>=1.15.0->LibRecommender) (4.0.0)\n",
            "Collecting simpful\n",
            "  Downloading simpful-2.9.0-py3-none-any.whl (30 kB)\n",
            "Collecting fst-pso\n",
            "  Downloading fst-pso-1.8.1.tar.gz (18 kB)\n",
            "  Preparing metadata (setup.py) ... \u001b[?25l\u001b[?25hdone\n",
            "Requirement already satisfied: zipp>=0.5 in /usr/local/lib/python3.8/dist-packages (from importlib-metadata>=4.4->markdown>=2.6.8->tensorboard<2.10,>=2.9->tensorflow>=1.15.0->LibRecommender) (3.12.0)\n",
            "Requirement already satisfied: pyasn1<0.5.0,>=0.4.6 in /usr/local/lib/python3.8/dist-packages (from pyasn1-modules>=0.2.1->google-auth<3,>=1.6.3->tensorboard<2.10,>=2.9->tensorflow>=1.15.0->LibRecommender) (0.4.8)\n",
            "Requirement already satisfied: oauthlib>=3.0.0 in /usr/local/lib/python3.8/dist-packages (from requests-oauthlib>=0.7.0->google-auth-oauthlib<0.5,>=0.4.1->tensorboard<2.10,>=2.9->tensorflow>=1.15.0->LibRecommender) (3.2.2)\n",
            "Collecting miniful\n",
            "  Downloading miniful-0.0.6.tar.gz (2.8 kB)\n",
            "  Preparing metadata (setup.py) ... \u001b[?25l\u001b[?25hdone\n",
            "Building wheels for collected packages: fst-pso, miniful\n",
            "  Building wheel for fst-pso (setup.py) ... \u001b[?25l\u001b[?25hdone\n",
            "  Created wheel for fst-pso: filename=fst_pso-1.8.1-py3-none-any.whl size=20443 sha256=e64e9b3685e846daed3737d3ecc9f61a519665688bd73ce2ac3d8f586bb6f064\n",
            "  Stored in directory: /root/.cache/pip/wheels/6a/65/c4/d27eeee9ba3fc150a0dae150519591103b9e0dbffde3ae77dc\n",
            "  Building wheel for miniful (setup.py) ... \u001b[?25l\u001b[?25hdone\n",
            "  Created wheel for miniful: filename=miniful-0.0.6-py3-none-any.whl size=3530 sha256=2b86a3e2aebad1bb92771d69221f7c37270348e78fa14e366c6317fd3585b10a\n",
            "  Stored in directory: /root/.cache/pip/wheels/ba/d9/a0/ddd93af16d5855dd9bad417623e70948fdac119d1d34fb17c8\n",
            "Successfully built fst-pso miniful\n",
            "Installing collected packages: simpful, miniful, fst-pso, pyfume, FuzzyTM, gensim, LibRecommender\n",
            "  Attempting uninstall: gensim\n",
            "    Found existing installation: gensim 3.6.0\n",
            "    Uninstalling gensim-3.6.0:\n",
            "      Successfully uninstalled gensim-3.6.0\n",
            "Successfully installed FuzzyTM-2.0.5 LibRecommender-0.12.6 fst-pso-1.8.1 gensim-4.3.0 miniful-0.0.6 pyfume-0.2.25 simpful-2.9.0\n"
          ]
        }
      ],
      "source": [
        "!pip install gdown\n",
        "!pip install tf_slim\n",
        "!pip install numpy==1.22\n",
        "!pip install LibRecommender\n"
      ],
      "id": "XXB_1HlIKdFi"
    },
    {
      "cell_type": "markdown",
      "metadata": {
        "id": "x7-kQ2uHgQHN"
      },
      "source": [
        "## Restart "
      ],
      "id": "x7-kQ2uHgQHN"
    },
    {
      "cell_type": "code",
      "execution_count": null,
      "metadata": {
        "id": "bhIJ0xYh2YXz"
      },
      "outputs": [],
      "source": [
        "import os\n",
        "os.kill(os.getpid(), 9)"
      ],
      "id": "bhIJ0xYh2YXz"
    },
    {
      "cell_type": "markdown",
      "metadata": {
        "id": "JW1c4-822wY6"
      },
      "source": [
        "## Data Loading"
      ],
      "id": "JW1c4-822wY6"
    },
    {
      "cell_type": "code",
      "execution_count": null,
      "metadata": {
        "id": "d6266078"
      },
      "outputs": [],
      "source": [
        "\n",
        "import pandas as pd\n",
        "import os\n",
        "from os.path import exists\n",
        "import zipfile\n",
        "import numpy as np\n",
        "from datetime import datetime"
      ],
      "id": "d6266078"
    },
    {
      "cell_type": "code",
      "execution_count": null,
      "metadata": {
        "id": "grEEvzijoj2y"
      },
      "outputs": [],
      "source": [
        "TIMESTAMP=None"
      ],
      "id": "grEEvzijoj2y"
    },
    {
      "cell_type": "code",
      "execution_count": null,
      "metadata": {
        "colab": {
          "base_uri": "https://localhost:8080/"
        },
        "id": "W_txSB5TVaPm",
        "outputId": "3d5cd9dd-a292-4e62-d37b-c3cebf6ebe77"
      },
      "outputs": [
        {
          "output_type": "stream",
          "name": "stdout",
          "text": [
            "Looking in indexes: https://pypi.org/simple, https://us-python.pkg.dev/colab-wheels/public/simple/\n",
            "Requirement already satisfied: gdown in /usr/local/lib/python3.8/dist-packages (4.4.0)\n",
            "Requirement already satisfied: beautifulsoup4 in /usr/local/lib/python3.8/dist-packages (from gdown) (4.6.3)\n",
            "Requirement already satisfied: filelock in /usr/local/lib/python3.8/dist-packages (from gdown) (3.9.0)\n",
            "Requirement already satisfied: requests[socks] in /usr/local/lib/python3.8/dist-packages (from gdown) (2.25.1)\n",
            "Requirement already satisfied: six in /usr/local/lib/python3.8/dist-packages (from gdown) (1.15.0)\n",
            "Requirement already satisfied: tqdm in /usr/local/lib/python3.8/dist-packages (from gdown) (4.64.1)\n",
            "Requirement already satisfied: chardet<5,>=3.0.2 in /usr/local/lib/python3.8/dist-packages (from requests[socks]->gdown) (4.0.0)\n",
            "Requirement already satisfied: certifi>=2017.4.17 in /usr/local/lib/python3.8/dist-packages (from requests[socks]->gdown) (2022.12.7)\n",
            "Requirement already satisfied: idna<3,>=2.5 in /usr/local/lib/python3.8/dist-packages (from requests[socks]->gdown) (2.10)\n",
            "Requirement already satisfied: urllib3<1.27,>=1.21.1 in /usr/local/lib/python3.8/dist-packages (from requests[socks]->gdown) (1.24.3)\n",
            "Requirement already satisfied: PySocks!=1.5.7,>=1.5.6 in /usr/local/lib/python3.8/dist-packages (from requests[socks]->gdown) (1.7.1)\n"
          ]
        }
      ],
      "source": [
        "!pip install gdown"
      ],
      "id": "W_txSB5TVaPm"
    },
    {
      "cell_type": "code",
      "execution_count": null,
      "metadata": {
        "colab": {
          "base_uri": "https://localhost:8080/"
        },
        "id": "5YlrLKiBr-Oy",
        "outputId": "0a3470d8-24bc-4a1a-d2fa-ed560e7b319a"
      },
      "outputs": [
        {
          "output_type": "stream",
          "name": "stdout",
          "text": [
            "Downloading...\n",
            "From: https://drive.google.com/uc?id=1tZlrPeJf7geYfRRTxeRhdPU_Hq5m8tg6\n",
            "To: /content/Travel_TripAdvisor_v1.zip\n",
            "\r  0% 0.00/155k [00:00<?, ?B/s]\r100% 155k/155k [00:00<00:00, 111MB/s]\n"
          ]
        }
      ],
      "source": [
        "!gdown https://drive.google.com/uc?id=1tZlrPeJf7geYfRRTxeRhdPU_Hq5m8tg6"
      ],
      "id": "5YlrLKiBr-Oy"
    },
    {
      "cell_type": "code",
      "execution_count": null,
      "metadata": {
        "colab": {
          "base_uri": "https://localhost:8080/"
        },
        "id": "zVe-QzFtyZcR",
        "outputId": "e82db9b4-b38a-4da4-eef5-80968d420ad5"
      },
      "outputs": [
        {
          "output_type": "stream",
          "name": "stdout",
          "text": [
            "Archive:  Travel_TripAdvisor_v1.zip\n",
            "   creating: /content/Travel_TripAdvisor_v1/\n",
            "  inflating: /content/Travel_TripAdvisor_v1/Data_TripAdvisor_v1.xls  \n",
            "  inflating: /content/Travel_TripAdvisor_v1/ReadMe.html  \n"
          ]
        }
      ],
      "source": [
        "!unzip \"Travel_TripAdvisor_v1.zip\"  -d  \"/content\""
      ],
      "id": "zVe-QzFtyZcR"
    },
    {
      "cell_type": "code",
      "execution_count": null,
      "metadata": {
        "colab": {
          "base_uri": "https://localhost:8080/"
        },
        "id": "kL5ASmbGyZcS",
        "outputId": "69fb3c2e-d10b-4427-de70-5995d91ada64"
      },
      "outputs": [
        {
          "output_type": "stream",
          "name": "stdout",
          "text": [
            "Looking in indexes: https://pypi.org/simple, https://us-python.pkg.dev/colab-wheels/public/simple/\n",
            "Requirement already satisfied: pandas in /usr/local/lib/python3.8/dist-packages (1.3.5)\n",
            "Requirement already satisfied: openpyxl in /usr/local/lib/python3.8/dist-packages (3.0.10)\n",
            "Requirement already satisfied: python-dateutil>=2.7.3 in /usr/local/lib/python3.8/dist-packages (from pandas) (2.8.2)\n",
            "Requirement already satisfied: numpy>=1.17.3 in /usr/local/lib/python3.8/dist-packages (from pandas) (1.22.0)\n",
            "Requirement already satisfied: pytz>=2017.3 in /usr/local/lib/python3.8/dist-packages (from pandas) (2022.7.1)\n",
            "Requirement already satisfied: et-xmlfile in /usr/local/lib/python3.8/dist-packages (from openpyxl) (1.1.0)\n",
            "Requirement already satisfied: six>=1.5 in /usr/local/lib/python3.8/dist-packages (from python-dateutil>=2.7.3->pandas) (1.15.0)\n"
          ]
        }
      ],
      "source": [
        "!pip install pandas openpyxl"
      ],
      "id": "kL5ASmbGyZcS"
    },
    {
      "cell_type": "code",
      "execution_count": null,
      "metadata": {
        "id": "FcBWdcpFyZcT"
      },
      "outputs": [],
      "source": [
        "\n",
        "import pandas as pd\n",
        "\n",
        "xls = pd.ExcelFile(r\"Travel_TripAdvisor_v1/Data_TripAdvisor_v1.xls\") \n",
        "\n",
        "rating_df = xls.parse(0) #2 is the sheet number+1 thus if the file has only 1 sheet write 0 in paranthesis\n",
        "\n"
      ],
      "id": "FcBWdcpFyZcT"
    },
    {
      "cell_type": "code",
      "execution_count": null,
      "metadata": {
        "id": "p3CDyklH1Kv1"
      },
      "outputs": [],
      "source": [
        "rating_df=rating_df.reset_index(drop=True)"
      ],
      "id": "p3CDyklH1Kv1"
    },
    {
      "cell_type": "code",
      "execution_count": null,
      "metadata": {
        "id": "NHIInGM3yZcW"
      },
      "outputs": [],
      "source": [
        "\n",
        "rating_df.rename(columns = {'ID_USER':'user'}, inplace = True)\n",
        "rating_df.rename(columns = {'ID_HOTEL':'item'}, inplace = True)\n",
        "rating_df.rename(columns = {'Rating':'label'}, inplace = True)"
      ],
      "id": "NHIInGM3yZcW"
    },
    {
      "cell_type": "markdown",
      "metadata": {
        "id": "xR4W7kxwlOmR"
      },
      "source": [
        "## Name of the file where user item interaction data avaiable?\n",
        "- Column name should be in following name and order\n",
        "- [ **itemID, userID , rating , [other features]** ]\n"
      ],
      "id": "xR4W7kxwlOmR"
    },
    {
      "cell_type": "markdown",
      "metadata": {
        "id": "7pHemxXOwIqT"
      },
      "source": [
        "### Dense columns"
      ],
      "id": "7pHemxXOwIqT"
    },
    {
      "cell_type": "code",
      "execution_count": null,
      "metadata": {
        "id": "48UYMVFOwMLq"
      },
      "outputs": [],
      "source": [
        "dense_col=None"
      ],
      "id": "48UYMVFOwMLq"
    },
    {
      "cell_type": "markdown",
      "metadata": {
        "id": "Jn3-WuJWwP9T"
      },
      "source": [
        "### Sparse columns"
      ],
      "id": "Jn3-WuJWwP9T"
    },
    {
      "cell_type": "code",
      "execution_count": null,
      "metadata": {
        "id": "HmKblRwswSQ6"
      },
      "outputs": [],
      "source": [
        "col_sparse= ['USER_STATE', 'USER_TIMEZONE','Trip Type']\n"
      ],
      "id": "HmKblRwswSQ6"
    },
    {
      "cell_type": "markdown",
      "metadata": {
        "id": "b-n4nO9HvyRq"
      },
      "source": [
        "### User contexual features other than \"user\" column"
      ],
      "id": "b-n4nO9HvyRq"
    },
    {
      "cell_type": "code",
      "execution_count": null,
      "metadata": {
        "id": "sIuteHEmwCdU"
      },
      "outputs": [],
      "source": [
        "\n",
        "user_col = ['USER_STATE', 'USER_TIMEZONE','Trip Type']\n"
      ],
      "id": "sIuteHEmwCdU"
    },
    {
      "cell_type": "markdown",
      "metadata": {
        "id": "9JazyARCv77k"
      },
      "source": [
        "### User contexual features other than \"item\" column"
      ],
      "id": "9JazyARCv77k"
    },
    {
      "cell_type": "code",
      "execution_count": null,
      "metadata": {
        "id": "iVUF_PnywHOy"
      },
      "outputs": [],
      "source": [
        "item_col=None\n"
      ],
      "id": "iVUF_PnywHOy"
    },
    {
      "cell_type": "markdown",
      "metadata": {
        "id": "DvQzh9z6osMg"
      },
      "source": [
        "### Run below cell"
      ],
      "id": "DvQzh9z6osMg"
    },
    {
      "cell_type": "code",
      "execution_count": null,
      "metadata": {
        "id": "vSqr1RIMwn7i"
      },
      "outputs": [],
      "source": [
        "allcols=['user','item','label']\n",
        "if user_col is not None:\n",
        "  for i in user_col:\n",
        "    allcols.append(i)\n",
        "if item_col is not None:\n",
        "  for i in item_col:\n",
        "    allcols.append(i)"
      ],
      "id": "vSqr1RIMwn7i"
    },
    {
      "cell_type": "code",
      "execution_count": null,
      "metadata": {
        "colab": {
          "base_uri": "https://localhost:8080/"
        },
        "id": "x3WSJMFwxBOK",
        "outputId": "9c1815fa-8401-4ff3-d1ff-7102a6e7847c"
      },
      "outputs": [
        {
          "output_type": "execute_result",
          "data": {
            "text/plain": [
              "[None, None, None, None, None, None]"
            ]
          },
          "metadata": {},
          "execution_count": 15
        }
      ],
      "source": [
        "listcols = []\n",
        "[listcols.append(x) for x in allcols if x not in listcols]"
      ],
      "id": "x3WSJMFwxBOK"
    },
    {
      "cell_type": "code",
      "execution_count": null,
      "metadata": {
        "colab": {
          "base_uri": "https://localhost:8080/"
        },
        "id": "5ztGXRmMxnDC",
        "outputId": "815442da-58ec-4a12-d53a-6d58c8e53e41"
      },
      "outputs": [
        {
          "output_type": "execute_result",
          "data": {
            "text/plain": [
              "['user', 'item', 'label', 'USER_STATE', 'USER_TIMEZONE', 'Trip Type']"
            ]
          },
          "metadata": {},
          "execution_count": 16
        }
      ],
      "source": [
        "listcols"
      ],
      "id": "5ztGXRmMxnDC"
    },
    {
      "cell_type": "code",
      "execution_count": null,
      "metadata": {
        "id": "QuETNcoErhSC"
      },
      "outputs": [],
      "source": [
        "rating_df=rating_df[listcols]"
      ],
      "id": "QuETNcoErhSC"
    },
    {
      "cell_type": "markdown",
      "metadata": {
        "id": "2U3Ah9H-LsTa"
      },
      "source": [
        "##### Code Setup"
      ],
      "id": "2U3Ah9H-LsTa"
    },
    {
      "cell_type": "code",
      "execution_count": null,
      "metadata": {
        "id": "Mz_p14qC0qMi",
        "colab": {
          "base_uri": "https://localhost:8080/"
        },
        "outputId": "243fad0e-3c09-454b-9d0d-77a16feb6496"
      },
      "outputs": [
        {
          "output_type": "stream",
          "name": "stderr",
          "text": [
            "WARNING:tensorflow:From /usr/local/lib/python3.8/dist-packages/tensorflow/python/compat/v2_compat.py:107: disable_resource_variables (from tensorflow.python.ops.variable_scope) is deprecated and will be removed in a future version.\n",
            "Instructions for updating:\n",
            "non-resource variables are not supported in the long term\n"
          ]
        }
      ],
      "source": [
        "# Evaluation metrics\n",
        "import libreco\n",
        "import tensorflow as tf\n",
        "from libreco.data import DatasetFeat, DataInfo\n",
        "from libreco.data import  split_by_ratio\n",
        "from libreco.data import split_by_ratio_chrono, DatasetPure, DatasetFeat\n",
        "from libreco.evaluation import evaluate\n",
        "from libreco.prediction import predict_data_with_feats\n",
        "import torch\n",
        "from libreco.algorithms import (\n",
        "    FM,\n",
        "    WideDeep,\n",
        "    DeepFM\n",
        ")\n",
        "\n",
        "import time\n",
        "import pandas as pd\n",
        "\n",
        "metrics = [\n",
        "    \"precision\",\n",
        "    \"recall\",\n",
        "    \"map\",\n",
        "    \"ndcg\"\n",
        "]\n",
        "\n",
        "# Call Librecommender API\n",
        "# datasettype =\"pure\" or \"feat\"\n",
        "def run(rating_df,user_col, item_col, col_sparse, dense_col,datasettype=\"pure\", algo=[\"als\"],hyperparam={\"als\":{ \"embed_size\":16,\n",
        "        \"n_epochs\":10,\n",
        "        \"reg\":5.0,\n",
        "        \"alpha\":10,\n",
        "        \"use_cg\":False,\n",
        "        \"n_threads\":1,\n",
        "        \"seed\":42}}, neg_samples=True):\n",
        "    train_data, test_data, data_info=None,None,None\n",
        "    tf.compat.v1.reset_default_graph()\n",
        "    train_data, test_data, data_info = preprocessingFeature(rating_df,user_col, item_col, col_sparse, dense_col, neg_samples) \n",
        "    models = dict()\n",
        "    evals = dict()\n",
        "    if(neg_samples):\n",
        "      train_data.build_negative_samples(\n",
        "            data_info, item_gen_mode=\"random\", num_neg=1, seed=2020\n",
        "        )\n",
        "      test_data.build_negative_samples(\n",
        "            data_info, item_gen_mode=\"random\", num_neg=1, seed=2222\n",
        "        )\n",
        "    for i in algo:\n",
        "        if i == 'WideDeep':\n",
        "            \n",
        "            als, eval, algo_data_info = WideDeep(train_data, test_data, data_info,hyperparam[\"WideDeep\"])\n",
        "            models['WideDeep'] = als\n",
        "            evals['WideDeep'] = eval\n",
        "            print(\"Evaluation Results for WideDeep:\")\n",
        "            print(evals['WideDeep'])\n",
        "        \n",
        "       \n",
        "          \n",
        "    return models, evals\n",
        "\n",
        "# data preprocessing\n",
        "def preprocessingFeature(rating_df,user_col, item_col, col_sparse, dense_col, neg_samples=True):\n",
        "    data = rating_df.copy()\n",
        "\n",
        "    train, test = split_by_ratio(data, test_size=0.2)\n",
        "    train_data, data_info = DatasetFeat.build_trainset(\n",
        "        train, user_col, item_col, col_sparse, dense_col,\n",
        "        shuffle=False,\n",
        "    )\n",
        "    test_data = DatasetFeat.build_testset(test, shuffle=False)\n",
        "    if neg_samples:\n",
        "        train_data.build_negative_samples(\n",
        "            data_info, item_gen_mode=\"random\", num_neg=1, seed=2020\n",
        "        )\n",
        "        test_data.build_negative_samples(\n",
        "            data_info, item_gen_mode=\"random\", num_neg=1, seed=2222\n",
        "        )\n",
        "    return train_data, test_data, data_info\n",
        "\n",
        "\n",
        "# Recommend items to user\n",
        "def recommend(model, userid, k=10):\n",
        "    return model.recommend_user(user=userid, n_rec=k)\n",
        "\n",
        "# Find similar items\n",
        "def similarItems(model, itemids, k=10):\n",
        "    return model.search_knn_items(item=itemids, k=k)\n",
        "\n",
        "\n",
        "# Model : Wide and deep\n",
        "def WideDeep(train_data, test_data, data_info,hyperparam={\"embed_size\":16,\n",
        "        \"n_epochs\":10,\n",
        "        \"lr\":{\"wide\": 0.01, \"deep\": 1e-4},\n",
        "        \"lr_decay\":False,\n",
        "        \"reg\":None,\n",
        "        \"batch_size\":256,\n",
        "        \"num_neg\":1,\n",
        "        \"use_bn\":False,\n",
        "        \"dropout_rate\":None,\n",
        "        \"hidden_units\":\"128,64,32\",\n",
        "        \"tf_sess_config\":None,}):\n",
        "    model = libreco.algorithms.WideDeep(\n",
        "        \"ranking\",\n",
        "        data_info,\n",
        "        embed_size=hyperparam[\"embed_size\"],\n",
        "        n_epochs=hyperparam[\"n_epochs\"],\n",
        "        lr=hyperparam[\"lr\"],  \n",
        "        lr_decay=hyperparam[\"lr_decay\"],\n",
        "        reg=hyperparam[\"reg\"],\n",
        "        batch_size=hyperparam[\"batch_size\"],\n",
        "        num_neg=hyperparam[\"num_neg\"],\n",
        "        use_bn=hyperparam[\"use_bn\"],\n",
        "        dropout_rate=hyperparam[\"dropout_rate\"],\n",
        "        hidden_units=hyperparam[\"hidden_units\"],\n",
        "        tf_sess_config=hyperparam[\"tf_sess_config\"],\n",
        "    )\n",
        "    model.fit(\n",
        "        train_data,\n",
        "        verbose=2,\n",
        "        eval_data=test_data,\n",
        "        metrics=metrics,\n",
        "    )\n",
        "    result = evaluate(model=model, data=test_data, metrics=metrics)\n",
        "    return model, result, data_info\n",
        "\n",
        "    \n"
      ],
      "id": "Mz_p14qC0qMi"
    },
    {
      "cell_type": "markdown",
      "metadata": {
        "id": "mYOqn9gnSZZw"
      },
      "source": [
        "## Run wide and deep"
      ],
      "id": "mYOqn9gnSZZw"
    },
    {
      "cell_type": "code",
      "execution_count": null,
      "metadata": {
        "colab": {
          "base_uri": "https://localhost:8080/"
        },
        "id": "G2ite0KAND7B",
        "outputId": "94da5ee5-0684-4660-95b1-3469f589e1ae"
      },
      "outputs": [
        {
          "output_type": "stream",
          "name": "stdout",
          "text": [
            "random neg item sampling elapsed: 0.004s\n",
            "random neg item sampling elapsed: 0.001s\n",
            "random neg item sampling elapsed: 0.009s\n",
            "random neg item sampling elapsed: 0.001s\n",
            "total params: \u001b[33m72,848\u001b[0m | embedding params: \u001b[33m52,331\u001b[0m | network params: \u001b[33m20,517\u001b[0m\n",
            "Training start time: \u001b[35m2023-02-07 21:57:01\u001b[0m\n"
          ]
        },
        {
          "output_type": "stream",
          "name": "stderr",
          "text": [
            "train: 100%|██████████| 65/65 [00:03<00:00, 17.94it/s]\n"
          ]
        },
        {
          "output_type": "stream",
          "name": "stdout",
          "text": [
            "Epoch 1 elapsed: 3.635s\n",
            "\t \u001b[32mtrain_loss: 0.6933\u001b[0m\n"
          ]
        },
        {
          "output_type": "stream",
          "name": "stderr",
          "text": [
            "eval_listwise: 100%|██████████| 23/23 [00:00<00:00, 170.39it/s]\n"
          ]
        },
        {
          "output_type": "stream",
          "name": "stdout",
          "text": [
            "\t eval precision@10: 0.0015\n",
            "\t eval recall@10: 0.0134\n",
            "\t eval map@10: 0.0030\n",
            "\t eval ndcg@10: 0.0057\n",
            "==============================\n"
          ]
        },
        {
          "output_type": "stream",
          "name": "stderr",
          "text": [
            "train: 100%|██████████| 65/65 [00:00<00:00, 251.12it/s]\n"
          ]
        },
        {
          "output_type": "stream",
          "name": "stdout",
          "text": [
            "Epoch 2 elapsed: 0.266s\n",
            "\t \u001b[32mtrain_loss: 0.6932\u001b[0m\n"
          ]
        },
        {
          "output_type": "stream",
          "name": "stderr",
          "text": [
            "eval_listwise: 100%|██████████| 23/23 [00:00<00:00, 210.13it/s]\n"
          ]
        },
        {
          "output_type": "stream",
          "name": "stdout",
          "text": [
            "\t eval precision@10: 0.0017\n",
            "\t eval recall@10: 0.0158\n",
            "\t eval map@10: 0.0054\n",
            "\t eval ndcg@10: 0.0082\n",
            "==============================\n"
          ]
        },
        {
          "output_type": "stream",
          "name": "stderr",
          "text": [
            "train: 100%|██████████| 65/65 [00:00<00:00, 243.66it/s]\n"
          ]
        },
        {
          "output_type": "stream",
          "name": "stdout",
          "text": [
            "Epoch 3 elapsed: 0.274s\n",
            "\t \u001b[32mtrain_loss: 0.693\u001b[0m\n"
          ]
        },
        {
          "output_type": "stream",
          "name": "stderr",
          "text": [
            "eval_listwise: 100%|██████████| 23/23 [00:00<00:00, 182.62it/s]\n"
          ]
        },
        {
          "output_type": "stream",
          "name": "stdout",
          "text": [
            "\t eval precision@10: 0.0017\n",
            "\t eval recall@10: 0.0158\n",
            "\t eval map@10: 0.0096\n",
            "\t eval ndcg@10: 0.0113\n",
            "==============================\n"
          ]
        },
        {
          "output_type": "stream",
          "name": "stderr",
          "text": [
            "train: 100%|██████████| 65/65 [00:00<00:00, 179.18it/s]\n"
          ]
        },
        {
          "output_type": "stream",
          "name": "stdout",
          "text": [
            "Epoch 4 elapsed: 0.374s\n",
            "\t \u001b[32mtrain_loss: 0.6929\u001b[0m\n"
          ]
        },
        {
          "output_type": "stream",
          "name": "stderr",
          "text": [
            "eval_listwise: 100%|██████████| 23/23 [00:00<00:00, 122.20it/s]\n"
          ]
        },
        {
          "output_type": "stream",
          "name": "stdout",
          "text": [
            "\t eval precision@10: 0.0017\n",
            "\t eval recall@10: 0.0158\n",
            "\t eval map@10: 0.0095\n",
            "\t eval ndcg@10: 0.0112\n",
            "==============================\n"
          ]
        },
        {
          "output_type": "stream",
          "name": "stderr",
          "text": [
            "train: 100%|██████████| 65/65 [00:00<00:00, 142.35it/s]\n"
          ]
        },
        {
          "output_type": "stream",
          "name": "stdout",
          "text": [
            "Epoch 5 elapsed: 0.473s\n",
            "\t \u001b[32mtrain_loss: 0.6925\u001b[0m\n"
          ]
        },
        {
          "output_type": "stream",
          "name": "stderr",
          "text": [
            "eval_listwise: 100%|██████████| 23/23 [00:00<00:00, 122.38it/s]\n"
          ]
        },
        {
          "output_type": "stream",
          "name": "stdout",
          "text": [
            "\t eval precision@10: 0.0019\n",
            "\t eval recall@10: 0.0182\n",
            "\t eval map@10: 0.0097\n",
            "\t eval ndcg@10: 0.0118\n",
            "==============================\n"
          ]
        },
        {
          "output_type": "stream",
          "name": "stderr",
          "text": [
            "train: 100%|██████████| 65/65 [00:00<00:00, 137.65it/s]\n"
          ]
        },
        {
          "output_type": "stream",
          "name": "stdout",
          "text": [
            "Epoch 6 elapsed: 0.494s\n",
            "\t \u001b[32mtrain_loss: 0.6918\u001b[0m\n"
          ]
        },
        {
          "output_type": "stream",
          "name": "stderr",
          "text": [
            "eval_listwise: 100%|██████████| 23/23 [00:00<00:00, 122.88it/s]\n"
          ]
        },
        {
          "output_type": "stream",
          "name": "stdout",
          "text": [
            "\t eval precision@10: 0.0015\n",
            "\t eval recall@10: 0.0134\n",
            "\t eval map@10: 0.0089\n",
            "\t eval ndcg@10: 0.0102\n",
            "==============================\n"
          ]
        },
        {
          "output_type": "stream",
          "name": "stderr",
          "text": [
            "train: 100%|██████████| 65/65 [00:00<00:00, 126.58it/s]\n"
          ]
        },
        {
          "output_type": "stream",
          "name": "stdout",
          "text": [
            "Epoch 7 elapsed: 0.544s\n",
            "\t \u001b[32mtrain_loss: 0.6902\u001b[0m\n"
          ]
        },
        {
          "output_type": "stream",
          "name": "stderr",
          "text": [
            "eval_listwise: 100%|██████████| 23/23 [00:00<00:00, 151.23it/s]\n"
          ]
        },
        {
          "output_type": "stream",
          "name": "stdout",
          "text": [
            "\t eval precision@10: 0.0022\n",
            "\t eval recall@10: 0.0195\n",
            "\t eval map@10: 0.0097\n",
            "\t eval ndcg@10: 0.0124\n",
            "==============================\n"
          ]
        },
        {
          "output_type": "stream",
          "name": "stderr",
          "text": [
            "train: 100%|██████████| 65/65 [00:00<00:00, 171.52it/s]\n"
          ]
        },
        {
          "output_type": "stream",
          "name": "stdout",
          "text": [
            "Epoch 8 elapsed: 0.395s\n",
            "\t \u001b[32mtrain_loss: 0.6869\u001b[0m\n"
          ]
        },
        {
          "output_type": "stream",
          "name": "stderr",
          "text": [
            "eval_listwise: 100%|██████████| 23/23 [00:00<00:00, 170.14it/s]\n"
          ]
        },
        {
          "output_type": "stream",
          "name": "stdout",
          "text": [
            "\t eval precision@10: 0.0019\n",
            "\t eval recall@10: 0.0170\n",
            "\t eval map@10: 0.0093\n",
            "\t eval ndcg@10: 0.0116\n",
            "==============================\n"
          ]
        },
        {
          "output_type": "stream",
          "name": "stderr",
          "text": [
            "train: 100%|██████████| 65/65 [00:00<00:00, 183.34it/s]\n"
          ]
        },
        {
          "output_type": "stream",
          "name": "stdout",
          "text": [
            "Epoch 9 elapsed: 0.372s\n",
            "\t \u001b[32mtrain_loss: 0.6817\u001b[0m\n"
          ]
        },
        {
          "output_type": "stream",
          "name": "stderr",
          "text": [
            "eval_listwise: 100%|██████████| 23/23 [00:00<00:00, 133.74it/s]\n"
          ]
        },
        {
          "output_type": "stream",
          "name": "stdout",
          "text": [
            "\t eval precision@10: 0.0019\n",
            "\t eval recall@10: 0.0170\n",
            "\t eval map@10: 0.0093\n",
            "\t eval ndcg@10: 0.0116\n",
            "==============================\n"
          ]
        },
        {
          "output_type": "stream",
          "name": "stderr",
          "text": [
            "train: 100%|██████████| 65/65 [00:00<00:00, 200.43it/s]\n"
          ]
        },
        {
          "output_type": "stream",
          "name": "stdout",
          "text": [
            "Epoch 10 elapsed: 0.339s\n",
            "\t \u001b[32mtrain_loss: 0.6772\u001b[0m\n"
          ]
        },
        {
          "output_type": "stream",
          "name": "stderr",
          "text": [
            "eval_listwise: 100%|██████████| 23/23 [00:00<00:00, 180.47it/s]\n"
          ]
        },
        {
          "output_type": "stream",
          "name": "stdout",
          "text": [
            "\t eval precision@10: 0.0017\n",
            "\t eval recall@10: 0.0146\n",
            "\t eval map@10: 0.0095\n",
            "\t eval ndcg@10: 0.0112\n",
            "==============================\n"
          ]
        },
        {
          "output_type": "stream",
          "name": "stderr",
          "text": [
            "eval_listwise: 100%|██████████| 103/103 [00:00<00:00, 339.21it/s]"
          ]
        },
        {
          "output_type": "stream",
          "name": "stdout",
          "text": [
            "Evaluation Results for WideDeep:\n",
            "{'precision': 0.0017031630170316304, 'recall': 0.014598540145985401, 'map': 0.009468775344687753, 'ndcg': 0.011203235287356731}\n"
          ]
        },
        {
          "output_type": "stream",
          "name": "stderr",
          "text": [
            "\n"
          ]
        }
      ],
      "source": [
        "\n",
        "models, evals = run(rating_df,user_col, item_col, col_sparse, dense_col, algo=[\"WideDeep\"], hyperparam={\"WideDeep\":{\"embed_size\":16,\n",
        "        \"n_epochs\":10,\n",
        "        \"lr\":{\"wide\": 0.01, \"deep\": 1e-4},\n",
        "        \"lr_decay\":False,\n",
        "        \"reg\":None,\n",
        "        \"batch_size\":256,\n",
        "        \"num_neg\":1,\n",
        "        \"use_bn\":False,\n",
        "        \"dropout_rate\":None,\n",
        "        \"hidden_units\":\"128,64,32\",\n",
        "        \"tf_sess_config\":None,} },neg_samples=True)\n"
      ],
      "id": "G2ite0KAND7B"
    },
    {
      "cell_type": "markdown",
      "metadata": {
        "id": "-d_XzF_wND7D"
      },
      "source": [
        "#### Recommendations to users"
      ],
      "id": "-d_XzF_wND7D"
    },
    {
      "cell_type": "code",
      "execution_count": null,
      "metadata": {
        "id": "9kbFOxpoND7E"
      },
      "outputs": [],
      "source": [
        "bpr=models['WideDeep']"
      ],
      "id": "9kbFOxpoND7E"
    },
    {
      "cell_type": "code",
      "execution_count": null,
      "metadata": {
        "colab": {
          "base_uri": "https://localhost:8080/"
        },
        "id": "qgx3HWinND7F",
        "outputId": "03ca9460-00b5-4c82-b084-4ac97a96efbf"
      },
      "outputs": [
        {
          "output_type": "stream",
          "name": "stdout",
          "text": [
            "\u001b[31mDetect unknown user: 1\u001b[0m\n",
            "{1: array([  94675,  295455, 1845691,  101910,  224185,  224185,   84320,\n",
            "        223714,   91979,   84480])}\n"
          ]
        }
      ],
      "source": [
        "\n",
        "results= recommend(bpr,1, 10)\n",
        "print(results)"
      ],
      "id": "qgx3HWinND7F"
    }
  ],
  "metadata": {
    "accelerator": "GPU",
    "colab": {
      "collapsed_sections": [
        "1ILJlOp2j64Y",
        "x7-kQ2uHgQHN",
        "JW1c4-822wY6",
        "7pHemxXOwIqT",
        "Jn3-WuJWwP9T",
        "b-n4nO9HvyRq",
        "9JazyARCv77k"
      ],
      "machine_shape": "hm",
      "provenance": []
    },
    "gpuClass": "premium",
    "kernelspec": {
      "display_name": "Python 3 (ipykernel)",
      "language": "python",
      "name": "python3"
    },
    "language_info": {
      "codemirror_mode": {
        "name": "ipython",
        "version": 3
      },
      "file_extension": ".py",
      "mimetype": "text/x-python",
      "name": "python",
      "nbconvert_exporter": "python",
      "pygments_lexer": "ipython3",
      "version": "3.9.12"
    }
  },
  "nbformat": 4,
  "nbformat_minor": 5
}