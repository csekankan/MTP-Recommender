{
  "cells": [
    {
      "cell_type": "markdown",
      "source": [
        "##Installation"
      ],
      "metadata": {
        "id": "1ILJlOp2j64Y"
      },
      "id": "1ILJlOp2j64Y"
    },
    {
      "cell_type": "code",
      "execution_count": null,
      "metadata": {
        "id": "XXB_1HlIKdFi",
        "colab": {
          "base_uri": "https://localhost:8080/"
        },
        "outputId": "eed5fffb-922a-47b2-db32-9f247b0e451f"
      },
      "outputs": [
        {
          "output_type": "stream",
          "name": "stdout",
          "text": [
            "Looking in indexes: https://pypi.org/simple, https://us-python.pkg.dev/colab-wheels/public/simple/\n",
            "Collecting lightfm\n",
            "  Downloading lightfm-1.16.tar.gz (310 kB)\n",
            "\u001b[2K     \u001b[90m━━━━━━━━━━━━━━━━━━━━━━━━━━━━━━━━━━━━━━\u001b[0m \u001b[32m310.1/310.1 KB\u001b[0m \u001b[31m10.2 MB/s\u001b[0m eta \u001b[36m0:00:00\u001b[0m\n",
            "\u001b[?25h  Preparing metadata (setup.py) ... \u001b[?25l\u001b[?25hdone\n",
            "Requirement already satisfied: numpy in /usr/local/lib/python3.8/dist-packages (from lightfm) (1.21.6)\n",
            "Requirement already satisfied: scipy>=0.17.0 in /usr/local/lib/python3.8/dist-packages (from lightfm) (1.7.3)\n",
            "Requirement already satisfied: requests in /usr/local/lib/python3.8/dist-packages (from lightfm) (2.25.1)\n",
            "Requirement already satisfied: scikit-learn in /usr/local/lib/python3.8/dist-packages (from lightfm) (1.0.2)\n",
            "Requirement already satisfied: certifi>=2017.4.17 in /usr/local/lib/python3.8/dist-packages (from requests->lightfm) (2022.12.7)\n",
            "Requirement already satisfied: urllib3<1.27,>=1.21.1 in /usr/local/lib/python3.8/dist-packages (from requests->lightfm) (1.24.3)\n",
            "Requirement already satisfied: idna<3,>=2.5 in /usr/local/lib/python3.8/dist-packages (from requests->lightfm) (2.10)\n",
            "Requirement already satisfied: chardet<5,>=3.0.2 in /usr/local/lib/python3.8/dist-packages (from requests->lightfm) (4.0.0)\n",
            "Requirement already satisfied: joblib>=0.11 in /usr/local/lib/python3.8/dist-packages (from scikit-learn->lightfm) (1.2.0)\n",
            "Requirement already satisfied: threadpoolctl>=2.0.0 in /usr/local/lib/python3.8/dist-packages (from scikit-learn->lightfm) (3.1.0)\n",
            "Building wheels for collected packages: lightfm\n",
            "  Building wheel for lightfm (setup.py) ... \u001b[?25l\u001b[?25hdone\n",
            "  Created wheel for lightfm: filename=lightfm-1.16-cp38-cp38-linux_x86_64.whl size=917979 sha256=2ff6973d37cd4cb23819635263ccb8b082c3bf2b8df43fcbb3c27753a39944f0\n",
            "  Stored in directory: /root/.cache/pip/wheels/ec/bb/51/9c487d021c1373b691d13cadca0b65b6852627b1f3f43550fa\n",
            "Successfully built lightfm\n",
            "Installing collected packages: lightfm\n",
            "Successfully installed lightfm-1.16\n",
            "Looking in indexes: https://pypi.org/simple, https://us-python.pkg.dev/colab-wheels/public/simple/\n",
            "Requirement already satisfied: gdown in /usr/local/lib/python3.8/dist-packages (4.4.0)\n",
            "Requirement already satisfied: requests[socks] in /usr/local/lib/python3.8/dist-packages (from gdown) (2.25.1)\n",
            "Requirement already satisfied: tqdm in /usr/local/lib/python3.8/dist-packages (from gdown) (4.64.1)\n",
            "Requirement already satisfied: beautifulsoup4 in /usr/local/lib/python3.8/dist-packages (from gdown) (4.6.3)\n",
            "Requirement already satisfied: filelock in /usr/local/lib/python3.8/dist-packages (from gdown) (3.9.0)\n",
            "Requirement already satisfied: six in /usr/local/lib/python3.8/dist-packages (from gdown) (1.15.0)\n",
            "Requirement already satisfied: chardet<5,>=3.0.2 in /usr/local/lib/python3.8/dist-packages (from requests[socks]->gdown) (4.0.0)\n",
            "Requirement already satisfied: certifi>=2017.4.17 in /usr/local/lib/python3.8/dist-packages (from requests[socks]->gdown) (2022.12.7)\n",
            "Requirement already satisfied: idna<3,>=2.5 in /usr/local/lib/python3.8/dist-packages (from requests[socks]->gdown) (2.10)\n",
            "Requirement already satisfied: urllib3<1.27,>=1.21.1 in /usr/local/lib/python3.8/dist-packages (from requests[socks]->gdown) (1.24.3)\n",
            "Requirement already satisfied: PySocks!=1.5.7,>=1.5.6 in /usr/local/lib/python3.8/dist-packages (from requests[socks]->gdown) (1.7.1)\n",
            "Looking in indexes: https://pypi.org/simple, https://us-python.pkg.dev/colab-wheels/public/simple/\n",
            "Collecting recommenders\n",
            "  Downloading recommenders-1.1.1-py3-none-any.whl (339 kB)\n",
            "\u001b[2K     \u001b[90m━━━━━━━━━━━━━━━━━━━━━━━━━━━━━━━━━━━━━━\u001b[0m \u001b[32m339.0/339.0 KB\u001b[0m \u001b[31m11.0 MB/s\u001b[0m eta \u001b[36m0:00:00\u001b[0m\n",
            "\u001b[?25hRequirement already satisfied: matplotlib<4,>=2.2.2 in /usr/local/lib/python3.8/dist-packages (from recommenders) (3.2.2)\n",
            "Collecting bottleneck<2,>=1.2.1\n",
            "  Downloading Bottleneck-1.3.6-cp38-cp38-manylinux_2_5_x86_64.manylinux1_x86_64.manylinux_2_17_x86_64.manylinux2014_x86_64.whl (355 kB)\n",
            "\u001b[2K     \u001b[90m━━━━━━━━━━━━━━━━━━━━━━━━━━━━━━━━━━━━━━\u001b[0m \u001b[32m355.2/355.2 KB\u001b[0m \u001b[31m36.3 MB/s\u001b[0m eta \u001b[36m0:00:00\u001b[0m\n",
            "\u001b[?25hRequirement already satisfied: scipy<2,>=1.0.0 in /usr/local/lib/python3.8/dist-packages (from recommenders) (1.7.3)\n",
            "Requirement already satisfied: lightfm<2,>=1.15 in /usr/local/lib/python3.8/dist-packages (from recommenders) (1.16)\n",
            "Requirement already satisfied: scikit-learn<1.0.3,>=0.22.1 in /usr/local/lib/python3.8/dist-packages (from recommenders) (1.0.2)\n",
            "Requirement already satisfied: numba<1,>=0.38.1 in /usr/local/lib/python3.8/dist-packages (from recommenders) (0.56.4)\n",
            "Collecting pandera[strategies]>=0.6.5\n",
            "  Downloading pandera-0.13.4-py3-none-any.whl (122 kB)\n",
            "\u001b[2K     \u001b[90m━━━━━━━━━━━━━━━━━━━━━━━━━━━━━━━━━━━━━━\u001b[0m \u001b[32m122.4/122.4 KB\u001b[0m \u001b[31m14.3 MB/s\u001b[0m eta \u001b[36m0:00:00\u001b[0m\n",
            "\u001b[?25hCollecting pyyaml<6,>=5.4.1\n",
            "  Downloading PyYAML-5.4.1-cp38-cp38-manylinux1_x86_64.whl (662 kB)\n",
            "\u001b[2K     \u001b[90m━━━━━━━━━━━━━━━━━━━━━━━━━━━━━━━━━━━━━━\u001b[0m \u001b[32m662.4/662.4 KB\u001b[0m \u001b[31m59.5 MB/s\u001b[0m eta \u001b[36m0:00:00\u001b[0m\n",
            "\u001b[?25hCollecting transformers<5,>=2.5.0\n",
            "  Downloading transformers-4.26.0-py3-none-any.whl (6.3 MB)\n",
            "\u001b[2K     \u001b[90m━━━━━━━━━━━━━━━━━━━━━━━━━━━━━━━━━━━━━━━━\u001b[0m \u001b[32m6.3/6.3 MB\u001b[0m \u001b[31m114.3 MB/s\u001b[0m eta \u001b[36m0:00:00\u001b[0m\n",
            "\u001b[?25hRequirement already satisfied: jinja2<3.1,>=2 in /usr/local/lib/python3.8/dist-packages (from recommenders) (2.11.3)\n",
            "Requirement already satisfied: numpy>=1.19 in /usr/local/lib/python3.8/dist-packages (from recommenders) (1.21.6)\n",
            "Requirement already satisfied: seaborn<1,>=0.8.1 in /usr/local/lib/python3.8/dist-packages (from recommenders) (0.11.2)\n",
            "Collecting memory-profiler<1,>=0.54.0\n",
            "  Downloading memory_profiler-0.61.0-py3-none-any.whl (31 kB)\n",
            "Requirement already satisfied: tqdm<5,>=4.31.1 in /usr/local/lib/python3.8/dist-packages (from recommenders) (4.64.1)\n",
            "Collecting scikit-surprise>=1.0.6\n",
            "  Downloading scikit-surprise-1.1.3.tar.gz (771 kB)\n",
            "\u001b[2K     \u001b[90m━━━━━━━━━━━━━━━━━━━━━━━━━━━━━━━━━━━━━━\u001b[0m \u001b[32m772.0/772.0 KB\u001b[0m \u001b[31m59.6 MB/s\u001b[0m eta \u001b[36m0:00:00\u001b[0m\n",
            "\u001b[?25h  Preparing metadata (setup.py) ... \u001b[?25l\u001b[?25hdone\n",
            "Collecting category-encoders<2,>=1.3.0\n",
            "  Downloading category_encoders-1.3.0-py2.py3-none-any.whl (61 kB)\n",
            "\u001b[2K     \u001b[90m━━━━━━━━━━━━━━━━━━━━━━━━━━━━━━━━━━━━━━━━\u001b[0m \u001b[32m61.4/61.4 KB\u001b[0m \u001b[31m8.1 MB/s\u001b[0m eta \u001b[36m0:00:00\u001b[0m\n",
            "\u001b[?25hRequirement already satisfied: pandas<2,>1.0.3 in /usr/local/lib/python3.8/dist-packages (from recommenders) (1.3.5)\n",
            "Requirement already satisfied: requests<3,>=2.0.0 in /usr/local/lib/python3.8/dist-packages (from recommenders) (2.25.1)\n",
            "Collecting retrying>=1.3.3\n",
            "  Downloading retrying-1.3.4-py3-none-any.whl (11 kB)\n",
            "Requirement already satisfied: nltk<4,>=3.4 in /usr/local/lib/python3.8/dist-packages (from recommenders) (3.7)\n",
            "Requirement already satisfied: lightgbm>=2.2.1 in /usr/local/lib/python3.8/dist-packages (from recommenders) (2.2.3)\n",
            "Collecting cornac<2,>=1.1.2\n",
            "  Downloading cornac-1.14.2-cp38-cp38-manylinux1_x86_64.whl (14.4 MB)\n",
            "\u001b[2K     \u001b[90m━━━━━━━━━━━━━━━━━━━━━━━━━━━━━━━━━━━━━━━━\u001b[0m \u001b[32m14.4/14.4 MB\u001b[0m \u001b[31m90.2 MB/s\u001b[0m eta \u001b[36m0:00:00\u001b[0m\n",
            "\u001b[?25hRequirement already satisfied: patsy>=0.4.1 in /usr/local/lib/python3.8/dist-packages (from category-encoders<2,>=1.3.0->recommenders) (0.5.3)\n",
            "Requirement already satisfied: statsmodels>=0.6.1 in /usr/local/lib/python3.8/dist-packages (from category-encoders<2,>=1.3.0->recommenders) (0.12.2)\n",
            "Collecting powerlaw\n",
            "  Downloading powerlaw-1.5-py3-none-any.whl (24 kB)\n",
            "Requirement already satisfied: MarkupSafe>=0.23 in /usr/local/lib/python3.8/dist-packages (from jinja2<3.1,>=2->recommenders) (2.0.1)\n",
            "Requirement already satisfied: cycler>=0.10 in /usr/local/lib/python3.8/dist-packages (from matplotlib<4,>=2.2.2->recommenders) (0.11.0)\n",
            "Requirement already satisfied: kiwisolver>=1.0.1 in /usr/local/lib/python3.8/dist-packages (from matplotlib<4,>=2.2.2->recommenders) (1.4.4)\n",
            "Requirement already satisfied: pyparsing!=2.0.4,!=2.1.2,!=2.1.6,>=2.0.1 in /usr/local/lib/python3.8/dist-packages (from matplotlib<4,>=2.2.2->recommenders) (3.0.9)\n",
            "Requirement already satisfied: python-dateutil>=2.1 in /usr/local/lib/python3.8/dist-packages (from matplotlib<4,>=2.2.2->recommenders) (2.8.2)\n",
            "Requirement already satisfied: psutil in /usr/local/lib/python3.8/dist-packages (from memory-profiler<1,>=0.54.0->recommenders) (5.4.8)\n",
            "Requirement already satisfied: regex>=2021.8.3 in /usr/local/lib/python3.8/dist-packages (from nltk<4,>=3.4->recommenders) (2022.6.2)\n",
            "Requirement already satisfied: click in /usr/local/lib/python3.8/dist-packages (from nltk<4,>=3.4->recommenders) (7.1.2)\n",
            "Requirement already satisfied: joblib in /usr/local/lib/python3.8/dist-packages (from nltk<4,>=3.4->recommenders) (1.2.0)\n",
            "Requirement already satisfied: llvmlite<0.40,>=0.39.0dev0 in /usr/local/lib/python3.8/dist-packages (from numba<1,>=0.38.1->recommenders) (0.39.1)\n",
            "Requirement already satisfied: importlib-metadata in /usr/local/lib/python3.8/dist-packages (from numba<1,>=0.38.1->recommenders) (6.0.0)\n",
            "Requirement already satisfied: setuptools in /usr/local/lib/python3.8/dist-packages (from numba<1,>=0.38.1->recommenders) (57.4.0)\n",
            "Requirement already satisfied: pytz>=2017.3 in /usr/local/lib/python3.8/dist-packages (from pandas<2,>1.0.3->recommenders) (2022.7.1)\n",
            "Collecting typing-inspect>=0.6.0\n",
            "  Downloading typing_inspect-0.8.0-py3-none-any.whl (8.7 kB)\n",
            "Requirement already satisfied: wrapt in /usr/local/lib/python3.8/dist-packages (from pandera[strategies]>=0.6.5->recommenders) (1.14.1)\n",
            "Requirement already satisfied: pydantic in /usr/local/lib/python3.8/dist-packages (from pandera[strategies]>=0.6.5->recommenders) (1.10.4)\n",
            "Requirement already satisfied: packaging>=20.0 in /usr/local/lib/python3.8/dist-packages (from pandera[strategies]>=0.6.5->recommenders) (23.0)\n",
            "Collecting hypothesis>=5.41.1\n",
            "  Downloading hypothesis-6.67.1-py3-none-any.whl (402 kB)\n",
            "\u001b[2K     \u001b[90m━━━━━━━━━━━━━━━━━━━━━━━━━━━━━━━━━━━━━━\u001b[0m \u001b[32m402.8/402.8 KB\u001b[0m \u001b[31m38.7 MB/s\u001b[0m eta \u001b[36m0:00:00\u001b[0m\n",
            "\u001b[?25hRequirement already satisfied: certifi>=2017.4.17 in /usr/local/lib/python3.8/dist-packages (from requests<3,>=2.0.0->recommenders) (2022.12.7)\n",
            "Requirement already satisfied: urllib3<1.27,>=1.21.1 in /usr/local/lib/python3.8/dist-packages (from requests<3,>=2.0.0->recommenders) (1.24.3)\n",
            "Requirement already satisfied: chardet<5,>=3.0.2 in /usr/local/lib/python3.8/dist-packages (from requests<3,>=2.0.0->recommenders) (4.0.0)\n",
            "Requirement already satisfied: idna<3,>=2.5 in /usr/local/lib/python3.8/dist-packages (from requests<3,>=2.0.0->recommenders) (2.10)\n",
            "Requirement already satisfied: six>=1.7.0 in /usr/local/lib/python3.8/dist-packages (from retrying>=1.3.3->recommenders) (1.15.0)\n",
            "Requirement already satisfied: threadpoolctl>=2.0.0 in /usr/local/lib/python3.8/dist-packages (from scikit-learn<1.0.3,>=0.22.1->recommenders) (3.1.0)\n",
            "Collecting tokenizers!=0.11.3,<0.14,>=0.11.1\n",
            "  Downloading tokenizers-0.13.2-cp38-cp38-manylinux_2_17_x86_64.manylinux2014_x86_64.whl (7.6 MB)\n",
            "\u001b[2K     \u001b[90m━━━━━━━━━━━━━━━━━━━━━━━━━━━━━━━━━━━━━━━━\u001b[0m \u001b[32m7.6/7.6 MB\u001b[0m \u001b[31m105.4 MB/s\u001b[0m eta \u001b[36m0:00:00\u001b[0m\n",
            "\u001b[?25hCollecting huggingface-hub<1.0,>=0.11.0\n",
            "  Downloading huggingface_hub-0.12.0-py3-none-any.whl (190 kB)\n",
            "\u001b[2K     \u001b[90m━━━━━━━━━━━━━━━━━━━━━━━━━━━━━━━━━━━━━━\u001b[0m \u001b[32m190.3/190.3 KB\u001b[0m \u001b[31m22.0 MB/s\u001b[0m eta \u001b[36m0:00:00\u001b[0m\n",
            "\u001b[?25hRequirement already satisfied: filelock in /usr/local/lib/python3.8/dist-packages (from transformers<5,>=2.5.0->recommenders) (3.9.0)\n",
            "Requirement already satisfied: typing-extensions>=3.7.4.3 in /usr/local/lib/python3.8/dist-packages (from huggingface-hub<1.0,>=0.11.0->transformers<5,>=2.5.0->recommenders) (4.4.0)\n",
            "Requirement already satisfied: attrs>=19.2.0 in /usr/local/lib/python3.8/dist-packages (from hypothesis>=5.41.1->pandera[strategies]>=0.6.5->recommenders) (22.2.0)\n",
            "Collecting exceptiongroup>=1.0.0\n",
            "  Downloading exceptiongroup-1.1.0-py3-none-any.whl (14 kB)\n",
            "Requirement already satisfied: sortedcontainers<3.0.0,>=2.1.0 in /usr/local/lib/python3.8/dist-packages (from hypothesis>=5.41.1->pandera[strategies]>=0.6.5->recommenders) (2.4.0)\n",
            "Collecting mypy-extensions>=0.3.0\n",
            "  Downloading mypy_extensions-1.0.0-py3-none-any.whl (4.7 kB)\n",
            "Requirement already satisfied: zipp>=0.5 in /usr/local/lib/python3.8/dist-packages (from importlib-metadata->numba<1,>=0.38.1->recommenders) (3.12.0)\n",
            "Requirement already satisfied: mpmath in /usr/local/lib/python3.8/dist-packages (from powerlaw->cornac<2,>=1.1.2->recommenders) (1.2.1)\n",
            "Building wheels for collected packages: scikit-surprise\n",
            "  Building wheel for scikit-surprise (setup.py) ... \u001b[?25l\u001b[?25hdone\n",
            "  Created wheel for scikit-surprise: filename=scikit_surprise-1.1.3-cp38-cp38-linux_x86_64.whl size=3366437 sha256=d54a9a95b81f97d587758fde9ff4d376a542f7da0cda7877d327148c69216b72\n",
            "  Stored in directory: /root/.cache/pip/wheels/af/db/86/2c18183a80ba05da35bf0fb7417aac5cddbd93bcb1b92fd3ea\n",
            "Successfully built scikit-surprise\n",
            "Installing collected packages: tokenizers, retrying, pyyaml, mypy-extensions, memory-profiler, exceptiongroup, bottleneck, typing-inspect, scikit-surprise, hypothesis, huggingface-hub, transformers, powerlaw, pandera, cornac, category-encoders, recommenders\n",
            "  Attempting uninstall: pyyaml\n",
            "    Found existing installation: PyYAML 6.0\n",
            "    Uninstalling PyYAML-6.0:\n",
            "      Successfully uninstalled PyYAML-6.0\n",
            "Successfully installed bottleneck-1.3.6 category-encoders-1.3.0 cornac-1.14.2 exceptiongroup-1.1.0 huggingface-hub-0.12.0 hypothesis-6.67.1 memory-profiler-0.61.0 mypy-extensions-1.0.0 pandera-0.13.4 powerlaw-1.5 pyyaml-5.4.1 recommenders-1.1.1 retrying-1.3.4 scikit-surprise-1.1.3 tokenizers-0.13.2 transformers-4.26.0 typing-inspect-0.8.0\n",
            "Looking in indexes: https://pypi.org/simple, https://us-python.pkg.dev/colab-wheels/public/simple/\n",
            "Collecting rankfm\n",
            "  Downloading rankfm-0.2.5.tar.gz (145 kB)\n",
            "\u001b[2K     \u001b[90m━━━━━━━━━━━━━━━━━━━━━━━━━━━━━━━━━━━━━━━\u001b[0m \u001b[32m145.5/145.5 KB\u001b[0m \u001b[31m6.0 MB/s\u001b[0m eta \u001b[36m0:00:00\u001b[0m\n",
            "\u001b[?25h  Preparing metadata (setup.py) ... \u001b[?25l\u001b[?25hdone\n",
            "Requirement already satisfied: numpy>=1.15 in /usr/local/lib/python3.8/dist-packages (from rankfm) (1.21.6)\n",
            "Requirement already satisfied: pandas>=0.24 in /usr/local/lib/python3.8/dist-packages (from rankfm) (1.3.5)\n",
            "Requirement already satisfied: pytz>=2017.3 in /usr/local/lib/python3.8/dist-packages (from pandas>=0.24->rankfm) (2022.7.1)\n",
            "Requirement already satisfied: python-dateutil>=2.7.3 in /usr/local/lib/python3.8/dist-packages (from pandas>=0.24->rankfm) (2.8.2)\n",
            "Requirement already satisfied: six>=1.5 in /usr/local/lib/python3.8/dist-packages (from python-dateutil>=2.7.3->pandas>=0.24->rankfm) (1.15.0)\n",
            "Building wheels for collected packages: rankfm\n",
            "  Building wheel for rankfm (setup.py) ... \u001b[?25l\u001b[?25hdone\n",
            "  Created wheel for rankfm: filename=rankfm-0.2.5-cp38-cp38-linux_x86_64.whl size=615691 sha256=9a80982ef4de623be276c5493bfbbdc12fa0d501f88a48179162f563e927b46f\n",
            "  Stored in directory: /root/.cache/pip/wheels/ec/60/5c/48653b64bd7c152da7d8f443ba2235988c2c00b2b23da30740\n",
            "Successfully built rankfm\n",
            "Installing collected packages: rankfm\n",
            "Successfully installed rankfm-0.2.5\n",
            "Looking in indexes: https://pypi.org/simple, https://us-python.pkg.dev/colab-wheels/public/simple/\n",
            "Requirement already satisfied: scikit-learn in /usr/local/lib/python3.8/dist-packages (1.0.2)\n",
            "Collecting scikit-learn\n",
            "  Downloading scikit_learn-1.2.1-cp38-cp38-manylinux_2_17_x86_64.manylinux2014_x86_64.whl (9.8 MB)\n",
            "\u001b[2K     \u001b[90m━━━━━━━━━━━━━━━━━━━━━━━━━━━━━━━━━━━━━━━━\u001b[0m \u001b[32m9.8/9.8 MB\u001b[0m \u001b[31m78.0 MB/s\u001b[0m eta \u001b[36m0:00:00\u001b[0m\n",
            "\u001b[?25hRequirement already satisfied: scipy>=1.3.2 in /usr/local/lib/python3.8/dist-packages (from scikit-learn) (1.7.3)\n",
            "Requirement already satisfied: joblib>=1.1.1 in /usr/local/lib/python3.8/dist-packages (from scikit-learn) (1.2.0)\n",
            "Requirement already satisfied: threadpoolctl>=2.0.0 in /usr/local/lib/python3.8/dist-packages (from scikit-learn) (3.1.0)\n",
            "Requirement already satisfied: numpy>=1.17.3 in /usr/local/lib/python3.8/dist-packages (from scikit-learn) (1.21.6)\n",
            "Installing collected packages: scikit-learn\n",
            "  Attempting uninstall: scikit-learn\n",
            "    Found existing installation: scikit-learn 1.0.2\n",
            "    Uninstalling scikit-learn-1.0.2:\n",
            "      Successfully uninstalled scikit-learn-1.0.2\n",
            "\u001b[31mERROR: pip's dependency resolver does not currently take into account all the packages that are installed. This behaviour is the source of the following dependency conflicts.\n",
            "recommenders 1.1.1 requires scikit-learn<1.0.3,>=0.22.1, but you have scikit-learn 1.2.1 which is incompatible.\u001b[0m\u001b[31m\n",
            "\u001b[0mSuccessfully installed scikit-learn-1.2.1\n",
            "Looking in indexes: https://pypi.org/simple, https://us-python.pkg.dev/colab-wheels/public/simple/\n",
            "Collecting tf_slim\n",
            "  Downloading tf_slim-1.1.0-py2.py3-none-any.whl (352 kB)\n",
            "\u001b[2K     \u001b[90m━━━━━━━━━━━━━━━━━━━━━━━━━━━━━━━━━━━━━━\u001b[0m \u001b[32m352.1/352.1 KB\u001b[0m \u001b[31m12.7 MB/s\u001b[0m eta \u001b[36m0:00:00\u001b[0m\n",
            "\u001b[?25hRequirement already satisfied: absl-py>=0.2.2 in /usr/local/lib/python3.8/dist-packages (from tf_slim) (1.4.0)\n",
            "Installing collected packages: tf_slim\n",
            "Successfully installed tf_slim-1.1.0\n",
            "Looking in indexes: https://pypi.org/simple, https://us-python.pkg.dev/colab-wheels/public/simple/\n",
            "Collecting numpy==1.22\n",
            "  Downloading numpy-1.22.0-cp38-cp38-manylinux_2_17_x86_64.manylinux2014_x86_64.whl (16.8 MB)\n",
            "\u001b[2K     \u001b[90m━━━━━━━━━━━━━━━━━━━━━━━━━━━━━━━━━━━━━━━━\u001b[0m \u001b[32m16.8/16.8 MB\u001b[0m \u001b[31m70.0 MB/s\u001b[0m eta \u001b[36m0:00:00\u001b[0m\n",
            "\u001b[?25hInstalling collected packages: numpy\n",
            "  Attempting uninstall: numpy\n",
            "    Found existing installation: numpy 1.21.6\n",
            "    Uninstalling numpy-1.21.6:\n",
            "      Successfully uninstalled numpy-1.21.6\n",
            "\u001b[31mERROR: pip's dependency resolver does not currently take into account all the packages that are installed. This behaviour is the source of the following dependency conflicts.\n",
            "recommenders 1.1.1 requires scikit-learn<1.0.3,>=0.22.1, but you have scikit-learn 1.2.1 which is incompatible.\u001b[0m\u001b[31m\n",
            "\u001b[0mSuccessfully installed numpy-1.22.0\n",
            "Looking in indexes: https://pypi.org/simple, https://us-python.pkg.dev/colab-wheels/public/simple/\n",
            "Collecting LibRecommender\n",
            "  Downloading LibRecommender-0.12.6-cp38-cp38-manylinux_2_17_x86_64.manylinux2014_x86_64.whl (2.1 MB)\n",
            "\u001b[2K     \u001b[90m━━━━━━━━━━━━━━━━━━━━━━━━━━━━━━━━━━━━━━━━\u001b[0m \u001b[32m2.1/2.1 MB\u001b[0m \u001b[31m36.5 MB/s\u001b[0m eta \u001b[36m0:00:00\u001b[0m\n",
            "\u001b[?25hRequirement already satisfied: scipy>=1.2.1 in /usr/local/lib/python3.8/dist-packages (from LibRecommender) (1.7.3)\n",
            "Requirement already satisfied: tensorflow>=1.15.0 in /usr/local/lib/python3.8/dist-packages (from LibRecommender) (2.9.2)\n",
            "Collecting gensim>=4.0.0\n",
            "  Downloading gensim-4.3.0-cp38-cp38-manylinux_2_12_x86_64.manylinux2010_x86_64.whl (24.1 MB)\n",
            "\u001b[2K     \u001b[90m━━━━━━━━━━━━━━━━━━━━━━━━━━━━━━━━━━━━━━━━\u001b[0m \u001b[32m24.1/24.1 MB\u001b[0m \u001b[31m71.4 MB/s\u001b[0m eta \u001b[36m0:00:00\u001b[0m\n",
            "\u001b[?25hRequirement already satisfied: pandas>=1.0.0 in /usr/local/lib/python3.8/dist-packages (from LibRecommender) (1.3.5)\n",
            "Requirement already satisfied: cython<3,>=0.29.0 in /usr/local/lib/python3.8/dist-packages (from LibRecommender) (0.29.33)\n",
            "Requirement already satisfied: tqdm in /usr/local/lib/python3.8/dist-packages (from LibRecommender) (4.64.1)\n",
            "Requirement already satisfied: numpy>=1.19.5 in /usr/local/lib/python3.8/dist-packages (from LibRecommender) (1.22.0)\n",
            "Requirement already satisfied: torch>=1.10.0 in /usr/local/lib/python3.8/dist-packages (from LibRecommender) (1.13.1+cu116)\n",
            "Requirement already satisfied: scikit-learn>=0.20.0 in /usr/local/lib/python3.8/dist-packages (from LibRecommender) (1.2.1)\n",
            "Collecting FuzzyTM>=0.4.0\n",
            "  Downloading FuzzyTM-2.0.5-py3-none-any.whl (29 kB)\n",
            "Requirement already satisfied: smart-open>=1.8.1 in /usr/local/lib/python3.8/dist-packages (from gensim>=4.0.0->LibRecommender) (6.3.0)\n",
            "Requirement already satisfied: pytz>=2017.3 in /usr/local/lib/python3.8/dist-packages (from pandas>=1.0.0->LibRecommender) (2022.7.1)\n",
            "Requirement already satisfied: python-dateutil>=2.7.3 in /usr/local/lib/python3.8/dist-packages (from pandas>=1.0.0->LibRecommender) (2.8.2)\n",
            "Requirement already satisfied: threadpoolctl>=2.0.0 in /usr/local/lib/python3.8/dist-packages (from scikit-learn>=0.20.0->LibRecommender) (3.1.0)\n",
            "Requirement already satisfied: joblib>=1.1.1 in /usr/local/lib/python3.8/dist-packages (from scikit-learn>=0.20.0->LibRecommender) (1.2.0)\n",
            "Requirement already satisfied: packaging in /usr/local/lib/python3.8/dist-packages (from tensorflow>=1.15.0->LibRecommender) (23.0)\n",
            "Requirement already satisfied: opt-einsum>=2.3.2 in /usr/local/lib/python3.8/dist-packages (from tensorflow>=1.15.0->LibRecommender) (3.3.0)\n",
            "Requirement already satisfied: six>=1.12.0 in /usr/local/lib/python3.8/dist-packages (from tensorflow>=1.15.0->LibRecommender) (1.15.0)\n",
            "Requirement already satisfied: flatbuffers<2,>=1.12 in /usr/local/lib/python3.8/dist-packages (from tensorflow>=1.15.0->LibRecommender) (1.12)\n",
            "Requirement already satisfied: keras-preprocessing>=1.1.1 in /usr/local/lib/python3.8/dist-packages (from tensorflow>=1.15.0->LibRecommender) (1.1.2)\n",
            "Requirement already satisfied: astunparse>=1.6.0 in /usr/local/lib/python3.8/dist-packages (from tensorflow>=1.15.0->LibRecommender) (1.6.3)\n",
            "Requirement already satisfied: libclang>=13.0.0 in /usr/local/lib/python3.8/dist-packages (from tensorflow>=1.15.0->LibRecommender) (15.0.6.1)\n",
            "Requirement already satisfied: h5py>=2.9.0 in /usr/local/lib/python3.8/dist-packages (from tensorflow>=1.15.0->LibRecommender) (3.1.0)\n",
            "Requirement already satisfied: gast<=0.4.0,>=0.2.1 in /usr/local/lib/python3.8/dist-packages (from tensorflow>=1.15.0->LibRecommender) (0.4.0)\n",
            "Requirement already satisfied: grpcio<2.0,>=1.24.3 in /usr/local/lib/python3.8/dist-packages (from tensorflow>=1.15.0->LibRecommender) (1.51.1)\n",
            "Requirement already satisfied: absl-py>=1.0.0 in /usr/local/lib/python3.8/dist-packages (from tensorflow>=1.15.0->LibRecommender) (1.4.0)\n",
            "Requirement already satisfied: keras<2.10.0,>=2.9.0rc0 in /usr/local/lib/python3.8/dist-packages (from tensorflow>=1.15.0->LibRecommender) (2.9.0)\n",
            "Requirement already satisfied: termcolor>=1.1.0 in /usr/local/lib/python3.8/dist-packages (from tensorflow>=1.15.0->LibRecommender) (2.2.0)\n",
            "Requirement already satisfied: typing-extensions>=3.6.6 in /usr/local/lib/python3.8/dist-packages (from tensorflow>=1.15.0->LibRecommender) (4.4.0)\n",
            "Requirement already satisfied: setuptools in /usr/local/lib/python3.8/dist-packages (from tensorflow>=1.15.0->LibRecommender) (57.4.0)\n",
            "Requirement already satisfied: wrapt>=1.11.0 in /usr/local/lib/python3.8/dist-packages (from tensorflow>=1.15.0->LibRecommender) (1.14.1)\n",
            "Requirement already satisfied: tensorflow-estimator<2.10.0,>=2.9.0rc0 in /usr/local/lib/python3.8/dist-packages (from tensorflow>=1.15.0->LibRecommender) (2.9.0)\n",
            "Requirement already satisfied: protobuf<3.20,>=3.9.2 in /usr/local/lib/python3.8/dist-packages (from tensorflow>=1.15.0->LibRecommender) (3.19.6)\n",
            "Requirement already satisfied: tensorboard<2.10,>=2.9 in /usr/local/lib/python3.8/dist-packages (from tensorflow>=1.15.0->LibRecommender) (2.9.1)\n",
            "Requirement already satisfied: google-pasta>=0.1.1 in /usr/local/lib/python3.8/dist-packages (from tensorflow>=1.15.0->LibRecommender) (0.2.0)\n",
            "Requirement already satisfied: tensorflow-io-gcs-filesystem>=0.23.1 in /usr/local/lib/python3.8/dist-packages (from tensorflow>=1.15.0->LibRecommender) (0.30.0)\n",
            "Requirement already satisfied: wheel<1.0,>=0.23.0 in /usr/local/lib/python3.8/dist-packages (from astunparse>=1.6.0->tensorflow>=1.15.0->LibRecommender) (0.38.4)\n",
            "Collecting pyfume\n",
            "  Downloading pyFUME-0.2.25-py3-none-any.whl (67 kB)\n",
            "\u001b[2K     \u001b[90m━━━━━━━━━━━━━━━━━━━━━━━━━━━━━━━━━━━━━━━━\u001b[0m \u001b[32m67.1/67.1 KB\u001b[0m \u001b[31m9.3 MB/s\u001b[0m eta \u001b[36m0:00:00\u001b[0m\n",
            "\u001b[?25hRequirement already satisfied: markdown>=2.6.8 in /usr/local/lib/python3.8/dist-packages (from tensorboard<2.10,>=2.9->tensorflow>=1.15.0->LibRecommender) (3.4.1)\n",
            "Requirement already satisfied: google-auth-oauthlib<0.5,>=0.4.1 in /usr/local/lib/python3.8/dist-packages (from tensorboard<2.10,>=2.9->tensorflow>=1.15.0->LibRecommender) (0.4.6)\n",
            "Requirement already satisfied: google-auth<3,>=1.6.3 in /usr/local/lib/python3.8/dist-packages (from tensorboard<2.10,>=2.9->tensorflow>=1.15.0->LibRecommender) (2.16.0)\n",
            "Requirement already satisfied: tensorboard-plugin-wit>=1.6.0 in /usr/local/lib/python3.8/dist-packages (from tensorboard<2.10,>=2.9->tensorflow>=1.15.0->LibRecommender) (1.8.1)\n",
            "Requirement already satisfied: requests<3,>=2.21.0 in /usr/local/lib/python3.8/dist-packages (from tensorboard<2.10,>=2.9->tensorflow>=1.15.0->LibRecommender) (2.25.1)\n",
            "Requirement already satisfied: werkzeug>=1.0.1 in /usr/local/lib/python3.8/dist-packages (from tensorboard<2.10,>=2.9->tensorflow>=1.15.0->LibRecommender) (1.0.1)\n",
            "Requirement already satisfied: tensorboard-data-server<0.7.0,>=0.6.0 in /usr/local/lib/python3.8/dist-packages (from tensorboard<2.10,>=2.9->tensorflow>=1.15.0->LibRecommender) (0.6.1)\n",
            "Requirement already satisfied: rsa<5,>=3.1.4 in /usr/local/lib/python3.8/dist-packages (from google-auth<3,>=1.6.3->tensorboard<2.10,>=2.9->tensorflow>=1.15.0->LibRecommender) (4.9)\n",
            "Requirement already satisfied: pyasn1-modules>=0.2.1 in /usr/local/lib/python3.8/dist-packages (from google-auth<3,>=1.6.3->tensorboard<2.10,>=2.9->tensorflow>=1.15.0->LibRecommender) (0.2.8)\n",
            "Requirement already satisfied: cachetools<6.0,>=2.0.0 in /usr/local/lib/python3.8/dist-packages (from google-auth<3,>=1.6.3->tensorboard<2.10,>=2.9->tensorflow>=1.15.0->LibRecommender) (5.3.0)\n",
            "Requirement already satisfied: requests-oauthlib>=0.7.0 in /usr/local/lib/python3.8/dist-packages (from google-auth-oauthlib<0.5,>=0.4.1->tensorboard<2.10,>=2.9->tensorflow>=1.15.0->LibRecommender) (1.3.1)\n",
            "Requirement already satisfied: importlib-metadata>=4.4 in /usr/local/lib/python3.8/dist-packages (from markdown>=2.6.8->tensorboard<2.10,>=2.9->tensorflow>=1.15.0->LibRecommender) (6.0.0)\n",
            "Requirement already satisfied: certifi>=2017.4.17 in /usr/local/lib/python3.8/dist-packages (from requests<3,>=2.21.0->tensorboard<2.10,>=2.9->tensorflow>=1.15.0->LibRecommender) (2022.12.7)\n",
            "Requirement already satisfied: chardet<5,>=3.0.2 in /usr/local/lib/python3.8/dist-packages (from requests<3,>=2.21.0->tensorboard<2.10,>=2.9->tensorflow>=1.15.0->LibRecommender) (4.0.0)\n",
            "Requirement already satisfied: idna<3,>=2.5 in /usr/local/lib/python3.8/dist-packages (from requests<3,>=2.21.0->tensorboard<2.10,>=2.9->tensorflow>=1.15.0->LibRecommender) (2.10)\n",
            "Requirement already satisfied: urllib3<1.27,>=1.21.1 in /usr/local/lib/python3.8/dist-packages (from requests<3,>=2.21.0->tensorboard<2.10,>=2.9->tensorflow>=1.15.0->LibRecommender) (1.24.3)\n",
            "Collecting simpful\n",
            "  Downloading simpful-2.9.0-py3-none-any.whl (30 kB)\n",
            "Collecting fst-pso\n",
            "  Downloading fst-pso-1.8.1.tar.gz (18 kB)\n",
            "  Preparing metadata (setup.py) ... \u001b[?25l\u001b[?25hdone\n",
            "Requirement already satisfied: zipp>=0.5 in /usr/local/lib/python3.8/dist-packages (from importlib-metadata>=4.4->markdown>=2.6.8->tensorboard<2.10,>=2.9->tensorflow>=1.15.0->LibRecommender) (3.12.0)\n",
            "Requirement already satisfied: pyasn1<0.5.0,>=0.4.6 in /usr/local/lib/python3.8/dist-packages (from pyasn1-modules>=0.2.1->google-auth<3,>=1.6.3->tensorboard<2.10,>=2.9->tensorflow>=1.15.0->LibRecommender) (0.4.8)\n",
            "Requirement already satisfied: oauthlib>=3.0.0 in /usr/local/lib/python3.8/dist-packages (from requests-oauthlib>=0.7.0->google-auth-oauthlib<0.5,>=0.4.1->tensorboard<2.10,>=2.9->tensorflow>=1.15.0->LibRecommender) (3.2.2)\n",
            "Collecting miniful\n",
            "  Downloading miniful-0.0.6.tar.gz (2.8 kB)\n",
            "  Preparing metadata (setup.py) ... \u001b[?25l\u001b[?25hdone\n",
            "Building wheels for collected packages: fst-pso, miniful\n",
            "  Building wheel for fst-pso (setup.py) ... \u001b[?25l\u001b[?25hdone\n",
            "  Created wheel for fst-pso: filename=fst_pso-1.8.1-py3-none-any.whl size=20443 sha256=2354656ceaed7893f29e00e2c5b10369c874d0d921b88723ab06353627763022\n",
            "  Stored in directory: /root/.cache/pip/wheels/6a/65/c4/d27eeee9ba3fc150a0dae150519591103b9e0dbffde3ae77dc\n",
            "  Building wheel for miniful (setup.py) ... \u001b[?25l\u001b[?25hdone\n",
            "  Created wheel for miniful: filename=miniful-0.0.6-py3-none-any.whl size=3530 sha256=912329464155911e86f69b61e6dea9976b645b4f12c4073a15ce9b907192b937\n",
            "  Stored in directory: /root/.cache/pip/wheels/ba/d9/a0/ddd93af16d5855dd9bad417623e70948fdac119d1d34fb17c8\n",
            "Successfully built fst-pso miniful\n",
            "Installing collected packages: simpful, miniful, fst-pso, pyfume, FuzzyTM, gensim, LibRecommender\n",
            "  Attempting uninstall: gensim\n",
            "    Found existing installation: gensim 3.6.0\n",
            "    Uninstalling gensim-3.6.0:\n",
            "      Successfully uninstalled gensim-3.6.0\n",
            "Successfully installed FuzzyTM-2.0.5 LibRecommender-0.12.6 fst-pso-1.8.1 gensim-4.3.0 miniful-0.0.6 pyfume-0.2.25 simpful-2.9.0\n",
            "Looking in indexes: https://pypi.org/simple, https://us-python.pkg.dev/colab-wheels/public/simple/\n",
            "Collecting implicit\n",
            "  Downloading implicit-0.6.2-cp38-cp38-manylinux2014_x86_64.whl (18.6 MB)\n",
            "\u001b[2K     \u001b[90m━━━━━━━━━━━━━━━━━━━━━━━━━━━━━━━━━━━━━━━━\u001b[0m \u001b[32m18.6/18.6 MB\u001b[0m \u001b[31m76.8 MB/s\u001b[0m eta \u001b[36m0:00:00\u001b[0m\n",
            "\u001b[?25hRequirement already satisfied: scipy>=0.16 in /usr/local/lib/python3.8/dist-packages (from implicit) (1.7.3)\n",
            "Requirement already satisfied: numpy in /usr/local/lib/python3.8/dist-packages (from implicit) (1.22.0)\n",
            "Requirement already satisfied: tqdm>=4.27 in /usr/local/lib/python3.8/dist-packages (from implicit) (4.64.1)\n",
            "Installing collected packages: implicit\n",
            "Successfully installed implicit-0.6.2\n"
          ]
        }
      ],
      "source": [
        "!pip install lightfm\n",
        "!pip install gdown\n",
        "!pip install recommenders\n",
        "!pip install rankfm\n",
        "!pip install -U scikit-learn\n",
        "!pip install tf_slim\n",
        "!pip install numpy==1.22\n",
        "!pip install LibRecommender\n",
        "!pip install implicit\n"
      ],
      "id": "XXB_1HlIKdFi"
    },
    {
      "cell_type": "code",
      "source": [
        "import os\n",
        "os.kill(os.getpid(), 9)"
      ],
      "metadata": {
        "id": "bhIJ0xYh2YXz"
      },
      "id": "bhIJ0xYh2YXz",
      "execution_count": null,
      "outputs": []
    },
    {
      "cell_type": "markdown",
      "source": [
        "## Data Loading"
      ],
      "metadata": {
        "id": "JW1c4-822wY6"
      },
      "id": "JW1c4-822wY6"
    },
    {
      "cell_type": "code",
      "execution_count": null,
      "metadata": {
        "id": "d6266078"
      },
      "outputs": [],
      "source": [
        "\n",
        "import pandas as pd\n",
        "import os\n",
        "from os.path import exists\n",
        "import zipfile\n",
        "import numpy as np\n",
        "from datetime import datetime"
      ],
      "id": "d6266078"
    },
    {
      "cell_type": "code",
      "execution_count": null,
      "metadata": {
        "id": "cxXmZMhNL4vi"
      },
      "outputs": [],
      "source": [
        "SEED=42"
      ],
      "id": "cxXmZMhNL4vi"
    },
    {
      "cell_type": "code",
      "source": [
        "# !gdown https://drive.google.com/uc?id=1kl65YOvoSAMSgszQQbua2q4Zwe1HgPct\n",
        "# !unzip -o \"data.zip\"  -d  \"/content\"\n",
        "\n",
        "# movie_10k_df = pd.read_csv(\"movies_min.csv\")\n",
        "# amazon_df =pd.read_csv('amazon_min.csv')\n",
        "# book_df=pd.read_csv(\"book_min.csv\")\n",
        "# food_df = pd.read_csv('food_min.csv')\n",
        "# ecommerce_df=pd.read_csv('ecom_min.csv')\n",
        "# ciao_df=pd.read_csv('ciao_min.csv')"
      ],
      "metadata": {
        "id": "_1KEOjziTrPY"
      },
      "execution_count": null,
      "outputs": [],
      "id": "_1KEOjziTrPY"
    },
    {
      "cell_type": "code",
      "source": [
        "TIMESTAMP=None"
      ],
      "metadata": {
        "id": "grEEvzijoj2y"
      },
      "id": "grEEvzijoj2y",
      "execution_count": null,
      "outputs": []
    },
    {
      "cell_type": "code",
      "source": [
        "!pip install gdown"
      ],
      "metadata": {
        "colab": {
          "base_uri": "https://localhost:8080/"
        },
        "id": "W_txSB5TVaPm",
        "outputId": "ffe2fcf9-c6ac-4dc2-fa43-ec7f3d73798a"
      },
      "id": "W_txSB5TVaPm",
      "execution_count": null,
      "outputs": [
        {
          "output_type": "stream",
          "name": "stdout",
          "text": [
            "Looking in indexes: https://pypi.org/simple, https://us-python.pkg.dev/colab-wheels/public/simple/\n",
            "Requirement already satisfied: gdown in /usr/local/lib/python3.8/dist-packages (4.4.0)\n",
            "Requirement already satisfied: six in /usr/local/lib/python3.8/dist-packages (from gdown) (1.15.0)\n",
            "Requirement already satisfied: requests[socks] in /usr/local/lib/python3.8/dist-packages (from gdown) (2.25.1)\n",
            "Requirement already satisfied: beautifulsoup4 in /usr/local/lib/python3.8/dist-packages (from gdown) (4.6.3)\n",
            "Requirement already satisfied: tqdm in /usr/local/lib/python3.8/dist-packages (from gdown) (4.64.1)\n",
            "Requirement already satisfied: filelock in /usr/local/lib/python3.8/dist-packages (from gdown) (3.9.0)\n",
            "Requirement already satisfied: chardet<5,>=3.0.2 in /usr/local/lib/python3.8/dist-packages (from requests[socks]->gdown) (4.0.0)\n",
            "Requirement already satisfied: idna<3,>=2.5 in /usr/local/lib/python3.8/dist-packages (from requests[socks]->gdown) (2.10)\n",
            "Requirement already satisfied: certifi>=2017.4.17 in /usr/local/lib/python3.8/dist-packages (from requests[socks]->gdown) (2022.12.7)\n",
            "Requirement already satisfied: urllib3<1.27,>=1.21.1 in /usr/local/lib/python3.8/dist-packages (from requests[socks]->gdown) (1.24.3)\n",
            "Requirement already satisfied: PySocks!=1.5.7,>=1.5.6 in /usr/local/lib/python3.8/dist-packages (from requests[socks]->gdown) (1.7.1)\n"
          ]
        }
      ]
    },
    {
      "cell_type": "code",
      "source": [
        "!gdown https://drive.google.com/uc?id=1kl65YOvoSAMSgszQQbua2q4Zwe1HgPct"
      ],
      "metadata": {
        "colab": {
          "base_uri": "https://localhost:8080/"
        },
        "outputId": "1af2ca6e-5145-4370-de1d-34374982d1ef",
        "id": "0o7YlmpsVYwO"
      },
      "execution_count": null,
      "outputs": [
        {
          "output_type": "stream",
          "name": "stdout",
          "text": [
            "Downloading...\n",
            "From: https://drive.google.com/uc?id=1kl65YOvoSAMSgszQQbua2q4Zwe1HgPct\n",
            "To: /content/data.zip\n",
            "\r  0% 0.00/4.16M [00:00<?, ?B/s]\r100% 4.16M/4.16M [00:00<00:00, 282MB/s]\n"
          ]
        }
      ],
      "id": "0o7YlmpsVYwO"
    },
    {
      "cell_type": "code",
      "source": [
        "!unzip -o \"data.zip\"  -d  \"/content\""
      ],
      "metadata": {
        "colab": {
          "base_uri": "https://localhost:8080/"
        },
        "id": "TtZEDi2_JS0Z",
        "outputId": "57967859-17b0-4e61-cfcc-d6edee3da9c5"
      },
      "execution_count": null,
      "outputs": [
        {
          "output_type": "stream",
          "name": "stdout",
          "text": [
            "Archive:  data.zip\n",
            "  inflating: /content/amazon_min.csv  \n",
            "  inflating: /content/book_min.csv   \n",
            "  inflating: /content/ciao_min.csv   \n",
            "  inflating: /content/ecom_min.csv   \n",
            "  inflating: /content/food_min.csv   \n",
            "  inflating: /content/movies_min.csv  \n"
          ]
        }
      ],
      "id": "TtZEDi2_JS0Z"
    },
    {
      "cell_type": "markdown",
      "source": [
        "#### Name of the file where user item interaction data avaiable?\n",
        "- Column name should be in following name and order\n",
        "- [ **itemID, userID , rating , timestamp** ]\n",
        "- No issue if there is no column for **timestamp**"
      ],
      "metadata": {
        "id": "xR4W7kxwlOmR"
      },
      "id": "xR4W7kxwlOmR"
    },
    {
      "cell_type": "code",
      "source": [
        "filename=\"movies_min.csv\" #enter your filename with file path"
      ],
      "metadata": {
        "id": "kGGBiQ8ylH4R"
      },
      "id": "kGGBiQ8ylH4R",
      "execution_count": null,
      "outputs": []
    },
    {
      "cell_type": "markdown",
      "source": [
        "##### Run below cell"
      ],
      "metadata": {
        "id": "DvQzh9z6osMg"
      },
      "id": "DvQzh9z6osMg"
    },
    {
      "cell_type": "code",
      "source": [
        "rating_df = pd.read_csv(filename)\n"
      ],
      "metadata": {
        "id": "rN0wIx5UovIr"
      },
      "id": "rN0wIx5UovIr",
      "execution_count": null,
      "outputs": []
    },
    {
      "cell_type": "code",
      "source": [
        "NUM_OF_COLS=rating_df.shape[1]\n"
      ],
      "metadata": {
        "id": "eus_HRMwlJva"
      },
      "id": "eus_HRMwlJva",
      "execution_count": null,
      "outputs": []
    },
    {
      "cell_type": "code",
      "source": [
        "import time \n",
        "if  'timestamp' in rating_df.columns:\n",
        "  rating_df =rating_df[[ 'userID', 'itemID', 'rating','timestamp']]\n",
        "  rating_df.columns =[ 'userID', 'itemID', 'rating','timestamp']\n",
        "else:\n",
        "\n",
        "  obj = time.gmtime(0)\n",
        "  epoch = time.asctime(obj)\n",
        "  curr_time = round(time.time()*1000)\n",
        "  rating_df['timestamp']=curr_time\n",
        "  rating_df =rating_df[[ 'userID', 'itemID', 'rating','timestamp']]\n",
        "  rating_df.columns =[ 'userID', 'itemID', 'rating','timestamp']"
      ],
      "metadata": {
        "id": "QuETNcoErhSC"
      },
      "id": "QuETNcoErhSC",
      "execution_count": null,
      "outputs": []
    },
    {
      "cell_type": "code",
      "source": [
        "u_users=list(rating_df.userID.unique())"
      ],
      "metadata": {
        "id": "sec4UR3BcYxw"
      },
      "execution_count": null,
      "outputs": [],
      "id": "sec4UR3BcYxw"
    },
    {
      "cell_type": "code",
      "source": [
        "u_items=list(rating_df.itemID.unique())"
      ],
      "metadata": {
        "id": "7Sa_bz1ayytB"
      },
      "id": "7Sa_bz1ayytB",
      "execution_count": null,
      "outputs": []
    },
    {
      "cell_type": "markdown",
      "source": [
        "### Setup"
      ],
      "metadata": {
        "id": "2U3Ah9H-LsTa"
      },
      "id": "2U3Ah9H-LsTa"
    },
    {
      "cell_type": "code",
      "source": [
        "# Evaluation metrics\n",
        "import libreco\n",
        "import tensorflow as tf\n",
        "import torch\n",
        "from libreco.data import DatasetFeat, DataInfo\n",
        "from libreco.data import  split_by_ratio\n",
        "from libreco.data import split_by_ratio_chrono, DatasetPure, DatasetFeat\n",
        "from libreco.evaluation import evaluate\n",
        "from libreco.prediction import predict_data_with_feats\n",
        "from libreco.algorithms import (\n",
        "    ALS\n",
        ")\n",
        "import time\n",
        "import pandas as pd\n",
        "\n",
        "metrics = [\n",
        "    \"precision\",\n",
        "    \"recall\",\n",
        "    \"map\",\n",
        "    \"ndcg\"\n",
        "]\n",
        "\n",
        "# Call Librecommender API\n",
        "# datasettype =\"pure\" or \"feat\"\n",
        "def run(rating_df,datasettype=\"pure\", algo=[\"als\"],hyperparam={\"als\":{ \"embed_size\":16,\n",
        "        \"n_epochs\":10,\n",
        "        \"reg\":5.0,\n",
        "        \"alpha\":10,\n",
        "        \"use_cg\":False,\n",
        "        \"n_threads\":1,\n",
        "        \"seed\":42}}, neg_samples=True):\n",
        "    train_data, test_data, data_info=None,None,None\n",
        "    tf.compat.v1.reset_default_graph()\n",
        "    if(datasettype==\"pure\"):\n",
        "      train_data, test_data, data_info = preprocessingPure(rating_df, neg_samples)\n",
        "    else :\n",
        "      train_data, test_data, data_info = preprocessingFeature(rating_df, neg_samples) \n",
        "    models = dict()\n",
        "    evals = dict()\n",
        "    for i in algo:\n",
        "        if i == 'Caser':\n",
        "            \n",
        "            als, eval, algo_data_info = Caser(train_data, test_data, data_info,hyperparam[\"Caser\"])\n",
        "            models['Caser'] = als\n",
        "            evals['Caser'] = eval\n",
        "            print(\"Evaluation Results for Caser:\")\n",
        "            print(evals['Caser'])\n",
        "        elif i == 'rnn4rec':\n",
        "            rnn, eval, algo_data_info = rnn4rec(train_data, test_data, data_info,hyperparam[\"rnn4rec\"])\n",
        "            models['rnn4rec'] = rnn\n",
        "            evals['rnn4rec'] = eval\n",
        "            print(\"Evaluation Results for RNN4REC:\")\n",
        "            print(evals['rnn4rec'])\n",
        "        \n",
        "        else:\n",
        "            graphsage, eval, algo_data_info = graphSage(train_data, test_data, data_info,hyperparam[\"graphSage\"])\n",
        "            models['graphSage'] = graphsage\n",
        "            evals['graphSage'] = eval\n",
        "            print(\"Evaluation Results for GraphSage:\")\n",
        "            print(evals['graphSage'])\n",
        "          \n",
        "    return models, evals\n",
        "\n",
        "\n",
        "# data preprocessing\n",
        "def preprocessingPure(rating_df, neg_samples=True):\n",
        "    data = rating_df.copy()\n",
        "    data.columns = ['user', 'item', 'label', 'timestamp']\n",
        "    col_user = [\"user\"]\n",
        "    col_item = [\"item\"]\n",
        "    col_dense = [\"label\"]\n",
        "    train, test = split_by_ratio(data, test_size=0.2)\n",
        "    train_data, data_info = DatasetPure.build_trainset(\n",
        "        train,\n",
        "        shuffle=False,\n",
        "    )\n",
        "    test_data = DatasetPure.build_testset(test, shuffle=False)\n",
        "    if neg_samples:\n",
        "        train_data.build_negative_samples(\n",
        "            data_info, item_gen_mode=\"random\", num_neg=1, seed=2020\n",
        "        )\n",
        "        test_data.build_negative_samples(\n",
        "            data_info, item_gen_mode=\"random\", num_neg=1, seed=2222\n",
        "        )\n",
        "    return train_data, test_data, data_info\n",
        "# data preprocessing\n",
        "def preprocessingFeature(rating_df, neg_samples=True):\n",
        "    data = rating_df.copy()\n",
        "    data.columns = ['user', 'item', 'label', 'timestamp']\n",
        "    col_user = [\"user\"]\n",
        "    col_item = [\"item\"]\n",
        "    col_dense = [\"label\"]\n",
        "    train, test = split_by_ratio(data, test_size=0.2)\n",
        "    train_data, data_info = DatasetFeat.build_trainset(\n",
        "        train,\n",
        "        shuffle=False,\n",
        "    )\n",
        "    test_data = DatasetFeat.build_testset(test, shuffle=False)\n",
        "    if neg_samples:\n",
        "        train_data.build_negative_samples(\n",
        "            data_info, item_gen_mode=\"random\", num_neg=1, seed=2020\n",
        "        )\n",
        "        test_data.build_negative_samples(\n",
        "            data_info, item_gen_mode=\"random\", num_neg=1, seed=2222\n",
        "        )\n",
        "    return train_data, test_data, data_info\n",
        "\n",
        "\n",
        "# Recommend items to user\n",
        "def recommend(model, userid, k=10):\n",
        "    return model.recommend_user(user=userid, n_rec=k)\n",
        "\n",
        "# Find similar items\n",
        "def similarItems(model, itemids, k=10):\n",
        "    return model.search_knn_items(item=itemids, k=k)\n",
        "\n",
        "\n",
        "# Model : Alternating Least Square (ALS)\n",
        "def alteringleastsquare(train_data, test_data, data_info,hyperparam={\"embed_size\":16,\n",
        "        \"n_epochs\":10,\n",
        "        \"reg\":5.0,\n",
        "        \"alpha\":10,\n",
        "        \"use_cg\":False,\n",
        "        \"n_threads\":1,\n",
        "        \"seed\":42}):\n",
        "    als = libreco.algorithms.ALS(\n",
        "        \"ranking\",\n",
        "        data_info,\n",
        "        embed_size=hyperparam['embed_size'],\n",
        "        n_epochs=hyperparam['n_epochs'],\n",
        "        reg=hyperparam['reg'],\n",
        "        alpha=hyperparam['alpha'],\n",
        "        use_cg=hyperparam['use_cg'],\n",
        "        n_threads=hyperparam['n_threads'],\n",
        "        seed=hyperparam['seed'],\n",
        "    )\n",
        "    als.fit(\n",
        "        train_data,\n",
        "        verbose=2,\n",
        "        eval_data=test_data,\n",
        "        metrics=metrics,\n",
        "    )\n",
        "    result = evaluate(model=als, data=test_data, metrics=metrics)\n",
        "    return als, result, data_info\n",
        "\n",
        "def graphSage(train_data, test_data, data_info,hyperparam={ \"loss_type\":\"max_margin\",\n",
        "        \"paradigm\":\"i2i\",\n",
        "        \"embed_size\":16,\n",
        "        \"n_epochs\":2,\n",
        "        \"lr\":3e-4,\n",
        "        \"lr_decay\":False,\n",
        "        \"reg\":None,\n",
        "        \"batch_size\":2048,\n",
        "        \"num_neg\":1,\n",
        "        \"dropout_rate\":0.0,\n",
        "        \"num_layers\":1,\n",
        "        \"num_neighbors\":10,\n",
        "        \"num_walks\":10,\n",
        "        \"sample_walk_len\":5,\n",
        "        \"margin\":1.0,\n",
        "        \"sampler\":\"random\",\n",
        "        \"start_node\":\"random\",\n",
        "        \"focus_start\":False,\n",
        "        \"seed\":42}  ):\n",
        "    graphsage = libreco.algorithms.GraphSage(\n",
        "        \"ranking\",\n",
        "        data_info,\n",
        "        loss_type=hyperparam[\"loss_type\"],\n",
        "        paradigm=hyperparam[\"paradigm\"],\n",
        "        embed_size=hyperparam[\"embed_size\"],\n",
        "        n_epochs=hyperparam[\"n_epochs\"],\n",
        "        lr=hyperparam[\"lr\"],\n",
        "        lr_decay=hyperparam[\"lr_decay\"],\n",
        "        reg=hyperparam[\"reg\"],\n",
        "        batch_size=hyperparam[\"batch_size\"],\n",
        "        num_neg=hyperparam[\"num_neg\"],\n",
        "        dropout_rate=hyperparam[\"dropout_rate\"],\n",
        "        num_layers=hyperparam[\"num_layers\"],\n",
        "        num_neighbors=hyperparam[\"num_neighbors\"],\n",
        "        num_walks=hyperparam[\"num_walks\"],\n",
        "        sample_walk_len=hyperparam[\"sample_walk_len\"],\n",
        "        margin=hyperparam[\"margin\"],\n",
        "        sampler=hyperparam[\"sampler\"],\n",
        "        start_node=hyperparam[\"start_node\"],\n",
        "        focus_start=hyperparam[\"focus_start\"],\n",
        "        seed=hyperparam[\"seed\"],\n",
        "    )\n",
        "    graphsage.fit(\n",
        "        train_data,\n",
        "        verbose=2,\n",
        "        shuffle=True,\n",
        "        eval_data=test_data,\n",
        "        metrics=metrics,\n",
        "    )\n",
        "    result = evaluate(model=graphsage, data=test_data, metrics=metrics)\n",
        "    return graphsage, result, data_info\n",
        "\n",
        "def bayesianpersonalizedranking(train_data, test_data, data_info,hyperparam={ \"loss_type\":\"bpr\",\n",
        "        \"paradigm\":\"i2i\",\n",
        "        \"embed_size\":16,\n",
        "        \"n_epochs\":2,\n",
        "        \"lr\":3e-4,\n",
        "        \"lr_decay\":False,\n",
        "        \"reg\":None,\n",
        "        \"batch_size\":2048,\n",
        "        \"num_neg\":1,\n",
        "        \"use_tf\":True}  ):\n",
        "    bpr = libreco.algorithms.BPR(\n",
        "        \"ranking\",\n",
        "        data_info,\n",
        "        loss_type=hyperparam[\"loss_type\"],\n",
        "        paradigm=hyperparam[\"paradigm\"],\n",
        "        embed_size=hyperparam[\"embed_size\"],\n",
        "        n_epochs=hyperparam[\"n_epochs\"],\n",
        "        lr=hyperparam[\"lr\"],\n",
        "        lr_decay=hyperparam[\"lr_decay\"],\n",
        "        reg=hyperparam[\"reg\"],\n",
        "        batch_size=hyperparam[\"batch_size\"],\n",
        "        num_neg=hyperparam[\"num_neg\"],\n",
        "        use_tf=hyperparam[\"use_tf\"],\n",
        "    )\n",
        "    bpr.fit(\n",
        "        train_data,\n",
        "        verbose=2,\n",
        "        num_threads=4,\n",
        "        eval_data=test_data,\n",
        "        metrics=metrics,\n",
        "        optimizer=\"adam\",\n",
        "    )\n",
        "    result = evaluate(model=bpr, data=test_data, metrics=metrics)\n",
        "    return bpr, result, data_info\n",
        "\n",
        "def rnn4rec(train_data, test_data, data_info,hyperparam={ \"rnn_type\":\"gru\",\n",
        "        \"loss_type\":\"cross_entropy\",\n",
        "        \"embed_size\":16,\n",
        "        \"n_epochs\":2,\n",
        "        \"lr\":3e-4,\n",
        "        \"lr_decay\":False,\n",
        "        \"reg\":None,\n",
        "        \"batch_size\":2048,\n",
        "        \"num_neg\":1,\n",
        "        \"use_tf\":True,\n",
        "        \"dropout_rate\":0.0,\n",
        "        \"recent_num\":10,\n",
        "        \"tf_sess_config\":None}  ):\n",
        "    rnn = libreco.algorithms.RNN4Rec(\n",
        "        \"ranking\",\n",
        "        data_info,\n",
        "        loss_type=hyperparam[\"loss_type\"],\n",
        "        rnn_type=hyperparam[\"rnn_type\"],\n",
        "        embed_size=hyperparam[\"embed_size\"],\n",
        "        n_epochs=hyperparam[\"n_epochs\"],\n",
        "        lr=hyperparam[\"lr\"],\n",
        "        lr_decay=hyperparam[\"lr_decay\"],\n",
        "        reg=hyperparam[\"reg\"],\n",
        "        batch_size=hyperparam[\"batch_size\"],\n",
        "        num_neg=hyperparam[\"num_neg\"],\n",
        "        recent_num=hyperparam[\"recent_num\"],\n",
        "        tf_sess_config=hyperparam[\"tf_sess_config\"],\n",
        "    )\n",
        "    rnn.fit(\n",
        "        train_data,\n",
        "        verbose=2,\n",
        "        shuffle=True,\n",
        "        eval_data=test_data,\n",
        "        metrics=metrics,\n",
        "    )\n",
        "    result = evaluate(model=rnn, data=test_data, metrics=metrics)\n",
        "    return rnn, result, data_info\n",
        "\n",
        "def Caser(train_data, test_data, data_info,hyperparam={ \n",
        "        \"loss_type\":\"cross_entropy\",\n",
        "        \"embed_size\":16,\n",
        "        \"n_epochs\":2,\n",
        "        \"lr\":3e-4,\n",
        "        \"lr_decay\":False,\n",
        "        \"reg\":None,\n",
        "        \"batch_size\":2048,\n",
        "        \"num_neg\":1,\n",
        "        \"use_bn\":True,  \n",
        "        \"nh_filters\":16,\n",
        "        \"nv_filters\":4,\n",
        "        \"dropout_rate\":0.0,\n",
        "        \"recent_num\":10,\n",
        "        \"tf_sess_config\":None}  ):\n",
        "    Caser = libreco.algorithms.Caser(\n",
        "        \"ranking\",\n",
        "        data_info,\n",
        "        loss_type=hyperparam[\"loss_type\"],\n",
        "\n",
        "        embed_size=hyperparam[\"embed_size\"],\n",
        "        n_epochs=hyperparam[\"n_epochs\"],\n",
        "        lr=hyperparam[\"lr\"],\n",
        "        lr_decay=hyperparam[\"lr_decay\"],\n",
        "        reg=hyperparam[\"reg\"],\n",
        "        batch_size=hyperparam[\"batch_size\"],\n",
        "        nh_filters=hyperparam[\"nh_filters\"],\n",
        "        nv_filters=hyperparam[\"nv_filters\"],\n",
        "        num_neg=hyperparam[\"num_neg\"],\n",
        "        recent_num=hyperparam[\"recent_num\"],\n",
        "        tf_sess_config=hyperparam[\"tf_sess_config\"],\n",
        "    )\n",
        "    Caser.fit(\n",
        "        train_data,\n",
        "        verbose=2,\n",
        "        shuffle=True,\n",
        "        eval_data=test_data,\n",
        "        metrics=metrics,\n",
        "    )\n",
        "    result = evaluate(model=Caser, data=test_data, metrics=metrics)\n",
        "    return Caser, result, data_info\n",
        "\n",
        "\n",
        "\n",
        "\n",
        "\n",
        "    \n"
      ],
      "metadata": {
        "id": "Mz_p14qC0qMi"
      },
      "execution_count": null,
      "outputs": [],
      "id": "Mz_p14qC0qMi"
    },
    {
      "cell_type": "markdown",
      "source": [
        "##  RNN4REC"
      ],
      "metadata": {
        "id": "mYOqn9gnSZZw"
      },
      "id": "mYOqn9gnSZZw"
    },
    {
      "cell_type": "code",
      "source": [
        "IS_SEQUENTIAL=\"YES\""
      ],
      "metadata": {
        "id": "LYekZrmZjI-I"
      },
      "id": "LYekZrmZjI-I",
      "execution_count": null,
      "outputs": []
    },
    {
      "cell_type": "code",
      "source": [
        "\n",
        "models, evals = run(rating_df, algo=[\"rnn4rec\"], hyperparam={\"rnn4rec\":{ \"rnn_type\":\"gru\",\n",
        "        \"loss_type\":\"cross_entropy\",\n",
        "        \"embed_size\":16,\n",
        "        \"n_epochs\":2,\n",
        "        \"lr\":3e-4,\n",
        "        \"lr_decay\":False,\n",
        "        \"reg\":None,\n",
        "        \"batch_size\":2048,\n",
        "        \"num_neg\":1,\n",
        "        \"use_tf\":True,\n",
        "        \"dropout_rate\":0.0,\n",
        "        \"recent_num\":10,\n",
        "        \"tf_sess_config\":None}},neg_samples=False)\n"
      ],
      "metadata": {
        "colab": {
          "base_uri": "https://localhost:8080/"
        },
        "outputId": "714bb363-0f25-40ca-fcce-99b728572b2d",
        "id": "G2ite0KAND7B"
      },
      "execution_count": null,
      "outputs": [
        {
          "output_type": "stream",
          "name": "stdout",
          "text": [
            "total params: \u001b[33m35,928\u001b[0m | embedding params: \u001b[33m34,136\u001b[0m | network params: \u001b[33m1,792\u001b[0m\n",
            "Training start time: \u001b[35m2023-02-07 19:06:04\u001b[0m\n"
          ]
        },
        {
          "output_type": "stream",
          "name": "stderr",
          "text": [
            "train: 100%|██████████| 38/38 [00:03<00:00, 11.57it/s]\n"
          ]
        },
        {
          "output_type": "stream",
          "name": "stdout",
          "text": [
            "Epoch 1 elapsed: 3.308s\n",
            "\t \u001b[32mtrain_loss: 0.6779\u001b[0m\n"
          ]
        },
        {
          "output_type": "stream",
          "name": "stderr",
          "text": [
            "eval_listwise: 100%|██████████| 31/31 [00:00<00:00, 208.76it/s]\n"
          ]
        },
        {
          "output_type": "stream",
          "name": "stdout",
          "text": [
            "\t eval precision@10: 0.0834\n",
            "\t eval recall@10: 0.0467\n",
            "\t eval map@10: 0.1874\n",
            "\t eval ndcg@10: 0.2710\n",
            "==============================\n"
          ]
        },
        {
          "output_type": "stream",
          "name": "stderr",
          "text": [
            "train: 100%|██████████| 38/38 [00:02<00:00, 13.86it/s]\n"
          ]
        },
        {
          "output_type": "stream",
          "name": "stdout",
          "text": [
            "Epoch 2 elapsed: 2.770s\n",
            "\t \u001b[32mtrain_loss: 0.6273\u001b[0m\n"
          ]
        },
        {
          "output_type": "stream",
          "name": "stderr",
          "text": [
            "eval_listwise: 100%|██████████| 31/31 [00:00<00:00, 108.96it/s]\n"
          ]
        },
        {
          "output_type": "stream",
          "name": "stdout",
          "text": [
            "\t eval precision@10: 0.1150\n",
            "\t eval recall@10: 0.0665\n",
            "\t eval map@10: 0.2158\n",
            "\t eval ndcg@10: 0.3239\n",
            "==============================\n"
          ]
        },
        {
          "output_type": "stream",
          "name": "stderr",
          "text": [
            "eval_listwise: 100%|██████████| 135/135 [00:00<00:00, 506.61it/s]\n"
          ]
        },
        {
          "output_type": "stream",
          "name": "stdout",
          "text": [
            "Evaluation Results for RNN4REC:\n",
            "{'precision': 0.11495227995758218, 'recall': 0.0665062245327051, 'map': 0.21576215304078505, 'ndcg': 0.32392041512799913}\n"
          ]
        }
      ],
      "id": "G2ite0KAND7B"
    },
    {
      "cell_type": "markdown",
      "source": [
        "#### Recommendations to users"
      ],
      "metadata": {
        "id": "-d_XzF_wND7D"
      },
      "id": "-d_XzF_wND7D"
    },
    {
      "cell_type": "code",
      "source": [
        "rnn4recmodel=models['rnn4rec']"
      ],
      "metadata": {
        "id": "9kbFOxpoND7E"
      },
      "execution_count": null,
      "outputs": [],
      "id": "9kbFOxpoND7E"
    },
    {
      "cell_type": "code",
      "source": [
        "userids=u_users[0]\n",
        "itemids=u_items[0]"
      ],
      "metadata": {
        "id": "OCZQWJkMND7E"
      },
      "execution_count": null,
      "outputs": [],
      "id": "OCZQWJkMND7E"
    },
    {
      "cell_type": "code",
      "source": [
        "print('recommendation user '+str(userids))\n",
        "results= recommend(rnn4recmodel,1, 10)\n",
        "print(results)"
      ],
      "metadata": {
        "colab": {
          "base_uri": "https://localhost:8080/"
        },
        "outputId": "624587e2-5520-4226-8b08-8b29d8aa5c33",
        "id": "qgx3HWinND7F"
      },
      "execution_count": null,
      "outputs": [
        {
          "output_type": "stream",
          "name": "stdout",
          "text": [
            "recommendation user 196\n",
            "{1: array([195, 300, 286, 462, 204, 475, 433, 657, 508, 310])}\n"
          ]
        }
      ],
      "id": "qgx3HWinND7F"
    },
    {
      "cell_type": "code",
      "source": [
        "print(\" 10 most similar items for item : \", similarItems(rnn4recmodel,itemids, k=10))"
      ],
      "metadata": {
        "colab": {
          "base_uri": "https://localhost:8080/"
        },
        "outputId": "00a45264-4b90-42bc-eb14-5b1bcd926d27",
        "id": "XJE_-J3WND7F"
      },
      "execution_count": null,
      "outputs": [
        {
          "output_type": "stream",
          "name": "stdout",
          "text": [
            " 3 most similar items for item 2:  [289, 568, 530, 185, 208, 141, 429, 294, 47, 202]\n"
          ]
        }
      ],
      "id": "XJE_-J3WND7F"
    },
    {
      "cell_type": "markdown",
      "source": [
        "##  RNN4REC"
      ],
      "metadata": {
        "id": "_SKNub_BDNIK"
      },
      "id": "_SKNub_BDNIK"
    },
    {
      "cell_type": "code",
      "source": [
        "IS_SEQUENTIAL=\"YES\""
      ],
      "metadata": {
        "id": "F2e5gebgDNIL"
      },
      "execution_count": null,
      "outputs": [],
      "id": "F2e5gebgDNIL"
    },
    {
      "cell_type": "code",
      "source": [
        "\n",
        "models, evals = run(rating_df, algo=[\"rnn4rec\"], hyperparam={\"rnn4rec\":{ \"rnn_type\":\"gru\",\n",
        "        \"loss_type\":\"cross_entropy\",\n",
        "        \"embed_size\":16,\n",
        "        \"n_epochs\":2,\n",
        "        \"lr\":3e-4,\n",
        "        \"lr_decay\":False,\n",
        "        \"reg\":None,\n",
        "        \"batch_size\":2048,\n",
        "        \"num_neg\":1,\n",
        "        \"use_tf\":True,\n",
        "        \"dropout_rate\":0.0,\n",
        "        \"recent_num\":10,\n",
        "        \"tf_sess_config\":None}},neg_samples=False)\n"
      ],
      "metadata": {
        "colab": {
          "base_uri": "https://localhost:8080/"
        },
        "outputId": "a247f529-6785-4941-c2d5-6060cd290a62",
        "id": "fXwFEfqcDNIL"
      },
      "execution_count": null,
      "outputs": [
        {
          "output_type": "stream",
          "name": "stdout",
          "text": [
            "total params: \u001b[33m35,928\u001b[0m | embedding params: \u001b[33m34,136\u001b[0m | network params: \u001b[33m1,792\u001b[0m\n",
            "Training start time: \u001b[35m2023-02-08 12:48:52\u001b[0m\n"
          ]
        },
        {
          "output_type": "stream",
          "name": "stderr",
          "text": [
            "train: 100%|██████████| 38/38 [00:06<00:00,  5.54it/s]\n"
          ]
        },
        {
          "output_type": "stream",
          "name": "stdout",
          "text": [
            "Epoch 1 elapsed: 6.876s\n",
            "\t \u001b[32mtrain_loss: 0.6779\u001b[0m\n"
          ]
        },
        {
          "output_type": "stream",
          "name": "stderr",
          "text": [
            "eval_listwise: 100%|██████████| 31/31 [00:00<00:00, 115.80it/s]\n"
          ]
        },
        {
          "output_type": "stream",
          "name": "stdout",
          "text": [
            "\t eval precision@10: 0.0834\n",
            "\t eval recall@10: 0.0467\n",
            "\t eval map@10: 0.1874\n",
            "\t eval ndcg@10: 0.2710\n",
            "==============================\n"
          ]
        },
        {
          "output_type": "stream",
          "name": "stderr",
          "text": [
            "train: 100%|██████████| 38/38 [00:01<00:00, 21.65it/s]\n"
          ]
        },
        {
          "output_type": "stream",
          "name": "stdout",
          "text": [
            "Epoch 2 elapsed: 1.778s\n",
            "\t \u001b[32mtrain_loss: 0.6273\u001b[0m\n"
          ]
        },
        {
          "output_type": "stream",
          "name": "stderr",
          "text": [
            "eval_listwise: 100%|██████████| 31/31 [00:00<00:00, 188.71it/s]\n"
          ]
        },
        {
          "output_type": "stream",
          "name": "stdout",
          "text": [
            "\t eval precision@10: 0.1150\n",
            "\t eval recall@10: 0.0665\n",
            "\t eval map@10: 0.2158\n",
            "\t eval ndcg@10: 0.3239\n",
            "==============================\n"
          ]
        },
        {
          "output_type": "stream",
          "name": "stderr",
          "text": [
            "eval_listwise: 100%|██████████| 135/135 [00:00<00:00, 786.08it/s]\n"
          ]
        },
        {
          "output_type": "stream",
          "name": "stdout",
          "text": [
            "Evaluation Results for RNN4REC:\n",
            "{'precision': 0.11495227995758218, 'recall': 0.0665062245327051, 'map': 0.21576215304078505, 'ndcg': 0.32392041512799913}\n"
          ]
        }
      ],
      "id": "fXwFEfqcDNIL"
    },
    {
      "cell_type": "markdown",
      "source": [
        "#### Recommendations to users"
      ],
      "metadata": {
        "id": "cUE7z63wDNIM"
      },
      "id": "cUE7z63wDNIM"
    },
    {
      "cell_type": "code",
      "source": [
        "rnn4recmodel=models['rnn4rec']"
      ],
      "metadata": {
        "id": "O07mhUG4DNIM"
      },
      "execution_count": null,
      "outputs": [],
      "id": "O07mhUG4DNIM"
    },
    {
      "cell_type": "code",
      "source": [
        "userids=u_users[0]\n",
        "itemids=u_items[0]"
      ],
      "metadata": {
        "id": "pFOMcnMxDNIM"
      },
      "execution_count": null,
      "outputs": [],
      "id": "pFOMcnMxDNIM"
    },
    {
      "cell_type": "code",
      "source": [
        "print('recommendation user '+str(userids))\n",
        "results= recommend(rnn4recmodel,1, 10)\n",
        "print(results)"
      ],
      "metadata": {
        "colab": {
          "base_uri": "https://localhost:8080/"
        },
        "outputId": "bc43a73c-6845-463b-a27e-2002998d6cfb",
        "id": "flV3dI-QDNIM"
      },
      "execution_count": null,
      "outputs": [
        {
          "output_type": "stream",
          "name": "stdout",
          "text": [
            "recommendation user 196\n",
            "{1: array([195, 300, 286, 462, 204, 475, 433, 657, 508, 310])}\n"
          ]
        }
      ],
      "id": "flV3dI-QDNIM"
    },
    {
      "cell_type": "code",
      "source": [
        "print(\" 10 most similar items for item : \", similarItems(rnn4recmodel,itemids, k=10))"
      ],
      "metadata": {
        "colab": {
          "base_uri": "https://localhost:8080/"
        },
        "outputId": "f76b4ddf-3c37-4c06-c89c-868a8382c3a6",
        "id": "I_sqGyYfDNIM"
      },
      "execution_count": null,
      "outputs": [
        {
          "output_type": "stream",
          "name": "stdout",
          "text": [
            " 10 most similar items for item :  [289, 568, 530, 185, 208, 141, 429, 294, 47, 202]\n"
          ]
        }
      ],
      "id": "I_sqGyYfDNIM"
    },
    {
      "cell_type": "code",
      "source": [],
      "metadata": {
        "id": "tnCTk6s7El6K"
      },
      "id": "tnCTk6s7El6K",
      "execution_count": null,
      "outputs": []
    },
    {
      "cell_type": "markdown",
      "source": [
        "##  Caser"
      ],
      "metadata": {
        "id": "0pDklJHEEpti"
      },
      "id": "0pDklJHEEpti"
    },
    {
      "cell_type": "code",
      "source": [
        "IS_SEQUENTIAL=\"YES\""
      ],
      "metadata": {
        "id": "FERhupuCEptj"
      },
      "execution_count": null,
      "outputs": [],
      "id": "FERhupuCEptj"
    },
    {
      "cell_type": "code",
      "source": [
        "\n",
        "models, evals = run(rating_df, algo=[\"Caser\"], hyperparam={\"Caser\":{ \n",
        "        \"loss_type\":\"cross_entropy\",\n",
        "        \"embed_size\":16,\n",
        "        \"n_epochs\":20,\n",
        "        \"lr\":3e-4,\n",
        "        \"lr_decay\":False,\n",
        "        \"reg\":None,\n",
        "        \"batch_size\":512,\n",
        "        \"num_neg\":1,\n",
        "        \"use_bn\":True,  \n",
        "        \"nh_filters\":32,\n",
        "        \"nv_filters\":4,\n",
        "        \"dropout_rate\":0.0,\n",
        "        \"recent_num\":10,\n",
        "        \"tf_sess_config\":None}},neg_samples=False)\n"
      ],
      "metadata": {
        "colab": {
          "base_uri": "https://localhost:8080/"
        },
        "outputId": "4fe3575d-7ee6-4498-9f83-c5b1696e4413",
        "id": "VE0ltTrrE2AD"
      },
      "execution_count": null,
      "outputs": [
        {
          "output_type": "stream",
          "name": "stdout",
          "text": [
            "total params: \u001b[33m100,356\u001b[0m | embedding params: \u001b[33m66,012\u001b[0m | network params: \u001b[33m34,344\u001b[0m\n",
            "Training start time: \u001b[35m2023-02-08 12:51:15\u001b[0m\n"
          ]
        },
        {
          "output_type": "stream",
          "name": "stderr",
          "text": [
            "train: 100%|██████████| 151/151 [00:03<00:00, 48.96it/s]\n"
          ]
        },
        {
          "output_type": "stream",
          "name": "stdout",
          "text": [
            "Epoch 1 elapsed: 3.103s\n",
            "\t \u001b[32mtrain_loss: -0.0605\u001b[0m\n"
          ]
        },
        {
          "output_type": "stream",
          "name": "stderr",
          "text": [
            "eval_listwise: 100%|██████████| 31/31 [00:00<00:00, 271.60it/s]\n"
          ]
        },
        {
          "output_type": "stream",
          "name": "stdout",
          "text": [
            "\t eval precision@10: 0.1368\n",
            "\t eval recall@10: 0.0792\n",
            "\t eval map@10: 0.3010\n",
            "\t eval ndcg@10: 0.4048\n",
            "==============================\n"
          ]
        },
        {
          "output_type": "stream",
          "name": "stderr",
          "text": [
            "train: 100%|██████████| 151/151 [00:02<00:00, 73.11it/s]\n"
          ]
        },
        {
          "output_type": "stream",
          "name": "stdout",
          "text": [
            "Epoch 2 elapsed: 2.085s\n",
            "\t \u001b[32mtrain_loss: -93.904\u001b[0m\n"
          ]
        },
        {
          "output_type": "stream",
          "name": "stderr",
          "text": [
            "eval_listwise: 100%|██████████| 31/31 [00:00<00:00, 249.80it/s]\n"
          ]
        },
        {
          "output_type": "stream",
          "name": "stdout",
          "text": [
            "\t eval precision@10: 0.1642\n",
            "\t eval recall@10: 0.0980\n",
            "\t eval map@10: 0.3230\n",
            "\t eval ndcg@10: 0.4361\n",
            "==============================\n"
          ]
        },
        {
          "output_type": "stream",
          "name": "stderr",
          "text": [
            "train: 100%|██████████| 151/151 [00:02<00:00, 67.72it/s]\n"
          ]
        },
        {
          "output_type": "stream",
          "name": "stdout",
          "text": [
            "Epoch 3 elapsed: 2.249s\n",
            "\t \u001b[32mtrain_loss: -1306.3475\u001b[0m\n"
          ]
        },
        {
          "output_type": "stream",
          "name": "stderr",
          "text": [
            "eval_listwise: 100%|██████████| 31/31 [00:00<00:00, 240.81it/s]\n"
          ]
        },
        {
          "output_type": "stream",
          "name": "stdout",
          "text": [
            "\t eval precision@10: 0.1764\n",
            "\t eval recall@10: 0.1111\n",
            "\t eval map@10: 0.3430\n",
            "\t eval ndcg@10: 0.4631\n",
            "==============================\n"
          ]
        },
        {
          "output_type": "stream",
          "name": "stderr",
          "text": [
            "train: 100%|██████████| 151/151 [00:02<00:00, 67.11it/s]\n"
          ]
        },
        {
          "output_type": "stream",
          "name": "stdout",
          "text": [
            "Epoch 4 elapsed: 2.272s\n",
            "\t \u001b[32mtrain_loss: -6353.1968\u001b[0m\n"
          ]
        },
        {
          "output_type": "stream",
          "name": "stderr",
          "text": [
            "eval_listwise: 100%|██████████| 31/31 [00:00<00:00, 244.13it/s]\n"
          ]
        },
        {
          "output_type": "stream",
          "name": "stdout",
          "text": [
            "\t eval precision@10: 0.1862\n",
            "\t eval recall@10: 0.1152\n",
            "\t eval map@10: 0.3511\n",
            "\t eval ndcg@10: 0.4760\n",
            "==============================\n"
          ]
        },
        {
          "output_type": "stream",
          "name": "stderr",
          "text": [
            "train: 100%|██████████| 151/151 [00:02<00:00, 59.45it/s]\n"
          ]
        },
        {
          "output_type": "stream",
          "name": "stdout",
          "text": [
            "Epoch 5 elapsed: 2.559s\n",
            "\t \u001b[32mtrain_loss: -19110.7559\u001b[0m\n"
          ]
        },
        {
          "output_type": "stream",
          "name": "stderr",
          "text": [
            "eval_listwise: 100%|██████████| 31/31 [00:00<00:00, 187.57it/s]\n"
          ]
        },
        {
          "output_type": "stream",
          "name": "stdout",
          "text": [
            "\t eval precision@10: 0.1932\n",
            "\t eval recall@10: 0.1187\n",
            "\t eval map@10: 0.3556\n",
            "\t eval ndcg@10: 0.4823\n",
            "==============================\n"
          ]
        },
        {
          "output_type": "stream",
          "name": "stderr",
          "text": [
            "train: 100%|██████████| 151/151 [00:02<00:00, 59.25it/s]\n"
          ]
        },
        {
          "output_type": "stream",
          "name": "stdout",
          "text": [
            "Epoch 6 elapsed: 2.569s\n",
            "\t \u001b[32mtrain_loss: -44174.543\u001b[0m\n"
          ]
        },
        {
          "output_type": "stream",
          "name": "stderr",
          "text": [
            "eval_listwise: 100%|██████████| 31/31 [00:00<00:00, 280.02it/s]\n"
          ]
        },
        {
          "output_type": "stream",
          "name": "stdout",
          "text": [
            "\t eval precision@10: 0.1934\n",
            "\t eval recall@10: 0.1191\n",
            "\t eval map@10: 0.3606\n",
            "\t eval ndcg@10: 0.4864\n",
            "==============================\n"
          ]
        },
        {
          "output_type": "stream",
          "name": "stderr",
          "text": [
            "train: 100%|██████████| 151/151 [00:02<00:00, 66.96it/s]\n"
          ]
        },
        {
          "output_type": "stream",
          "name": "stdout",
          "text": [
            "Epoch 7 elapsed: 2.275s\n",
            "\t \u001b[32mtrain_loss: -86625.2188\u001b[0m\n"
          ]
        },
        {
          "output_type": "stream",
          "name": "stderr",
          "text": [
            "eval_listwise: 100%|██████████| 31/31 [00:00<00:00, 272.05it/s]\n"
          ]
        },
        {
          "output_type": "stream",
          "name": "stdout",
          "text": [
            "\t eval precision@10: 0.1941\n",
            "\t eval recall@10: 0.1189\n",
            "\t eval map@10: 0.3598\n",
            "\t eval ndcg@10: 0.4859\n",
            "==============================\n"
          ]
        },
        {
          "output_type": "stream",
          "name": "stderr",
          "text": [
            "train: 100%|██████████| 151/151 [00:02<00:00, 67.57it/s]\n"
          ]
        },
        {
          "output_type": "stream",
          "name": "stdout",
          "text": [
            "Epoch 8 elapsed: 2.253s\n",
            "\t \u001b[32mtrain_loss: -151775.0781\u001b[0m\n"
          ]
        },
        {
          "output_type": "stream",
          "name": "stderr",
          "text": [
            "eval_listwise: 100%|██████████| 31/31 [00:00<00:00, 272.19it/s]\n"
          ]
        },
        {
          "output_type": "stream",
          "name": "stdout",
          "text": [
            "\t eval precision@10: 0.1952\n",
            "\t eval recall@10: 0.1196\n",
            "\t eval map@10: 0.3587\n",
            "\t eval ndcg@10: 0.4856\n",
            "==============================\n"
          ]
        },
        {
          "output_type": "stream",
          "name": "stderr",
          "text": [
            "train: 100%|██████████| 151/151 [00:02<00:00, 56.50it/s]\n"
          ]
        },
        {
          "output_type": "stream",
          "name": "stdout",
          "text": [
            "Epoch 9 elapsed: 2.694s\n",
            "\t \u001b[32mtrain_loss: -245035.0469\u001b[0m\n"
          ]
        },
        {
          "output_type": "stream",
          "name": "stderr",
          "text": [
            "eval_listwise: 100%|██████████| 31/31 [00:00<00:00, 203.15it/s]\n"
          ]
        },
        {
          "output_type": "stream",
          "name": "stdout",
          "text": [
            "\t eval precision@10: 0.1963\n",
            "\t eval recall@10: 0.1210\n",
            "\t eval map@10: 0.3567\n",
            "\t eval ndcg@10: 0.4857\n",
            "==============================\n"
          ]
        },
        {
          "output_type": "stream",
          "name": "stderr",
          "text": [
            "train: 100%|██████████| 151/151 [00:02<00:00, 55.25it/s]\n"
          ]
        },
        {
          "output_type": "stream",
          "name": "stdout",
          "text": [
            "Epoch 10 elapsed: 2.752s\n",
            "\t \u001b[32mtrain_loss: -371945.5938\u001b[0m\n"
          ]
        },
        {
          "output_type": "stream",
          "name": "stderr",
          "text": [
            "eval_listwise: 100%|██████████| 31/31 [00:00<00:00, 227.75it/s]\n"
          ]
        },
        {
          "output_type": "stream",
          "name": "stdout",
          "text": [
            "\t eval precision@10: 0.1960\n",
            "\t eval recall@10: 0.1211\n",
            "\t eval map@10: 0.3575\n",
            "\t eval ndcg@10: 0.4861\n",
            "==============================\n"
          ]
        },
        {
          "output_type": "stream",
          "name": "stderr",
          "text": [
            "train: 100%|██████████| 151/151 [00:02<00:00, 61.28it/s]\n"
          ]
        },
        {
          "output_type": "stream",
          "name": "stdout",
          "text": [
            "Epoch 11 elapsed: 2.490s\n",
            "\t \u001b[32mtrain_loss: -538031.0625\u001b[0m\n"
          ]
        },
        {
          "output_type": "stream",
          "name": "stderr",
          "text": [
            "eval_listwise: 100%|██████████| 31/31 [00:00<00:00, 250.23it/s]\n"
          ]
        },
        {
          "output_type": "stream",
          "name": "stdout",
          "text": [
            "\t eval precision@10: 0.1961\n",
            "\t eval recall@10: 0.1207\n",
            "\t eval map@10: 0.3560\n",
            "\t eval ndcg@10: 0.4851\n",
            "==============================\n"
          ]
        },
        {
          "output_type": "stream",
          "name": "stderr",
          "text": [
            "train: 100%|██████████| 151/151 [00:02<00:00, 67.71it/s]\n"
          ]
        },
        {
          "output_type": "stream",
          "name": "stdout",
          "text": [
            "Epoch 12 elapsed: 2.249s\n",
            "\t \u001b[32mtrain_loss: -748743.5\u001b[0m\n"
          ]
        },
        {
          "output_type": "stream",
          "name": "stderr",
          "text": [
            "eval_listwise: 100%|██████████| 31/31 [00:00<00:00, 274.12it/s]\n"
          ]
        },
        {
          "output_type": "stream",
          "name": "stdout",
          "text": [
            "\t eval precision@10: 0.1964\n",
            "\t eval recall@10: 0.1211\n",
            "\t eval map@10: 0.3559\n",
            "\t eval ndcg@10: 0.4854\n",
            "==============================\n"
          ]
        },
        {
          "output_type": "stream",
          "name": "stderr",
          "text": [
            "train: 100%|██████████| 151/151 [00:02<00:00, 66.29it/s]\n"
          ]
        },
        {
          "output_type": "stream",
          "name": "stdout",
          "text": [
            "Epoch 13 elapsed: 2.297s\n",
            "\t \u001b[32mtrain_loss: -1009567.8125\u001b[0m\n"
          ]
        },
        {
          "output_type": "stream",
          "name": "stderr",
          "text": [
            "eval_listwise: 100%|██████████| 31/31 [00:00<00:00, 237.07it/s]\n"
          ]
        },
        {
          "output_type": "stream",
          "name": "stdout",
          "text": [
            "\t eval precision@10: 0.1971\n",
            "\t eval recall@10: 0.1208\n",
            "\t eval map@10: 0.3546\n",
            "\t eval ndcg@10: 0.4846\n",
            "==============================\n"
          ]
        },
        {
          "output_type": "stream",
          "name": "stderr",
          "text": [
            "train: 100%|██████████| 151/151 [00:02<00:00, 67.30it/s]\n"
          ]
        },
        {
          "output_type": "stream",
          "name": "stdout",
          "text": [
            "Epoch 14 elapsed: 2.264s\n",
            "\t \u001b[32mtrain_loss: -1325711.375\u001b[0m\n"
          ]
        },
        {
          "output_type": "stream",
          "name": "stderr",
          "text": [
            "eval_listwise: 100%|██████████| 31/31 [00:00<00:00, 271.58it/s]\n"
          ]
        },
        {
          "output_type": "stream",
          "name": "stdout",
          "text": [
            "\t eval precision@10: 0.1966\n",
            "\t eval recall@10: 0.1206\n",
            "\t eval map@10: 0.3588\n",
            "\t eval ndcg@10: 0.4881\n",
            "==============================\n"
          ]
        },
        {
          "output_type": "stream",
          "name": "stderr",
          "text": [
            "train: 100%|██████████| 151/151 [00:02<00:00, 61.06it/s]\n"
          ]
        },
        {
          "output_type": "stream",
          "name": "stdout",
          "text": [
            "Epoch 15 elapsed: 2.496s\n",
            "\t \u001b[32mtrain_loss: -1702302.75\u001b[0m\n"
          ]
        },
        {
          "output_type": "stream",
          "name": "stderr",
          "text": [
            "eval_listwise: 100%|██████████| 31/31 [00:00<00:00, 145.48it/s]\n"
          ]
        },
        {
          "output_type": "stream",
          "name": "stdout",
          "text": [
            "\t eval precision@10: 0.1966\n",
            "\t eval recall@10: 0.1207\n",
            "\t eval map@10: 0.3604\n",
            "\t eval ndcg@10: 0.4894\n",
            "==============================\n"
          ]
        },
        {
          "output_type": "stream",
          "name": "stderr",
          "text": [
            "train: 100%|██████████| 151/151 [00:02<00:00, 61.45it/s]\n"
          ]
        },
        {
          "output_type": "stream",
          "name": "stdout",
          "text": [
            "Epoch 16 elapsed: 2.480s\n",
            "\t \u001b[32mtrain_loss: -2144566.25\u001b[0m\n"
          ]
        },
        {
          "output_type": "stream",
          "name": "stderr",
          "text": [
            "eval_listwise: 100%|██████████| 31/31 [00:00<00:00, 269.02it/s]\n"
          ]
        },
        {
          "output_type": "stream",
          "name": "stdout",
          "text": [
            "\t eval precision@10: 0.1961\n",
            "\t eval recall@10: 0.1205\n",
            "\t eval map@10: 0.3602\n",
            "\t eval ndcg@10: 0.4892\n",
            "==============================\n"
          ]
        },
        {
          "output_type": "stream",
          "name": "stderr",
          "text": [
            "train: 100%|██████████| 151/151 [00:02<00:00, 67.04it/s]\n"
          ]
        },
        {
          "output_type": "stream",
          "name": "stdout",
          "text": [
            "Epoch 17 elapsed: 2.273s\n",
            "\t \u001b[32mtrain_loss: -2657629.75\u001b[0m\n"
          ]
        },
        {
          "output_type": "stream",
          "name": "stderr",
          "text": [
            "eval_listwise: 100%|██████████| 31/31 [00:00<00:00, 222.47it/s]\n"
          ]
        },
        {
          "output_type": "stream",
          "name": "stdout",
          "text": [
            "\t eval precision@10: 0.1966\n",
            "\t eval recall@10: 0.1220\n",
            "\t eval map@10: 0.3600\n",
            "\t eval ndcg@10: 0.4898\n",
            "==============================\n"
          ]
        },
        {
          "output_type": "stream",
          "name": "stderr",
          "text": [
            "train: 100%|██████████| 151/151 [00:02<00:00, 63.73it/s]\n"
          ]
        },
        {
          "output_type": "stream",
          "name": "stdout",
          "text": [
            "Epoch 18 elapsed: 2.390s\n",
            "\t \u001b[32mtrain_loss: -3246230.0\u001b[0m\n"
          ]
        },
        {
          "output_type": "stream",
          "name": "stderr",
          "text": [
            "eval_listwise: 100%|██████████| 31/31 [00:00<00:00, 248.25it/s]\n"
          ]
        },
        {
          "output_type": "stream",
          "name": "stdout",
          "text": [
            "\t eval precision@10: 0.1973\n",
            "\t eval recall@10: 0.1223\n",
            "\t eval map@10: 0.3591\n",
            "\t eval ndcg@10: 0.4899\n",
            "==============================\n"
          ]
        },
        {
          "output_type": "stream",
          "name": "stderr",
          "text": [
            "train: 100%|██████████| 151/151 [00:02<00:00, 63.80it/s]\n"
          ]
        },
        {
          "output_type": "stream",
          "name": "stdout",
          "text": [
            "Epoch 19 elapsed: 2.387s\n",
            "\t \u001b[32mtrain_loss: -3915540.75\u001b[0m\n"
          ]
        },
        {
          "output_type": "stream",
          "name": "stderr",
          "text": [
            "eval_listwise: 100%|██████████| 31/31 [00:00<00:00, 232.56it/s]\n"
          ]
        },
        {
          "output_type": "stream",
          "name": "stdout",
          "text": [
            "\t eval precision@10: 0.1972\n",
            "\t eval recall@10: 0.1223\n",
            "\t eval map@10: 0.3600\n",
            "\t eval ndcg@10: 0.4904\n",
            "==============================\n"
          ]
        },
        {
          "output_type": "stream",
          "name": "stderr",
          "text": [
            "train: 100%|██████████| 151/151 [00:02<00:00, 60.15it/s]\n"
          ]
        },
        {
          "output_type": "stream",
          "name": "stdout",
          "text": [
            "Epoch 20 elapsed: 2.532s\n",
            "\t \u001b[32mtrain_loss: -4670554.5\u001b[0m\n"
          ]
        },
        {
          "output_type": "stream",
          "name": "stderr",
          "text": [
            "eval_listwise: 100%|██████████| 31/31 [00:00<00:00, 221.32it/s]\n"
          ]
        },
        {
          "output_type": "stream",
          "name": "stdout",
          "text": [
            "\t eval precision@10: 0.1963\n",
            "\t eval recall@10: 0.1219\n",
            "\t eval map@10: 0.3592\n",
            "\t eval ndcg@10: 0.4898\n",
            "==============================\n"
          ]
        },
        {
          "output_type": "stream",
          "name": "stderr",
          "text": [
            "eval_listwise: 100%|██████████| 135/135 [00:00<00:00, 821.50it/s]\n"
          ]
        },
        {
          "output_type": "stream",
          "name": "stdout",
          "text": [
            "Evaluation Results for Caser:\n",
            "{'precision': 0.19628844114528105, 'recall': 0.12187972246931338, 'map': 0.35918519239909935, 'ndcg': 0.48977054318220886}\n"
          ]
        }
      ],
      "id": "VE0ltTrrE2AD"
    },
    {
      "cell_type": "markdown",
      "source": [
        "#### Recommendations to users"
      ],
      "metadata": {
        "id": "NYpWHCRgEptj"
      },
      "id": "NYpWHCRgEptj"
    },
    {
      "cell_type": "code",
      "source": [
        "rnn4recmodel=models['Caser']"
      ],
      "metadata": {
        "id": "ZSYoPsQ9Eptj"
      },
      "execution_count": null,
      "outputs": [],
      "id": "ZSYoPsQ9Eptj"
    },
    {
      "cell_type": "code",
      "source": [
        "userids=u_users[0]\n",
        "itemids=u_items[0]"
      ],
      "metadata": {
        "id": "qhlI8a3GEptj"
      },
      "execution_count": null,
      "outputs": [],
      "id": "qhlI8a3GEptj"
    },
    {
      "cell_type": "code",
      "source": [
        "print('recommendation user '+str(userids))\n",
        "results= recommend(rnn4recmodel,1, 10)\n",
        "print(results)"
      ],
      "metadata": {
        "colab": {
          "base_uri": "https://localhost:8080/"
        },
        "outputId": "2ef5a412-c9f7-41f0-cd79-555ea1757228",
        "id": "cYpxNefBEptj"
      },
      "execution_count": null,
      "outputs": [
        {
          "output_type": "stream",
          "name": "stdout",
          "text": [
            "recommendation user 196\n",
            "{1: array([288, 286, 300, 294,   7, 172, 313, 204,  79, 195])}\n"
          ]
        }
      ],
      "id": "cYpxNefBEptj"
    },
    {
      "cell_type": "code",
      "source": [
        "print(\" 10 most similar items for item : \", similarItems(rnn4recmodel,itemids, k=10))"
      ],
      "metadata": {
        "colab": {
          "base_uri": "https://localhost:8080/"
        },
        "outputId": "f965d6d5-4596-4dde-d144-01b9d3d79890",
        "id": "nKTdriYSEptj"
      },
      "execution_count": null,
      "outputs": [
        {
          "output_type": "stream",
          "name": "stdout",
          "text": [
            " 10 most similar items for item :  [50, 181, 100, 258, 174, 98, 286, 1, 56, 127]\n"
          ]
        }
      ],
      "id": "nKTdriYSEptj"
    }
  ],
  "metadata": {
    "accelerator": "GPU",
    "colab": {
      "collapsed_sections": [
        "1ILJlOp2j64Y",
        "DvQzh9z6osMg",
        "mYOqn9gnSZZw"
      ],
      "machine_shape": "hm",
      "provenance": []
    },
    "gpuClass": "premium",
    "kernelspec": {
      "display_name": "Python 3 (ipykernel)",
      "language": "python",
      "name": "python3"
    },
    "language_info": {
      "codemirror_mode": {
        "name": "ipython",
        "version": 3
      },
      "file_extension": ".py",
      "mimetype": "text/x-python",
      "name": "python",
      "nbconvert_exporter": "python",
      "pygments_lexer": "ipython3",
      "version": "3.9.12"
    }
  },
  "nbformat": 4,
  "nbformat_minor": 5
}