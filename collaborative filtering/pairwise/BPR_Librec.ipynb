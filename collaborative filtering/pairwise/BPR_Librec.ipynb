{
  "cells": [
    {
      "cell_type": "markdown",
      "source": [
        "## Installation\n",
        "-  Run this only once"
      ],
      "metadata": {
        "id": "1ILJlOp2j64Y"
      },
      "id": "1ILJlOp2j64Y"
    },
    {
      "cell_type": "code",
      "execution_count": null,
      "metadata": {
        "id": "XXB_1HlIKdFi",
        "colab": {
          "base_uri": "https://localhost:8080/"
        },
        "outputId": "362d4abe-ecf0-445c-9037-e44fe33aed8d"
      },
      "outputs": [
        {
          "output_type": "stream",
          "name": "stdout",
          "text": [
            "Looking in indexes: https://pypi.org/simple, https://us-python.pkg.dev/colab-wheels/public/simple/\n",
            "Requirement already satisfied: gdown in /usr/local/lib/python3.8/dist-packages (4.4.0)\n",
            "Requirement already satisfied: six in /usr/local/lib/python3.8/dist-packages (from gdown) (1.15.0)\n",
            "Requirement already satisfied: beautifulsoup4 in /usr/local/lib/python3.8/dist-packages (from gdown) (4.6.3)\n",
            "Requirement already satisfied: requests[socks] in /usr/local/lib/python3.8/dist-packages (from gdown) (2.25.1)\n",
            "Requirement already satisfied: tqdm in /usr/local/lib/python3.8/dist-packages (from gdown) (4.64.1)\n",
            "Requirement already satisfied: filelock in /usr/local/lib/python3.8/dist-packages (from gdown) (3.9.0)\n",
            "Requirement already satisfied: chardet<5,>=3.0.2 in /usr/local/lib/python3.8/dist-packages (from requests[socks]->gdown) (4.0.0)\n",
            "Requirement already satisfied: idna<3,>=2.5 in /usr/local/lib/python3.8/dist-packages (from requests[socks]->gdown) (2.10)\n",
            "Requirement already satisfied: urllib3<1.27,>=1.21.1 in /usr/local/lib/python3.8/dist-packages (from requests[socks]->gdown) (1.24.3)\n",
            "Requirement already satisfied: certifi>=2017.4.17 in /usr/local/lib/python3.8/dist-packages (from requests[socks]->gdown) (2022.12.7)\n",
            "Requirement already satisfied: PySocks!=1.5.7,>=1.5.6 in /usr/local/lib/python3.8/dist-packages (from requests[socks]->gdown) (1.7.1)\n",
            "Looking in indexes: https://pypi.org/simple, https://us-python.pkg.dev/colab-wheels/public/simple/\n",
            "Requirement already satisfied: tf_slim in /usr/local/lib/python3.8/dist-packages (1.1.0)\n",
            "Requirement already satisfied: absl-py>=0.2.2 in /usr/local/lib/python3.8/dist-packages (from tf_slim) (1.4.0)\n",
            "Traceback (most recent call last):\n",
            "  File \"/usr/local/lib/python3.8/dist-packages/pip/_vendor/pkg_resources/__init__.py\", line 3021, in _dep_map\n",
            "    return self.__dep_map\n",
            "  File \"/usr/local/lib/python3.8/dist-packages/pip/_vendor/pkg_resources/__init__.py\", line 2815, in __getattr__\n",
            "    raise AttributeError(attr)\n",
            "AttributeError: _DistInfoDistribution__dep_map\n",
            "\n",
            "During handling of the above exception, another exception occurred:\n",
            "\n",
            "Traceback (most recent call last):\n",
            "  File \"/usr/local/lib/python3.8/dist-packages/pip/_internal/cli/base_command.py\", line 167, in exc_logging_wrapper\n",
            "    status = run_func(*args)\n",
            "  File \"/usr/local/lib/python3.8/dist-packages/pip/_internal/cli/req_command.py\", line 199, in wrapper\n",
            "    return func(self, options, args)\n",
            "  File \"/usr/local/lib/python3.8/dist-packages/pip/_internal/commands/install.py\", line 397, in run\n",
            "    conflicts = self._determine_conflicts(to_install)\n",
            "  File \"/usr/local/lib/python3.8/dist-packages/pip/_internal/commands/install.py\", line 529, in _determine_conflicts\n",
            "    return check_install_conflicts(to_install)\n",
            "  File \"/usr/local/lib/python3.8/dist-packages/pip/_internal/operations/check.py\", line 101, in check_install_conflicts\n",
            "    package_set, _ = create_package_set_from_installed()\n",
            "  File \"/usr/local/lib/python3.8/dist-packages/pip/_internal/operations/check.py\", line 42, in create_package_set_from_installed\n",
            "    dependencies = list(dist.iter_dependencies())\n",
            "  File \"/usr/local/lib/python3.8/dist-packages/pip/_internal/metadata/pkg_resources.py\", line 202, in iter_dependencies\n",
            "    return self._dist.requires(extras)\n",
            "  File \"/usr/local/lib/python3.8/dist-packages/pip/_vendor/pkg_resources/__init__.py\", line 2736, in requires\n",
            "    dm = self._dep_map\n",
            "  File \"/usr/local/lib/python3.8/dist-packages/pip/_vendor/pkg_resources/__init__.py\", line 3023, in _dep_map\n",
            "    self.__dep_map = self._compute_dependencies()\n",
            "  File \"/usr/local/lib/python3.8/dist-packages/pip/_vendor/pkg_resources/__init__.py\", line 3033, in _compute_dependencies\n",
            "    reqs.extend(parse_requirements(req))\n",
            "  File \"/usr/local/lib/python3.8/dist-packages/pip/_vendor/pkg_resources/__init__.py\", line 3094, in parse_requirements\n",
            "    yield Requirement(line)\n",
            "  File \"/usr/local/lib/python3.8/dist-packages/pip/_vendor/pkg_resources/__init__.py\", line 3101, in __init__\n",
            "    super(Requirement, self).__init__(requirement_string)\n",
            "  File \"/usr/local/lib/python3.8/dist-packages/pip/_vendor/packaging/requirements.py\", line 102, in __init__\n",
            "    req = REQUIREMENT.parseString(requirement_string)\n",
            "  File \"/usr/local/lib/python3.8/dist-packages/pip/_vendor/pyparsing/core.py\", line 1124, in parse_string\n",
            "    loc, tokens = self._parse(instring, 0)\n",
            "  File \"/usr/local/lib/python3.8/dist-packages/pip/_vendor/pyparsing/core.py\", line 810, in _parseNoCache\n",
            "    loc, tokens = self.parseImpl(instring, pre_loc, doActions)\n",
            "  File \"/usr/local/lib/python3.8/dist-packages/pip/_vendor/pyparsing/core.py\", line 3863, in parseImpl\n",
            "    loc, exprtokens = e._parse(instring, loc, doActions)\n",
            "  File \"/usr/local/lib/python3.8/dist-packages/pip/_vendor/pyparsing/core.py\", line 810, in _parseNoCache\n",
            "    loc, tokens = self.parseImpl(instring, pre_loc, doActions)\n",
            "  File \"/usr/local/lib/python3.8/dist-packages/pip/_vendor/pyparsing/core.py\", line 4352, in parseImpl\n",
            "    return self.expr._parse(instring, loc, doActions, callPreParse=False)\n",
            "  File \"/usr/local/lib/python3.8/dist-packages/pip/_vendor/pyparsing/core.py\", line 810, in _parseNoCache\n",
            "    loc, tokens = self.parseImpl(instring, pre_loc, doActions)\n",
            "  File \"/usr/local/lib/python3.8/dist-packages/pip/_vendor/pyparsing/core.py\", line 3863, in parseImpl\n",
            "    loc, exprtokens = e._parse(instring, loc, doActions)\n",
            "  File \"/usr/local/lib/python3.8/dist-packages/pip/_vendor/pyparsing/core.py\", line 810, in _parseNoCache\n",
            "    loc, tokens = self.parseImpl(instring, pre_loc, doActions)\n",
            "  File \"/usr/local/lib/python3.8/dist-packages/pip/_vendor/pyparsing/core.py\", line 4868, in parseImpl\n",
            "    return super().parseImpl(instring, loc, doActions)\n",
            "  File \"/usr/local/lib/python3.8/dist-packages/pip/_vendor/pyparsing/core.py\", line 4767, in parseImpl\n",
            "    loc, tokens = self_expr_parse(instring, loc, doActions)\n",
            "  File \"/usr/local/lib/python3.8/dist-packages/pip/_vendor/pyparsing/core.py\", line 810, in _parseNoCache\n",
            "    loc, tokens = self.parseImpl(instring, pre_loc, doActions)\n",
            "  File \"/usr/local/lib/python3.8/dist-packages/pip/_vendor/pyparsing/core.py\", line 4091, in parseImpl\n",
            "    return e._parse(\n",
            "  File \"/usr/local/lib/python3.8/dist-packages/pip/_vendor/pyparsing/core.py\", line 810, in _parseNoCache\n",
            "    loc, tokens = self.parseImpl(instring, pre_loc, doActions)\n",
            "  File \"/usr/local/lib/python3.8/dist-packages/pip/_vendor/pyparsing/core.py\", line 3841, in parseImpl\n",
            "    loc, resultlist = self.exprs[0]._parse(\n",
            "  File \"/usr/local/lib/python3.8/dist-packages/pip/_vendor/pyparsing/core.py\", line 814, in _parseNoCache\n",
            "    loc, tokens = self.parseImpl(instring, pre_loc, doActions)\n",
            "  File \"/usr/local/lib/python3.8/dist-packages/pip/_vendor/pyparsing/core.py\", line 4868, in parseImpl\n",
            "    return super().parseImpl(instring, loc, doActions)\n",
            "  File \"/usr/local/lib/python3.8/dist-packages/pip/_vendor/pyparsing/core.py\", line 4767, in parseImpl\n",
            "    loc, tokens = self_expr_parse(instring, loc, doActions)\n",
            "  File \"/usr/local/lib/python3.8/dist-packages/pip/_vendor/pyparsing/core.py\", line 769, in _parseNoCache\n",
            "    def _parseNoCache(\n",
            "KeyboardInterrupt\n",
            "\n",
            "During handling of the above exception, another exception occurred:\n",
            "\n",
            "Traceback (most recent call last):\n",
            "  File \"/usr/local/bin/pip3\", line 8, in <module>\n",
            "    sys.exit(main())\n",
            "  File \"/usr/local/lib/python3.8/dist-packages/pip/_internal/cli/main.py\", line 70, in main\n",
            "    return command.main(cmd_args)\n",
            "  File \"/usr/local/lib/python3.8/dist-packages/pip/_internal/cli/base_command.py\", line 101, in main\n",
            "    return self._main(args)\n",
            "  File \"/usr/local/lib/python3.8/dist-packages/pip/_internal/cli/base_command.py\", line 221, in _main\n",
            "    return run(options, args)\n",
            "  File \"/usr/local/lib/python3.8/dist-packages/pip/_internal/cli/base_command.py\", line 204, in exc_logging_wrapper\n",
            "    logger.critical(\"Operation cancelled by user\")\n",
            "  File \"/usr/lib/python3.8/logging/__init__.py\", line 1493, in critical\n",
            "    self._log(CRITICAL, msg, args, **kwargs)\n",
            "  File \"/usr/lib/python3.8/logging/__init__.py\", line 1577, in _log\n",
            "    fn, lno, func, sinfo = self.findCaller(stack_info, stacklevel)\n",
            "  File \"/usr/lib/python3.8/logging/__init__.py\", line 1546, in findCaller\n",
            "    rv = (co.co_filename, f.f_lineno, co.co_name, sinfo)\n",
            "KeyboardInterrupt\n",
            "^C\n",
            "Looking in indexes: https://pypi.org/simple, https://us-python.pkg.dev/colab-wheels/public/simple/\n",
            "Requirement already satisfied: numpy==1.22 in /usr/local/lib/python3.8/dist-packages (1.22.0)\n",
            "Looking in indexes: https://pypi.org/simple, https://us-python.pkg.dev/colab-wheels/public/simple/\n",
            "Requirement already satisfied: LibRecommender in /usr/local/lib/python3.8/dist-packages (0.12.6)\n",
            "Requirement already satisfied: tqdm in /usr/local/lib/python3.8/dist-packages (from LibRecommender) (4.64.1)\n",
            "Requirement already satisfied: torch>=1.10.0 in /usr/local/lib/python3.8/dist-packages (from LibRecommender) (1.13.1+cu116)\n",
            "Requirement already satisfied: scikit-learn>=0.20.0 in /usr/local/lib/python3.8/dist-packages (from LibRecommender) (1.2.1)\n",
            "Requirement already satisfied: pandas>=1.0.0 in /usr/local/lib/python3.8/dist-packages (from LibRecommender) (1.3.5)\n",
            "Requirement already satisfied: scipy>=1.2.1 in /usr/local/lib/python3.8/dist-packages (from LibRecommender) (1.7.3)\n",
            "Requirement already satisfied: cython<3,>=0.29.0 in /usr/local/lib/python3.8/dist-packages (from LibRecommender) (0.29.33)\n",
            "Requirement already satisfied: tensorflow>=1.15.0 in /usr/local/lib/python3.8/dist-packages (from LibRecommender) (2.9.2)\n",
            "Requirement already satisfied: numpy>=1.19.5 in /usr/local/lib/python3.8/dist-packages (from LibRecommender) (1.22.0)\n",
            "Requirement already satisfied: gensim>=4.0.0 in /usr/local/lib/python3.8/dist-packages (from LibRecommender) (4.3.0)\n",
            "Requirement already satisfied: FuzzyTM>=0.4.0 in /usr/local/lib/python3.8/dist-packages (from gensim>=4.0.0->LibRecommender) (2.0.5)\n",
            "Requirement already satisfied: smart-open>=1.8.1 in /usr/local/lib/python3.8/dist-packages (from gensim>=4.0.0->LibRecommender) (6.3.0)\n",
            "Requirement already satisfied: python-dateutil>=2.7.3 in /usr/local/lib/python3.8/dist-packages (from pandas>=1.0.0->LibRecommender) (2.8.2)\n",
            "Requirement already satisfied: pytz>=2017.3 in /usr/local/lib/python3.8/dist-packages (from pandas>=1.0.0->LibRecommender) (2022.7.1)\n",
            "Requirement already satisfied: threadpoolctl>=2.0.0 in /usr/local/lib/python3.8/dist-packages (from scikit-learn>=0.20.0->LibRecommender) (3.1.0)\n",
            "Requirement already satisfied: joblib>=1.1.1 in /usr/local/lib/python3.8/dist-packages (from scikit-learn>=0.20.0->LibRecommender) (1.2.0)\n",
            "Requirement already satisfied: tensorboard<2.10,>=2.9 in /usr/local/lib/python3.8/dist-packages (from tensorflow>=1.15.0->LibRecommender) (2.9.1)\n",
            "Requirement already satisfied: tensorflow-estimator<2.10.0,>=2.9.0rc0 in /usr/local/lib/python3.8/dist-packages (from tensorflow>=1.15.0->LibRecommender) (2.9.0)\n",
            "Requirement already satisfied: libclang>=13.0.0 in /usr/local/lib/python3.8/dist-packages (from tensorflow>=1.15.0->LibRecommender) (15.0.6.1)\n",
            "Requirement already satisfied: six>=1.12.0 in /usr/local/lib/python3.8/dist-packages (from tensorflow>=1.15.0->LibRecommender) (1.15.0)\n",
            "Requirement already satisfied: flatbuffers<2,>=1.12 in /usr/local/lib/python3.8/dist-packages (from tensorflow>=1.15.0->LibRecommender) (1.12)\n",
            "Requirement already satisfied: h5py>=2.9.0 in /usr/local/lib/python3.8/dist-packages (from tensorflow>=1.15.0->LibRecommender) (3.1.0)\n",
            "Requirement already satisfied: termcolor>=1.1.0 in /usr/local/lib/python3.8/dist-packages (from tensorflow>=1.15.0->LibRecommender) (2.2.0)\n",
            "Requirement already satisfied: keras-preprocessing>=1.1.1 in /usr/local/lib/python3.8/dist-packages (from tensorflow>=1.15.0->LibRecommender) (1.1.2)\n",
            "Requirement already satisfied: tensorflow-io-gcs-filesystem>=0.23.1 in /usr/local/lib/python3.8/dist-packages (from tensorflow>=1.15.0->LibRecommender) (0.30.0)\n",
            "Requirement already satisfied: keras<2.10.0,>=2.9.0rc0 in /usr/local/lib/python3.8/dist-packages (from tensorflow>=1.15.0->LibRecommender) (2.9.0)\n",
            "Requirement already satisfied: typing-extensions>=3.6.6 in /usr/local/lib/python3.8/dist-packages (from tensorflow>=1.15.0->LibRecommender) (4.4.0)\n",
            "Requirement already satisfied: grpcio<2.0,>=1.24.3 in /usr/local/lib/python3.8/dist-packages (from tensorflow>=1.15.0->LibRecommender) (1.51.1)\n",
            "Requirement already satisfied: setuptools in /usr/local/lib/python3.8/dist-packages (from tensorflow>=1.15.0->LibRecommender) (57.4.0)\n",
            "Requirement already satisfied: packaging in /usr/local/lib/python3.8/dist-packages (from tensorflow>=1.15.0->LibRecommender) (23.0)\n",
            "Requirement already satisfied: opt-einsum>=2.3.2 in /usr/local/lib/python3.8/dist-packages (from tensorflow>=1.15.0->LibRecommender) (3.3.0)\n",
            "Requirement already satisfied: astunparse>=1.6.0 in /usr/local/lib/python3.8/dist-packages (from tensorflow>=1.15.0->LibRecommender) (1.6.3)\n",
            "Requirement already satisfied: google-pasta>=0.1.1 in /usr/local/lib/python3.8/dist-packages (from tensorflow>=1.15.0->LibRecommender) (0.2.0)\n",
            "Requirement already satisfied: wrapt>=1.11.0 in /usr/local/lib/python3.8/dist-packages (from tensorflow>=1.15.0->LibRecommender) (1.14.1)\n",
            "Requirement already satisfied: gast<=0.4.0,>=0.2.1 in /usr/local/lib/python3.8/dist-packages (from tensorflow>=1.15.0->LibRecommender) (0.4.0)\n",
            "Requirement already satisfied: protobuf<3.20,>=3.9.2 in /usr/local/lib/python3.8/dist-packages (from tensorflow>=1.15.0->LibRecommender) (3.19.6)\n",
            "Requirement already satisfied: absl-py>=1.0.0 in /usr/local/lib/python3.8/dist-packages (from tensorflow>=1.15.0->LibRecommender) (1.4.0)\n",
            "Requirement already satisfied: wheel<1.0,>=0.23.0 in /usr/local/lib/python3.8/dist-packages (from astunparse>=1.6.0->tensorflow>=1.15.0->LibRecommender) (0.38.4)\n",
            "Requirement already satisfied: pyfume in /usr/local/lib/python3.8/dist-packages (from FuzzyTM>=0.4.0->gensim>=4.0.0->LibRecommender) (0.2.25)\n",
            "Requirement already satisfied: requests<3,>=2.21.0 in /usr/local/lib/python3.8/dist-packages (from tensorboard<2.10,>=2.9->tensorflow>=1.15.0->LibRecommender) (2.25.1)\n",
            "Requirement already satisfied: tensorboard-plugin-wit>=1.6.0 in /usr/local/lib/python3.8/dist-packages (from tensorboard<2.10,>=2.9->tensorflow>=1.15.0->LibRecommender) (1.8.1)\n",
            "Requirement already satisfied: werkzeug>=1.0.1 in /usr/local/lib/python3.8/dist-packages (from tensorboard<2.10,>=2.9->tensorflow>=1.15.0->LibRecommender) (1.0.1)\n",
            "Requirement already satisfied: markdown>=2.6.8 in /usr/local/lib/python3.8/dist-packages (from tensorboard<2.10,>=2.9->tensorflow>=1.15.0->LibRecommender) (3.4.1)\n",
            "Requirement already satisfied: google-auth-oauthlib<0.5,>=0.4.1 in /usr/local/lib/python3.8/dist-packages (from tensorboard<2.10,>=2.9->tensorflow>=1.15.0->LibRecommender) (0.4.6)\n",
            "Requirement already satisfied: tensorboard-data-server<0.7.0,>=0.6.0 in /usr/local/lib/python3.8/dist-packages (from tensorboard<2.10,>=2.9->tensorflow>=1.15.0->LibRecommender) (0.6.1)\n",
            "Requirement already satisfied: google-auth<3,>=1.6.3 in /usr/local/lib/python3.8/dist-packages (from tensorboard<2.10,>=2.9->tensorflow>=1.15.0->LibRecommender) (2.16.0)\n",
            "Requirement already satisfied: cachetools<6.0,>=2.0.0 in /usr/local/lib/python3.8/dist-packages (from google-auth<3,>=1.6.3->tensorboard<2.10,>=2.9->tensorflow>=1.15.0->LibRecommender) (5.3.0)\n",
            "Requirement already satisfied: pyasn1-modules>=0.2.1 in /usr/local/lib/python3.8/dist-packages (from google-auth<3,>=1.6.3->tensorboard<2.10,>=2.9->tensorflow>=1.15.0->LibRecommender) (0.2.8)\n",
            "Requirement already satisfied: rsa<5,>=3.1.4 in /usr/local/lib/python3.8/dist-packages (from google-auth<3,>=1.6.3->tensorboard<2.10,>=2.9->tensorflow>=1.15.0->LibRecommender) (4.9)\n",
            "Requirement already satisfied: requests-oauthlib>=0.7.0 in /usr/local/lib/python3.8/dist-packages (from google-auth-oauthlib<0.5,>=0.4.1->tensorboard<2.10,>=2.9->tensorflow>=1.15.0->LibRecommender) (1.3.1)\n",
            "Requirement already satisfied: importlib-metadata>=4.4 in /usr/local/lib/python3.8/dist-packages (from markdown>=2.6.8->tensorboard<2.10,>=2.9->tensorflow>=1.15.0->LibRecommender) (6.0.0)\n",
            "Requirement already satisfied: certifi>=2017.4.17 in /usr/local/lib/python3.8/dist-packages (from requests<3,>=2.21.0->tensorboard<2.10,>=2.9->tensorflow>=1.15.0->LibRecommender) (2022.12.7)\n",
            "Requirement already satisfied: urllib3<1.27,>=1.21.1 in /usr/local/lib/python3.8/dist-packages (from requests<3,>=2.21.0->tensorboard<2.10,>=2.9->tensorflow>=1.15.0->LibRecommender) (1.24.3)\n",
            "Requirement already satisfied: chardet<5,>=3.0.2 in /usr/local/lib/python3.8/dist-packages (from requests<3,>=2.21.0->tensorboard<2.10,>=2.9->tensorflow>=1.15.0->LibRecommender) (4.0.0)\n",
            "Requirement already satisfied: idna<3,>=2.5 in /usr/local/lib/python3.8/dist-packages (from requests<3,>=2.21.0->tensorboard<2.10,>=2.9->tensorflow>=1.15.0->LibRecommender) (2.10)\n",
            "Requirement already satisfied: fst-pso in /usr/local/lib/python3.8/dist-packages (from pyfume->FuzzyTM>=0.4.0->gensim>=4.0.0->LibRecommender) (1.8.1)\n",
            "Requirement already satisfied: simpful in /usr/local/lib/python3.8/dist-packages (from pyfume->FuzzyTM>=0.4.0->gensim>=4.0.0->LibRecommender) (2.9.0)\n",
            "Requirement already satisfied: zipp>=0.5 in /usr/local/lib/python3.8/dist-packages (from importlib-metadata>=4.4->markdown>=2.6.8->tensorboard<2.10,>=2.9->tensorflow>=1.15.0->LibRecommender) (3.12.0)\n",
            "Requirement already satisfied: pyasn1<0.5.0,>=0.4.6 in /usr/local/lib/python3.8/dist-packages (from pyasn1-modules>=0.2.1->google-auth<3,>=1.6.3->tensorboard<2.10,>=2.9->tensorflow>=1.15.0->LibRecommender) (0.4.8)\n",
            "Requirement already satisfied: oauthlib>=3.0.0 in /usr/local/lib/python3.8/dist-packages (from requests-oauthlib>=0.7.0->google-auth-oauthlib<0.5,>=0.4.1->tensorboard<2.10,>=2.9->tensorflow>=1.15.0->LibRecommender) (3.2.2)\n",
            "Requirement already satisfied: miniful in /usr/local/lib/python3.8/dist-packages (from fst-pso->pyfume->FuzzyTM>=0.4.0->gensim>=4.0.0->LibRecommender) (0.0.6)\n"
          ]
        }
      ],
      "source": [
        "!pip install gdown\n",
        "!pip install tf_slim\n",
        "!pip install numpy==1.22\n",
        "!pip install LibRecommender\n"
      ],
      "id": "XXB_1HlIKdFi"
    },
    {
      "cell_type": "markdown",
      "source": [
        "## Restart "
      ],
      "metadata": {
        "id": "x7-kQ2uHgQHN"
      },
      "id": "x7-kQ2uHgQHN"
    },
    {
      "cell_type": "code",
      "source": [
        "import os\n",
        "os.kill(os.getpid(), 9)"
      ],
      "metadata": {
        "id": "bhIJ0xYh2YXz"
      },
      "id": "bhIJ0xYh2YXz",
      "execution_count": null,
      "outputs": []
    },
    {
      "cell_type": "markdown",
      "source": [
        "## Data Loading"
      ],
      "metadata": {
        "id": "JW1c4-822wY6"
      },
      "id": "JW1c4-822wY6"
    },
    {
      "cell_type": "code",
      "execution_count": null,
      "metadata": {
        "id": "d6266078"
      },
      "outputs": [],
      "source": [
        "\n",
        "import pandas as pd\n",
        "import os\n",
        "from os.path import exists\n",
        "import zipfile\n",
        "import numpy as np\n",
        "from datetime import datetime"
      ],
      "id": "d6266078"
    },
    {
      "cell_type": "code",
      "execution_count": null,
      "metadata": {
        "id": "cxXmZMhNL4vi"
      },
      "outputs": [],
      "source": [
        "SEED=42"
      ],
      "id": "cxXmZMhNL4vi"
    },
    {
      "cell_type": "code",
      "source": [
        "# !gdown https://drive.google.com/uc?id=1kl65YOvoSAMSgszQQbua2q4Zwe1HgPct\n",
        "# !unzip -o \"data.zip\"  -d  \"/content\"\n",
        "\n",
        "# movie_10k_df = pd.read_csv(\"movies_min.csv\")\n",
        "# amazon_df =pd.read_csv('amazon_min.csv')\n",
        "# book_df=pd.read_csv(\"book_min.csv\")\n",
        "# food_df = pd.read_csv('food_min.csv')\n",
        "# ecommerce_df=pd.read_csv('ecom_min.csv')\n",
        "# ciao_df=pd.read_csv('ciao_min.csv')"
      ],
      "metadata": {
        "id": "_1KEOjziTrPY"
      },
      "execution_count": null,
      "outputs": [],
      "id": "_1KEOjziTrPY"
    },
    {
      "cell_type": "code",
      "source": [
        "TIMESTAMP=None"
      ],
      "metadata": {
        "id": "grEEvzijoj2y"
      },
      "id": "grEEvzijoj2y",
      "execution_count": null,
      "outputs": []
    },
    {
      "cell_type": "code",
      "source": [
        "!pip install gdown"
      ],
      "metadata": {
        "id": "W_txSB5TVaPm"
      },
      "id": "W_txSB5TVaPm",
      "execution_count": null,
      "outputs": []
    },
    {
      "cell_type": "code",
      "source": [
        "!gdown https://drive.google.com/uc?id=1kl65YOvoSAMSgszQQbua2q4Zwe1HgPct"
      ],
      "metadata": {
        "id": "0o7YlmpsVYwO"
      },
      "execution_count": null,
      "outputs": [],
      "id": "0o7YlmpsVYwO"
    },
    {
      "cell_type": "code",
      "source": [
        "!unzip -o \"data.zip\"  -d  \"/content\""
      ],
      "metadata": {
        "id": "TtZEDi2_JS0Z"
      },
      "execution_count": null,
      "outputs": [],
      "id": "TtZEDi2_JS0Z"
    },
    {
      "cell_type": "markdown",
      "source": [
        "## Name of the file where user item interaction data avaiable?\n",
        "- Column name should be in following name and order\n",
        "- [ **itemID, userID , rating , timestamp** ]\n",
        "- No issue if there is no column for **timestamp**"
      ],
      "metadata": {
        "id": "xR4W7kxwlOmR"
      },
      "id": "xR4W7kxwlOmR"
    },
    {
      "cell_type": "code",
      "source": [
        "filename=\"movies_min.csv\" #enter your filename with file path"
      ],
      "metadata": {
        "id": "kGGBiQ8ylH4R"
      },
      "id": "kGGBiQ8ylH4R",
      "execution_count": null,
      "outputs": []
    },
    {
      "cell_type": "markdown",
      "source": [
        "### Run below cell"
      ],
      "metadata": {
        "id": "DvQzh9z6osMg"
      },
      "id": "DvQzh9z6osMg"
    },
    {
      "cell_type": "code",
      "source": [
        "rating_df = pd.read_csv(filename)\n"
      ],
      "metadata": {
        "id": "rN0wIx5UovIr"
      },
      "id": "rN0wIx5UovIr",
      "execution_count": null,
      "outputs": []
    },
    {
      "cell_type": "code",
      "source": [
        "NUM_OF_COLS=rating_df.shape[1]\n"
      ],
      "metadata": {
        "id": "eus_HRMwlJva"
      },
      "id": "eus_HRMwlJva",
      "execution_count": null,
      "outputs": []
    },
    {
      "cell_type": "code",
      "source": [
        "import time \n",
        "if  'timestamp' in rating_df.columns:\n",
        "  rating_df =rating_df[[ 'userID', 'itemID', 'rating','timestamp']]\n",
        "  rating_df.columns =[ 'userID', 'itemID', 'rating','timestamp']\n",
        "else:\n",
        "\n",
        "  obj = time.gmtime(0)\n",
        "  epoch = time.asctime(obj)\n",
        "  curr_time = round(time.time()*1000)\n",
        "  rating_df['timestamp']=curr_time\n",
        "  rating_df =rating_df[[ 'userID', 'itemID', 'rating','timestamp']]\n",
        "  rating_df.columns =[ 'userID', 'itemID', 'rating','timestamp']"
      ],
      "metadata": {
        "id": "QuETNcoErhSC"
      },
      "id": "QuETNcoErhSC",
      "execution_count": null,
      "outputs": []
    },
    {
      "cell_type": "code",
      "source": [
        "u_users=list(rating_df.userID.unique())"
      ],
      "metadata": {
        "id": "sec4UR3BcYxw"
      },
      "execution_count": null,
      "outputs": [],
      "id": "sec4UR3BcYxw"
    },
    {
      "cell_type": "code",
      "source": [
        "u_items=list(rating_df.itemID.unique())"
      ],
      "metadata": {
        "id": "7Sa_bz1ayytB"
      },
      "id": "7Sa_bz1ayytB",
      "execution_count": null,
      "outputs": []
    },
    {
      "cell_type": "code",
      "source": [],
      "metadata": {
        "id": "qMvP-ywima2A"
      },
      "execution_count": null,
      "outputs": [],
      "id": "qMvP-ywima2A"
    },
    {
      "cell_type": "markdown",
      "source": [
        "##### Code Setup"
      ],
      "metadata": {
        "id": "2U3Ah9H-LsTa"
      },
      "id": "2U3Ah9H-LsTa"
    },
    {
      "cell_type": "code",
      "source": [
        "# Evaluation metrics\n",
        "import libreco\n",
        "import tensorflow as tf\n",
        "import torch\n",
        "from libreco.data import DatasetFeat, DataInfo\n",
        "from libreco.data import  split_by_ratio\n",
        "from libreco.data import split_by_ratio_chrono, DatasetPure, DatasetFeat\n",
        "from libreco.evaluation import evaluate\n",
        "from libreco.prediction import predict_data_with_feats\n",
        "from libreco.algorithms import (\n",
        "    ALS\n",
        ")\n",
        "import time\n",
        "import pandas as pd\n",
        "\n",
        "metrics = [\n",
        "    \"precision\",\n",
        "    \"recall\",\n",
        "    \"map\",\n",
        "    \"ndcg\"\n",
        "]\n",
        "\n",
        "# Call Librecommender API\n",
        "# datasettype =\"pure\" or \"feat\"\n",
        "def run(rating_df,datasettype=\"pure\", algo=[\"als\"],hyperparam={\"als\":{ \"embed_size\":16,\n",
        "        \"n_epochs\":10,\n",
        "        \"reg\":5.0,\n",
        "        \"alpha\":10,\n",
        "        \"use_cg\":False,\n",
        "        \"n_threads\":1,\n",
        "        \"seed\":42}}, neg_samples=True):\n",
        "    train_data, test_data, data_info=None,None,None\n",
        "    tf.compat.v1.reset_default_graph()\n",
        "    if(datasettype==\"pure\"):\n",
        "      train_data, test_data, data_info = preprocessingPure(rating_df, neg_samples)\n",
        "    else :\n",
        "      train_data, test_data, data_info = preprocessingFeature(rating_df, neg_samples) \n",
        "    models = dict()\n",
        "    evals = dict()\n",
        "    if(neg_samples):\n",
        "      train_data.build_negative_samples(\n",
        "            data_info, item_gen_mode=\"random\", num_neg=1, seed=2020\n",
        "        )\n",
        "      test_data.build_negative_samples(\n",
        "            data_info, item_gen_mode=\"random\", num_neg=1, seed=2222\n",
        "        )\n",
        "    for i in algo:\n",
        "        if i == 'als':\n",
        "            \n",
        "            als, eval, algo_data_info = alteringleastsquare(train_data, test_data, data_info,hyperparam[\"als\"])\n",
        "            models['als'] = als\n",
        "            evals['als'] = eval\n",
        "            print(\"Evaluation Results for ALS:\")\n",
        "            print(evals['als'])\n",
        "        elif i == 'rnn4rec':\n",
        "            rnn, eval, algo_data_info = rnn4rec(train_data, test_data, data_info,hyperparam[\"rnn4rec\"])\n",
        "            models['rnn4rec'] = rnn\n",
        "            evals['rnn4rec'] = eval\n",
        "            print(\"Evaluation Results for RNN4REC:\")\n",
        "            print(evals['rnn4rec'])\n",
        "        elif i == 'bpr':\n",
        "            bpr, eval, algo_data_info = bayesianpersonalizedranking(train_data, test_data, data_info,hyperparam[\"bpr\"])\n",
        "            models['bpr'] = bpr\n",
        "            evals['bpr'] = eval\n",
        "            print(\"Evaluation Results for BPR:\")\n",
        "            print(evals['bpr'])\n",
        "        else:\n",
        "            graphsage, eval, algo_data_info = graphSage(train_data, test_data, data_info,hyperparam[\"graphSage\"])\n",
        "            models['graphSage'] = graphsage\n",
        "            evals['graphSage'] = eval\n",
        "            print(\"Evaluation Results for GraphSage:\")\n",
        "            print(evals['graphSage'])\n",
        "          \n",
        "    return models, evals\n",
        "\n",
        "\n",
        "# data preprocessing\n",
        "def preprocessingPure(rating_df, neg_samples=True):\n",
        "    data = rating_df.copy()\n",
        "    data.columns = ['user', 'item', 'label', 'timestamp']\n",
        "    col_user = [\"user\"]\n",
        "    col_item = [\"item\"]\n",
        "    col_dense = [\"label\"]\n",
        "    train, test = split_by_ratio(data, test_size=0.2)\n",
        "    train_data, data_info = DatasetPure.build_trainset(\n",
        "        train,\n",
        "        shuffle=False,\n",
        "    )\n",
        "    test_data = DatasetPure.build_testset(test, shuffle=False)\n",
        "    if neg_samples:\n",
        "        train_data.build_negative_samples(\n",
        "            data_info, item_gen_mode=\"random\", num_neg=1, seed=2020\n",
        "        )\n",
        "        test_data.build_negative_samples(\n",
        "            data_info, item_gen_mode=\"random\", num_neg=1, seed=2222\n",
        "        )\n",
        "    return train_data, test_data, data_info\n",
        "# data preprocessing\n",
        "def preprocessingFeature(rating_df, neg_samples=True):\n",
        "    data = rating_df.copy()\n",
        "    data.columns = ['user', 'item', 'label', 'timestamp']\n",
        "    col_user = [\"user\"]\n",
        "    col_item = [\"item\"]\n",
        "    col_dense = [\"label\"]\n",
        "    train, test = split_by_ratio(data, test_size=0.2)\n",
        "    train_data, data_info = DatasetFeat.build_trainset(\n",
        "        train,\n",
        "        shuffle=False,\n",
        "    )\n",
        "    test_data = DatasetFeat.build_testset(test, shuffle=False)\n",
        "    if neg_samples:\n",
        "        train_data.build_negative_samples(\n",
        "            data_info, item_gen_mode=\"random\", num_neg=1, seed=2020\n",
        "        )\n",
        "        test_data.build_negative_samples(\n",
        "            data_info, item_gen_mode=\"random\", num_neg=1, seed=2222\n",
        "        )\n",
        "    return train_data, test_data, data_info\n",
        "\n",
        "\n",
        "# Recommend items to user\n",
        "def recommend(model, userid, k=10):\n",
        "    return model.recommend_user(user=userid, n_rec=k)\n",
        "\n",
        "# Find similar items\n",
        "def similarItems(model, itemids, k=10):\n",
        "    return model.search_knn_items(item=itemids, k=k)\n",
        "\n",
        "\n",
        "# Model : Alternating Least Square (ALS)\n",
        "def alteringleastsquare(train_data, test_data, data_info,hyperparam={\"embed_size\":16,\n",
        "        \"n_epochs\":10,\n",
        "        \"reg\":5.0,\n",
        "        \"alpha\":10,\n",
        "        \"use_cg\":False,\n",
        "        \"n_threads\":1,\n",
        "        \"seed\":42}):\n",
        "    als = libreco.algorithms.ALS(\n",
        "        \"ranking\",\n",
        "        data_info,\n",
        "        embed_size=hyperparam['embed_size'],\n",
        "        n_epochs=hyperparam['n_epochs'],\n",
        "        reg=hyperparam['reg'],\n",
        "        alpha=hyperparam['alpha'],\n",
        "        use_cg=hyperparam['use_cg'],\n",
        "        n_threads=hyperparam['n_threads'],\n",
        "        seed=hyperparam['seed'],\n",
        "    )\n",
        "    als.fit(\n",
        "        train_data,\n",
        "        verbose=2,\n",
        "        eval_data=test_data,\n",
        "        metrics=metrics,\n",
        "    )\n",
        "    result = evaluate(model=als, data=test_data, metrics=metrics)\n",
        "    return als, result, data_info\n",
        "\n",
        "def graphSage(train_data, test_data, data_info,hyperparam={ \"loss_type\":\"max_margin\",\n",
        "        \"paradigm\":\"i2i\",\n",
        "        \"embed_size\":16,\n",
        "        \"n_epochs\":2,\n",
        "        \"lr\":3e-4,\n",
        "        \"lr_decay\":False,\n",
        "        \"reg\":None,\n",
        "        \"batch_size\":2048,\n",
        "        \"num_neg\":1,\n",
        "        \"dropout_rate\":0.0,\n",
        "        \"num_layers\":1,\n",
        "        \"num_neighbors\":10,\n",
        "        \"num_walks\":10,\n",
        "        \"sample_walk_len\":5,\n",
        "        \"margin\":1.0,\n",
        "        \"sampler\":\"random\",\n",
        "        \"start_node\":\"random\",\n",
        "        \"focus_start\":False,\n",
        "        \"seed\":42}  ):\n",
        "    graphsage = libreco.algorithms.GraphSage(\n",
        "        \"ranking\",\n",
        "        data_info,\n",
        "        loss_type=hyperparam[\"loss_type\"],\n",
        "        paradigm=hyperparam[\"paradigm\"],\n",
        "        embed_size=hyperparam[\"embed_size\"],\n",
        "        n_epochs=hyperparam[\"n_epochs\"],\n",
        "        lr=hyperparam[\"lr\"],\n",
        "        lr_decay=hyperparam[\"lr_decay\"],\n",
        "        reg=hyperparam[\"reg\"],\n",
        "        batch_size=hyperparam[\"batch_size\"],\n",
        "        num_neg=hyperparam[\"num_neg\"],\n",
        "        dropout_rate=hyperparam[\"dropout_rate\"],\n",
        "        num_layers=hyperparam[\"num_layers\"],\n",
        "        num_neighbors=hyperparam[\"num_neighbors\"],\n",
        "        num_walks=hyperparam[\"num_walks\"],\n",
        "        sample_walk_len=hyperparam[\"sample_walk_len\"],\n",
        "        margin=hyperparam[\"margin\"],\n",
        "        sampler=hyperparam[\"sampler\"],\n",
        "        start_node=hyperparam[\"start_node\"],\n",
        "        focus_start=hyperparam[\"focus_start\"],\n",
        "        seed=hyperparam[\"seed\"],\n",
        "    )\n",
        "    graphsage.fit(\n",
        "        train_data,\n",
        "        verbose=2,\n",
        "        shuffle=True,\n",
        "        eval_data=test_data,\n",
        "        metrics=metrics,\n",
        "    )\n",
        "    result = evaluate(model=graphsage, data=test_data, metrics=metrics)\n",
        "    return graphsage, result, data_info\n",
        "\n",
        "def bayesianpersonalizedranking(train_data, test_data, data_info,hyperparam={ \"loss_type\":\"bpr\",\n",
        "      \n",
        "        \"embed_size\":16,\n",
        "        \"n_epochs\":2,\n",
        "        \"lr\":3e-4,\n",
        "        \"lr_decay\":False,\n",
        "        \"reg\":None,\n",
        "        \"batch_size\":2048,\n",
        "        \"num_neg\":1,\n",
        "        \"use_tf\":True}  ):\n",
        "    bpr = libreco.algorithms.BPR(\n",
        "        \"ranking\",\n",
        "        data_info,\n",
        "        loss_type=hyperparam[\"loss_type\"],\n",
        "     \n",
        "        embed_size=hyperparam[\"embed_size\"],\n",
        "        n_epochs=hyperparam[\"n_epochs\"],\n",
        "        lr=hyperparam[\"lr\"],\n",
        "        lr_decay=hyperparam[\"lr_decay\"],\n",
        "        reg=hyperparam[\"reg\"],\n",
        "        batch_size=hyperparam[\"batch_size\"],\n",
        "        num_neg=hyperparam[\"num_neg\"],\n",
        "        use_tf=hyperparam[\"use_tf\"],\n",
        "    )\n",
        "    bpr.fit(\n",
        "        train_data,\n",
        "        verbose=2,\n",
        "        num_threads=4,\n",
        "        eval_data=test_data,\n",
        "        metrics=metrics,\n",
        "        optimizer=\"adam\",\n",
        "    )\n",
        "    result = evaluate(model=bpr, data=test_data, metrics=metrics)\n",
        "    return bpr, result, data_info\n",
        "\n",
        "def rnn4rec(train_data, test_data, data_info,hyperparam={ \"rnn_type\":\"gru\",\n",
        "        \"loss_type\":\"cross_entropy\",\n",
        "        \"embed_size\":16,\n",
        "        \"n_epochs\":2,\n",
        "        \"lr\":3e-4,\n",
        "        \"lr_decay\":False,\n",
        "        \"reg\":None,\n",
        "        \"batch_size\":2048,\n",
        "        \"num_neg\":1,\n",
        "        \"use_tf\":True,\n",
        "        \"dropout_rate\":0.0,\n",
        "        \"recent_num\":10,\n",
        "        \"tf_sess_config\":None}  ):\n",
        "    rnn = libreco.algorithms.RNN4Rec(\n",
        "        \"ranking\",\n",
        "        data_info,\n",
        "        loss_type=hyperparam[\"loss_type\"],\n",
        "        rnn_type=hyperparam[\"rnn_type\"],\n",
        "        embed_size=hyperparam[\"embed_size\"],\n",
        "        n_epochs=hyperparam[\"n_epochs\"],\n",
        "        lr=hyperparam[\"lr\"],\n",
        "        lr_decay=hyperparam[\"lr_decay\"],\n",
        "        reg=hyperparam[\"reg\"],\n",
        "        batch_size=hyperparam[\"batch_size\"],\n",
        "        num_neg=hyperparam[\"num_neg\"],\n",
        "        recent_num=hyperparam[\"recent_num\"],\n",
        "        tf_sess_config=hyperparam[\"tf_sess_config\"],\n",
        "    )\n",
        "    rnn.fit(\n",
        "        train_data,\n",
        "        verbose=2,\n",
        "        shuffle=True,\n",
        "        eval_data=test_data,\n",
        "        metrics=metrics,\n",
        "    )\n",
        "    result = evaluate(model=rnn, data=test_data, metrics=metrics)\n",
        "    return rnn, result, data_info\n",
        "\n",
        "\n",
        "\n",
        "\n",
        "    \n"
      ],
      "metadata": {
        "id": "Mz_p14qC0qMi",
        "colab": {
          "base_uri": "https://localhost:8080/"
        },
        "outputId": "f63a08e1-5fab-4f55-ba73-80a6ca50b239"
      },
      "execution_count": null,
      "outputs": [
        {
          "output_type": "stream",
          "name": "stderr",
          "text": [
            "WARNING:tensorflow:From /usr/local/lib/python3.8/dist-packages/tensorflow/python/compat/v2_compat.py:107: disable_resource_variables (from tensorflow.python.ops.variable_scope) is deprecated and will be removed in a future version.\n",
            "Instructions for updating:\n",
            "non-resource variables are not supported in the long term\n"
          ]
        }
      ],
      "id": "Mz_p14qC0qMi"
    },
    {
      "cell_type": "markdown",
      "source": [
        "## Run BPR"
      ],
      "metadata": {
        "id": "mYOqn9gnSZZw"
      },
      "id": "mYOqn9gnSZZw"
    },
    {
      "cell_type": "code",
      "source": [
        "\n",
        "models, evals = run(rating_df, algo=[\"bpr\"], hyperparam={\"bpr\":{ \"loss_type\":\"bpr\",\n",
        "        \"paradigm\":\"i2i\",\n",
        "        \"embed_size\":32,\n",
        "        \"n_epochs\":20,\n",
        "        \"lr\":3e-4,\n",
        "        \"lr_decay\":False,\n",
        "        \"reg\":None,\n",
        "        \"batch_size\":512,\n",
        "        \"num_neg\":1,\n",
        "        \"use_tf\":True} },neg_samples=True)\n"
      ],
      "metadata": {
        "colab": {
          "base_uri": "https://localhost:8080/"
        },
        "outputId": "66344697-d4c2-4f81-97f0-c739c813aeef",
        "id": "G2ite0KAND7B"
      },
      "execution_count": null,
      "outputs": [
        {
          "output_type": "stream",
          "name": "stdout",
          "text": [
            "random neg item sampling elapsed: 0.090s\n",
            "random neg item sampling elapsed: 0.022s\n",
            "random neg item sampling elapsed: 0.170s\n",
            "random neg item sampling elapsed: 0.047s\n",
            "Training start time: \u001b[35m2023-02-07 20:12:58\u001b[0m\n"
          ]
        },
        {
          "output_type": "stream",
          "name": "stderr",
          "text": [
            "pair_sampling train: 100%|██████████| 302/302 [00:00<00:00, 352.08it/s]\n"
          ]
        },
        {
          "output_type": "stream",
          "name": "stdout",
          "text": [
            "Epoch 1 elapsed: 0.900s\n"
          ]
        },
        {
          "output_type": "stream",
          "name": "stderr",
          "text": [
            "eval_listwise: 100%|██████████| 31/31 [00:00<00:00, 191.82it/s]\n"
          ]
        },
        {
          "output_type": "stream",
          "name": "stdout",
          "text": [
            "\t eval precision@10: 0.1802\n",
            "\t eval recall@10: 0.0982\n",
            "\t eval map@10: 0.3441\n",
            "\t eval ndcg@10: 0.4563\n",
            "==============================\n"
          ]
        },
        {
          "output_type": "stream",
          "name": "stderr",
          "text": [
            "pair_sampling train: 100%|██████████| 302/302 [00:00<00:00, 403.31it/s]\n"
          ]
        },
        {
          "output_type": "stream",
          "name": "stdout",
          "text": [
            "Epoch 2 elapsed: 0.789s\n"
          ]
        },
        {
          "output_type": "stream",
          "name": "stderr",
          "text": [
            "eval_listwise: 100%|██████████| 31/31 [00:00<00:00, 261.30it/s]\n"
          ]
        },
        {
          "output_type": "stream",
          "name": "stdout",
          "text": [
            "\t eval precision@10: 0.1902\n",
            "\t eval recall@10: 0.1084\n",
            "\t eval map@10: 0.3536\n",
            "\t eval ndcg@10: 0.4729\n",
            "==============================\n"
          ]
        },
        {
          "output_type": "stream",
          "name": "stderr",
          "text": [
            "pair_sampling train: 100%|██████████| 302/302 [00:00<00:00, 408.14it/s]\n"
          ]
        },
        {
          "output_type": "stream",
          "name": "stdout",
          "text": [
            "Epoch 3 elapsed: 0.780s\n"
          ]
        },
        {
          "output_type": "stream",
          "name": "stderr",
          "text": [
            "eval_listwise: 100%|██████████| 31/31 [00:00<00:00, 256.69it/s]\n"
          ]
        },
        {
          "output_type": "stream",
          "name": "stdout",
          "text": [
            "\t eval precision@10: 0.1961\n",
            "\t eval recall@10: 0.1138\n",
            "\t eval map@10: 0.3549\n",
            "\t eval ndcg@10: 0.4775\n",
            "==============================\n"
          ]
        },
        {
          "output_type": "stream",
          "name": "stderr",
          "text": [
            "pair_sampling train: 100%|██████████| 302/302 [00:00<00:00, 345.22it/s]\n"
          ]
        },
        {
          "output_type": "stream",
          "name": "stdout",
          "text": [
            "Epoch 4 elapsed: 0.915s\n"
          ]
        },
        {
          "output_type": "stream",
          "name": "stderr",
          "text": [
            "eval_listwise: 100%|██████████| 31/31 [00:00<00:00, 130.60it/s]\n"
          ]
        },
        {
          "output_type": "stream",
          "name": "stdout",
          "text": [
            "\t eval precision@10: 0.1962\n",
            "\t eval recall@10: 0.1132\n",
            "\t eval map@10: 0.3624\n",
            "\t eval ndcg@10: 0.4824\n",
            "==============================\n"
          ]
        },
        {
          "output_type": "stream",
          "name": "stderr",
          "text": [
            "pair_sampling train: 100%|██████████| 302/302 [00:01<00:00, 295.07it/s]\n"
          ]
        },
        {
          "output_type": "stream",
          "name": "stdout",
          "text": [
            "Epoch 5 elapsed: 1.092s\n"
          ]
        },
        {
          "output_type": "stream",
          "name": "stderr",
          "text": [
            "eval_listwise: 100%|██████████| 31/31 [00:00<00:00, 134.86it/s]\n"
          ]
        },
        {
          "output_type": "stream",
          "name": "stdout",
          "text": [
            "\t eval precision@10: 0.2005\n",
            "\t eval recall@10: 0.1149\n",
            "\t eval map@10: 0.3720\n",
            "\t eval ndcg@10: 0.4913\n",
            "==============================\n"
          ]
        },
        {
          "output_type": "stream",
          "name": "stderr",
          "text": [
            "pair_sampling train: 100%|██████████| 302/302 [00:01<00:00, 274.82it/s]\n"
          ]
        },
        {
          "output_type": "stream",
          "name": "stdout",
          "text": [
            "Epoch 6 elapsed: 1.147s\n"
          ]
        },
        {
          "output_type": "stream",
          "name": "stderr",
          "text": [
            "eval_listwise: 100%|██████████| 31/31 [00:00<00:00, 90.91it/s]\n"
          ]
        },
        {
          "output_type": "stream",
          "name": "stdout",
          "text": [
            "\t eval precision@10: 0.2043\n",
            "\t eval recall@10: 0.1167\n",
            "\t eval map@10: 0.3837\n",
            "\t eval ndcg@10: 0.5006\n",
            "==============================\n"
          ]
        },
        {
          "output_type": "stream",
          "name": "stderr",
          "text": [
            "pair_sampling train: 100%|██████████| 302/302 [00:01<00:00, 293.79it/s]\n"
          ]
        },
        {
          "output_type": "stream",
          "name": "stdout",
          "text": [
            "Epoch 7 elapsed: 1.088s\n"
          ]
        },
        {
          "output_type": "stream",
          "name": "stderr",
          "text": [
            "eval_listwise: 100%|██████████| 31/31 [00:00<00:00, 148.99it/s]\n"
          ]
        },
        {
          "output_type": "stream",
          "name": "stdout",
          "text": [
            "\t eval precision@10: 0.2098\n",
            "\t eval recall@10: 0.1195\n",
            "\t eval map@10: 0.4016\n",
            "\t eval ndcg@10: 0.5165\n",
            "==============================\n"
          ]
        },
        {
          "output_type": "stream",
          "name": "stderr",
          "text": [
            "pair_sampling train: 100%|██████████| 302/302 [00:01<00:00, 217.34it/s]\n"
          ]
        },
        {
          "output_type": "stream",
          "name": "stdout",
          "text": [
            "Epoch 8 elapsed: 1.442s\n"
          ]
        },
        {
          "output_type": "stream",
          "name": "stderr",
          "text": [
            "eval_listwise: 100%|██████████| 31/31 [00:00<00:00, 80.35it/s]\n"
          ]
        },
        {
          "output_type": "stream",
          "name": "stdout",
          "text": [
            "\t eval precision@10: 0.2197\n",
            "\t eval recall@10: 0.1263\n",
            "\t eval map@10: 0.4200\n",
            "\t eval ndcg@10: 0.5338\n",
            "==============================\n"
          ]
        },
        {
          "output_type": "stream",
          "name": "stderr",
          "text": [
            "pair_sampling train: 100%|██████████| 302/302 [00:01<00:00, 225.99it/s]\n"
          ]
        },
        {
          "output_type": "stream",
          "name": "stdout",
          "text": [
            "Epoch 9 elapsed: 1.434s\n"
          ]
        },
        {
          "output_type": "stream",
          "name": "stderr",
          "text": [
            "eval_listwise: 100%|██████████| 31/31 [00:00<00:00, 159.80it/s]\n"
          ]
        },
        {
          "output_type": "stream",
          "name": "stdout",
          "text": [
            "\t eval precision@10: 0.2274\n",
            "\t eval recall@10: 0.1326\n",
            "\t eval map@10: 0.4427\n",
            "\t eval ndcg@10: 0.5539\n",
            "==============================\n"
          ]
        },
        {
          "output_type": "stream",
          "name": "stderr",
          "text": [
            "pair_sampling train: 100%|██████████| 302/302 [00:00<00:00, 329.39it/s]\n"
          ]
        },
        {
          "output_type": "stream",
          "name": "stdout",
          "text": [
            "Epoch 10 elapsed: 0.964s\n"
          ]
        },
        {
          "output_type": "stream",
          "name": "stderr",
          "text": [
            "eval_listwise: 100%|██████████| 31/31 [00:00<00:00, 210.21it/s]\n"
          ]
        },
        {
          "output_type": "stream",
          "name": "stdout",
          "text": [
            "\t eval precision@10: 0.2365\n",
            "\t eval recall@10: 0.1391\n",
            "\t eval map@10: 0.4561\n",
            "\t eval ndcg@10: 0.5688\n",
            "==============================\n"
          ]
        },
        {
          "output_type": "stream",
          "name": "stderr",
          "text": [
            "pair_sampling train: 100%|██████████| 302/302 [00:00<00:00, 355.29it/s]\n"
          ]
        },
        {
          "output_type": "stream",
          "name": "stdout",
          "text": [
            "Epoch 11 elapsed: 0.894s\n"
          ]
        },
        {
          "output_type": "stream",
          "name": "stderr",
          "text": [
            "eval_listwise: 100%|██████████| 31/31 [00:00<00:00, 265.84it/s]\n"
          ]
        },
        {
          "output_type": "stream",
          "name": "stdout",
          "text": [
            "\t eval precision@10: 0.2444\n",
            "\t eval recall@10: 0.1471\n",
            "\t eval map@10: 0.4685\n",
            "\t eval ndcg@10: 0.5839\n",
            "==============================\n"
          ]
        },
        {
          "output_type": "stream",
          "name": "stderr",
          "text": [
            "pair_sampling train: 100%|██████████| 302/302 [00:00<00:00, 404.64it/s]\n"
          ]
        },
        {
          "output_type": "stream",
          "name": "stdout",
          "text": [
            "Epoch 12 elapsed: 0.788s\n"
          ]
        },
        {
          "output_type": "stream",
          "name": "stderr",
          "text": [
            "eval_listwise: 100%|██████████| 31/31 [00:00<00:00, 257.01it/s]\n"
          ]
        },
        {
          "output_type": "stream",
          "name": "stdout",
          "text": [
            "\t eval precision@10: 0.2520\n",
            "\t eval recall@10: 0.1526\n",
            "\t eval map@10: 0.4758\n",
            "\t eval ndcg@10: 0.5909\n",
            "==============================\n"
          ]
        },
        {
          "output_type": "stream",
          "name": "stderr",
          "text": [
            "pair_sampling train: 100%|██████████| 302/302 [00:00<00:00, 406.80it/s]\n"
          ]
        },
        {
          "output_type": "stream",
          "name": "stdout",
          "text": [
            "Epoch 13 elapsed: 0.779s\n"
          ]
        },
        {
          "output_type": "stream",
          "name": "stderr",
          "text": [
            "eval_listwise: 100%|██████████| 31/31 [00:00<00:00, 277.13it/s]\n"
          ]
        },
        {
          "output_type": "stream",
          "name": "stdout",
          "text": [
            "\t eval precision@10: 0.2594\n",
            "\t eval recall@10: 0.1610\n",
            "\t eval map@10: 0.4796\n",
            "\t eval ndcg@10: 0.5984\n",
            "==============================\n"
          ]
        },
        {
          "output_type": "stream",
          "name": "stderr",
          "text": [
            "pair_sampling train: 100%|██████████| 302/302 [00:00<00:00, 381.44it/s]\n"
          ]
        },
        {
          "output_type": "stream",
          "name": "stdout",
          "text": [
            "Epoch 14 elapsed: 0.830s\n"
          ]
        },
        {
          "output_type": "stream",
          "name": "stderr",
          "text": [
            "eval_listwise: 100%|██████████| 31/31 [00:00<00:00, 223.06it/s]\n"
          ]
        },
        {
          "output_type": "stream",
          "name": "stdout",
          "text": [
            "\t eval precision@10: 0.2646\n",
            "\t eval recall@10: 0.1656\n",
            "\t eval map@10: 0.4799\n",
            "\t eval ndcg@10: 0.5999\n",
            "==============================\n"
          ]
        },
        {
          "output_type": "stream",
          "name": "stderr",
          "text": [
            "pair_sampling train: 100%|██████████| 302/302 [00:00<00:00, 390.30it/s]\n"
          ]
        },
        {
          "output_type": "stream",
          "name": "stdout",
          "text": [
            "Epoch 15 elapsed: 0.814s\n"
          ]
        },
        {
          "output_type": "stream",
          "name": "stderr",
          "text": [
            "eval_listwise: 100%|██████████| 31/31 [00:00<00:00, 248.61it/s]\n"
          ]
        },
        {
          "output_type": "stream",
          "name": "stdout",
          "text": [
            "\t eval precision@10: 0.2682\n",
            "\t eval recall@10: 0.1687\n",
            "\t eval map@10: 0.4810\n",
            "\t eval ndcg@10: 0.6031\n",
            "==============================\n"
          ]
        },
        {
          "output_type": "stream",
          "name": "stderr",
          "text": [
            "pair_sampling train: 100%|██████████| 302/302 [00:00<00:00, 401.29it/s]\n"
          ]
        },
        {
          "output_type": "stream",
          "name": "stdout",
          "text": [
            "Epoch 16 elapsed: 0.790s\n"
          ]
        },
        {
          "output_type": "stream",
          "name": "stderr",
          "text": [
            "eval_listwise: 100%|██████████| 31/31 [00:00<00:00, 267.32it/s]\n"
          ]
        },
        {
          "output_type": "stream",
          "name": "stdout",
          "text": [
            "\t eval precision@10: 0.2721\n",
            "\t eval recall@10: 0.1719\n",
            "\t eval map@10: 0.4871\n",
            "\t eval ndcg@10: 0.6096\n",
            "==============================\n"
          ]
        },
        {
          "output_type": "stream",
          "name": "stderr",
          "text": [
            "pair_sampling train: 100%|██████████| 302/302 [00:00<00:00, 408.65it/s]\n"
          ]
        },
        {
          "output_type": "stream",
          "name": "stdout",
          "text": [
            "Epoch 17 elapsed: 0.778s\n"
          ]
        },
        {
          "output_type": "stream",
          "name": "stderr",
          "text": [
            "eval_listwise: 100%|██████████| 31/31 [00:00<00:00, 277.67it/s]\n"
          ]
        },
        {
          "output_type": "stream",
          "name": "stdout",
          "text": [
            "\t eval precision@10: 0.2754\n",
            "\t eval recall@10: 0.1745\n",
            "\t eval map@10: 0.4900\n",
            "\t eval ndcg@10: 0.6130\n",
            "==============================\n"
          ]
        },
        {
          "output_type": "stream",
          "name": "stderr",
          "text": [
            "pair_sampling train: 100%|██████████| 302/302 [00:00<00:00, 402.39it/s]\n"
          ]
        },
        {
          "output_type": "stream",
          "name": "stdout",
          "text": [
            "Epoch 18 elapsed: 0.789s\n"
          ]
        },
        {
          "output_type": "stream",
          "name": "stderr",
          "text": [
            "eval_listwise: 100%|██████████| 31/31 [00:00<00:00, 242.80it/s]\n"
          ]
        },
        {
          "output_type": "stream",
          "name": "stdout",
          "text": [
            "\t eval precision@10: 0.2782\n",
            "\t eval recall@10: 0.1772\n",
            "\t eval map@10: 0.4896\n",
            "\t eval ndcg@10: 0.6143\n",
            "==============================\n"
          ]
        },
        {
          "output_type": "stream",
          "name": "stderr",
          "text": [
            "pair_sampling train: 100%|██████████| 302/302 [00:00<00:00, 399.98it/s]\n"
          ]
        },
        {
          "output_type": "stream",
          "name": "stdout",
          "text": [
            "Epoch 19 elapsed: 0.792s\n"
          ]
        },
        {
          "output_type": "stream",
          "name": "stderr",
          "text": [
            "eval_listwise: 100%|██████████| 31/31 [00:00<00:00, 286.55it/s]\n"
          ]
        },
        {
          "output_type": "stream",
          "name": "stdout",
          "text": [
            "\t eval precision@10: 0.2805\n",
            "\t eval recall@10: 0.1787\n",
            "\t eval map@10: 0.4941\n",
            "\t eval ndcg@10: 0.6181\n",
            "==============================\n"
          ]
        },
        {
          "output_type": "stream",
          "name": "stderr",
          "text": [
            "pair_sampling train: 100%|██████████| 302/302 [00:00<00:00, 383.37it/s]\n"
          ]
        },
        {
          "output_type": "stream",
          "name": "stdout",
          "text": [
            "Epoch 20 elapsed: 0.830s\n"
          ]
        },
        {
          "output_type": "stream",
          "name": "stderr",
          "text": [
            "eval_listwise: 100%|██████████| 31/31 [00:00<00:00, 164.32it/s]\n"
          ]
        },
        {
          "output_type": "stream",
          "name": "stdout",
          "text": [
            "\t eval precision@10: 0.2813\n",
            "\t eval recall@10: 0.1792\n",
            "\t eval map@10: 0.4929\n",
            "\t eval ndcg@10: 0.6171\n",
            "==============================\n"
          ]
        },
        {
          "output_type": "stream",
          "name": "stderr",
          "text": [
            "eval_listwise: 100%|██████████| 135/135 [00:00<00:00, 842.80it/s]\n"
          ]
        },
        {
          "output_type": "stream",
          "name": "stdout",
          "text": [
            "Evaluation Results for BPR:\n",
            "{'precision': 0.2813361611876988, 'recall': 0.17917464781290038, 'map': 0.49289595070972897, 'ndcg': 0.6170735955532652}\n"
          ]
        }
      ],
      "id": "G2ite0KAND7B"
    },
    {
      "cell_type": "markdown",
      "source": [
        "#### Recommendations to users"
      ],
      "metadata": {
        "id": "-d_XzF_wND7D"
      },
      "id": "-d_XzF_wND7D"
    },
    {
      "cell_type": "code",
      "source": [
        "bpr=models['bpr']"
      ],
      "metadata": {
        "id": "9kbFOxpoND7E"
      },
      "execution_count": null,
      "outputs": [],
      "id": "9kbFOxpoND7E"
    },
    {
      "cell_type": "code",
      "source": [
        "userids=u_users[0]\n",
        "itemids=u_items[0]"
      ],
      "metadata": {
        "id": "OCZQWJkMND7E"
      },
      "execution_count": null,
      "outputs": [],
      "id": "OCZQWJkMND7E"
    },
    {
      "cell_type": "code",
      "source": [
        "print('recommendation user '+str(userids))\n",
        "results= recommend(bpr,1, 10)\n",
        "print(results)"
      ],
      "metadata": {
        "colab": {
          "base_uri": "https://localhost:8080/"
        },
        "outputId": "e07450d5-19a8-46da-a294-07bf87f8ad2c",
        "id": "qgx3HWinND7F"
      },
      "execution_count": null,
      "outputs": [
        {
          "output_type": "stream",
          "name": "stdout",
          "text": [
            "recommendation user 196\n",
            "{1: array([204, 172, 168, 195,   7,  79, 423, 216, 405,  28])}\n"
          ]
        }
      ],
      "id": "qgx3HWinND7F"
    },
    {
      "cell_type": "code",
      "source": [
        "print(\" 10 most similar items for item : \", similarItems(bpr,itemids, k=10))"
      ],
      "metadata": {
        "colab": {
          "base_uri": "https://localhost:8080/"
        },
        "outputId": "50175e0f-e1e4-45f5-a509-71a06604d277",
        "id": "XJE_-J3WND7F"
      },
      "execution_count": null,
      "outputs": [
        {
          "output_type": "stream",
          "name": "stdout",
          "text": [
            " 10 most similar items for item :  [306, 242, 303, 301, 690, 302, 300, 323, 750, 319]\n"
          ]
        }
      ],
      "id": "XJE_-J3WND7F"
    }
  ],
  "metadata": {
    "accelerator": "GPU",
    "colab": {
      "collapsed_sections": [
        "1ILJlOp2j64Y",
        "x7-kQ2uHgQHN",
        "JW1c4-822wY6"
      ],
      "machine_shape": "hm",
      "provenance": []
    },
    "gpuClass": "premium",
    "kernelspec": {
      "display_name": "Python 3 (ipykernel)",
      "language": "python",
      "name": "python3"
    },
    "language_info": {
      "codemirror_mode": {
        "name": "ipython",
        "version": 3
      },
      "file_extension": ".py",
      "mimetype": "text/x-python",
      "name": "python",
      "nbconvert_exporter": "python",
      "pygments_lexer": "ipython3",
      "version": "3.9.12"
    }
  },
  "nbformat": 4,
  "nbformat_minor": 5
}