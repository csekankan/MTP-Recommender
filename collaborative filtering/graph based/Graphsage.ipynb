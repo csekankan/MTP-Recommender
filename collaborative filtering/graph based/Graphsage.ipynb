{
  "cells": [
    {
      "cell_type": "markdown",
      "source": [
        "#Installation"
      ],
      "metadata": {
        "id": "1ILJlOp2j64Y"
      },
      "id": "1ILJlOp2j64Y"
    },
    {
      "cell_type": "code",
      "execution_count": null,
      "metadata": {
        "id": "XXB_1HlIKdFi",
        "colab": {
          "base_uri": "https://localhost:8080/"
        },
        "outputId": "116d84c7-4eaa-4e52-e778-ae07eb9637df"
      },
      "outputs": [
        {
          "output_type": "stream",
          "name": "stdout",
          "text": [
            "Looking in indexes: https://pypi.org/simple, https://us-python.pkg.dev/colab-wheels/public/simple/\n",
            "Requirement already satisfied: lightfm in /usr/local/lib/python3.8/dist-packages (1.16)\n",
            "Requirement already satisfied: scikit-learn in /usr/local/lib/python3.8/dist-packages (from lightfm) (1.2.1)\n",
            "Requirement already satisfied: requests in /usr/local/lib/python3.8/dist-packages (from lightfm) (2.25.1)\n",
            "Requirement already satisfied: scipy>=0.17.0 in /usr/local/lib/python3.8/dist-packages (from lightfm) (1.7.3)\n",
            "Requirement already satisfied: numpy in /usr/local/lib/python3.8/dist-packages (from lightfm) (1.22.0)\n",
            "Requirement already satisfied: idna<3,>=2.5 in /usr/local/lib/python3.8/dist-packages (from requests->lightfm) (2.10)\n",
            "Requirement already satisfied: certifi>=2017.4.17 in /usr/local/lib/python3.8/dist-packages (from requests->lightfm) (2022.12.7)\n",
            "Requirement already satisfied: urllib3<1.27,>=1.21.1 in /usr/local/lib/python3.8/dist-packages (from requests->lightfm) (1.24.3)\n",
            "Requirement already satisfied: chardet<5,>=3.0.2 in /usr/local/lib/python3.8/dist-packages (from requests->lightfm) (4.0.0)\n",
            "Requirement already satisfied: joblib>=1.1.1 in /usr/local/lib/python3.8/dist-packages (from scikit-learn->lightfm) (1.2.0)\n",
            "Requirement already satisfied: threadpoolctl>=2.0.0 in /usr/local/lib/python3.8/dist-packages (from scikit-learn->lightfm) (3.1.0)\n",
            "Traceback (most recent call last):\n",
            "  File \"/usr/local/lib/python3.8/dist-packages/pip/_vendor/pkg_resources/__init__.py\", line 3021, in _dep_map\n",
            "    return self.__dep_map\n",
            "  File \"/usr/local/lib/python3.8/dist-packages/pip/_vendor/pkg_resources/__init__.py\", line 2815, in __getattr__\n",
            "    raise AttributeError(attr)\n",
            "AttributeError: _DistInfoDistribution__dep_map\n",
            "\n",
            "During handling of the above exception, another exception occurred:\n",
            "\n",
            "Traceback (most recent call last):\n",
            "  File \"/usr/local/lib/python3.8/dist-packages/pip/_internal/cli/base_command.py\", line 167, in exc_logging_wrapper\n",
            "    status = run_func(*args)\n",
            "  File \"/usr/local/lib/python3.8/dist-packages/pip/_internal/cli/req_command.py\", line 199, in wrapper\n",
            "    return func(self, options, args)\n",
            "  File \"/usr/local/lib/python3.8/dist-packages/pip/_internal/commands/install.py\", line 397, in run\n",
            "    conflicts = self._determine_conflicts(to_install)\n",
            "  File \"/usr/local/lib/python3.8/dist-packages/pip/_internal/commands/install.py\", line 529, in _determine_conflicts\n",
            "    return check_install_conflicts(to_install)\n",
            "  File \"/usr/local/lib/python3.8/dist-packages/pip/_internal/operations/check.py\", line 101, in check_install_conflicts\n",
            "    package_set, _ = create_package_set_from_installed()\n",
            "  File \"/usr/local/lib/python3.8/dist-packages/pip/_internal/operations/check.py\", line 42, in create_package_set_from_installed\n",
            "    dependencies = list(dist.iter_dependencies())\n",
            "  File \"/usr/local/lib/python3.8/dist-packages/pip/_internal/metadata/pkg_resources.py\", line 202, in iter_dependencies\n",
            "    return self._dist.requires(extras)\n",
            "  File \"/usr/local/lib/python3.8/dist-packages/pip/_vendor/pkg_resources/__init__.py\", line 2736, in requires\n",
            "    dm = self._dep_map\n",
            "  File \"/usr/local/lib/python3.8/dist-packages/pip/_vendor/pkg_resources/__init__.py\", line 3023, in _dep_map\n",
            "    self.__dep_map = self._compute_dependencies()\n",
            "  File \"/usr/local/lib/python3.8/dist-packages/pip/_vendor/pkg_resources/__init__.py\", line 3033, in _compute_dependencies\n",
            "    reqs.extend(parse_requirements(req))\n",
            "  File \"/usr/local/lib/python3.8/dist-packages/pip/_vendor/pkg_resources/__init__.py\", line 3094, in parse_requirements\n",
            "    yield Requirement(line)\n",
            "  File \"/usr/local/lib/python3.8/dist-packages/pip/_vendor/pkg_resources/__init__.py\", line 3101, in __init__\n",
            "    super(Requirement, self).__init__(requirement_string)\n",
            "  File \"/usr/local/lib/python3.8/dist-packages/pip/_vendor/packaging/requirements.py\", line 102, in __init__\n",
            "    req = REQUIREMENT.parseString(requirement_string)\n",
            "  File \"/usr/local/lib/python3.8/dist-packages/pip/_vendor/pyparsing/core.py\", line 1124, in parse_string\n",
            "    loc, tokens = self._parse(instring, 0)\n",
            "  File \"/usr/local/lib/python3.8/dist-packages/pip/_vendor/pyparsing/core.py\", line 810, in _parseNoCache\n",
            "    loc, tokens = self.parseImpl(instring, pre_loc, doActions)\n",
            "  File \"/usr/local/lib/python3.8/dist-packages/pip/_vendor/pyparsing/core.py\", line 3863, in parseImpl\n",
            "    loc, exprtokens = e._parse(instring, loc, doActions)\n",
            "  File \"/usr/local/lib/python3.8/dist-packages/pip/_vendor/pyparsing/core.py\", line 810, in _parseNoCache\n",
            "    loc, tokens = self.parseImpl(instring, pre_loc, doActions)\n",
            "  File \"/usr/local/lib/python3.8/dist-packages/pip/_vendor/pyparsing/core.py\", line 4091, in parseImpl\n",
            "    return e._parse(\n",
            "  File \"/usr/local/lib/python3.8/dist-packages/pip/_vendor/pyparsing/core.py\", line 810, in _parseNoCache\n",
            "    loc, tokens = self.parseImpl(instring, pre_loc, doActions)\n",
            "  File \"/usr/local/lib/python3.8/dist-packages/pip/_vendor/pyparsing/core.py\", line 3841, in parseImpl\n",
            "    loc, resultlist = self.exprs[0]._parse(\n",
            "  File \"/usr/local/lib/python3.8/dist-packages/pip/_vendor/pyparsing/core.py\", line 810, in _parseNoCache\n",
            "    loc, tokens = self.parseImpl(instring, pre_loc, doActions)\n",
            "  File \"/usr/local/lib/python3.8/dist-packages/pip/_vendor/pyparsing/core.py\", line 3863, in parseImpl\n",
            "    loc, exprtokens = e._parse(instring, loc, doActions)\n",
            "  File \"/usr/local/lib/python3.8/dist-packages/pip/_vendor/pyparsing/core.py\", line 810, in _parseNoCache\n",
            "    loc, tokens = self.parseImpl(instring, pre_loc, doActions)\n",
            "  File \"/usr/local/lib/python3.8/dist-packages/pip/_vendor/pyparsing/core.py\", line 4936, in parseImpl\n",
            "    loc, tokens = self_expr._parse(instring, loc, doActions, callPreParse=False)\n",
            "  File \"/usr/local/lib/python3.8/dist-packages/pip/_vendor/pyparsing/core.py\", line 810, in _parseNoCache\n",
            "    loc, tokens = self.parseImpl(instring, pre_loc, doActions)\n",
            "  File \"/usr/local/lib/python3.8/dist-packages/pip/_vendor/pyparsing/core.py\", line 4091, in parseImpl\n",
            "    return e._parse(\n",
            "  File \"/usr/local/lib/python3.8/dist-packages/pip/_vendor/pyparsing/core.py\", line 810, in _parseNoCache\n",
            "    loc, tokens = self.parseImpl(instring, pre_loc, doActions)\n",
            "  File \"/usr/local/lib/python3.8/dist-packages/pip/_vendor/pyparsing/core.py\", line 3863, in parseImpl\n",
            "    loc, exprtokens = e._parse(instring, loc, doActions)\n",
            "  File \"/usr/local/lib/python3.8/dist-packages/pip/_vendor/pyparsing/core.py\", line 810, in _parseNoCache\n",
            "    loc, tokens = self.parseImpl(instring, pre_loc, doActions)\n",
            "  File \"/usr/local/lib/python3.8/dist-packages/pip/_vendor/pyparsing/core.py\", line 4352, in parseImpl\n",
            "    return self.expr._parse(instring, loc, doActions, callPreParse=False)\n",
            "  File \"/usr/local/lib/python3.8/dist-packages/pip/_vendor/pyparsing/core.py\", line 810, in _parseNoCache\n",
            "    loc, tokens = self.parseImpl(instring, pre_loc, doActions)\n",
            "  File \"/usr/local/lib/python3.8/dist-packages/pip/_vendor/pyparsing/core.py\", line 3841, in parseImpl\n",
            "    loc, resultlist = self.exprs[0]._parse(\n",
            "  File \"/usr/local/lib/python3.8/dist-packages/pip/_vendor/pyparsing/core.py\", line 810, in _parseNoCache\n",
            "    loc, tokens = self.parseImpl(instring, pre_loc, doActions)\n",
            "  File \"/usr/local/lib/python3.8/dist-packages/pip/_vendor/pyparsing/core.py\", line 3935, in parseImpl\n",
            "    loc2 = e.try_parse(instring, loc, raise_fatal=True)\n",
            "  File \"/usr/local/lib/python3.8/dist-packages/pip/_vendor/pyparsing/core.py\", line 873, in try_parse\n",
            "    return self._parse(instring, loc, doActions=False)[0]\n",
            "  File \"/usr/local/lib/python3.8/dist-packages/pip/_vendor/pyparsing/core.py\", line 814, in _parseNoCache\n",
            "    loc, tokens = self.parseImpl(instring, pre_loc, doActions)\n",
            "  File \"/usr/local/lib/python3.8/dist-packages/pip/_vendor/pyparsing/core.py\", line 2975, in parseImpl\n",
            "    ret[k] = v\n",
            "  File \"/usr/local/lib/python3.8/dist-packages/pip/_vendor/pyparsing/results.py\", line 201, in __setitem__\n",
            "    if isinstance(v, _ParseResultsWithOffset):\n",
            "KeyboardInterrupt\n",
            "\n",
            "During handling of the above exception, another exception occurred:\n",
            "\n",
            "Traceback (most recent call last):\n",
            "  File \"/usr/local/bin/pip3\", line 8, in <module>\n",
            "    sys.exit(main())\n",
            "  File \"/usr/local/lib/python3.8/dist-packages/pip/_internal/cli/main.py\", line 70, in main\n",
            "    return command.main(cmd_args)\n",
            "  File \"/usr/local/lib/python3.8/dist-packages/pip/_internal/cli/base_command.py\", line 101, in main\n",
            "    return self._main(args)\n",
            "  File \"/usr/local/lib/python3.8/dist-packages/pip/_internal/cli/base_command.py\", line 221, in _main\n",
            "    return run(options, args)\n",
            "  File \"/usr/local/lib/python3.8/dist-packages/pip/_internal/cli/base_command.py\", line 204, in exc_logging_wrapper\n",
            "    logger.critical(\"Operation cancelled by user\")\n",
            "  File \"/usr/lib/python3.8/logging/__init__.py\", line 1493, in critical\n",
            "    self._log(CRITICAL, msg, args, **kwargs)\n",
            "  File \"/usr/lib/python3.8/logging/__init__.py\", line 1587, in _log\n",
            "    record = self.makeRecord(self.name, level, fn, lno, msg, args,\n",
            "  File \"/usr/lib/python3.8/logging/__init__.py\", line 1556, in makeRecord\n",
            "    rv = _logRecordFactory(name, level, fn, lno, msg, args, exc_info, func,\n",
            "  File \"/usr/lib/python3.8/logging/__init__.py\", line 322, in __init__\n",
            "    self.filename = os.path.basename(pathname)\n",
            "KeyboardInterrupt\n",
            "^C\n",
            "Looking in indexes: https://pypi.org/simple, https://us-python.pkg.dev/colab-wheels/public/simple/\n",
            "Requirement already satisfied: gdown in /usr/local/lib/python3.8/dist-packages (4.4.0)\n",
            "Requirement already satisfied: tqdm in /usr/local/lib/python3.8/dist-packages (from gdown) (4.64.1)\n",
            "Requirement already satisfied: six in /usr/local/lib/python3.8/dist-packages (from gdown) (1.15.0)\n",
            "Requirement already satisfied: filelock in /usr/local/lib/python3.8/dist-packages (from gdown) (3.9.0)\n",
            "Requirement already satisfied: requests[socks] in /usr/local/lib/python3.8/dist-packages (from gdown) (2.25.1)\n",
            "Requirement already satisfied: beautifulsoup4 in /usr/local/lib/python3.8/dist-packages (from gdown) (4.6.3)\n",
            "Requirement already satisfied: urllib3<1.27,>=1.21.1 in /usr/local/lib/python3.8/dist-packages (from requests[socks]->gdown) (1.24.3)\n",
            "Requirement already satisfied: certifi>=2017.4.17 in /usr/local/lib/python3.8/dist-packages (from requests[socks]->gdown) (2022.12.7)\n",
            "Requirement already satisfied: chardet<5,>=3.0.2 in /usr/local/lib/python3.8/dist-packages (from requests[socks]->gdown) (4.0.0)\n",
            "Requirement already satisfied: idna<3,>=2.5 in /usr/local/lib/python3.8/dist-packages (from requests[socks]->gdown) (2.10)\n",
            "Requirement already satisfied: PySocks!=1.5.7,>=1.5.6 in /usr/local/lib/python3.8/dist-packages (from requests[socks]->gdown) (1.7.1)\n",
            "Traceback (most recent call last):\n",
            "  File \"/usr/local/lib/python3.8/dist-packages/pip/_vendor/pkg_resources/__init__.py\", line 3021, in _dep_map\n",
            "    return self.__dep_map\n",
            "  File \"/usr/local/lib/python3.8/dist-packages/pip/_vendor/pkg_resources/__init__.py\", line 2815, in __getattr__\n",
            "    raise AttributeError(attr)\n",
            "AttributeError: _DistInfoDistribution__dep_map\n",
            "\n",
            "During handling of the above exception, another exception occurred:\n",
            "\n",
            "Traceback (most recent call last):\n",
            "  File \"/usr/local/lib/python3.8/dist-packages/pip/_internal/cli/base_command.py\", line 167, in exc_logging_wrapper\n",
            "    status = run_func(*args)\n",
            "  File \"/usr/local/lib/python3.8/dist-packages/pip/_internal/cli/req_command.py\", line 199, in wrapper\n",
            "    return func(self, options, args)\n",
            "  File \"/usr/local/lib/python3.8/dist-packages/pip/_internal/commands/install.py\", line 397, in run\n",
            "    conflicts = self._determine_conflicts(to_install)\n",
            "  File \"/usr/local/lib/python3.8/dist-packages/pip/_internal/commands/install.py\", line 529, in _determine_conflicts\n",
            "    return check_install_conflicts(to_install)\n",
            "  File \"/usr/local/lib/python3.8/dist-packages/pip/_internal/operations/check.py\", line 101, in check_install_conflicts\n",
            "    package_set, _ = create_package_set_from_installed()\n",
            "  File \"/usr/local/lib/python3.8/dist-packages/pip/_internal/operations/check.py\", line 42, in create_package_set_from_installed\n",
            "    dependencies = list(dist.iter_dependencies())\n",
            "  File \"/usr/local/lib/python3.8/dist-packages/pip/_internal/metadata/pkg_resources.py\", line 202, in iter_dependencies\n",
            "    return self._dist.requires(extras)\n",
            "  File \"/usr/local/lib/python3.8/dist-packages/pip/_vendor/pkg_resources/__init__.py\", line 2736, in requires\n",
            "    dm = self._dep_map\n",
            "  File \"/usr/local/lib/python3.8/dist-packages/pip/_vendor/pkg_resources/__init__.py\", line 3023, in _dep_map\n",
            "    self.__dep_map = self._compute_dependencies()\n",
            "  File \"/usr/local/lib/python3.8/dist-packages/pip/_vendor/pkg_resources/__init__.py\", line 3033, in _compute_dependencies\n",
            "    reqs.extend(parse_requirements(req))\n",
            "  File \"/usr/local/lib/python3.8/dist-packages/pip/_vendor/pkg_resources/__init__.py\", line 3094, in parse_requirements\n",
            "    yield Requirement(line)\n",
            "  File \"/usr/local/lib/python3.8/dist-packages/pip/_vendor/pkg_resources/__init__.py\", line 3101, in __init__\n",
            "    super(Requirement, self).__init__(requirement_string)\n",
            "KeyboardInterrupt\n",
            "\n",
            "During handling of the above exception, another exception occurred:\n",
            "\n",
            "Traceback (most recent call last):\n",
            "  File \"/usr/local/bin/pip3\", line 8, in <module>\n",
            "    sys.exit(main())\n",
            "  File \"/usr/local/lib/python3.8/dist-packages/pip/_internal/cli/main.py\", line 70, in main\n",
            "    return command.main(cmd_args)\n",
            "  File \"/usr/local/lib/python3.8/dist-packages/pip/_internal/cli/base_command.py\", line 101, in main\n",
            "    return self._main(args)\n",
            "  File \"/usr/local/lib/python3.8/dist-packages/pip/_internal/cli/base_command.py\", line 221, in _main\n",
            "    return run(options, args)\n",
            "  File \"/usr/local/lib/python3.8/dist-packages/pip/_internal/cli/base_command.py\", line 204, in exc_logging_wrapper\n",
            "    logger.critical(\"Operation cancelled by user\")\n",
            "  File \"/usr/lib/python3.8/logging/__init__.py\", line 1493, in critical\n",
            "    self._log(CRITICAL, msg, args, **kwargs)\n",
            "  File \"/usr/lib/python3.8/logging/__init__.py\", line 1577, in _log\n",
            "    fn, lno, func, sinfo = self.findCaller(stack_info, stacklevel)\n",
            "  File \"/usr/lib/python3.8/logging/__init__.py\", line 1519, in findCaller\n",
            "    f = currentframe()\n",
            "KeyboardInterrupt\n",
            "^C\n",
            "Traceback (most recent call last):\n",
            "  File \"/usr/local/bin/pip3\", line 5, in <module>\n",
            "    from pip._internal.cli.main import main\n",
            "  File \"/usr/local/lib/python3.8/dist-packages/pip/_internal/cli/main.py\", line 9, in <module>\n",
            "    from pip._internal.cli.autocompletion import autocomplete\n",
            "  File \"/usr/local/lib/python3.8/dist-packages/pip/_internal/cli/autocompletion.py\", line 10, in <module>\n",
            "    from pip._internal.cli.main_parser import create_main_parser\n",
            "  File \"/usr/local/lib/python3.8/dist-packages/pip/_internal/cli/main_parser.py\", line 8, in <module>\n",
            "    from pip._internal.cli import cmdoptions\n",
            "  File \"/usr/local/lib/python3.8/dist-packages/pip/_internal/cli/cmdoptions.py\", line 23, in <module>\n",
            "    from pip._internal.cli.parser import ConfigOptionParser\n",
            "  File \"/usr/local/lib/python3.8/dist-packages/pip/_internal/cli/parser.py\", line 12, in <module>\n",
            "    from pip._internal.configuration import Configuration, ConfigurationError\n",
            "  File \"/usr/local/lib/python3.8/dist-packages/pip/_internal/configuration.py\", line 20, in <module>\n",
            "    from pip._internal.exceptions import (\n",
            "  File \"/usr/local/lib/python3.8/dist-packages/pip/_internal/exceptions.py\", line 13, in <module>\n",
            "    from pip._vendor.requests.models import Request, Response\n",
            "  File \"/usr/local/lib/python3.8/dist-packages/pip/_vendor/requests/__init__.py\", line 45, in <module>\n",
            "    from .exceptions import RequestsDependencyWarning\n",
            "  File \"/usr/local/lib/python3.8/dist-packages/pip/_vendor/requests/exceptions.py\", line 11, in <module>\n",
            "    from .compat import JSONDecodeError as CompatJSONDecodeError\n",
            "  File \"/usr/local/lib/python3.8/dist-packages/pip/_vendor/requests/compat.py\", line 11, in <module>\n",
            "    from pip._vendor import chardet\n",
            "  File \"/usr/local/lib/python3.8/dist-packages/pip/_vendor/chardet/__init__.py\", line 19, in <module>\n",
            "    from .universaldetector import UniversalDetector\n",
            "  File \"/usr/local/lib/python3.8/dist-packages/pip/_vendor/chardet/universaldetector.py\", line 48, in <module>\n",
            "    from .sbcsgroupprober import SBCSGroupProber\n",
            "  File \"/usr/local/lib/python3.8/dist-packages/pip/_vendor/chardet/sbcsgroupprober.py\", line 31, in <module>\n",
            "    from .langbulgarianmodel import (ISO_8859_5_BULGARIAN_MODEL,\n",
            "  File \"/usr/local/lib/python3.8/dist-packages/pip/_vendor/chardet/langbulgarianmodel.py\", line 4, in <module>\n",
            "    from pip._vendor.chardet.sbcharsetprober import SingleByteCharSetModel\n",
            "  File \"/usr/local/lib/python3.8/dist-packages/pip/_vendor/chardet/sbcharsetprober.py\", line 35, in <module>\n",
            "    SingleByteCharSetModel = namedtuple('SingleByteCharSetModel',\n",
            "  File \"/usr/lib/python3.8/collections/__init__.py\", line 394, in namedtuple\n",
            "    exec(s, namespace)\n",
            "  File \"<string>\", line 1, in <module>\n",
            "KeyboardInterrupt\n",
            "^C\n",
            "Looking in indexes: https://pypi.org/simple, https://us-python.pkg.dev/colab-wheels/public/simple/\n",
            "Requirement already satisfied: rankfm in /usr/local/lib/python3.8/dist-packages (0.2.5)\n",
            "Requirement already satisfied: pandas>=0.24 in /usr/local/lib/python3.8/dist-packages (from rankfm) (1.3.5)\n",
            "Requirement already satisfied: numpy>=1.15 in /usr/local/lib/python3.8/dist-packages (from rankfm) (1.22.0)\n",
            "Requirement already satisfied: pytz>=2017.3 in /usr/local/lib/python3.8/dist-packages (from pandas>=0.24->rankfm) (2022.7.1)\n",
            "Requirement already satisfied: python-dateutil>=2.7.3 in /usr/local/lib/python3.8/dist-packages (from pandas>=0.24->rankfm) (2.8.2)\n",
            "Requirement already satisfied: six>=1.5 in /usr/local/lib/python3.8/dist-packages (from python-dateutil>=2.7.3->pandas>=0.24->rankfm) (1.15.0)\n",
            "Traceback (most recent call last):\n",
            "  File \"/usr/local/lib/python3.8/dist-packages/pip/_vendor/pkg_resources/__init__.py\", line 3021, in _dep_map\n",
            "    return self.__dep_map\n",
            "  File \"/usr/local/lib/python3.8/dist-packages/pip/_vendor/pkg_resources/__init__.py\", line 2815, in __getattr__\n",
            "    raise AttributeError(attr)\n",
            "AttributeError: _DistInfoDistribution__dep_map\n",
            "\n",
            "During handling of the above exception, another exception occurred:\n",
            "\n",
            "Traceback (most recent call last):\n",
            "  File \"/usr/local/lib/python3.8/dist-packages/pip/_internal/cli/base_command.py\", line 167, in exc_logging_wrapper\n",
            "    status = run_func(*args)\n",
            "  File \"/usr/local/lib/python3.8/dist-packages/pip/_internal/cli/req_command.py\", line 199, in wrapper\n",
            "    return func(self, options, args)\n",
            "  File \"/usr/local/lib/python3.8/dist-packages/pip/_internal/commands/install.py\", line 397, in run\n",
            "    conflicts = self._determine_conflicts(to_install)\n",
            "  File \"/usr/local/lib/python3.8/dist-packages/pip/_internal/commands/install.py\", line 529, in _determine_conflicts\n",
            "    return check_install_conflicts(to_install)\n",
            "  File \"/usr/local/lib/python3.8/dist-packages/pip/_internal/operations/check.py\", line 101, in check_install_conflicts\n",
            "    package_set, _ = create_package_set_from_installed()\n",
            "  File \"/usr/local/lib/python3.8/dist-packages/pip/_internal/operations/check.py\", line 42, in create_package_set_from_installed\n",
            "    dependencies = list(dist.iter_dependencies())\n",
            "  File \"/usr/local/lib/python3.8/dist-packages/pip/_internal/metadata/pkg_resources.py\", line 202, in iter_dependencies\n",
            "    return self._dist.requires(extras)\n",
            "  File \"/usr/local/lib/python3.8/dist-packages/pip/_vendor/pkg_resources/__init__.py\", line 2736, in requires\n",
            "    dm = self._dep_map\n",
            "  File \"/usr/local/lib/python3.8/dist-packages/pip/_vendor/pkg_resources/__init__.py\", line 3023, in _dep_map\n",
            "    self.__dep_map = self._compute_dependencies()\n",
            "  File \"/usr/local/lib/python3.8/dist-packages/pip/_vendor/pkg_resources/__init__.py\", line 3045, in _compute_dependencies\n",
            "    dm[s_extra] = list(frozenset(reqs_for_extra(extra)) - common)\n",
            "  File \"/usr/local/lib/python3.8/dist-packages/pip/_vendor/pkg_resources/__init__.py\", line 3037, in reqs_for_extra\n",
            "    if not req.marker or req.marker.evaluate({'extra': extra}):\n",
            "  File \"/usr/local/lib/python3.8/dist-packages/pip/_vendor/packaging/markers.py\", line 304, in evaluate\n",
            "    return _evaluate_markers(self._markers, current_environment)\n",
            "  File \"/usr/local/lib/python3.8/dist-packages/pip/_vendor/packaging/markers.py\", line 240, in _evaluate_markers\n",
            "    groups[-1].append(_eval_op(lhs_value, op, rhs_value))\n",
            "  File \"/usr/local/lib/python3.8/dist-packages/pip/_vendor/packaging/markers.py\", line 197, in _eval_op\n",
            "    oper: Optional[Operator] = _operators.get(op.serialize())\n",
            "  File \"/usr/local/lib/python3.8/dist-packages/pip/_vendor/packaging/markers.py\", line 81, in serialize\n",
            "    return str(self)\n",
            "  File \"/usr/local/lib/python3.8/dist-packages/pip/_vendor/packaging/markers.py\", line 60, in __str__\n",
            "    return str(self.value)\n",
            "KeyboardInterrupt\n",
            "\n",
            "During handling of the above exception, another exception occurred:\n",
            "\n",
            "Traceback (most recent call last):\n",
            "  File \"/usr/local/bin/pip3\", line 8, in <module>\n",
            "    sys.exit(main())\n",
            "  File \"/usr/local/lib/python3.8/dist-packages/pip/_internal/cli/main.py\", line 70, in main\n",
            "    return command.main(cmd_args)\n",
            "  File \"/usr/local/lib/python3.8/dist-packages/pip/_internal/cli/base_command.py\", line 101, in main\n",
            "    return self._main(args)\n",
            "  File \"/usr/local/lib/python3.8/dist-packages/pip/_internal/cli/base_command.py\", line 221, in _main\n",
            "    return run(options, args)\n",
            "  File \"/usr/local/lib/python3.8/dist-packages/pip/_internal/cli/base_command.py\", line 190, in exc_logging_wrapper\n",
            "    except CommandError as exc:\n",
            "KeyboardInterrupt\n",
            "^C\n",
            "Looking in indexes: https://pypi.org/simple, https://us-python.pkg.dev/colab-wheels/public/simple/\n",
            "Requirement already satisfied: scikit-learn in /usr/local/lib/python3.8/dist-packages (1.2.1)\n",
            "Requirement already satisfied: threadpoolctl>=2.0.0 in /usr/local/lib/python3.8/dist-packages (from scikit-learn) (3.1.0)\n",
            "Requirement already satisfied: joblib>=1.1.1 in /usr/local/lib/python3.8/dist-packages (from scikit-learn) (1.2.0)\n",
            "Requirement already satisfied: scipy>=1.3.2 in /usr/local/lib/python3.8/dist-packages (from scikit-learn) (1.7.3)\n",
            "Requirement already satisfied: numpy>=1.17.3 in /usr/local/lib/python3.8/dist-packages (from scikit-learn) (1.22.0)\n"
          ]
        }
      ],
      "source": [
        "!pip install lightfm\n",
        "!pip install gdown\n",
        "!pip install recommenders\n",
        "!pip install rankfm\n",
        "!pip install -U scikit-learn\n",
        "!pip install tf_slim\n",
        "!pip install numpy==1.22\n",
        "!pip install LibRecommender\n",
        "!pip install implicit\n"
      ],
      "id": "XXB_1HlIKdFi"
    },
    {
      "cell_type": "code",
      "source": [
        "import os\n",
        "os.kill(os.getpid(), 9)"
      ],
      "metadata": {
        "id": "bhIJ0xYh2YXz"
      },
      "id": "bhIJ0xYh2YXz",
      "execution_count": null,
      "outputs": []
    },
    {
      "cell_type": "markdown",
      "source": [
        "# Data Loading"
      ],
      "metadata": {
        "id": "JW1c4-822wY6"
      },
      "id": "JW1c4-822wY6"
    },
    {
      "cell_type": "code",
      "execution_count": null,
      "metadata": {
        "id": "d6266078"
      },
      "outputs": [],
      "source": [
        "\n",
        "import pandas as pd\n",
        "import os\n",
        "from os.path import exists\n",
        "import zipfile\n",
        "import numpy as np\n",
        "from datetime import datetime"
      ],
      "id": "d6266078"
    },
    {
      "cell_type": "code",
      "execution_count": null,
      "metadata": {
        "id": "cxXmZMhNL4vi"
      },
      "outputs": [],
      "source": [
        "SEED=42"
      ],
      "id": "cxXmZMhNL4vi"
    },
    {
      "cell_type": "code",
      "source": [
        "# !gdown https://drive.google.com/uc?id=1kl65YOvoSAMSgszQQbua2q4Zwe1HgPct\n",
        "# !unzip -o \"data.zip\"  -d  \"/content\"\n",
        "\n",
        "# movie_10k_df = pd.read_csv(\"movies_min.csv\")\n",
        "# amazon_df =pd.read_csv('amazon_min.csv')\n",
        "# book_df=pd.read_csv(\"book_min.csv\")\n",
        "# food_df = pd.read_csv('food_min.csv')\n",
        "# ecommerce_df=pd.read_csv('ecom_min.csv')\n",
        "# ciao_df=pd.read_csv('ciao_min.csv')"
      ],
      "metadata": {
        "id": "_1KEOjziTrPY"
      },
      "execution_count": null,
      "outputs": [],
      "id": "_1KEOjziTrPY"
    },
    {
      "cell_type": "code",
      "source": [
        "TIMESTAMP=None"
      ],
      "metadata": {
        "id": "grEEvzijoj2y"
      },
      "id": "grEEvzijoj2y",
      "execution_count": null,
      "outputs": []
    },
    {
      "cell_type": "code",
      "source": [
        "!pip install gdown"
      ],
      "metadata": {
        "colab": {
          "base_uri": "https://localhost:8080/"
        },
        "id": "W_txSB5TVaPm",
        "outputId": "82680b50-acf9-4177-a523-6fc4d046609a"
      },
      "id": "W_txSB5TVaPm",
      "execution_count": null,
      "outputs": [
        {
          "output_type": "stream",
          "name": "stdout",
          "text": [
            "Looking in indexes: https://pypi.org/simple, https://us-python.pkg.dev/colab-wheels/public/simple/\n",
            "Requirement already satisfied: gdown in /usr/local/lib/python3.8/dist-packages (4.4.0)\n",
            "Requirement already satisfied: filelock in /usr/local/lib/python3.8/dist-packages (from gdown) (3.9.0)\n",
            "Requirement already satisfied: six in /usr/local/lib/python3.8/dist-packages (from gdown) (1.15.0)\n",
            "Requirement already satisfied: tqdm in /usr/local/lib/python3.8/dist-packages (from gdown) (4.64.1)\n",
            "Requirement already satisfied: beautifulsoup4 in /usr/local/lib/python3.8/dist-packages (from gdown) (4.6.3)\n",
            "Requirement already satisfied: requests[socks] in /usr/local/lib/python3.8/dist-packages (from gdown) (2.25.1)\n",
            "Requirement already satisfied: urllib3<1.27,>=1.21.1 in /usr/local/lib/python3.8/dist-packages (from requests[socks]->gdown) (1.24.3)\n",
            "Requirement already satisfied: certifi>=2017.4.17 in /usr/local/lib/python3.8/dist-packages (from requests[socks]->gdown) (2022.12.7)\n",
            "Requirement already satisfied: chardet<5,>=3.0.2 in /usr/local/lib/python3.8/dist-packages (from requests[socks]->gdown) (4.0.0)\n",
            "Requirement already satisfied: idna<3,>=2.5 in /usr/local/lib/python3.8/dist-packages (from requests[socks]->gdown) (2.10)\n",
            "Requirement already satisfied: PySocks!=1.5.7,>=1.5.6 in /usr/local/lib/python3.8/dist-packages (from requests[socks]->gdown) (1.7.1)\n"
          ]
        }
      ]
    },
    {
      "cell_type": "code",
      "source": [
        "!gdown https://drive.google.com/uc?id=1kl65YOvoSAMSgszQQbua2q4Zwe1HgPct"
      ],
      "metadata": {
        "colab": {
          "base_uri": "https://localhost:8080/"
        },
        "outputId": "79106a06-5f34-4a32-8580-b0311f7df438",
        "id": "0o7YlmpsVYwO"
      },
      "execution_count": null,
      "outputs": [
        {
          "output_type": "stream",
          "name": "stdout",
          "text": [
            "Downloading...\n",
            "From: https://drive.google.com/uc?id=1kl65YOvoSAMSgszQQbua2q4Zwe1HgPct\n",
            "To: /content/data.zip\n",
            "\r  0% 0.00/4.16M [00:00<?, ?B/s]\r100% 4.16M/4.16M [00:00<00:00, 287MB/s]\n"
          ]
        }
      ],
      "id": "0o7YlmpsVYwO"
    },
    {
      "cell_type": "code",
      "source": [
        "!unzip -o \"data.zip\"  -d  \"/content\""
      ],
      "metadata": {
        "colab": {
          "base_uri": "https://localhost:8080/"
        },
        "id": "TtZEDi2_JS0Z",
        "outputId": "04641f93-cf03-4b2c-ef4e-7743f0178704"
      },
      "execution_count": null,
      "outputs": [
        {
          "output_type": "stream",
          "name": "stdout",
          "text": [
            "Archive:  data.zip\n",
            "  inflating: /content/amazon_min.csv  \n",
            "  inflating: /content/book_min.csv   \n",
            "  inflating: /content/ciao_min.csv   \n",
            "  inflating: /content/ecom_min.csv   \n",
            "  inflating: /content/food_min.csv   \n",
            "  inflating: /content/movies_min.csv  \n"
          ]
        }
      ],
      "id": "TtZEDi2_JS0Z"
    },
    {
      "cell_type": "markdown",
      "source": [
        "#### Name of the file where user item interaction data avaiable?\n",
        "- Column name should be in following name and order\n",
        "- [ **itemID, userID , rating , timestamp** ]\n",
        "- No issue if there is no column for **timestamp**"
      ],
      "metadata": {
        "id": "xR4W7kxwlOmR"
      },
      "id": "xR4W7kxwlOmR"
    },
    {
      "cell_type": "code",
      "source": [
        "filename=\"movies_min.csv\" #enter your filename with file path"
      ],
      "metadata": {
        "id": "kGGBiQ8ylH4R"
      },
      "id": "kGGBiQ8ylH4R",
      "execution_count": null,
      "outputs": []
    },
    {
      "cell_type": "markdown",
      "source": [
        "##### Run below cell"
      ],
      "metadata": {
        "id": "DvQzh9z6osMg"
      },
      "id": "DvQzh9z6osMg"
    },
    {
      "cell_type": "code",
      "source": [
        "rating_df = pd.read_csv(filename)\n"
      ],
      "metadata": {
        "id": "rN0wIx5UovIr"
      },
      "id": "rN0wIx5UovIr",
      "execution_count": null,
      "outputs": []
    },
    {
      "cell_type": "code",
      "source": [
        "NUM_OF_COLS=rating_df.shape[1]\n"
      ],
      "metadata": {
        "id": "eus_HRMwlJva"
      },
      "id": "eus_HRMwlJva",
      "execution_count": null,
      "outputs": []
    },
    {
      "cell_type": "code",
      "source": [
        "import time \n",
        "if  'timestamp' in rating_df.columns:\n",
        "  rating_df =rating_df[[ 'userID', 'itemID', 'rating','timestamp']]\n",
        "  rating_df.columns =[ 'userID', 'itemID', 'rating','timestamp']\n",
        "else:\n",
        "\n",
        "  obj = time.gmtime(0)\n",
        "  epoch = time.asctime(obj)\n",
        "  curr_time = round(time.time()*1000)\n",
        "  rating_df['timestamp']=curr_time\n",
        "  rating_df =rating_df[[ 'userID', 'itemID', 'rating','timestamp']]\n",
        "  rating_df.columns =[ 'userID', 'itemID', 'rating','timestamp']"
      ],
      "metadata": {
        "id": "QuETNcoErhSC"
      },
      "id": "QuETNcoErhSC",
      "execution_count": null,
      "outputs": []
    },
    {
      "cell_type": "code",
      "source": [
        "u_users=list(rating_df.userID.unique())"
      ],
      "metadata": {
        "id": "sec4UR3BcYxw"
      },
      "execution_count": null,
      "outputs": [],
      "id": "sec4UR3BcYxw"
    },
    {
      "cell_type": "code",
      "source": [
        "u_items=list(rating_df.itemID.unique())"
      ],
      "metadata": {
        "id": "7Sa_bz1ayytB"
      },
      "id": "7Sa_bz1ayytB",
      "execution_count": null,
      "outputs": []
    },
    {
      "cell_type": "markdown",
      "source": [
        "### Code Setup"
      ],
      "metadata": {
        "id": "2U3Ah9H-LsTa"
      },
      "id": "2U3Ah9H-LsTa"
    },
    {
      "cell_type": "code",
      "source": [
        "# Evaluation metrics\n",
        "import libreco\n",
        "import tensorflow as tf\n",
        "import torch\n",
        "from libreco.data import DatasetFeat, DataInfo\n",
        "from libreco.data import  split_by_ratio\n",
        "from libreco.data import split_by_ratio_chrono, DatasetPure, DatasetFeat\n",
        "from libreco.evaluation import evaluate\n",
        "from libreco.prediction import predict_data_with_feats\n",
        "from libreco.algorithms import (\n",
        "    ALS\n",
        ")\n",
        "import time\n",
        "import pandas as pd\n",
        "\n",
        "metrics = [\n",
        "    \"precision\",\n",
        "    \"recall\",\n",
        "    \"map\",\n",
        "    \"ndcg\"\n",
        "]\n",
        "\n",
        "# Call Librecommender API\n",
        "# datasettype =\"pure\" or \"feat\"\n",
        "def run(rating_df,datasettype=\"pure\", algo=[\"als\"],hyperparam={\"als\":{ \"embed_size\":16,\n",
        "        \"n_epochs\":10,\n",
        "        \"reg\":5.0,\n",
        "        \"alpha\":10,\n",
        "        \"use_cg\":False,\n",
        "        \"n_threads\":1,\n",
        "        \"seed\":42}}, neg_samples=True):\n",
        "    train_data, test_data, data_info=None,None,None\n",
        "    tf.compat.v1.reset_default_graph()\n",
        "    if(datasettype==\"pure\"):\n",
        "      train_data, test_data, data_info = preprocessingPure(rating_df, neg_samples)\n",
        "    else :\n",
        "      train_data, test_data, data_info = preprocessingFeature(rating_df, neg_samples) \n",
        "    models = dict()\n",
        "    evals = dict()\n",
        "    for i in algo:\n",
        "        if i == 'als':\n",
        "            \n",
        "            als, eval, algo_data_info = alteringleastsquare(train_data, test_data, data_info,hyperparam[\"als\"])\n",
        "            models['als'] = als\n",
        "            evals['als'] = eval\n",
        "            print(\"Evaluation Results for ALS:\")\n",
        "            print(evals['als'])\n",
        "        elif i == 'rnn4rec':\n",
        "            rnn, eval, algo_data_info = rnn4rec(train_data, test_data, data_info,hyperparam[\"rnn4rec\"])\n",
        "            models['rnn4rec'] = rnn\n",
        "            evals['rnn4rec'] = eval\n",
        "            print(\"Evaluation Results for RNN4REC:\")\n",
        "            print(evals['rnn4rec'])\n",
        "      \n",
        "        else:\n",
        "            graphsage, eval, algo_data_info = graphSage(train_data, test_data, data_info,hyperparam[\"graphSage\"])\n",
        "            models['graphSage'] = graphsage\n",
        "            evals['graphSage'] = eval\n",
        "            print(\"Evaluation Results for GraphSage:\")\n",
        "            print(evals['graphSage'])\n",
        "          \n",
        "    return models, evals\n",
        "\n",
        "\n",
        "# data preprocessing\n",
        "def preprocessingPure(rating_df, neg_samples=True):\n",
        "    data = rating_df.copy()\n",
        "    data.columns = ['user', 'item', 'label', 'timestamp']\n",
        "    col_user = [\"user\"]\n",
        "    col_item = [\"item\"]\n",
        "    col_dense = [\"label\"]\n",
        "    train, test = split_by_ratio(data, test_size=0.2)\n",
        "    train_data, data_info = DatasetPure.build_trainset(\n",
        "        train,\n",
        "        shuffle=False,\n",
        "    )\n",
        "    test_data = DatasetPure.build_testset(test, shuffle=False)\n",
        "    if neg_samples:\n",
        "        train_data.build_negative_samples(\n",
        "            data_info, item_gen_mode=\"random\", num_neg=1, seed=2020\n",
        "        )\n",
        "        test_data.build_negative_samples(\n",
        "            data_info, item_gen_mode=\"random\", num_neg=1, seed=2222\n",
        "        )\n",
        "    return train_data, test_data, data_info\n",
        "# data preprocessing\n",
        "def preprocessingFeature(rating_df, neg_samples=True):\n",
        "    data = rating_df.copy()\n",
        "    data.columns = ['user', 'item', 'label', 'timestamp']\n",
        "    col_user = [\"user\"]\n",
        "    col_item = [\"item\"]\n",
        "    col_dense = [\"label\"]\n",
        "    train, test = split_by_ratio(data, test_size=0.2)\n",
        "    train_data, data_info = DatasetFeat.build_trainset(\n",
        "        train,\n",
        "        shuffle=False,\n",
        "    )\n",
        "    test_data = DatasetFeat.build_testset(test, shuffle=False)\n",
        "    if neg_samples:\n",
        "        train_data.build_negative_samples(\n",
        "            data_info, item_gen_mode=\"random\", num_neg=1, seed=2020\n",
        "        )\n",
        "        test_data.build_negative_samples(\n",
        "            data_info, item_gen_mode=\"random\", num_neg=1, seed=2222\n",
        "        )\n",
        "    return train_data, test_data, data_info\n",
        "\n",
        "\n",
        "# Recommend items to user\n",
        "def recommend(model, userid, k=10):\n",
        "    return model.recommend_user(user=userid, n_rec=k)\n",
        "\n",
        "# Find similar items\n",
        "def similarItems(model, itemids, k=10):\n",
        "    return model.search_knn_items(item=itemids, k=k)\n",
        "\n",
        "\n",
        "# Model : Alternating Least Square (ALS)\n",
        "def alteringleastsquare(train_data, test_data, data_info,hyperparam={\"embed_size\":16,\n",
        "        \"n_epochs\":10,\n",
        "        \"reg\":5.0,\n",
        "        \"alpha\":10,\n",
        "        \"use_cg\":False,\n",
        "        \"n_threads\":1,\n",
        "        \"seed\":42}):\n",
        "    als = libreco.algorithms.ALS(\n",
        "        \"ranking\",\n",
        "        data_info,\n",
        "        embed_size=hyperparam['embed_size'],\n",
        "        n_epochs=hyperparam['n_epochs'],\n",
        "        reg=hyperparam['reg'],\n",
        "        alpha=hyperparam['alpha'],\n",
        "        use_cg=hyperparam['use_cg'],\n",
        "        n_threads=hyperparam['n_threads'],\n",
        "        seed=hyperparam['seed'],\n",
        "    )\n",
        "    als.fit(\n",
        "        train_data,\n",
        "        verbose=2,\n",
        "        eval_data=test_data,\n",
        "        metrics=metrics,\n",
        "    )\n",
        "    result = evaluate(model=als, data=test_data, metrics=metrics)\n",
        "    return als, result, data_info\n",
        "\n",
        "def graphSage(train_data, test_data, data_info,hyperparam={ \"loss_type\":\"max_margin\",\n",
        "        \"paradigm\":\"i2i\",\n",
        "        \"embed_size\":16,\n",
        "        \"n_epochs\":2,\n",
        "        \"lr\":3e-4,\n",
        "        \"lr_decay\":False,\n",
        "        \"reg\":None,\n",
        "        \"batch_size\":2048,\n",
        "        \"num_neg\":1,\n",
        "        \"dropout_rate\":0.0,\n",
        "        \"num_layers\":1,\n",
        "        \"num_neighbors\":10,\n",
        "        \"num_walks\":10,\n",
        "        \"sample_walk_len\":5,\n",
        "        \"margin\":1.0,\n",
        "        \"sampler\":\"random\",\n",
        "        \"start_node\":\"random\",\n",
        "        \"focus_start\":False,\n",
        "        \"seed\":42}  ):\n",
        "    graphsage = libreco.algorithms.GraphSage(\n",
        "        \"ranking\",\n",
        "        data_info,\n",
        "        loss_type=hyperparam[\"loss_type\"],\n",
        "        paradigm=hyperparam[\"paradigm\"],\n",
        "        embed_size=hyperparam[\"embed_size\"],\n",
        "        n_epochs=hyperparam[\"n_epochs\"],\n",
        "        lr=hyperparam[\"lr\"],\n",
        "        lr_decay=hyperparam[\"lr_decay\"],\n",
        "        reg=hyperparam[\"reg\"],\n",
        "        batch_size=hyperparam[\"batch_size\"],\n",
        "        num_neg=hyperparam[\"num_neg\"],\n",
        "        dropout_rate=hyperparam[\"dropout_rate\"],\n",
        "        num_layers=hyperparam[\"num_layers\"],\n",
        "        num_neighbors=hyperparam[\"num_neighbors\"],\n",
        "        num_walks=hyperparam[\"num_walks\"],\n",
        "        sample_walk_len=hyperparam[\"sample_walk_len\"],\n",
        "        margin=hyperparam[\"margin\"],\n",
        "        sampler=hyperparam[\"sampler\"],\n",
        "        start_node=hyperparam[\"start_node\"],\n",
        "        focus_start=hyperparam[\"focus_start\"],\n",
        "        seed=hyperparam[\"seed\"],\n",
        "    )\n",
        "    graphsage.fit(\n",
        "        train_data,\n",
        "        verbose=2,\n",
        "        shuffle=True,\n",
        "        eval_data=test_data,\n",
        "        metrics=metrics,\n",
        "    )\n",
        "    result = evaluate(model=graphsage, data=test_data, metrics=metrics)\n",
        "    return graphsage, result, data_info\n",
        "\n",
        "def bayesianpersonalizedranking(train_data, test_data, data_info,hyperparam={ \"loss_type\":\"bpr\",\n",
        "        \"paradigm\":\"i2i\",\n",
        "        \"embed_size\":16,\n",
        "        \"n_epochs\":2,\n",
        "        \"lr\":3e-4,\n",
        "        \"lr_decay\":False,\n",
        "        \"reg\":None,\n",
        "        \"batch_size\":2048,\n",
        "        \"num_neg\":1,\n",
        "        \"use_tf\":True}  ):\n",
        "    bpr = libreco.algorithms.BPR(\n",
        "        \"ranking\",\n",
        "        data_info,\n",
        "        loss_type=hyperparam[\"loss_type\"],\n",
        "        paradigm=hyperparam[\"paradigm\"],\n",
        "        embed_size=hyperparam[\"embed_size\"],\n",
        "        n_epochs=hyperparam[\"n_epochs\"],\n",
        "        lr=hyperparam[\"lr\"],\n",
        "        lr_decay=hyperparam[\"lr_decay\"],\n",
        "        reg=hyperparam[\"reg\"],\n",
        "        batch_size=hyperparam[\"batch_size\"],\n",
        "        num_neg=hyperparam[\"num_neg\"],\n",
        "        use_tf=hyperparam[\"use_tf\"],\n",
        "    )\n",
        "    bpr.fit(\n",
        "        train_data,\n",
        "        verbose=2,\n",
        "        num_threads=4,\n",
        "        eval_data=test_data,\n",
        "        metrics=metrics,\n",
        "        optimizer=\"adam\",\n",
        "    )\n",
        "    result = evaluate(model=bpr, data=test_data, metrics=metrics)\n",
        "    return bpr, result, data_info\n",
        "\n",
        "def rnn4rec(train_data, test_data, data_info,hyperparam={ \"rnn_type\":\"gru\",\n",
        "        \"loss_type\":\"cross_entropy\",\n",
        "        \"embed_size\":16,\n",
        "        \"n_epochs\":2,\n",
        "        \"lr\":3e-4,\n",
        "        \"lr_decay\":False,\n",
        "        \"reg\":None,\n",
        "        \"batch_size\":2048,\n",
        "        \"num_neg\":1,\n",
        "        \"use_tf\":True,\n",
        "        \"dropout_rate\":0.0,\n",
        "        \"recent_num\":10,\n",
        "        \"tf_sess_config\":None}  ):\n",
        "    rnn = libreco.algorithms.RNN4Rec(\n",
        "        \"ranking\",\n",
        "        data_info,\n",
        "        loss_type=hyperparam[\"loss_type\"],\n",
        "        rnn_type=hyperparam[\"rnn_type\"],\n",
        "        embed_size=hyperparam[\"embed_size\"],\n",
        "        n_epochs=hyperparam[\"n_epochs\"],\n",
        "        lr=hyperparam[\"lr\"],\n",
        "        lr_decay=hyperparam[\"lr_decay\"],\n",
        "        reg=hyperparam[\"reg\"],\n",
        "        batch_size=hyperparam[\"batch_size\"],\n",
        "        num_neg=hyperparam[\"num_neg\"],\n",
        "        recent_num=hyperparam[\"recent_num\"],\n",
        "        tf_sess_config=hyperparam[\"tf_sess_config\"],\n",
        "    )\n",
        "    rnn.fit(\n",
        "        train_data,\n",
        "        verbose=2,\n",
        "        shuffle=True,\n",
        "        eval_data=test_data,\n",
        "        metrics=metrics,\n",
        "    )\n",
        "    result = evaluate(model=rnn, data=test_data, metrics=metrics)\n",
        "    return rnn, result, data_info\n",
        "\n",
        "\n",
        "\n",
        "\n",
        "    \n"
      ],
      "metadata": {
        "id": "Mz_p14qC0qMi",
        "colab": {
          "base_uri": "https://localhost:8080/"
        },
        "outputId": "d4666f94-b736-45b6-9e12-f1c41c1bc962"
      },
      "execution_count": null,
      "outputs": [
        {
          "output_type": "stream",
          "name": "stderr",
          "text": [
            "WARNING:tensorflow:From /usr/local/lib/python3.8/dist-packages/tensorflow/python/compat/v2_compat.py:107: disable_resource_variables (from tensorflow.python.ops.variable_scope) is deprecated and will be removed in a future version.\n",
            "Instructions for updating:\n",
            "non-resource variables are not supported in the long term\n"
          ]
        }
      ],
      "id": "Mz_p14qC0qMi"
    },
    {
      "cell_type": "markdown",
      "source": [
        "# GraphSage"
      ],
      "metadata": {
        "id": "INj_g1LMijj5"
      },
      "id": "INj_g1LMijj5"
    },
    {
      "cell_type": "code",
      "source": [
        "models, evals = run(rating_df, algo=[\"graphSage\"], hyperparam={\"graphSage\":{ \"loss_type\":\"max_margin\",\n",
        "        \"paradigm\":\"i2i\",\n",
        "        \"embed_size\":16,\n",
        "        \"n_epochs\":2,\n",
        "        \"lr\":3e-4,\n",
        "        \"lr_decay\":False,\n",
        "        \"reg\":None,\n",
        "        \"batch_size\":2048,\n",
        "        \"num_neg\":1,\n",
        "        \"dropout_rate\":0.0,\n",
        "        \"num_layers\":1,\n",
        "        \"num_neighbors\":10,\n",
        "        \"num_walks\":10,\n",
        "        \"sample_walk_len\":5,\n",
        "        \"margin\":1.0,\n",
        "        \"sampler\":\"random\",\n",
        "        \"start_node\":\"random\",\n",
        "        \"focus_start\":False,\n",
        "        \"seed\":42} },neg_samples=True)\n"
      ],
      "metadata": {
        "colab": {
          "base_uri": "https://localhost:8080/"
        },
        "outputId": "1aae93d3-5a45-41bd-a3ad-108838223cef",
        "id": "YLSxJ0ZLSxL5"
      },
      "execution_count": null,
      "outputs": [
        {
          "output_type": "stream",
          "name": "stdout",
          "text": [
            "random neg item sampling elapsed: 0.091s\n",
            "random neg item sampling elapsed: 0.027s\n",
            "Training start time: \u001b[35m2023-02-07 19:14:33\u001b[0m\n"
          ]
        },
        {
          "output_type": "stream",
          "name": "stderr",
          "text": [
            "pairwise random walk iterator: 100%|██████████| 77/77 [00:12<00:00,  6.36it/s]\n"
          ]
        },
        {
          "output_type": "stream",
          "name": "stdout",
          "text": [
            "Epoch 1 elapsed: 12.108s\n",
            "\t \u001b[32mtrain_loss: 0.999\u001b[0m\n"
          ]
        },
        {
          "output_type": "stream",
          "name": "stderr",
          "text": [
            "item embedding: 100%|██████████| 1/1 [00:00<00:00, 50.41it/s]\n",
            "eval_listwise: 100%|██████████| 31/31 [00:00<00:00, 252.76it/s]\n"
          ]
        },
        {
          "output_type": "stream",
          "name": "stdout",
          "text": [
            "\t eval precision@10: 0.0568\n",
            "\t eval recall@10: 0.0297\n",
            "\t eval map@10: 0.1526\n",
            "\t eval ndcg@10: 0.2101\n",
            "==============================\n"
          ]
        },
        {
          "output_type": "stream",
          "name": "stderr",
          "text": [
            "pairwise random walk iterator: 100%|██████████| 77/77 [00:11<00:00,  6.44it/s]\n"
          ]
        },
        {
          "output_type": "stream",
          "name": "stdout",
          "text": [
            "Epoch 2 elapsed: 11.970s\n",
            "\t \u001b[32mtrain_loss: 0.8942\u001b[0m\n"
          ]
        },
        {
          "output_type": "stream",
          "name": "stderr",
          "text": [
            "item embedding: 100%|██████████| 1/1 [00:00<00:00, 31.54it/s]\n",
            "eval_listwise: 100%|██████████| 31/31 [00:00<00:00, 210.11it/s]\n"
          ]
        },
        {
          "output_type": "stream",
          "name": "stdout",
          "text": [
            "\t eval precision@10: 0.1155\n",
            "\t eval recall@10: 0.0702\n",
            "\t eval map@10: 0.2841\n",
            "\t eval ndcg@10: 0.3796\n",
            "==============================\n"
          ]
        },
        {
          "output_type": "stream",
          "name": "stderr",
          "text": [
            "item embedding: 100%|██████████| 1/1 [00:00<00:00, 28.56it/s]\n",
            "eval_listwise: 100%|██████████| 135/135 [00:00<00:00, 746.37it/s]\n"
          ]
        },
        {
          "output_type": "stream",
          "name": "stdout",
          "text": [
            "Evaluation Results for GraphSage:\n",
            "{'precision': 0.11728525980911983, 'recall': 0.06851959434256799, 'map': 0.26003605554393316, 'ndcg': 0.36277247571729265}\n"
          ]
        }
      ],
      "id": "YLSxJ0ZLSxL5"
    },
    {
      "cell_type": "code",
      "source": [
        "graphSagemodel=models['graphSage']"
      ],
      "metadata": {
        "id": "MqbRPACLSxL6"
      },
      "execution_count": null,
      "outputs": [],
      "id": "MqbRPACLSxL6"
    },
    {
      "cell_type": "code",
      "source": [
        "userids=u_users[0]\n",
        "itemids=u_items[0]"
      ],
      "metadata": {
        "id": "6VFCrryESxL6"
      },
      "execution_count": null,
      "outputs": [],
      "id": "6VFCrryESxL6"
    },
    {
      "cell_type": "code",
      "source": [
        "print('recommendation user '+str(userids))\n",
        "results= recommend(graphSagemodel,1, 10)\n",
        "print(results)"
      ],
      "metadata": {
        "colab": {
          "base_uri": "https://localhost:8080/"
        },
        "outputId": "456c3e9b-4d47-461d-90bc-1e155227593d",
        "id": "OUWB5RJ5SxL6"
      },
      "execution_count": null,
      "outputs": [
        {
          "output_type": "stream",
          "name": "stdout",
          "text": [
            "recommendation user 196\n",
            "{1: array([286, 496, 288, 315, 313, 282, 748, 307, 423, 216])}\n"
          ]
        }
      ],
      "id": "OUWB5RJ5SxL6"
    },
    {
      "cell_type": "code",
      "source": [
        "print(\" 3 most similar items for item 2: \", similarItems(graphSagemodel,itemids, k=10))"
      ],
      "metadata": {
        "colab": {
          "base_uri": "https://localhost:8080/"
        },
        "outputId": "c1607ae1-a535-416f-dbbe-53aeabc71d9b",
        "id": "1fTyXsYDSxL7"
      },
      "execution_count": null,
      "outputs": [
        {
          "output_type": "stream",
          "name": "stdout",
          "text": [
            " 3 most similar items for item 2:  [286, 496, 288, 258, 173, 315, 89, 196, 176, 1]\n"
          ]
        }
      ],
      "id": "1fTyXsYDSxL7"
    }
  ],
  "metadata": {
    "accelerator": "GPU",
    "colab": {
      "collapsed_sections": [
        "1ILJlOp2j64Y"
      ],
      "machine_shape": "hm",
      "provenance": []
    },
    "gpuClass": "premium",
    "kernelspec": {
      "display_name": "Python 3 (ipykernel)",
      "language": "python",
      "name": "python3"
    },
    "language_info": {
      "codemirror_mode": {
        "name": "ipython",
        "version": 3
      },
      "file_extension": ".py",
      "mimetype": "text/x-python",
      "name": "python",
      "nbconvert_exporter": "python",
      "pygments_lexer": "ipython3",
      "version": "3.9.12"
    }
  },
  "nbformat": 4,
  "nbformat_minor": 5
}