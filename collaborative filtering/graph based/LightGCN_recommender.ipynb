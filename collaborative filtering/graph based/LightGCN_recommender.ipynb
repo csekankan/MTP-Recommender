{
  "cells": [
    {
      "cell_type": "markdown",
      "source": [
        "## Installation\n",
        "-  Run this only once"
      ],
      "metadata": {
        "id": "1ILJlOp2j64Y"
      },
      "id": "1ILJlOp2j64Y"
    },
    {
      "cell_type": "code",
      "source": [
        "!git clone  https://github.com/csekankan/MTP-Recommender.git"
      ],
      "metadata": {
        "colab": {
          "base_uri": "https://localhost:8080/"
        },
        "id": "855Zne7eqGeb",
        "outputId": "a8fbc6d5-f54e-4f58-e1bc-b4ea9524c7cd"
      },
      "id": "855Zne7eqGeb",
      "execution_count": 1,
      "outputs": [
        {
          "output_type": "stream",
          "name": "stdout",
          "text": [
            "Cloning into 'MTP-Recommender'...\n",
            "remote: Enumerating objects: 130, done.\u001b[K\n",
            "remote: Counting objects: 100% (130/130), done.\u001b[K\n",
            "remote: Compressing objects: 100% (90/90), done.\u001b[K\n",
            "remote: Total 130 (delta 69), reused 81 (delta 34), pack-reused 0\u001b[K\n",
            "Receiving objects: 100% (130/130), 580.29 KiB | 2.90 MiB/s, done.\n",
            "Resolving deltas: 100% (69/69), done.\n"
          ]
        }
      ]
    },
    {
      "cell_type": "code",
      "source": [
        "!cp \"/content/MTP-Recommender/collaborative filtering/graph based/param/param_gcn.yaml\" \"/content/param_gcn.yaml\""
      ],
      "metadata": {
        "id": "pbde26vKqItT"
      },
      "id": "pbde26vKqItT",
      "execution_count": 4,
      "outputs": []
    },
    {
      "cell_type": "code",
      "execution_count": 5,
      "metadata": {
        "id": "XXB_1HlIKdFi",
        "colab": {
          "base_uri": "https://localhost:8080/"
        },
        "outputId": "3e12fd64-8ec7-4f2f-a74c-83b3e07f9daa"
      },
      "outputs": [
        {
          "output_type": "stream",
          "name": "stdout",
          "text": [
            "Collecting pyyaml<6,>=5.4.1\n",
            "  Downloading PyYAML-5.4.1-cp38-cp38-manylinux1_x86_64.whl (662 kB)\n",
            "\u001b[2K     \u001b[90m━━━━━━━━━━━━━━━━━━━━━━━━━━━━━━━━━━━━━━\u001b[0m \u001b[32m662.4/662.4 KB\u001b[0m \u001b[31m52.8 MB/s\u001b[0m eta \u001b[36m0:00:00\u001b[0m\n",
            "\u001b[?25hCollecting transformers<5,>=2.5.0\n",
            "  Downloading transformers-4.26.0-py3-none-any.whl (6.3 MB)\n",
            "\u001b[2K     \u001b[90m━━━━━━━━━━━━━━━━━━━━━━━━━━━━━━━━━━━━━━━━\u001b[0m \u001b[32m6.3/6.3 MB\u001b[0m \u001b[31m95.3 MB/s\u001b[0m eta \u001b[36m0:00:00\u001b[0m\n",
            "\u001b[?25hRequirement already satisfied: numpy>=1.19 in /usr/local/lib/python3.8/dist-packages (from recommenders) (1.21.6)\n",
            "Requirement already satisfied: scipy<2,>=1.0.0 in /usr/local/lib/python3.8/dist-packages (from recommenders) (1.7.3)\n",
            "Requirement already satisfied: lightgbm>=2.2.1 in /usr/local/lib/python3.8/dist-packages (from recommenders) (2.2.3)\n",
            "Requirement already satisfied: pandas<2,>1.0.3 in /usr/local/lib/python3.8/dist-packages (from recommenders) (1.3.5)\n",
            "Requirement already satisfied: scikit-learn<1.0.3,>=0.22.1 in /usr/local/lib/python3.8/dist-packages (from recommenders) (1.0.2)\n",
            "Requirement already satisfied: nltk<4,>=3.4 in /usr/local/lib/python3.8/dist-packages (from recommenders) (3.7)\n",
            "Requirement already satisfied: patsy>=0.4.1 in /usr/local/lib/python3.8/dist-packages (from category-encoders<2,>=1.3.0->recommenders) (0.5.3)\n",
            "Requirement already satisfied: statsmodels>=0.6.1 in /usr/local/lib/python3.8/dist-packages (from category-encoders<2,>=1.3.0->recommenders) (0.12.2)\n",
            "Collecting powerlaw\n",
            "  Downloading powerlaw-1.5-py3-none-any.whl (24 kB)\n",
            "Requirement already satisfied: MarkupSafe>=0.23 in /usr/local/lib/python3.8/dist-packages (from jinja2<3.1,>=2->recommenders) (2.0.1)\n",
            "Requirement already satisfied: python-dateutil>=2.1 in /usr/local/lib/python3.8/dist-packages (from matplotlib<4,>=2.2.2->recommenders) (2.8.2)\n",
            "Requirement already satisfied: cycler>=0.10 in /usr/local/lib/python3.8/dist-packages (from matplotlib<4,>=2.2.2->recommenders) (0.11.0)\n",
            "Requirement already satisfied: kiwisolver>=1.0.1 in /usr/local/lib/python3.8/dist-packages (from matplotlib<4,>=2.2.2->recommenders) (1.4.4)\n",
            "Requirement already satisfied: pyparsing!=2.0.4,!=2.1.2,!=2.1.6,>=2.0.1 in /usr/local/lib/python3.8/dist-packages (from matplotlib<4,>=2.2.2->recommenders) (3.0.9)\n",
            "Requirement already satisfied: psutil in /usr/local/lib/python3.8/dist-packages (from memory-profiler<1,>=0.54.0->recommenders) (5.4.8)\n",
            "Requirement already satisfied: joblib in /usr/local/lib/python3.8/dist-packages (from nltk<4,>=3.4->recommenders) (1.2.0)\n",
            "Requirement already satisfied: regex>=2021.8.3 in /usr/local/lib/python3.8/dist-packages (from nltk<4,>=3.4->recommenders) (2022.6.2)\n",
            "Requirement already satisfied: click in /usr/local/lib/python3.8/dist-packages (from nltk<4,>=3.4->recommenders) (7.1.2)\n",
            "Requirement already satisfied: llvmlite<0.40,>=0.39.0dev0 in /usr/local/lib/python3.8/dist-packages (from numba<1,>=0.38.1->recommenders) (0.39.1)\n",
            "Requirement already satisfied: setuptools in /usr/local/lib/python3.8/dist-packages (from numba<1,>=0.38.1->recommenders) (57.4.0)\n",
            "Requirement already satisfied: importlib-metadata in /usr/local/lib/python3.8/dist-packages (from numba<1,>=0.38.1->recommenders) (6.0.0)\n",
            "Requirement already satisfied: pytz>=2017.3 in /usr/local/lib/python3.8/dist-packages (from pandas<2,>1.0.3->recommenders) (2022.7.1)\n",
            "Requirement already satisfied: pydantic in /usr/local/lib/python3.8/dist-packages (from pandera[strategies]>=0.6.5->recommenders) (1.10.4)\n",
            "Collecting typing-inspect>=0.6.0\n",
            "  Downloading typing_inspect-0.8.0-py3-none-any.whl (8.7 kB)\n",
            "Requirement already satisfied: packaging>=20.0 in /usr/local/lib/python3.8/dist-packages (from pandera[strategies]>=0.6.5->recommenders) (23.0)\n",
            "Requirement already satisfied: wrapt in /usr/local/lib/python3.8/dist-packages (from pandera[strategies]>=0.6.5->recommenders) (1.14.1)\n",
            "Collecting hypothesis>=5.41.1\n",
            "  Downloading hypothesis-6.68.0-py3-none-any.whl (402 kB)\n",
            "\u001b[2K     \u001b[90m━━━━━━━━━━━━━━━━━━━━━━━━━━━━━━━━━━━━━━\u001b[0m \u001b[32m402.7/402.7 KB\u001b[0m \u001b[31m40.8 MB/s\u001b[0m eta \u001b[36m0:00:00\u001b[0m\n",
            "\u001b[?25hRequirement already satisfied: chardet<5,>=3.0.2 in /usr/local/lib/python3.8/dist-packages (from requests<3,>=2.0.0->recommenders) (4.0.0)\n",
            "Requirement already satisfied: certifi>=2017.4.17 in /usr/local/lib/python3.8/dist-packages (from requests<3,>=2.0.0->recommenders) (2022.12.7)\n",
            "Requirement already satisfied: idna<3,>=2.5 in /usr/local/lib/python3.8/dist-packages (from requests<3,>=2.0.0->recommenders) (2.10)\n",
            "Requirement already satisfied: urllib3<1.27,>=1.21.1 in /usr/local/lib/python3.8/dist-packages (from requests<3,>=2.0.0->recommenders) (1.24.3)\n",
            "Requirement already satisfied: six>=1.7.0 in /usr/local/lib/python3.8/dist-packages (from retrying>=1.3.3->recommenders) (1.15.0)\n",
            "Requirement already satisfied: threadpoolctl>=2.0.0 in /usr/local/lib/python3.8/dist-packages (from scikit-learn<1.0.3,>=0.22.1->recommenders) (3.1.0)\n",
            "Requirement already satisfied: filelock in /usr/local/lib/python3.8/dist-packages (from transformers<5,>=2.5.0->recommenders) (3.9.0)\n",
            "Collecting huggingface-hub<1.0,>=0.11.0\n",
            "  Downloading huggingface_hub-0.12.0-py3-none-any.whl (190 kB)\n",
            "\u001b[2K     \u001b[90m━━━━━━━━━━━━━━━━━━━━━━━━━━━━━━━━━━━━━━\u001b[0m \u001b[32m190.3/190.3 KB\u001b[0m \u001b[31m21.6 MB/s\u001b[0m eta \u001b[36m0:00:00\u001b[0m\n",
            "\u001b[?25hCollecting tokenizers!=0.11.3,<0.14,>=0.11.1\n",
            "  Downloading tokenizers-0.13.2-cp38-cp38-manylinux_2_17_x86_64.manylinux2014_x86_64.whl (7.6 MB)\n",
            "\u001b[2K     \u001b[90m━━━━━━━━━━━━━━━━━━━━━━━━━━━━━━━━━━━━━━━━\u001b[0m \u001b[32m7.6/7.6 MB\u001b[0m \u001b[31m108.4 MB/s\u001b[0m eta \u001b[36m0:00:00\u001b[0m\n",
            "\u001b[?25hRequirement already satisfied: typing-extensions>=3.7.4.3 in /usr/local/lib/python3.8/dist-packages (from huggingface-hub<1.0,>=0.11.0->transformers<5,>=2.5.0->recommenders) (4.4.0)\n",
            "Requirement already satisfied: attrs>=19.2.0 in /usr/local/lib/python3.8/dist-packages (from hypothesis>=5.41.1->pandera[strategies]>=0.6.5->recommenders) (22.2.0)\n",
            "Collecting exceptiongroup>=1.0.0\n",
            "  Downloading exceptiongroup-1.1.0-py3-none-any.whl (14 kB)\n",
            "Requirement already satisfied: sortedcontainers<3.0.0,>=2.1.0 in /usr/local/lib/python3.8/dist-packages (from hypothesis>=5.41.1->pandera[strategies]>=0.6.5->recommenders) (2.4.0)\n",
            "Collecting mypy-extensions>=0.3.0\n",
            "  Downloading mypy_extensions-1.0.0-py3-none-any.whl (4.7 kB)\n",
            "Requirement already satisfied: zipp>=0.5 in /usr/local/lib/python3.8/dist-packages (from importlib-metadata->numba<1,>=0.38.1->recommenders) (3.12.0)\n",
            "Requirement already satisfied: mpmath in /usr/local/lib/python3.8/dist-packages (from powerlaw->cornac<2,>=1.1.2->recommenders) (1.2.1)\n",
            "Building wheels for collected packages: lightfm, scikit-surprise\n",
            "  Building wheel for lightfm (setup.py) ... \u001b[?25l\u001b[?25hdone\n",
            "  Created wheel for lightfm: filename=lightfm-1.16-cp38-cp38-linux_x86_64.whl size=917949 sha256=9c58486b28f5da216e5cce573cf0f0c89ad5265be7bfa7443a9d2b96612ad826\n",
            "  Stored in directory: /root/.cache/pip/wheels/ec/bb/51/9c487d021c1373b691d13cadca0b65b6852627b1f3f43550fa\n",
            "  Building wheel for scikit-surprise (setup.py) ... \u001b[?25l\u001b[?25hdone\n",
            "  Created wheel for scikit-surprise: filename=scikit_surprise-1.1.3-cp38-cp38-linux_x86_64.whl size=3366433 sha256=617afac17ed540ffab788c679b52707bdf08e3c3ebc09287e8ee2a2fef3bdb5b\n",
            "  Stored in directory: /root/.cache/pip/wheels/af/db/86/2c18183a80ba05da35bf0fb7417aac5cddbd93bcb1b92fd3ea\n",
            "Successfully built lightfm scikit-surprise\n",
            "Installing collected packages: tokenizers, retrying, pyyaml, mypy-extensions, memory-profiler, exceptiongroup, bottleneck, typing-inspect, scikit-surprise, hypothesis, huggingface-hub, transformers, powerlaw, pandera, lightfm, cornac, category-encoders, recommenders\n",
            "  Attempting uninstall: pyyaml\n",
            "    Found existing installation: PyYAML 6.0\n",
            "    Uninstalling PyYAML-6.0:\n",
            "      Successfully uninstalled PyYAML-6.0\n",
            "Successfully installed bottleneck-1.3.6 category-encoders-1.3.0 cornac-1.14.2 exceptiongroup-1.1.0 huggingface-hub-0.12.0 hypothesis-6.68.0 lightfm-1.16 memory-profiler-0.61.0 mypy-extensions-1.0.0 pandera-0.13.4 powerlaw-1.5 pyyaml-5.4.1 recommenders-1.1.1 retrying-1.3.4 scikit-surprise-1.1.3 tokenizers-0.13.2 transformers-4.26.0 typing-inspect-0.8.0\n"
          ]
        }
      ],
      "source": [
        "!pip install gdown\n",
        "!pip install recommenders"
      ],
      "id": "XXB_1HlIKdFi"
    },
    {
      "cell_type": "code",
      "source": [
        "!pip install recommenders"
      ],
      "metadata": {
        "id": "Z0zL4YITmTP4",
        "colab": {
          "base_uri": "https://localhost:8080/"
        },
        "outputId": "15377722-ccd8-4115-f5fc-0207bafac6da"
      },
      "id": "Z0zL4YITmTP4",
      "execution_count": 6,
      "outputs": [
        {
          "output_type": "stream",
          "name": "stdout",
          "text": [
            "Looking in indexes: https://pypi.org/simple, https://us-python.pkg.dev/colab-wheels/public/simple/\n",
            "Requirement already satisfied: recommenders in /usr/local/lib/python3.8/dist-packages (1.1.1)\n",
            "Requirement already satisfied: requests<3,>=2.0.0 in /usr/local/lib/python3.8/dist-packages (from recommenders) (2.25.1)\n",
            "Requirement already satisfied: numpy>=1.19 in /usr/local/lib/python3.8/dist-packages (from recommenders) (1.21.6)\n",
            "Requirement already satisfied: retrying>=1.3.3 in /usr/local/lib/python3.8/dist-packages (from recommenders) (1.3.4)\n",
            "Requirement already satisfied: lightgbm>=2.2.1 in /usr/local/lib/python3.8/dist-packages (from recommenders) (2.2.3)\n",
            "Requirement already satisfied: numba<1,>=0.38.1 in /usr/local/lib/python3.8/dist-packages (from recommenders) (0.56.4)\n",
            "Requirement already satisfied: pyyaml<6,>=5.4.1 in /usr/local/lib/python3.8/dist-packages (from recommenders) (5.4.1)\n",
            "Requirement already satisfied: scikit-learn<1.0.3,>=0.22.1 in /usr/local/lib/python3.8/dist-packages (from recommenders) (1.0.2)\n",
            "Requirement already satisfied: matplotlib<4,>=2.2.2 in /usr/local/lib/python3.8/dist-packages (from recommenders) (3.2.2)\n",
            "Requirement already satisfied: lightfm<2,>=1.15 in /usr/local/lib/python3.8/dist-packages (from recommenders) (1.16)\n",
            "Requirement already satisfied: nltk<4,>=3.4 in /usr/local/lib/python3.8/dist-packages (from recommenders) (3.7)\n",
            "Requirement already satisfied: jinja2<3.1,>=2 in /usr/local/lib/python3.8/dist-packages (from recommenders) (2.11.3)\n",
            "Requirement already satisfied: category-encoders<2,>=1.3.0 in /usr/local/lib/python3.8/dist-packages (from recommenders) (1.3.0)\n",
            "Requirement already satisfied: pandas<2,>1.0.3 in /usr/local/lib/python3.8/dist-packages (from recommenders) (1.3.5)\n",
            "Requirement already satisfied: cornac<2,>=1.1.2 in /usr/local/lib/python3.8/dist-packages (from recommenders) (1.14.2)\n",
            "Requirement already satisfied: tqdm<5,>=4.31.1 in /usr/local/lib/python3.8/dist-packages (from recommenders) (4.64.1)\n",
            "Requirement already satisfied: seaborn<1,>=0.8.1 in /usr/local/lib/python3.8/dist-packages (from recommenders) (0.11.2)\n",
            "Requirement already satisfied: scipy<2,>=1.0.0 in /usr/local/lib/python3.8/dist-packages (from recommenders) (1.7.3)\n",
            "Requirement already satisfied: memory-profiler<1,>=0.54.0 in /usr/local/lib/python3.8/dist-packages (from recommenders) (0.61.0)\n",
            "Requirement already satisfied: bottleneck<2,>=1.2.1 in /usr/local/lib/python3.8/dist-packages (from recommenders) (1.3.6)\n",
            "Requirement already satisfied: pandera[strategies]>=0.6.5 in /usr/local/lib/python3.8/dist-packages (from recommenders) (0.13.4)\n",
            "Requirement already satisfied: transformers<5,>=2.5.0 in /usr/local/lib/python3.8/dist-packages (from recommenders) (4.26.0)\n",
            "Requirement already satisfied: scikit-surprise>=1.0.6 in /usr/local/lib/python3.8/dist-packages (from recommenders) (1.1.3)\n",
            "Requirement already satisfied: statsmodels>=0.6.1 in /usr/local/lib/python3.8/dist-packages (from category-encoders<2,>=1.3.0->recommenders) (0.12.2)\n",
            "Requirement already satisfied: patsy>=0.4.1 in /usr/local/lib/python3.8/dist-packages (from category-encoders<2,>=1.3.0->recommenders) (0.5.3)\n",
            "Requirement already satisfied: powerlaw in /usr/local/lib/python3.8/dist-packages (from cornac<2,>=1.1.2->recommenders) (1.5)\n",
            "Requirement already satisfied: MarkupSafe>=0.23 in /usr/local/lib/python3.8/dist-packages (from jinja2<3.1,>=2->recommenders) (2.0.1)\n",
            "Requirement already satisfied: cycler>=0.10 in /usr/local/lib/python3.8/dist-packages (from matplotlib<4,>=2.2.2->recommenders) (0.11.0)\n",
            "Requirement already satisfied: pyparsing!=2.0.4,!=2.1.2,!=2.1.6,>=2.0.1 in /usr/local/lib/python3.8/dist-packages (from matplotlib<4,>=2.2.2->recommenders) (3.0.9)\n",
            "Requirement already satisfied: python-dateutil>=2.1 in /usr/local/lib/python3.8/dist-packages (from matplotlib<4,>=2.2.2->recommenders) (2.8.2)\n",
            "Requirement already satisfied: kiwisolver>=1.0.1 in /usr/local/lib/python3.8/dist-packages (from matplotlib<4,>=2.2.2->recommenders) (1.4.4)\n",
            "Requirement already satisfied: psutil in /usr/local/lib/python3.8/dist-packages (from memory-profiler<1,>=0.54.0->recommenders) (5.4.8)\n",
            "Requirement already satisfied: click in /usr/local/lib/python3.8/dist-packages (from nltk<4,>=3.4->recommenders) (7.1.2)\n",
            "Requirement already satisfied: regex>=2021.8.3 in /usr/local/lib/python3.8/dist-packages (from nltk<4,>=3.4->recommenders) (2022.6.2)\n",
            "Requirement already satisfied: joblib in /usr/local/lib/python3.8/dist-packages (from nltk<4,>=3.4->recommenders) (1.2.0)\n",
            "Requirement already satisfied: setuptools in /usr/local/lib/python3.8/dist-packages (from numba<1,>=0.38.1->recommenders) (57.4.0)\n",
            "Requirement already satisfied: importlib-metadata in /usr/local/lib/python3.8/dist-packages (from numba<1,>=0.38.1->recommenders) (6.0.0)\n",
            "Requirement already satisfied: llvmlite<0.40,>=0.39.0dev0 in /usr/local/lib/python3.8/dist-packages (from numba<1,>=0.38.1->recommenders) (0.39.1)\n",
            "Requirement already satisfied: pytz>=2017.3 in /usr/local/lib/python3.8/dist-packages (from pandas<2,>1.0.3->recommenders) (2022.7.1)\n",
            "Requirement already satisfied: wrapt in /usr/local/lib/python3.8/dist-packages (from pandera[strategies]>=0.6.5->recommenders) (1.14.1)\n",
            "Requirement already satisfied: pydantic in /usr/local/lib/python3.8/dist-packages (from pandera[strategies]>=0.6.5->recommenders) (1.10.4)\n",
            "Requirement already satisfied: typing-inspect>=0.6.0 in /usr/local/lib/python3.8/dist-packages (from pandera[strategies]>=0.6.5->recommenders) (0.8.0)\n",
            "Requirement already satisfied: packaging>=20.0 in /usr/local/lib/python3.8/dist-packages (from pandera[strategies]>=0.6.5->recommenders) (23.0)\n",
            "Requirement already satisfied: hypothesis>=5.41.1 in /usr/local/lib/python3.8/dist-packages (from pandera[strategies]>=0.6.5->recommenders) (6.68.0)\n",
            "Requirement already satisfied: chardet<5,>=3.0.2 in /usr/local/lib/python3.8/dist-packages (from requests<3,>=2.0.0->recommenders) (4.0.0)\n",
            "Requirement already satisfied: urllib3<1.27,>=1.21.1 in /usr/local/lib/python3.8/dist-packages (from requests<3,>=2.0.0->recommenders) (1.24.3)\n",
            "Requirement already satisfied: certifi>=2017.4.17 in /usr/local/lib/python3.8/dist-packages (from requests<3,>=2.0.0->recommenders) (2022.12.7)\n",
            "Requirement already satisfied: idna<3,>=2.5 in /usr/local/lib/python3.8/dist-packages (from requests<3,>=2.0.0->recommenders) (2.10)\n",
            "Requirement already satisfied: six>=1.7.0 in /usr/local/lib/python3.8/dist-packages (from retrying>=1.3.3->recommenders) (1.15.0)\n",
            "Requirement already satisfied: threadpoolctl>=2.0.0 in /usr/local/lib/python3.8/dist-packages (from scikit-learn<1.0.3,>=0.22.1->recommenders) (3.1.0)\n",
            "Requirement already satisfied: tokenizers!=0.11.3,<0.14,>=0.11.1 in /usr/local/lib/python3.8/dist-packages (from transformers<5,>=2.5.0->recommenders) (0.13.2)\n",
            "Requirement already satisfied: huggingface-hub<1.0,>=0.11.0 in /usr/local/lib/python3.8/dist-packages (from transformers<5,>=2.5.0->recommenders) (0.12.0)\n",
            "Requirement already satisfied: filelock in /usr/local/lib/python3.8/dist-packages (from transformers<5,>=2.5.0->recommenders) (3.9.0)\n",
            "Requirement already satisfied: typing-extensions>=3.7.4.3 in /usr/local/lib/python3.8/dist-packages (from huggingface-hub<1.0,>=0.11.0->transformers<5,>=2.5.0->recommenders) (4.4.0)\n",
            "Requirement already satisfied: attrs>=19.2.0 in /usr/local/lib/python3.8/dist-packages (from hypothesis>=5.41.1->pandera[strategies]>=0.6.5->recommenders) (22.2.0)\n",
            "Requirement already satisfied: sortedcontainers<3.0.0,>=2.1.0 in /usr/local/lib/python3.8/dist-packages (from hypothesis>=5.41.1->pandera[strategies]>=0.6.5->recommenders) (2.4.0)\n",
            "Requirement already satisfied: exceptiongroup>=1.0.0 in /usr/local/lib/python3.8/dist-packages (from hypothesis>=5.41.1->pandera[strategies]>=0.6.5->recommenders) (1.1.0)\n",
            "Requirement already satisfied: mypy-extensions>=0.3.0 in /usr/local/lib/python3.8/dist-packages (from typing-inspect>=0.6.0->pandera[strategies]>=0.6.5->recommenders) (1.0.0)\n",
            "Requirement already satisfied: zipp>=0.5 in /usr/local/lib/python3.8/dist-packages (from importlib-metadata->numba<1,>=0.38.1->recommenders) (3.12.0)\n",
            "Requirement already satisfied: mpmath in /usr/local/lib/python3.8/dist-packages (from powerlaw->cornac<2,>=1.1.2->recommenders) (1.2.1)\n"
          ]
        }
      ]
    },
    {
      "cell_type": "markdown",
      "source": [
        "## Data Loading"
      ],
      "metadata": {
        "id": "JW1c4-822wY6"
      },
      "id": "JW1c4-822wY6"
    },
    {
      "cell_type": "code",
      "execution_count": 7,
      "metadata": {
        "id": "d6266078"
      },
      "outputs": [],
      "source": [
        "\n",
        "import pandas as pd\n",
        "import os\n",
        "from os.path import exists\n",
        "import zipfile\n",
        "import numpy as np\n",
        "from datetime import datetime"
      ],
      "id": "d6266078"
    },
    {
      "cell_type": "code",
      "execution_count": 8,
      "metadata": {
        "id": "cxXmZMhNL4vi"
      },
      "outputs": [],
      "source": [
        "SEED=42"
      ],
      "id": "cxXmZMhNL4vi"
    },
    {
      "cell_type": "code",
      "source": [
        "# !gdown https://drive.google.com/uc?id=1kl65YOvoSAMSgszQQbua2q4Zwe1HgPct\n",
        "# !unzip -o \"data.zip\"  -d  \"/content\"\n",
        "\n",
        "# movie_10k_df = pd.read_csv(\"movies_min.csv\")\n",
        "# amazon_df =pd.read_csv('amazon_min.csv')\n",
        "# book_df=pd.read_csv(\"book_min.csv\")\n",
        "# food_df = pd.read_csv('food_min.csv')\n",
        "# ecommerce_df=pd.read_csv('ecom_min.csv')\n",
        "# ciao_df=pd.read_csv('ciao_min.csv')"
      ],
      "metadata": {
        "id": "_1KEOjziTrPY"
      },
      "execution_count": 9,
      "outputs": [],
      "id": "_1KEOjziTrPY"
    },
    {
      "cell_type": "code",
      "source": [
        "TIMESTAMP=None"
      ],
      "metadata": {
        "id": "grEEvzijoj2y"
      },
      "id": "grEEvzijoj2y",
      "execution_count": 10,
      "outputs": []
    },
    {
      "cell_type": "code",
      "source": [],
      "metadata": {
        "id": "W_txSB5TVaPm"
      },
      "id": "W_txSB5TVaPm",
      "execution_count": 10,
      "outputs": []
    },
    {
      "cell_type": "code",
      "source": [
        "!gdown https://drive.google.com/uc?id=1kl65YOvoSAMSgszQQbua2q4Zwe1HgPct"
      ],
      "metadata": {
        "id": "0o7YlmpsVYwO",
        "colab": {
          "base_uri": "https://localhost:8080/"
        },
        "outputId": "6f7429cd-7e36-4017-c830-d3ec50e74f3f"
      },
      "execution_count": 11,
      "outputs": [
        {
          "output_type": "stream",
          "name": "stdout",
          "text": [
            "Downloading...\n",
            "From: https://drive.google.com/uc?id=1kl65YOvoSAMSgszQQbua2q4Zwe1HgPct\n",
            "To: /content/data.zip\n",
            "\r  0% 0.00/4.16M [00:00<?, ?B/s]\r100% 4.16M/4.16M [00:00<00:00, 187MB/s]\n"
          ]
        }
      ],
      "id": "0o7YlmpsVYwO"
    },
    {
      "cell_type": "code",
      "source": [
        "!unzip -o \"data.zip\"  -d  \"/content\""
      ],
      "metadata": {
        "id": "TtZEDi2_JS0Z",
        "colab": {
          "base_uri": "https://localhost:8080/"
        },
        "outputId": "804d46a2-8138-4be2-8fbc-b1eff2a2bf19"
      },
      "execution_count": 12,
      "outputs": [
        {
          "output_type": "stream",
          "name": "stdout",
          "text": [
            "Archive:  data.zip\n",
            "  inflating: /content/amazon_min.csv  \n",
            "  inflating: /content/book_min.csv   \n",
            "  inflating: /content/ciao_min.csv   \n",
            "  inflating: /content/ecom_min.csv   \n",
            "  inflating: /content/food_min.csv   \n",
            "  inflating: /content/movies_min.csv  \n"
          ]
        }
      ],
      "id": "TtZEDi2_JS0Z"
    },
    {
      "cell_type": "markdown",
      "source": [
        "## Name of the file where user item interaction data avaiable?\n",
        "- Column name should be in following name and order\n",
        "- [ **itemID, userID , rating , timestamp** ]\n",
        "- No issue if there is no column for **timestamp**"
      ],
      "metadata": {
        "id": "xR4W7kxwlOmR"
      },
      "id": "xR4W7kxwlOmR"
    },
    {
      "cell_type": "code",
      "source": [
        "filename=\"movies_min.csv\" #enter your filename with file path"
      ],
      "metadata": {
        "id": "kGGBiQ8ylH4R"
      },
      "id": "kGGBiQ8ylH4R",
      "execution_count": 13,
      "outputs": []
    },
    {
      "cell_type": "code",
      "source": [
        "rating_df = pd.read_csv(filename)\n"
      ],
      "metadata": {
        "id": "rN0wIx5UovIr"
      },
      "execution_count": 14,
      "outputs": [],
      "id": "rN0wIx5UovIr"
    },
    {
      "cell_type": "markdown",
      "source": [
        "### Run below cell"
      ],
      "metadata": {
        "id": "DvQzh9z6osMg"
      },
      "id": "DvQzh9z6osMg"
    },
    {
      "cell_type": "code",
      "source": [
        "import time \n",
        "if  'timestamp' in rating_df.columns:\n",
        "  rating_df =rating_df[[ 'userID', 'itemID', 'rating','timestamp']]\n",
        "  rating_df.columns =[ 'userID', 'itemID', 'rating','timestamp']\n",
        "else:\n",
        "\n",
        "  obj = time.gmtime(0)\n",
        "  epoch = time.asctime(obj)\n",
        "  curr_time = round(time.time()*1000)\n",
        "  rating_df['timestamp']=curr_time\n",
        "  rating_df =rating_df[[ 'userID', 'itemID', 'rating','timestamp']]\n",
        "  rating_df.columns =[ 'userID', 'itemID', 'rating','timestamp']"
      ],
      "metadata": {
        "id": "QuETNcoErhSC"
      },
      "id": "QuETNcoErhSC",
      "execution_count": 15,
      "outputs": []
    },
    {
      "cell_type": "code",
      "source": [
        "NUM_OF_COLS=rating_df.shape[1]\n"
      ],
      "metadata": {
        "id": "eus_HRMwlJva"
      },
      "id": "eus_HRMwlJva",
      "execution_count": 16,
      "outputs": []
    },
    {
      "cell_type": "code",
      "source": [
        "u_users=list(rating_df.userID.unique())"
      ],
      "metadata": {
        "id": "sec4UR3BcYxw"
      },
      "execution_count": 17,
      "outputs": [],
      "id": "sec4UR3BcYxw"
    },
    {
      "cell_type": "code",
      "source": [
        "u_items=list(rating_df.itemID.unique())"
      ],
      "metadata": {
        "id": "7Sa_bz1ayytB"
      },
      "id": "7Sa_bz1ayytB",
      "execution_count": 18,
      "outputs": []
    },
    {
      "cell_type": "code",
      "source": [],
      "metadata": {
        "id": "qMvP-ywima2A"
      },
      "execution_count": 18,
      "outputs": [],
      "id": "qMvP-ywima2A"
    },
    {
      "cell_type": "markdown",
      "source": [
        "##### Code Setup"
      ],
      "metadata": {
        "id": "2U3Ah9H-LsTa"
      },
      "id": "2U3Ah9H-LsTa"
    },
    {
      "cell_type": "code",
      "execution_count": 19,
      "metadata": {
        "id": "4GEPZhv9Pfqy"
      },
      "outputs": [],
      "source": [
        "from recommenders.utils.timer import Timer\n",
        "from recommenders.models.deeprec.models.graphrec.lightgcn import LightGCN\n",
        "from recommenders.models.deeprec.DataModel.ImplicitCF import ImplicitCF\n",
        "from recommenders.datasets import movielens\n",
        "from recommenders.datasets.python_splitters import python_stratified_split\n",
        "from recommenders.evaluation.python_evaluation import map_at_k, ndcg_at_k, precision_at_k, recall_at_k\n",
        "from recommenders.utils.constants import SEED as DEFAULT_SEED\n",
        "from recommenders.models.deeprec.deeprec_utils import prepare_hparams"
      ],
      "id": "4GEPZhv9Pfqy"
    },
    {
      "cell_type": "code",
      "source": [
        "from datetime import datetime\n"
      ],
      "metadata": {
        "id": "6ksVvb57OBVR"
      },
      "execution_count": 20,
      "outputs": [],
      "id": "6ksVvb57OBVR"
    },
    {
      "cell_type": "code",
      "execution_count": 21,
      "metadata": {
        "id": "_qSS3J5uYuK9"
      },
      "outputs": [],
      "source": [
        "SEED=0\n",
        "# top k items to recommend\n",
        "TOP_K = 10\n",
        "\n",
        "# Model parameters\n",
        "EPOCHS = 20\n",
        "BATCH_SIZE = 256"
      ],
      "id": "_qSS3J5uYuK9"
    },
    {
      "cell_type": "code",
      "execution_count": 22,
      "metadata": {
        "id": "4ewhxuo-YLce"
      },
      "outputs": [],
      "source": [
        "def runLighGCN(df_input):\n",
        "  gcn_df=df_input.copy()\n",
        "  ct = datetime.now()\n",
        "\n",
        "  ts = ct.timestamp()\n",
        "  \n",
        "  gcn_df.reset_index()\n",
        "  gcn_df=gcn_df[['userID','itemID','rating','timestamp']]\n",
        "  gcn_item_ids = list(set(list(gcn_df.itemID.unique())))\n",
        "  gcn_user_ids = list(set(list(gcn_df.userID.unique())))\n",
        "  dict_items = {}\n",
        "  index = 0\n",
        "  for ids in sorted(gcn_item_ids):\n",
        "      dict_items[ids] = index\n",
        "      index += 1\n",
        "  dict_users = {}\n",
        "  index = 0\n",
        "  for ids in sorted(gcn_user_ids):\n",
        "      dict_users[ids] = index\n",
        "      index += 1\n",
        "  gcn_df[\"itemID\"] = gcn_df[\"itemID\"].map(dict_items)\n",
        "  gcn_df[\"userID\"] = gcn_df[\"userID\"].map(dict_users)\n",
        "  gcn_df.reset_index()\n",
        "  train, test = python_stratified_split(gcn_df, ratio=0.8)\n",
        "  data = ImplicitCF(train=train, test=test, seed=SEED)\n",
        "  yaml_file = \"param_gcn.yaml\"\n",
        "  hparams = prepare_hparams(yaml_file,\n",
        "                            n_layers=4,\n",
        "                            batch_size=BATCH_SIZE,\n",
        "                            epochs=EPOCHS,\n",
        "                            learning_rate=0.005,\n",
        "                            eval_epoch=5,\n",
        "                            top_k=TOP_K,\n",
        "                           )\n",
        "  model = LightGCN(hparams, data, seed=SEED)\n",
        "  before= datetime.now()\n",
        "  model.fit()\n",
        "  after= datetime.now()\n",
        "  duration=after-before\n",
        "  topk_scores = model.recommend_k_items(test, top_k=TOP_K, remove_seen=True)\n",
        "  eval_map = map_at_k(test, topk_scores, k=TOP_K)\n",
        "  eval_ndcg = ndcg_at_k(test, topk_scores, k=TOP_K)\n",
        "  eval_precision = precision_at_k(test, topk_scores, k=TOP_K)\n",
        "  eval_recall = recall_at_k(test, topk_scores, k=TOP_K)\n",
        "  # Record results with papermill for tests\n",
        "  print(\"map\"+ str(eval_map))\n",
        "  print(\"ndcg\"+ str(eval_ndcg))\n",
        "  print(\"precision\"+ str( eval_precision))\n",
        "  print(\"recall\"+ str(eval_recall))\n",
        "  return eval_map,eval_ndcg,eval_precision,eval_recall,topk_scores"
      ],
      "id": "4ewhxuo-YLce"
    },
    {
      "cell_type": "markdown",
      "source": [
        "## Run LightGCN"
      ],
      "metadata": {
        "id": "mYOqn9gnSZZw"
      },
      "id": "mYOqn9gnSZZw"
    },
    {
      "cell_type": "code",
      "execution_count": 23,
      "metadata": {
        "id": "8CLTOYC5MD0Y",
        "colab": {
          "base_uri": "https://localhost:8080/"
        },
        "outputId": "e11391d1-42f6-446f-9a09-07e699d35782"
      },
      "outputs": [
        {
          "output_type": "stream",
          "name": "stdout",
          "text": [
            "Already create adjacency matrix.\n",
            "Already normalize adjacency matrix.\n",
            "Using xavier initialization.\n",
            "Epoch 1 (train)2.4s: train loss = 0.44002 = (mf)0.43946 + (embed)0.00056\n",
            "Epoch 2 (train)1.8s: train loss = 0.33415 = (mf)0.33296 + (embed)0.00120\n",
            "Epoch 3 (train)1.7s: train loss = 0.30612 = (mf)0.30456 + (embed)0.00157\n",
            "Epoch 4 (train)1.7s: train loss = 0.27628 = (mf)0.27425 + (embed)0.00203\n",
            "Epoch 5 (train)1.7s + (eval)2.3s: train loss = 0.25635 = (mf)0.25382 + (embed)0.00253, recall = 0.19657, ndcg = 0.36141, precision = 0.30255, map = 0.11516\n",
            "Epoch 6 (train)1.9s: train loss = 0.24823 = (mf)0.24529 + (embed)0.00294\n",
            "Epoch 7 (train)1.9s: train loss = 0.24138 = (mf)0.23813 + (embed)0.00325\n",
            "Epoch 8 (train)1.8s: train loss = 0.23261 = (mf)0.22908 + (embed)0.00353\n",
            "Epoch 9 (train)1.7s: train loss = 0.22517 = (mf)0.22133 + (embed)0.00383\n",
            "Epoch 10 (train)1.7s + (eval)0.1s: train loss = 0.22156 = (mf)0.21744 + (embed)0.00412, recall = 0.21516, ndcg = 0.38501, precision = 0.32439, map = 0.12721\n",
            "Epoch 11 (train)1.7s: train loss = 0.21443 = (mf)0.21002 + (embed)0.00441\n",
            "Epoch 12 (train)1.7s: train loss = 0.20807 = (mf)0.20332 + (embed)0.00476\n",
            "Epoch 13 (train)1.7s: train loss = 0.20414 = (mf)0.19906 + (embed)0.00508\n",
            "Epoch 14 (train)1.9s: train loss = 0.19896 = (mf)0.19353 + (embed)0.00542\n",
            "Epoch 15 (train)1.8s + (eval)0.1s: train loss = 0.19645 = (mf)0.19071 + (embed)0.00574, recall = 0.22391, ndcg = 0.40163, precision = 0.33775, map = 0.13563\n",
            "Epoch 16 (train)1.7s: train loss = 0.18856 = (mf)0.18247 + (embed)0.00609\n",
            "Epoch 17 (train)1.7s: train loss = 0.18393 = (mf)0.17748 + (embed)0.00645\n",
            "Epoch 18 (train)1.7s: train loss = 0.18271 = (mf)0.17591 + (embed)0.00680\n",
            "Epoch 19 (train)1.7s: train loss = 0.17843 = (mf)0.17127 + (embed)0.00715\n",
            "Epoch 20 (train)1.7s + (eval)0.2s: train loss = 0.17395 = (mf)0.16645 + (embed)0.00750, recall = 0.23434, ndcg = 0.41810, precision = 0.35154, map = 0.14338\n",
            "map0.1433844353259576\n",
            "ndcg0.4180983434412817\n",
            "precision0.3515376458112407\n",
            "recall0.23433793168500067\n"
          ]
        }
      ],
      "source": [
        "\n",
        "\n",
        "gcn_eval_map,gcn_eval_ndcg,gcn_eval_precision,gcn_eval_recall,preds=runLighGCN(rating_df)\n"
      ],
      "id": "8CLTOYC5MD0Y"
    },
    {
      "cell_type": "markdown",
      "source": [
        "#### Recommendations"
      ],
      "metadata": {
        "id": "x5RnnPdMh8Nt"
      },
      "id": "x5RnnPdMh8Nt"
    },
    {
      "cell_type": "code",
      "source": [
        "preds.head(5)"
      ],
      "metadata": {
        "colab": {
          "base_uri": "https://localhost:8080/",
          "height": 206
        },
        "id": "VFl3CW4EiA0k",
        "outputId": "fe5cfc65-3a22-4013-aa8e-1279ddeeb7fa"
      },
      "id": "VFl3CW4EiA0k",
      "execution_count": 24,
      "outputs": [
        {
          "output_type": "execute_result",
          "data": {
            "text/plain": [
              "   userID  itemID  prediction\n",
              "0       0      92    5.235608\n",
              "1       0     161    4.426775\n",
              "2       0     156    4.382618\n",
              "3       0     192    4.350492\n",
              "4       0     110    4.241471"
            ],
            "text/html": [
              "\n",
              "  <div id=\"df-6ff19cb1-477d-44eb-9d14-dc50a33423c8\">\n",
              "    <div class=\"colab-df-container\">\n",
              "      <div>\n",
              "<style scoped>\n",
              "    .dataframe tbody tr th:only-of-type {\n",
              "        vertical-align: middle;\n",
              "    }\n",
              "\n",
              "    .dataframe tbody tr th {\n",
              "        vertical-align: top;\n",
              "    }\n",
              "\n",
              "    .dataframe thead th {\n",
              "        text-align: right;\n",
              "    }\n",
              "</style>\n",
              "<table border=\"1\" class=\"dataframe\">\n",
              "  <thead>\n",
              "    <tr style=\"text-align: right;\">\n",
              "      <th></th>\n",
              "      <th>userID</th>\n",
              "      <th>itemID</th>\n",
              "      <th>prediction</th>\n",
              "    </tr>\n",
              "  </thead>\n",
              "  <tbody>\n",
              "    <tr>\n",
              "      <th>0</th>\n",
              "      <td>0</td>\n",
              "      <td>92</td>\n",
              "      <td>5.235608</td>\n",
              "    </tr>\n",
              "    <tr>\n",
              "      <th>1</th>\n",
              "      <td>0</td>\n",
              "      <td>161</td>\n",
              "      <td>4.426775</td>\n",
              "    </tr>\n",
              "    <tr>\n",
              "      <th>2</th>\n",
              "      <td>0</td>\n",
              "      <td>156</td>\n",
              "      <td>4.382618</td>\n",
              "    </tr>\n",
              "    <tr>\n",
              "      <th>3</th>\n",
              "      <td>0</td>\n",
              "      <td>192</td>\n",
              "      <td>4.350492</td>\n",
              "    </tr>\n",
              "    <tr>\n",
              "      <th>4</th>\n",
              "      <td>0</td>\n",
              "      <td>110</td>\n",
              "      <td>4.241471</td>\n",
              "    </tr>\n",
              "  </tbody>\n",
              "</table>\n",
              "</div>\n",
              "      <button class=\"colab-df-convert\" onclick=\"convertToInteractive('df-6ff19cb1-477d-44eb-9d14-dc50a33423c8')\"\n",
              "              title=\"Convert this dataframe to an interactive table.\"\n",
              "              style=\"display:none;\">\n",
              "        \n",
              "  <svg xmlns=\"http://www.w3.org/2000/svg\" height=\"24px\"viewBox=\"0 0 24 24\"\n",
              "       width=\"24px\">\n",
              "    <path d=\"M0 0h24v24H0V0z\" fill=\"none\"/>\n",
              "    <path d=\"M18.56 5.44l.94 2.06.94-2.06 2.06-.94-2.06-.94-.94-2.06-.94 2.06-2.06.94zm-11 1L8.5 8.5l.94-2.06 2.06-.94-2.06-.94L8.5 2.5l-.94 2.06-2.06.94zm10 10l.94 2.06.94-2.06 2.06-.94-2.06-.94-.94-2.06-.94 2.06-2.06.94z\"/><path d=\"M17.41 7.96l-1.37-1.37c-.4-.4-.92-.59-1.43-.59-.52 0-1.04.2-1.43.59L10.3 9.45l-7.72 7.72c-.78.78-.78 2.05 0 2.83L4 21.41c.39.39.9.59 1.41.59.51 0 1.02-.2 1.41-.59l7.78-7.78 2.81-2.81c.8-.78.8-2.07 0-2.86zM5.41 20L4 18.59l7.72-7.72 1.47 1.35L5.41 20z\"/>\n",
              "  </svg>\n",
              "      </button>\n",
              "      \n",
              "  <style>\n",
              "    .colab-df-container {\n",
              "      display:flex;\n",
              "      flex-wrap:wrap;\n",
              "      gap: 12px;\n",
              "    }\n",
              "\n",
              "    .colab-df-convert {\n",
              "      background-color: #E8F0FE;\n",
              "      border: none;\n",
              "      border-radius: 50%;\n",
              "      cursor: pointer;\n",
              "      display: none;\n",
              "      fill: #1967D2;\n",
              "      height: 32px;\n",
              "      padding: 0 0 0 0;\n",
              "      width: 32px;\n",
              "    }\n",
              "\n",
              "    .colab-df-convert:hover {\n",
              "      background-color: #E2EBFA;\n",
              "      box-shadow: 0px 1px 2px rgba(60, 64, 67, 0.3), 0px 1px 3px 1px rgba(60, 64, 67, 0.15);\n",
              "      fill: #174EA6;\n",
              "    }\n",
              "\n",
              "    [theme=dark] .colab-df-convert {\n",
              "      background-color: #3B4455;\n",
              "      fill: #D2E3FC;\n",
              "    }\n",
              "\n",
              "    [theme=dark] .colab-df-convert:hover {\n",
              "      background-color: #434B5C;\n",
              "      box-shadow: 0px 1px 3px 1px rgba(0, 0, 0, 0.15);\n",
              "      filter: drop-shadow(0px 1px 2px rgba(0, 0, 0, 0.3));\n",
              "      fill: #FFFFFF;\n",
              "    }\n",
              "  </style>\n",
              "\n",
              "      <script>\n",
              "        const buttonEl =\n",
              "          document.querySelector('#df-6ff19cb1-477d-44eb-9d14-dc50a33423c8 button.colab-df-convert');\n",
              "        buttonEl.style.display =\n",
              "          google.colab.kernel.accessAllowed ? 'block' : 'none';\n",
              "\n",
              "        async function convertToInteractive(key) {\n",
              "          const element = document.querySelector('#df-6ff19cb1-477d-44eb-9d14-dc50a33423c8');\n",
              "          const dataTable =\n",
              "            await google.colab.kernel.invokeFunction('convertToInteractive',\n",
              "                                                     [key], {});\n",
              "          if (!dataTable) return;\n",
              "\n",
              "          const docLinkHtml = 'Like what you see? Visit the ' +\n",
              "            '<a target=\"_blank\" href=https://colab.research.google.com/notebooks/data_table.ipynb>data table notebook</a>'\n",
              "            + ' to learn more about interactive tables.';\n",
              "          element.innerHTML = '';\n",
              "          dataTable['output_type'] = 'display_data';\n",
              "          await google.colab.output.renderOutput(dataTable, element);\n",
              "          const docLink = document.createElement('div');\n",
              "          docLink.innerHTML = docLinkHtml;\n",
              "          element.appendChild(docLink);\n",
              "        }\n",
              "      </script>\n",
              "    </div>\n",
              "  </div>\n",
              "  "
            ]
          },
          "metadata": {},
          "execution_count": 24
        }
      ]
    }
  ],
  "metadata": {
    "accelerator": "GPU",
    "colab": {
      "collapsed_sections": [
        "1ILJlOp2j64Y",
        "JW1c4-822wY6",
        "2U3Ah9H-LsTa"
      ],
      "machine_shape": "hm",
      "provenance": []
    },
    "gpuClass": "premium",
    "kernelspec": {
      "display_name": "Python 3 (ipykernel)",
      "language": "python",
      "name": "python3"
    },
    "language_info": {
      "codemirror_mode": {
        "name": "ipython",
        "version": 3
      },
      "file_extension": ".py",
      "mimetype": "text/x-python",
      "name": "python",
      "nbconvert_exporter": "python",
      "pygments_lexer": "ipython3",
      "version": "3.9.12"
    }
  },
  "nbformat": 4,
  "nbformat_minor": 5
}