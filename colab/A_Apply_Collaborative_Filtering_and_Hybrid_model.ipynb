{
  "nbformat": 4,
  "nbformat_minor": 0,
  "metadata": {
    "colab": {
      "provenance": []
    },
    "kernelspec": {
      "name": "python3",
      "display_name": "Python 3"
    },
    "language_info": {
      "name": "python"
    }
  },
  "cells": [
    {
      "cell_type": "code",
      "source": [
        "!git clone  https://github.com/csekankan/MTP-Recommender.git"
      ],
      "metadata": {
        "id": "_gHYjmSYaULw",
        "outputId": "93faf916-805b-4e94-8a0a-c963e58bc03c",
        "colab": {
          "base_uri": "https://localhost:8080/"
        }
      },
      "execution_count": null,
      "outputs": [
        {
          "output_type": "stream",
          "name": "stdout",
          "text": [
            "Cloning into 'MTP-Recommender'...\n",
            "remote: Enumerating objects: 37, done.\u001b[K\n",
            "remote: Counting objects: 100% (37/37), done.\u001b[K\n",
            "remote: Compressing objects: 100% (20/20), done.\u001b[K\n",
            "remote: Total 37 (delta 13), reused 34 (delta 13), pack-reused 0\u001b[K\n",
            "Unpacking objects: 100% (37/37), 275.62 KiB | 1.28 MiB/s, done.\n"
          ]
        }
      ]
    },
    {
      "cell_type": "code",
      "execution_count": 8,
      "metadata": {
        "colab": {
          "base_uri": "https://localhost:8080/",
          "height": 666
        },
        "id": "MDjIywVNWKNv",
        "outputId": "1e2f9775-f312-4c9b-9fbc-8da7d91ab862"
      },
      "outputs": [
        {
          "output_type": "execute_result",
          "data": {
            "text/plain": [
              "<IPython.core.display.HTML object>"
            ],
            "text/html": [
              "<!--[if IE]><meta http-equiv=\"X-UA-Compatible\" content=\"IE=5,IE=9\" ><![endif]-->\n",
              "<!DOCTYPE html>\n",
              "<html>\n",
              "<head>\n",
              "<title>collaborative and hybrid v6</title>\n",
              "<meta charset=\"utf-8\"/>\n",
              "</head>\n",
              "<body><div class=\"mxgraph\" style=\"max-width:100%;border:1px solid transparent;\" data-mxgraph=\"{&quot;highlight&quot;:&quot;#0000ff&quot;,&quot;nav&quot;:true,&quot;resize&quot;:true,&quot;toolbar&quot;:&quot;zoom layers tags lightbox&quot;,&quot;edit&quot;:&quot;_blank&quot;,&quot;xml&quot;:&quot;&lt;mxfile host=\\&quot;Electron\\&quot; modified=\\&quot;2023-02-08T18:32:19.776Z\\&quot; agent=\\&quot;5.0 (Windows NT 10.0; Win64; x64) AppleWebKit/537.36 (KHTML, like Gecko) draw.io/20.8.10 Chrome/106.0.5249.199 Electron/21.3.5 Safari/537.36\\&quot; etag=\\&quot;JMzvwoOgmYOqddUU0P6s\\&quot; version=\\&quot;20.8.10\\&quot; type=\\&quot;device\\&quot;&gt;&lt;diagram id=\\&quot;bS-9bPbA_XOQsBDaHBmQ\\&quot; name=\\&quot;Page-1\\&quot;&gt;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&lt;/diagram&gt;&lt;/mxfile&gt;&quot;}\"></div>\n",
              "<script type=\"text/javascript\" src=\"https://viewer.diagrams.net/js/viewer-static.min.js\"></script>\n",
              "</body>\n",
              "</html>"
            ]
          },
          "metadata": {},
          "execution_count": 8
        }
      ],
      "source": [
        "import IPython\n",
        "IPython.display.HTML(filename='MTP-Recommender/colab/collaborative and hybrid.html')"
      ]
    }
  ]
}