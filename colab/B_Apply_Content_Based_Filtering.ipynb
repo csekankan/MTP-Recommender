{
  "nbformat": 4,
  "nbformat_minor": 0,
  "metadata": {
    "colab": {
      "provenance": []
    },
    "kernelspec": {
      "name": "python3",
      "display_name": "Python 3"
    },
    "language_info": {
      "name": "python"
    }
  },
  "cells": [
    {
      "cell_type": "code",
      "execution_count": null,
      "metadata": {
        "id": "YsqWH8PpWqlz"
      },
      "outputs": [],
      "source": []
    },
    {
      "cell_type": "code",
      "source": [
        "!git clone  https://github.com/csekankan/MTP-Recommender.git"
      ],
      "metadata": {
        "id": "_gHYjmSYaULw",
        "outputId": "a76a1737-fc74-4b56-dce5-6f03ddefcca0",
        "colab": {
          "base_uri": "https://localhost:8080/"
        }
      },
      "execution_count": null,
      "outputs": [
        {
          "output_type": "stream",
          "name": "stdout",
          "text": [
            "Cloning into 'MTP-Recommender'...\n",
            "remote: Enumerating objects: 37, done.\u001b[K\n",
            "remote: Counting objects: 100% (37/37), done.\u001b[K\n",
            "remote: Compressing objects: 100% (20/20), done.\u001b[K\n",
            "remote: Total 37 (delta 13), reused 34 (delta 13), pack-reused 0\u001b[K\n",
            "Unpacking objects: 100% (37/37), 275.62 KiB | 6.26 MiB/s, done.\n"
          ]
        }
      ]
    },
    {
      "cell_type": "code",
      "execution_count": 6,
      "metadata": {
        "colab": {
          "base_uri": "https://localhost:8080/",
          "height": 410
        },
        "id": "MDjIywVNWKNv",
        "outputId": "7a1dadc0-2f9d-4014-942d-51cf281c5611"
      },
      "outputs": [
        {
          "output_type": "execute_result",
          "data": {
            "text/plain": [
              "<IPython.core.display.HTML object>"
            ],
            "text/html": [
              "<!--[if IE]><meta http-equiv=\"X-UA-Compatible\" content=\"IE=5,IE=9\" ><![endif]-->\n",
              "<!DOCTYPE html>\n",
              "<html>\n",
              "<head>\n",
              "<title>contant based method</title>\n",
              "<meta charset=\"utf-8\"/>\n",
              "</head>\n",
              "<body><div class=\"mxgraph\" style=\"max-width:100%;border:1px solid transparent;\" data-mxgraph=\"{&quot;highlight&quot;:&quot;#0000ff&quot;,&quot;nav&quot;:true,&quot;resize&quot;:true,&quot;toolbar&quot;:&quot;zoom layers tags lightbox&quot;,&quot;edit&quot;:&quot;_blank&quot;,&quot;xml&quot;:&quot;&lt;mxfile host=\\&quot;Electron\\&quot; modified=\\&quot;2023-02-08T18:31:54.719Z\\&quot; agent=\\&quot;5.0 (Windows NT 10.0; Win64; x64) AppleWebKit/537.36 (KHTML, like Gecko) draw.io/20.8.10 Chrome/106.0.5249.199 Electron/21.3.5 Safari/537.36\\&quot; etag=\\&quot;lZdcHRNvd_1hEB_kcdSr\\&quot; version=\\&quot;20.8.10\\&quot; type=\\&quot;device\\&quot;&gt;&lt;diagram id=\\&quot;BQ0NsMacM9D3yhBeSHXJ\\&quot; name=\\&quot;Page-1\\&quot;&gt;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&lt;/diagram&gt;&lt;/mxfile&gt;&quot;}\"></div>\n",
              "<script type=\"text/javascript\" src=\"https://viewer.diagrams.net/js/viewer-static.min.js\"></script>\n",
              "</body>\n",
              "</html>"
            ]
          },
          "metadata": {},
          "execution_count": 6
        }
      ],
      "source": [
        "import IPython\n",
        "IPython.display.HTML(filename='MTP-Recommender/colab/contant based method.html')"
      ]
    }
  ]
}